{
 "cells": [
  {
   "cell_type": "markdown",
   "metadata": {},
   "source": [
    "# А/Б-тестирование"
   ]
  },
  {
   "cell_type": "markdown",
   "metadata": {},
   "source": [
    "### Описание задачи\n",
    "\n",
    "Задача – провести оценку результатов А/Б-тестирования.\n",
    "\n",
    "### Техническое задание\n",
    "\n",
    "- Название теста: `recommender_system_test`;\n",
    "- группы: А — контрольная, B — новая платёжная воронка;\n",
    "- дата запуска: 2020-12-07;\n",
    "- дата остановки набора новых пользователей: 2020-12-21;\n",
    "- дата остановки: 2021-01-04;\n",
    "- аудитория: 15% новых пользователей из региона EU;\n",
    "- назначение теста: тестирование изменений, связанных с внедрением улучшенной рекомендательной системы;\n",
    "- ожидаемое количество участников теста: 6000.\n",
    "- ожидаемый эффект: за 14 дней с момента регистрации пользователи покажут улучшение каждой метрики не менее, чем на 10%:\n",
    "    - конверсии в просмотр карточек товаров — событие `product_page`,\n",
    "    - просмотры корзины — `product_cart`,\n",
    "    - покупки — `purchase`.\n",
    "\n",
    "### Описание данных\n",
    "\n",
    "`ab_project_marketing_events.csv` — календарь маркетинговых событий на 2020 год.\n",
    "\n",
    "Структура файла:\n",
    "\n",
    "- `name` — название маркетингового события;\n",
    "- `regions` — регионы, в которых будет проводиться рекламная кампания;\n",
    "- `start_dt` — дата начала кампании;\n",
    "- `finish_dt` — дата завершения кампании.\n",
    "\n",
    "---\n",
    "\n",
    "`final_ab_new_users.csv` — пользователи, зарегистрировавшиеся с 7 по 21 декабря 2020 года.\n",
    "\n",
    "Структура файла:\n",
    "\n",
    "- `user_id` — идентификатор пользователя;\n",
    "- `first_date` — дата регистрации;\n",
    "- `region` — регион пользователя;\n",
    "- `device` — устройство, с которого происходила регистрация.\n",
    "\n",
    "----\n",
    "\n",
    "`final_ab_events.csv` — действия новых пользователей в период с 7 декабря 2020 по 4 января 2021 года.\n",
    "\n",
    "Структура файла:\n",
    "\n",
    "- `user_id` — идентификатор пользователя;\n",
    "- `event_dt` — дата и время покупки;\n",
    "- `event_name` — тип события;\n",
    "- `details` — дополнительные данные о событии. Например, для покупок, `purchase,` в этом поле хранится стоимость покупки в долларах.\n",
    "\n",
    "----\n",
    "\n",
    "`final_ab_participants.csv` — таблица участников тестов.\n",
    "\n",
    "Структура файла:\n",
    "\n",
    "- `user_id` — идентификатор пользователя;\n",
    "- `ab_test` — название теста;\n",
    "- `group` — группа пользователя.\n",
    "\n",
    "### План исследования\n",
    "\n",
    "1. Подключение библиотек и выгрузка данных,\n",
    "2. Исследование сырых данных,\n",
    "3. Предобработка данных,\n",
    "4. Оценка корректности проведения теста,\n",
    "5. Исследовательский анализ данных,\n",
    "6. Оценка результатов А/Б-тестирования\n",
    "7. Общие выводы."
   ]
  },
  {
   "cell_type": "markdown",
   "metadata": {},
   "source": [
    "# Полкдючение библиотек и выгрузка данных"
   ]
  },
  {
   "cell_type": "markdown",
   "metadata": {},
   "source": [
    "Подключим необходимые библиотеки:"
   ]
  },
  {
   "cell_type": "code",
   "execution_count": 2,
   "metadata": {},
   "outputs": [],
   "source": [
    "# импорт библиотек\n",
    "import pandas as pd\n",
    "import numpy as np\n",
    "import datetime as dt\n",
    "import seaborn as sns\n",
    "import plotly.express as px\n",
    "import plotly.graph_objects as go\n",
    "import statsmodels.stats.api as sms\n",
    "import plotly.io as pio\n",
    "import warnings\n",
    "\n",
    "from plotly.subplots import make_subplots\n",
    "from tqdm import tqdm\n",
    "from statsmodels.stats.proportion import proportions_ztest\n",
    "\n",
    "warnings.filterwarnings('ignore')\n",
    "pio.renderers.default='jpeg'"
   ]
  },
  {
   "cell_type": "code",
   "execution_count": 3,
   "metadata": {},
   "outputs": [],
   "source": [
    "# функция для настройки стиля графиков\n",
    "def style_plot(\n",
    "    fig,\n",
    "    xlabel='',\n",
    "    ylabel='',\n",
    "    title='',\n",
    "    yticks=True  \n",
    "):\n",
    "    \n",
    "    fig.update_layout(\n",
    "        autosize=True,\n",
    "        xaxis_title_text=xlabel,\n",
    "        yaxis_title_text=ylabel,\n",
    "        title_font_size=24,\n",
    "        plot_bgcolor='white',\n",
    "        xaxis=dict(\n",
    "            showline=True,\n",
    "            linecolor='#58595B',\n",
    "            color='black',\n",
    "            # categoryorder='total descending'\n",
    "        ),\n",
    "        yaxis=dict(\n",
    "            color='black',\n",
    "            showgrid=True,\n",
    "            gridcolor='#E6E7E8',\n",
    "            showticklabels=yticks\n",
    "        ),\n",
    "        title=dict(\n",
    "            text=title,\n",
    "            font=dict(\n",
    "                color='black'\n",
    "            )\n",
    "        )\n",
    "    )"
   ]
  },
  {
   "cell_type": "code",
   "execution_count": 4,
   "metadata": {},
   "outputs": [],
   "source": [
    "# функция для настройки стиля нескольких графиков\n",
    "def style_subplots(\n",
    "    fig,\n",
    "    title='',\n",
    "    showlegend=False\n",
    "    ):\n",
    "    \n",
    "\n",
    "    fig.update_layout(\n",
    "        title_text=title,\n",
    "        width=800,\n",
    "        showlegend=showlegend,\n",
    "        plot_bgcolor='white',\n",
    "        bargap=0.1,\n",
    "        title_font_color='black',\n",
    "        title_font_size=24, # размер шрифта заголовка\n",
    "    )\n",
    "\n",
    "    fig.update_xaxes(\n",
    "        showline=True,\n",
    "        linecolor='#58595B',\n",
    "    )\n",
    "\n",
    "    fig.update_yaxes(\n",
    "        gridcolor='#E6E7E8',\n",
    "    )\n",
    "\n",
    "    return fig"
   ]
  },
  {
   "cell_type": "code",
   "execution_count": 5,
   "metadata": {},
   "outputs": [],
   "source": [
    "# основная палитра цветов\n",
    "colors = ['#' + i for i in [\"264653\",\"2a9d8f\",\"e9c46a\",\"f4a261\",\"e76f51\"]]\n",
    "\n",
    "# задаем прозрачность для цветов\n",
    "def opacity_colors(opacity):\n",
    "    colors_rgba = ['rgba(38, 70, 83, ', 'rgba(42, 157, 143, ', 'rgba(233, 196, 106, ',\n",
    "                   'rgba(244, 162, 97, ', 'rgba(231, 111, 81, ']\n",
    "\n",
    "    colors_opacity = [i + str(opacity) + ')' for i in colors_rgba]\n",
    "\n",
    "    return colors_opacity"
   ]
  },
  {
   "cell_type": "markdown",
   "metadata": {},
   "source": [
    "Выгрузим данные:"
   ]
  },
  {
   "cell_type": "code",
   "execution_count": 6,
   "metadata": {},
   "outputs": [],
   "source": [
    "# локальная выгрузка\n",
    "try:\n",
    "    marketing = pd.read_csv('datasets/ab_project_marketing_events.csv')\n",
    "    events = pd.read_csv('datasets/final_ab_events.csv')\n",
    "    new_users = pd.read_csv('datasets/final_ab_new_users.csv')\n",
    "    participants = pd.read_csv('datasets/final_ab_participants.csv')\n",
    "# выгрузка с сервера\n",
    "except:\n",
    "    marketing = pd.read_csv('/datasets/ab_project_marketing_events.csv')\n",
    "    events = pd.read_csv('/datasets/final_ab_events.csv')\n",
    "    new_users = pd.read_csv('/datasets/final_ab_new_users.csv')\n",
    "    participants = pd.read_csv('/datasets/final_ab_participants.csv')"
   ]
  },
  {
   "cell_type": "markdown",
   "metadata": {},
   "source": [
    "Данные и библиотеки загружены, можно приступить к их изучению."
   ]
  },
  {
   "cell_type": "markdown",
   "metadata": {},
   "source": [
    "# Исследование сырых данных"
   ]
  },
  {
   "cell_type": "markdown",
   "metadata": {},
   "source": [
    "Цель данного этапа сделать первый взгляд на данные и понять какие моменты нужно исправить при предобработке данных. Будем действовать по порядку по каждому датасету. Сначала будем смотреть на первые 5 строк, затем на общую информацию, а потом на описательные статистики. На основе просмотренного будем ставить задачи на предобработку."
   ]
  },
  {
   "cell_type": "markdown",
   "metadata": {},
   "source": [
    "### Таблица маркетинговых активностей"
   ]
  },
  {
   "cell_type": "code",
   "execution_count": 7,
   "metadata": {},
   "outputs": [
    {
     "data": {
      "text/html": [
       "<div>\n",
       "<style scoped>\n",
       "    .dataframe tbody tr th:only-of-type {\n",
       "        vertical-align: middle;\n",
       "    }\n",
       "\n",
       "    .dataframe tbody tr th {\n",
       "        vertical-align: top;\n",
       "    }\n",
       "\n",
       "    .dataframe thead th {\n",
       "        text-align: right;\n",
       "    }\n",
       "</style>\n",
       "<table border=\"1\" class=\"dataframe\">\n",
       "  <thead>\n",
       "    <tr style=\"text-align: right;\">\n",
       "      <th></th>\n",
       "      <th>name</th>\n",
       "      <th>regions</th>\n",
       "      <th>start_dt</th>\n",
       "      <th>finish_dt</th>\n",
       "    </tr>\n",
       "  </thead>\n",
       "  <tbody>\n",
       "    <tr>\n",
       "      <th>0</th>\n",
       "      <td>Christmas&amp;New Year Promo</td>\n",
       "      <td>EU, N.America</td>\n",
       "      <td>2020-12-25</td>\n",
       "      <td>2021-01-03</td>\n",
       "    </tr>\n",
       "    <tr>\n",
       "      <th>1</th>\n",
       "      <td>St. Valentine's Day Giveaway</td>\n",
       "      <td>EU, CIS, APAC, N.America</td>\n",
       "      <td>2020-02-14</td>\n",
       "      <td>2020-02-16</td>\n",
       "    </tr>\n",
       "    <tr>\n",
       "      <th>2</th>\n",
       "      <td>St. Patric's Day Promo</td>\n",
       "      <td>EU, N.America</td>\n",
       "      <td>2020-03-17</td>\n",
       "      <td>2020-03-19</td>\n",
       "    </tr>\n",
       "    <tr>\n",
       "      <th>3</th>\n",
       "      <td>Easter Promo</td>\n",
       "      <td>EU, CIS, APAC, N.America</td>\n",
       "      <td>2020-04-12</td>\n",
       "      <td>2020-04-19</td>\n",
       "    </tr>\n",
       "    <tr>\n",
       "      <th>4</th>\n",
       "      <td>4th of July Promo</td>\n",
       "      <td>N.America</td>\n",
       "      <td>2020-07-04</td>\n",
       "      <td>2020-07-11</td>\n",
       "    </tr>\n",
       "  </tbody>\n",
       "</table>\n",
       "</div>"
      ],
      "text/plain": [
       "                           name                   regions    start_dt  \\\n",
       "0      Christmas&New Year Promo             EU, N.America  2020-12-25   \n",
       "1  St. Valentine's Day Giveaway  EU, CIS, APAC, N.America  2020-02-14   \n",
       "2        St. Patric's Day Promo             EU, N.America  2020-03-17   \n",
       "3                  Easter Promo  EU, CIS, APAC, N.America  2020-04-12   \n",
       "4             4th of July Promo                 N.America  2020-07-04   \n",
       "\n",
       "    finish_dt  \n",
       "0  2021-01-03  \n",
       "1  2020-02-16  \n",
       "2  2020-03-19  \n",
       "3  2020-04-19  \n",
       "4  2020-07-11  "
      ]
     },
     "execution_count": 7,
     "metadata": {},
     "output_type": "execute_result"
    }
   ],
   "source": [
    "# выводим первые 5 строк датасета\n",
    "marketing.head()"
   ]
  },
  {
   "cell_type": "code",
   "execution_count": 8,
   "metadata": {},
   "outputs": [
    {
     "name": "stdout",
     "output_type": "stream",
     "text": [
      "<class 'pandas.core.frame.DataFrame'>\n",
      "RangeIndex: 14 entries, 0 to 13\n",
      "Data columns (total 4 columns):\n",
      " #   Column     Non-Null Count  Dtype \n",
      "---  ------     --------------  ----- \n",
      " 0   name       14 non-null     object\n",
      " 1   regions    14 non-null     object\n",
      " 2   start_dt   14 non-null     object\n",
      " 3   finish_dt  14 non-null     object\n",
      "dtypes: object(4)\n",
      "memory usage: 576.0+ bytes\n"
     ]
    }
   ],
   "source": [
    "# общая информация по датасету\n",
    "marketing.info()"
   ]
  },
  {
   "cell_type": "code",
   "execution_count": 9,
   "metadata": {},
   "outputs": [
    {
     "data": {
      "text/html": [
       "<div>\n",
       "<style scoped>\n",
       "    .dataframe tbody tr th:only-of-type {\n",
       "        vertical-align: middle;\n",
       "    }\n",
       "\n",
       "    .dataframe tbody tr th {\n",
       "        vertical-align: top;\n",
       "    }\n",
       "\n",
       "    .dataframe thead th {\n",
       "        text-align: right;\n",
       "    }\n",
       "</style>\n",
       "<table border=\"1\" class=\"dataframe\">\n",
       "  <thead>\n",
       "    <tr style=\"text-align: right;\">\n",
       "      <th></th>\n",
       "      <th>name</th>\n",
       "      <th>regions</th>\n",
       "      <th>start_dt</th>\n",
       "      <th>finish_dt</th>\n",
       "    </tr>\n",
       "  </thead>\n",
       "  <tbody>\n",
       "    <tr>\n",
       "      <th>count</th>\n",
       "      <td>14</td>\n",
       "      <td>14</td>\n",
       "      <td>14</td>\n",
       "      <td>14</td>\n",
       "    </tr>\n",
       "    <tr>\n",
       "      <th>unique</th>\n",
       "      <td>14</td>\n",
       "      <td>6</td>\n",
       "      <td>14</td>\n",
       "      <td>14</td>\n",
       "    </tr>\n",
       "    <tr>\n",
       "      <th>top</th>\n",
       "      <td>Christmas&amp;New Year Promo</td>\n",
       "      <td>APAC</td>\n",
       "      <td>2020-12-25</td>\n",
       "      <td>2021-01-03</td>\n",
       "    </tr>\n",
       "    <tr>\n",
       "      <th>freq</th>\n",
       "      <td>1</td>\n",
       "      <td>4</td>\n",
       "      <td>1</td>\n",
       "      <td>1</td>\n",
       "    </tr>\n",
       "  </tbody>\n",
       "</table>\n",
       "</div>"
      ],
      "text/plain": [
       "                            name regions    start_dt   finish_dt\n",
       "count                         14      14          14          14\n",
       "unique                        14       6          14          14\n",
       "top     Christmas&New Year Promo    APAC  2020-12-25  2021-01-03\n",
       "freq                           1       4           1           1"
      ]
     },
     "execution_count": 9,
     "metadata": {},
     "output_type": "execute_result"
    }
   ],
   "source": [
    "# описательная статистика\n",
    "marketing.describe()"
   ]
  },
  {
   "cell_type": "markdown",
   "metadata": {},
   "source": [
    "Что можно исправить в этом датасете:\n",
    "* перевести даты в формат правильный формат,\n",
    "* можно заменить столбец `regions` на столбцы с регионами, с булевыми значениями."
   ]
  },
  {
   "cell_type": "markdown",
   "metadata": {},
   "source": [
    "### Таблица новых пользователей"
   ]
  },
  {
   "cell_type": "code",
   "execution_count": 10,
   "metadata": {},
   "outputs": [
    {
     "data": {
      "text/html": [
       "<div>\n",
       "<style scoped>\n",
       "    .dataframe tbody tr th:only-of-type {\n",
       "        vertical-align: middle;\n",
       "    }\n",
       "\n",
       "    .dataframe tbody tr th {\n",
       "        vertical-align: top;\n",
       "    }\n",
       "\n",
       "    .dataframe thead th {\n",
       "        text-align: right;\n",
       "    }\n",
       "</style>\n",
       "<table border=\"1\" class=\"dataframe\">\n",
       "  <thead>\n",
       "    <tr style=\"text-align: right;\">\n",
       "      <th></th>\n",
       "      <th>user_id</th>\n",
       "      <th>first_date</th>\n",
       "      <th>region</th>\n",
       "      <th>device</th>\n",
       "    </tr>\n",
       "  </thead>\n",
       "  <tbody>\n",
       "    <tr>\n",
       "      <th>0</th>\n",
       "      <td>D72A72121175D8BE</td>\n",
       "      <td>2020-12-07</td>\n",
       "      <td>EU</td>\n",
       "      <td>PC</td>\n",
       "    </tr>\n",
       "    <tr>\n",
       "      <th>1</th>\n",
       "      <td>F1C668619DFE6E65</td>\n",
       "      <td>2020-12-07</td>\n",
       "      <td>N.America</td>\n",
       "      <td>Android</td>\n",
       "    </tr>\n",
       "    <tr>\n",
       "      <th>2</th>\n",
       "      <td>2E1BF1D4C37EA01F</td>\n",
       "      <td>2020-12-07</td>\n",
       "      <td>EU</td>\n",
       "      <td>PC</td>\n",
       "    </tr>\n",
       "    <tr>\n",
       "      <th>3</th>\n",
       "      <td>50734A22C0C63768</td>\n",
       "      <td>2020-12-07</td>\n",
       "      <td>EU</td>\n",
       "      <td>iPhone</td>\n",
       "    </tr>\n",
       "    <tr>\n",
       "      <th>4</th>\n",
       "      <td>E1BDDCE0DAFA2679</td>\n",
       "      <td>2020-12-07</td>\n",
       "      <td>N.America</td>\n",
       "      <td>iPhone</td>\n",
       "    </tr>\n",
       "  </tbody>\n",
       "</table>\n",
       "</div>"
      ],
      "text/plain": [
       "            user_id  first_date     region   device\n",
       "0  D72A72121175D8BE  2020-12-07         EU       PC\n",
       "1  F1C668619DFE6E65  2020-12-07  N.America  Android\n",
       "2  2E1BF1D4C37EA01F  2020-12-07         EU       PC\n",
       "3  50734A22C0C63768  2020-12-07         EU   iPhone\n",
       "4  E1BDDCE0DAFA2679  2020-12-07  N.America   iPhone"
      ]
     },
     "execution_count": 10,
     "metadata": {},
     "output_type": "execute_result"
    }
   ],
   "source": [
    "# выводим первые 5 строк \n",
    "new_users.head()"
   ]
  },
  {
   "cell_type": "code",
   "execution_count": 11,
   "metadata": {},
   "outputs": [
    {
     "name": "stdout",
     "output_type": "stream",
     "text": [
      "<class 'pandas.core.frame.DataFrame'>\n",
      "RangeIndex: 61733 entries, 0 to 61732\n",
      "Data columns (total 4 columns):\n",
      " #   Column      Non-Null Count  Dtype \n",
      "---  ------      --------------  ----- \n",
      " 0   user_id     61733 non-null  object\n",
      " 1   first_date  61733 non-null  object\n",
      " 2   region      61733 non-null  object\n",
      " 3   device      61733 non-null  object\n",
      "dtypes: object(4)\n",
      "memory usage: 1.9+ MB\n"
     ]
    }
   ],
   "source": [
    "# выводим основную информацию по датасету\n",
    "new_users.info()"
   ]
  },
  {
   "cell_type": "code",
   "execution_count": 12,
   "metadata": {},
   "outputs": [
    {
     "data": {
      "text/html": [
       "<div>\n",
       "<style scoped>\n",
       "    .dataframe tbody tr th:only-of-type {\n",
       "        vertical-align: middle;\n",
       "    }\n",
       "\n",
       "    .dataframe tbody tr th {\n",
       "        vertical-align: top;\n",
       "    }\n",
       "\n",
       "    .dataframe thead th {\n",
       "        text-align: right;\n",
       "    }\n",
       "</style>\n",
       "<table border=\"1\" class=\"dataframe\">\n",
       "  <thead>\n",
       "    <tr style=\"text-align: right;\">\n",
       "      <th></th>\n",
       "      <th>user_id</th>\n",
       "      <th>first_date</th>\n",
       "      <th>region</th>\n",
       "      <th>device</th>\n",
       "    </tr>\n",
       "  </thead>\n",
       "  <tbody>\n",
       "    <tr>\n",
       "      <th>count</th>\n",
       "      <td>61733</td>\n",
       "      <td>61733</td>\n",
       "      <td>61733</td>\n",
       "      <td>61733</td>\n",
       "    </tr>\n",
       "    <tr>\n",
       "      <th>unique</th>\n",
       "      <td>61733</td>\n",
       "      <td>17</td>\n",
       "      <td>4</td>\n",
       "      <td>4</td>\n",
       "    </tr>\n",
       "    <tr>\n",
       "      <th>top</th>\n",
       "      <td>D72A72121175D8BE</td>\n",
       "      <td>2020-12-21</td>\n",
       "      <td>EU</td>\n",
       "      <td>Android</td>\n",
       "    </tr>\n",
       "    <tr>\n",
       "      <th>freq</th>\n",
       "      <td>1</td>\n",
       "      <td>6290</td>\n",
       "      <td>46270</td>\n",
       "      <td>27520</td>\n",
       "    </tr>\n",
       "  </tbody>\n",
       "</table>\n",
       "</div>"
      ],
      "text/plain": [
       "                 user_id  first_date region   device\n",
       "count              61733       61733  61733    61733\n",
       "unique             61733          17      4        4\n",
       "top     D72A72121175D8BE  2020-12-21     EU  Android\n",
       "freq                   1        6290  46270    27520"
      ]
     },
     "execution_count": 12,
     "metadata": {},
     "output_type": "execute_result"
    }
   ],
   "source": [
    "# выводим описательную статистику\n",
    "new_users.describe()"
   ]
  },
  {
   "cell_type": "markdown",
   "metadata": {},
   "source": [
    "Что можно исправить в этом датасете:\n",
    "* привести даты к правильному типу"
   ]
  },
  {
   "cell_type": "markdown",
   "metadata": {},
   "source": [
    "### Таблица действий новых пользователей"
   ]
  },
  {
   "cell_type": "code",
   "execution_count": 13,
   "metadata": {},
   "outputs": [
    {
     "data": {
      "text/html": [
       "<div>\n",
       "<style scoped>\n",
       "    .dataframe tbody tr th:only-of-type {\n",
       "        vertical-align: middle;\n",
       "    }\n",
       "\n",
       "    .dataframe tbody tr th {\n",
       "        vertical-align: top;\n",
       "    }\n",
       "\n",
       "    .dataframe thead th {\n",
       "        text-align: right;\n",
       "    }\n",
       "</style>\n",
       "<table border=\"1\" class=\"dataframe\">\n",
       "  <thead>\n",
       "    <tr style=\"text-align: right;\">\n",
       "      <th></th>\n",
       "      <th>user_id</th>\n",
       "      <th>event_dt</th>\n",
       "      <th>event_name</th>\n",
       "      <th>details</th>\n",
       "    </tr>\n",
       "  </thead>\n",
       "  <tbody>\n",
       "    <tr>\n",
       "      <th>0</th>\n",
       "      <td>E1BDDCE0DAFA2679</td>\n",
       "      <td>2020-12-07 20:22:03</td>\n",
       "      <td>purchase</td>\n",
       "      <td>99.99</td>\n",
       "    </tr>\n",
       "    <tr>\n",
       "      <th>1</th>\n",
       "      <td>7B6452F081F49504</td>\n",
       "      <td>2020-12-07 09:22:53</td>\n",
       "      <td>purchase</td>\n",
       "      <td>9.99</td>\n",
       "    </tr>\n",
       "    <tr>\n",
       "      <th>2</th>\n",
       "      <td>9CD9F34546DF254C</td>\n",
       "      <td>2020-12-07 12:59:29</td>\n",
       "      <td>purchase</td>\n",
       "      <td>4.99</td>\n",
       "    </tr>\n",
       "    <tr>\n",
       "      <th>3</th>\n",
       "      <td>96F27A054B191457</td>\n",
       "      <td>2020-12-07 04:02:40</td>\n",
       "      <td>purchase</td>\n",
       "      <td>4.99</td>\n",
       "    </tr>\n",
       "    <tr>\n",
       "      <th>4</th>\n",
       "      <td>1FD7660FDF94CA1F</td>\n",
       "      <td>2020-12-07 10:15:09</td>\n",
       "      <td>purchase</td>\n",
       "      <td>4.99</td>\n",
       "    </tr>\n",
       "  </tbody>\n",
       "</table>\n",
       "</div>"
      ],
      "text/plain": [
       "            user_id             event_dt event_name  details\n",
       "0  E1BDDCE0DAFA2679  2020-12-07 20:22:03   purchase    99.99\n",
       "1  7B6452F081F49504  2020-12-07 09:22:53   purchase     9.99\n",
       "2  9CD9F34546DF254C  2020-12-07 12:59:29   purchase     4.99\n",
       "3  96F27A054B191457  2020-12-07 04:02:40   purchase     4.99\n",
       "4  1FD7660FDF94CA1F  2020-12-07 10:15:09   purchase     4.99"
      ]
     },
     "execution_count": 13,
     "metadata": {},
     "output_type": "execute_result"
    }
   ],
   "source": [
    "# выводим первые 5 строк \n",
    "events.head()"
   ]
  },
  {
   "cell_type": "code",
   "execution_count": 14,
   "metadata": {},
   "outputs": [
    {
     "name": "stdout",
     "output_type": "stream",
     "text": [
      "<class 'pandas.core.frame.DataFrame'>\n",
      "RangeIndex: 440317 entries, 0 to 440316\n",
      "Data columns (total 4 columns):\n",
      " #   Column      Non-Null Count   Dtype  \n",
      "---  ------      --------------   -----  \n",
      " 0   user_id     440317 non-null  object \n",
      " 1   event_dt    440317 non-null  object \n",
      " 2   event_name  440317 non-null  object \n",
      " 3   details     62740 non-null   float64\n",
      "dtypes: float64(1), object(3)\n",
      "memory usage: 13.4+ MB\n"
     ]
    }
   ],
   "source": [
    "# выводим общую информацию по датасету\n",
    "events.info()"
   ]
  },
  {
   "cell_type": "code",
   "execution_count": 15,
   "metadata": {},
   "outputs": [
    {
     "data": {
      "text/html": [
       "<div>\n",
       "<style scoped>\n",
       "    .dataframe tbody tr th:only-of-type {\n",
       "        vertical-align: middle;\n",
       "    }\n",
       "\n",
       "    .dataframe tbody tr th {\n",
       "        vertical-align: top;\n",
       "    }\n",
       "\n",
       "    .dataframe thead th {\n",
       "        text-align: right;\n",
       "    }\n",
       "</style>\n",
       "<table border=\"1\" class=\"dataframe\">\n",
       "  <thead>\n",
       "    <tr style=\"text-align: right;\">\n",
       "      <th></th>\n",
       "      <th>details</th>\n",
       "    </tr>\n",
       "  </thead>\n",
       "  <tbody>\n",
       "    <tr>\n",
       "      <th>count</th>\n",
       "      <td>62740.0</td>\n",
       "    </tr>\n",
       "    <tr>\n",
       "      <th>mean</th>\n",
       "      <td>24.0</td>\n",
       "    </tr>\n",
       "    <tr>\n",
       "      <th>std</th>\n",
       "      <td>72.0</td>\n",
       "    </tr>\n",
       "    <tr>\n",
       "      <th>min</th>\n",
       "      <td>5.0</td>\n",
       "    </tr>\n",
       "    <tr>\n",
       "      <th>25%</th>\n",
       "      <td>5.0</td>\n",
       "    </tr>\n",
       "    <tr>\n",
       "      <th>50%</th>\n",
       "      <td>5.0</td>\n",
       "    </tr>\n",
       "    <tr>\n",
       "      <th>75%</th>\n",
       "      <td>10.0</td>\n",
       "    </tr>\n",
       "    <tr>\n",
       "      <th>max</th>\n",
       "      <td>500.0</td>\n",
       "    </tr>\n",
       "  </tbody>\n",
       "</table>\n",
       "</div>"
      ],
      "text/plain": [
       "       details\n",
       "count  62740.0\n",
       "mean      24.0\n",
       "std       72.0\n",
       "min        5.0\n",
       "25%        5.0\n",
       "50%        5.0\n",
       "75%       10.0\n",
       "max      500.0"
      ]
     },
     "execution_count": 15,
     "metadata": {},
     "output_type": "execute_result"
    }
   ],
   "source": [
    "# выводим описательные статистики по числовым столбцам\n",
    "events.describe().round()"
   ]
  },
  {
   "cell_type": "code",
   "execution_count": 16,
   "metadata": {},
   "outputs": [
    {
     "data": {
      "text/html": [
       "<div>\n",
       "<style scoped>\n",
       "    .dataframe tbody tr th:only-of-type {\n",
       "        vertical-align: middle;\n",
       "    }\n",
       "\n",
       "    .dataframe tbody tr th {\n",
       "        vertical-align: top;\n",
       "    }\n",
       "\n",
       "    .dataframe thead th {\n",
       "        text-align: right;\n",
       "    }\n",
       "</style>\n",
       "<table border=\"1\" class=\"dataframe\">\n",
       "  <thead>\n",
       "    <tr style=\"text-align: right;\">\n",
       "      <th></th>\n",
       "      <th>user_id</th>\n",
       "      <th>event_dt</th>\n",
       "      <th>event_name</th>\n",
       "    </tr>\n",
       "  </thead>\n",
       "  <tbody>\n",
       "    <tr>\n",
       "      <th>count</th>\n",
       "      <td>440317</td>\n",
       "      <td>440317</td>\n",
       "      <td>440317</td>\n",
       "    </tr>\n",
       "    <tr>\n",
       "      <th>unique</th>\n",
       "      <td>58703</td>\n",
       "      <td>267268</td>\n",
       "      <td>4</td>\n",
       "    </tr>\n",
       "    <tr>\n",
       "      <th>top</th>\n",
       "      <td>A3917F81482141F2</td>\n",
       "      <td>2020-12-23 02:37:24</td>\n",
       "      <td>login</td>\n",
       "    </tr>\n",
       "    <tr>\n",
       "      <th>freq</th>\n",
       "      <td>36</td>\n",
       "      <td>10</td>\n",
       "      <td>189552</td>\n",
       "    </tr>\n",
       "  </tbody>\n",
       "</table>\n",
       "</div>"
      ],
      "text/plain": [
       "                 user_id             event_dt event_name\n",
       "count             440317               440317     440317\n",
       "unique             58703               267268          4\n",
       "top     A3917F81482141F2  2020-12-23 02:37:24      login\n",
       "freq                  36                   10     189552"
      ]
     },
     "execution_count": 16,
     "metadata": {},
     "output_type": "execute_result"
    }
   ],
   "source": [
    "# выводим описательные статистики по нечисловым столбцам\n",
    "events.select_dtypes(include='object').describe()"
   ]
  },
  {
   "cell_type": "code",
   "execution_count": 17,
   "metadata": {},
   "outputs": [
    {
     "data": {
      "text/plain": [
       "array(['product_cart', 'product_page', 'login'], dtype=object)"
      ]
     },
     "execution_count": 17,
     "metadata": {},
     "output_type": "execute_result"
    }
   ],
   "source": [
    "# смотрим по каким событиям в столбце details стоят пропуски\n",
    "events[events['details'].isna()]['event_name'].unique()"
   ]
  },
  {
   "cell_type": "markdown",
   "metadata": {},
   "source": [
    "Что можно исправить в этом датасете:\n",
    "* в столбце `details` есть данные только для события `purchase`, поэтому можно выделить в отдельный датафрейм данные о покупках,\n",
    "* привести даты к правильным типам"
   ]
  },
  {
   "cell_type": "markdown",
   "metadata": {},
   "source": [
    "### Таблица с участниками теста"
   ]
  },
  {
   "cell_type": "code",
   "execution_count": 18,
   "metadata": {},
   "outputs": [
    {
     "data": {
      "text/html": [
       "<div>\n",
       "<style scoped>\n",
       "    .dataframe tbody tr th:only-of-type {\n",
       "        vertical-align: middle;\n",
       "    }\n",
       "\n",
       "    .dataframe tbody tr th {\n",
       "        vertical-align: top;\n",
       "    }\n",
       "\n",
       "    .dataframe thead th {\n",
       "        text-align: right;\n",
       "    }\n",
       "</style>\n",
       "<table border=\"1\" class=\"dataframe\">\n",
       "  <thead>\n",
       "    <tr style=\"text-align: right;\">\n",
       "      <th></th>\n",
       "      <th>user_id</th>\n",
       "      <th>group</th>\n",
       "      <th>ab_test</th>\n",
       "    </tr>\n",
       "  </thead>\n",
       "  <tbody>\n",
       "    <tr>\n",
       "      <th>0</th>\n",
       "      <td>D1ABA3E2887B6A73</td>\n",
       "      <td>A</td>\n",
       "      <td>recommender_system_test</td>\n",
       "    </tr>\n",
       "    <tr>\n",
       "      <th>1</th>\n",
       "      <td>A7A3664BD6242119</td>\n",
       "      <td>A</td>\n",
       "      <td>recommender_system_test</td>\n",
       "    </tr>\n",
       "    <tr>\n",
       "      <th>2</th>\n",
       "      <td>DABC14FDDFADD29E</td>\n",
       "      <td>A</td>\n",
       "      <td>recommender_system_test</td>\n",
       "    </tr>\n",
       "    <tr>\n",
       "      <th>3</th>\n",
       "      <td>04988C5DF189632E</td>\n",
       "      <td>A</td>\n",
       "      <td>recommender_system_test</td>\n",
       "    </tr>\n",
       "    <tr>\n",
       "      <th>4</th>\n",
       "      <td>482F14783456D21B</td>\n",
       "      <td>B</td>\n",
       "      <td>recommender_system_test</td>\n",
       "    </tr>\n",
       "  </tbody>\n",
       "</table>\n",
       "</div>"
      ],
      "text/plain": [
       "            user_id group                  ab_test\n",
       "0  D1ABA3E2887B6A73     A  recommender_system_test\n",
       "1  A7A3664BD6242119     A  recommender_system_test\n",
       "2  DABC14FDDFADD29E     A  recommender_system_test\n",
       "3  04988C5DF189632E     A  recommender_system_test\n",
       "4  482F14783456D21B     B  recommender_system_test"
      ]
     },
     "execution_count": 18,
     "metadata": {},
     "output_type": "execute_result"
    }
   ],
   "source": [
    "# выводим первые 5 строк датасета\n",
    "participants.head()"
   ]
  },
  {
   "cell_type": "code",
   "execution_count": 19,
   "metadata": {},
   "outputs": [
    {
     "name": "stdout",
     "output_type": "stream",
     "text": [
      "<class 'pandas.core.frame.DataFrame'>\n",
      "RangeIndex: 18268 entries, 0 to 18267\n",
      "Data columns (total 3 columns):\n",
      " #   Column   Non-Null Count  Dtype \n",
      "---  ------   --------------  ----- \n",
      " 0   user_id  18268 non-null  object\n",
      " 1   group    18268 non-null  object\n",
      " 2   ab_test  18268 non-null  object\n",
      "dtypes: object(3)\n",
      "memory usage: 428.3+ KB\n"
     ]
    }
   ],
   "source": [
    "# выводим общую информацию\n",
    "participants.info()"
   ]
  },
  {
   "cell_type": "code",
   "execution_count": 20,
   "metadata": {},
   "outputs": [
    {
     "data": {
      "text/html": [
       "<div>\n",
       "<style scoped>\n",
       "    .dataframe tbody tr th:only-of-type {\n",
       "        vertical-align: middle;\n",
       "    }\n",
       "\n",
       "    .dataframe tbody tr th {\n",
       "        vertical-align: top;\n",
       "    }\n",
       "\n",
       "    .dataframe thead th {\n",
       "        text-align: right;\n",
       "    }\n",
       "</style>\n",
       "<table border=\"1\" class=\"dataframe\">\n",
       "  <thead>\n",
       "    <tr style=\"text-align: right;\">\n",
       "      <th></th>\n",
       "      <th>user_id</th>\n",
       "      <th>group</th>\n",
       "      <th>ab_test</th>\n",
       "    </tr>\n",
       "  </thead>\n",
       "  <tbody>\n",
       "    <tr>\n",
       "      <th>count</th>\n",
       "      <td>18268</td>\n",
       "      <td>18268</td>\n",
       "      <td>18268</td>\n",
       "    </tr>\n",
       "    <tr>\n",
       "      <th>unique</th>\n",
       "      <td>16666</td>\n",
       "      <td>2</td>\n",
       "      <td>2</td>\n",
       "    </tr>\n",
       "    <tr>\n",
       "      <th>top</th>\n",
       "      <td>0FDFDA0B2DEC2D91</td>\n",
       "      <td>A</td>\n",
       "      <td>interface_eu_test</td>\n",
       "    </tr>\n",
       "    <tr>\n",
       "      <th>freq</th>\n",
       "      <td>2</td>\n",
       "      <td>9655</td>\n",
       "      <td>11567</td>\n",
       "    </tr>\n",
       "  </tbody>\n",
       "</table>\n",
       "</div>"
      ],
      "text/plain": [
       "                 user_id  group            ab_test\n",
       "count              18268  18268              18268\n",
       "unique             16666      2                  2\n",
       "top     0FDFDA0B2DEC2D91      A  interface_eu_test\n",
       "freq                   2   9655              11567"
      ]
     },
     "execution_count": 20,
     "metadata": {},
     "output_type": "execute_result"
    }
   ],
   "source": [
    "# выводим описательные статистики\n",
    "participants.describe()"
   ]
  },
  {
   "cell_type": "markdown",
   "metadata": {},
   "source": [
    "Что можно исправить в этом датасете:\n",
    "* оставить только пользователей, которые принимали участие в одном А/Б-тесте, иначе будет неясно какой именно эксперимент повлиял на итоговый результат"
   ]
  },
  {
   "cell_type": "markdown",
   "metadata": {},
   "source": [
    "## Выводы"
   ]
  },
  {
   "cell_type": "markdown",
   "metadata": {},
   "source": [
    "Мы сделали первый взгляд на данные и определили моменты, которые нужно поправить:\n",
    "* привести даты к соответствующему типу,\n",
    "* в таблице с маркетинговыми активностями заменить столбец `region` на столбцы с регионами с булевыми значениями,\n",
    "* в таблице с событиями в столбце `details` есть данные только для события `purchase`, поэтому можно выделить в отдельный датафрейм данные о покупках,\n",
    "* в таблице с участниками теста нужно оставить только пользователей, которые принимали участие в одном А/Б-тесте, иначе будет неясно какой именно эксперимент повлиял на итоговый результат."
   ]
  },
  {
   "cell_type": "markdown",
   "metadata": {},
   "source": [
    "# Предобработка данных"
   ]
  },
  {
   "cell_type": "markdown",
   "metadata": {},
   "source": [
    "План для предобработки данных у нас есть. Приведем даты к соответствующему типу:"
   ]
  },
  {
   "cell_type": "code",
   "execution_count": 21,
   "metadata": {},
   "outputs": [],
   "source": [
    "# создаем функццию для приведения типа данных к датам\n",
    "def to_dt(df, col):\n",
    "    df[col] = pd.to_datetime(df[col]) \n",
    "\n",
    "# приводим даты к правильному формату\n",
    "to_dt(marketing, 'start_dt')\n",
    "to_dt(marketing, 'finish_dt')\n",
    "to_dt(new_users, 'first_date')\n",
    "to_dt(events, 'event_dt')"
   ]
  },
  {
   "cell_type": "markdown",
   "metadata": {},
   "source": [
    "Мы привели все даты к правильному формату. Теперь поработаем с таблицей `marketing`. Нам нужно из столбца `region` достать все уникальные значения и создать их них отдельные столбцы, значениями в которых будут True либо False."
   ]
  },
  {
   "cell_type": "code",
   "execution_count": 22,
   "metadata": {},
   "outputs": [
    {
     "data": {
      "text/html": [
       "<div>\n",
       "<style scoped>\n",
       "    .dataframe tbody tr th:only-of-type {\n",
       "        vertical-align: middle;\n",
       "    }\n",
       "\n",
       "    .dataframe tbody tr th {\n",
       "        vertical-align: top;\n",
       "    }\n",
       "\n",
       "    .dataframe thead th {\n",
       "        text-align: right;\n",
       "    }\n",
       "</style>\n",
       "<table border=\"1\" class=\"dataframe\">\n",
       "  <thead>\n",
       "    <tr style=\"text-align: right;\">\n",
       "      <th></th>\n",
       "      <th>name</th>\n",
       "      <th>start_dt</th>\n",
       "      <th>finish_dt</th>\n",
       "      <th>EU</th>\n",
       "      <th>N.America</th>\n",
       "      <th>CIS</th>\n",
       "      <th>APAC</th>\n",
       "    </tr>\n",
       "  </thead>\n",
       "  <tbody>\n",
       "    <tr>\n",
       "      <th>0</th>\n",
       "      <td>Christmas&amp;New Year Promo</td>\n",
       "      <td>2020-12-25</td>\n",
       "      <td>2021-01-03</td>\n",
       "      <td>True</td>\n",
       "      <td>True</td>\n",
       "      <td>False</td>\n",
       "      <td>False</td>\n",
       "    </tr>\n",
       "    <tr>\n",
       "      <th>1</th>\n",
       "      <td>St. Valentine's Day Giveaway</td>\n",
       "      <td>2020-02-14</td>\n",
       "      <td>2020-02-16</td>\n",
       "      <td>True</td>\n",
       "      <td>True</td>\n",
       "      <td>True</td>\n",
       "      <td>True</td>\n",
       "    </tr>\n",
       "    <tr>\n",
       "      <th>2</th>\n",
       "      <td>St. Patric's Day Promo</td>\n",
       "      <td>2020-03-17</td>\n",
       "      <td>2020-03-19</td>\n",
       "      <td>True</td>\n",
       "      <td>True</td>\n",
       "      <td>False</td>\n",
       "      <td>False</td>\n",
       "    </tr>\n",
       "    <tr>\n",
       "      <th>3</th>\n",
       "      <td>Easter Promo</td>\n",
       "      <td>2020-04-12</td>\n",
       "      <td>2020-04-19</td>\n",
       "      <td>True</td>\n",
       "      <td>True</td>\n",
       "      <td>True</td>\n",
       "      <td>True</td>\n",
       "    </tr>\n",
       "    <tr>\n",
       "      <th>4</th>\n",
       "      <td>4th of July Promo</td>\n",
       "      <td>2020-07-04</td>\n",
       "      <td>2020-07-11</td>\n",
       "      <td>False</td>\n",
       "      <td>True</td>\n",
       "      <td>False</td>\n",
       "      <td>False</td>\n",
       "    </tr>\n",
       "  </tbody>\n",
       "</table>\n",
       "</div>"
      ],
      "text/plain": [
       "                           name   start_dt  finish_dt     EU  N.America  \\\n",
       "0      Christmas&New Year Promo 2020-12-25 2021-01-03   True       True   \n",
       "1  St. Valentine's Day Giveaway 2020-02-14 2020-02-16   True       True   \n",
       "2        St. Patric's Day Promo 2020-03-17 2020-03-19   True       True   \n",
       "3                  Easter Promo 2020-04-12 2020-04-19   True       True   \n",
       "4             4th of July Promo 2020-07-04 2020-07-11  False       True   \n",
       "\n",
       "     CIS   APAC  \n",
       "0  False  False  \n",
       "1   True   True  \n",
       "2  False  False  \n",
       "3   True   True  \n",
       "4  False  False  "
      ]
     },
     "execution_count": 22,
     "metadata": {},
     "output_type": "execute_result"
    }
   ],
   "source": [
    "# найдем только уникальные регионы\n",
    "regions = []\n",
    "\n",
    "for row in marketing['regions'].unique():\n",
    "    row = row.split(',')\n",
    "    for region in row:\n",
    "        if region.strip() not in regions:\n",
    "            regions.append(region.strip())\n",
    "\n",
    "# добавляем столбцы с регионами в датафрейм\n",
    "for reg in regions:\n",
    "    marketing[reg] = marketing['regions'].apply(lambda x: True if reg in [i.strip() for i in x.split(',')] else False)\n",
    "\n",
    "# удаляем изначальные регионы\n",
    "marketing = marketing.drop(columns='regions')\n",
    "\n",
    "# выводим результат и проверяем изменения\n",
    "marketing.head()"
   ]
  },
  {
   "cell_type": "markdown",
   "metadata": {},
   "source": [
    "Результат именно тот, который мы и ожидали. Теперь нам будет проще делать отбор по маркетинговой кампании для определенного региона.\n",
    "\n",
    "Следующий шаг – выделить из таблицы `events` события `purchase` в отдельную таблицу. Так мы сможем убрать лишний столбец с `details` из таблицы с событиями, так как все равно в нем присутствуют данные только для события `purchase`. Назовем новую таблицу `purchases`:"
   ]
  },
  {
   "cell_type": "code",
   "execution_count": 23,
   "metadata": {},
   "outputs": [
    {
     "data": {
      "text/html": [
       "<div>\n",
       "<style scoped>\n",
       "    .dataframe tbody tr th:only-of-type {\n",
       "        vertical-align: middle;\n",
       "    }\n",
       "\n",
       "    .dataframe tbody tr th {\n",
       "        vertical-align: top;\n",
       "    }\n",
       "\n",
       "    .dataframe thead th {\n",
       "        text-align: right;\n",
       "    }\n",
       "</style>\n",
       "<table border=\"1\" class=\"dataframe\">\n",
       "  <thead>\n",
       "    <tr style=\"text-align: right;\">\n",
       "      <th></th>\n",
       "      <th>user_id</th>\n",
       "      <th>purchase_dt</th>\n",
       "      <th>total</th>\n",
       "    </tr>\n",
       "  </thead>\n",
       "  <tbody>\n",
       "    <tr>\n",
       "      <th>0</th>\n",
       "      <td>E1BDDCE0DAFA2679</td>\n",
       "      <td>2020-12-07 20:22:03</td>\n",
       "      <td>99.99</td>\n",
       "    </tr>\n",
       "    <tr>\n",
       "      <th>1</th>\n",
       "      <td>7B6452F081F49504</td>\n",
       "      <td>2020-12-07 09:22:53</td>\n",
       "      <td>9.99</td>\n",
       "    </tr>\n",
       "    <tr>\n",
       "      <th>2</th>\n",
       "      <td>9CD9F34546DF254C</td>\n",
       "      <td>2020-12-07 12:59:29</td>\n",
       "      <td>4.99</td>\n",
       "    </tr>\n",
       "    <tr>\n",
       "      <th>3</th>\n",
       "      <td>96F27A054B191457</td>\n",
       "      <td>2020-12-07 04:02:40</td>\n",
       "      <td>4.99</td>\n",
       "    </tr>\n",
       "    <tr>\n",
       "      <th>4</th>\n",
       "      <td>1FD7660FDF94CA1F</td>\n",
       "      <td>2020-12-07 10:15:09</td>\n",
       "      <td>4.99</td>\n",
       "    </tr>\n",
       "  </tbody>\n",
       "</table>\n",
       "</div>"
      ],
      "text/plain": [
       "            user_id         purchase_dt  total\n",
       "0  E1BDDCE0DAFA2679 2020-12-07 20:22:03  99.99\n",
       "1  7B6452F081F49504 2020-12-07 09:22:53   9.99\n",
       "2  9CD9F34546DF254C 2020-12-07 12:59:29   4.99\n",
       "3  96F27A054B191457 2020-12-07 04:02:40   4.99\n",
       "4  1FD7660FDF94CA1F 2020-12-07 10:15:09   4.99"
      ]
     },
     "execution_count": 23,
     "metadata": {},
     "output_type": "execute_result"
    }
   ],
   "source": [
    "# делаем копию среза с покупками\n",
    "purchases = events.query('event_name == \"purchase\"').copy()\n",
    "\n",
    "# убираем лишний столбец\n",
    "purchases = purchases.drop(columns='event_name')\n",
    "\n",
    "# переименовываем столбцы\n",
    "purchases.columns = ['user_id', 'purchase_dt', 'total']\n",
    "\n",
    "# выводим первые 5 строк результата\n",
    "purchases.head()"
   ]
  },
  {
   "cell_type": "markdown",
   "metadata": {},
   "source": [
    "Отлично, теперь можно убрать столбец `details` из таблицы с действиями:"
   ]
  },
  {
   "cell_type": "code",
   "execution_count": 24,
   "metadata": {},
   "outputs": [
    {
     "data": {
      "text/html": [
       "<div>\n",
       "<style scoped>\n",
       "    .dataframe tbody tr th:only-of-type {\n",
       "        vertical-align: middle;\n",
       "    }\n",
       "\n",
       "    .dataframe tbody tr th {\n",
       "        vertical-align: top;\n",
       "    }\n",
       "\n",
       "    .dataframe thead th {\n",
       "        text-align: right;\n",
       "    }\n",
       "</style>\n",
       "<table border=\"1\" class=\"dataframe\">\n",
       "  <thead>\n",
       "    <tr style=\"text-align: right;\">\n",
       "      <th></th>\n",
       "      <th>user_id</th>\n",
       "      <th>event_dt</th>\n",
       "      <th>event_name</th>\n",
       "    </tr>\n",
       "  </thead>\n",
       "  <tbody>\n",
       "    <tr>\n",
       "      <th>0</th>\n",
       "      <td>EB2D1E4A76B38E24</td>\n",
       "      <td>2020-12-07 00:00:33</td>\n",
       "      <td>login</td>\n",
       "    </tr>\n",
       "    <tr>\n",
       "      <th>1</th>\n",
       "      <td>EB2D1E4A76B38E24</td>\n",
       "      <td>2020-12-07 00:00:33</td>\n",
       "      <td>purchase</td>\n",
       "    </tr>\n",
       "    <tr>\n",
       "      <th>2</th>\n",
       "      <td>EB2D1E4A76B38E24</td>\n",
       "      <td>2020-12-07 00:00:34</td>\n",
       "      <td>product_page</td>\n",
       "    </tr>\n",
       "    <tr>\n",
       "      <th>3</th>\n",
       "      <td>821D82C2BB74CBB2</td>\n",
       "      <td>2020-12-07 00:00:35</td>\n",
       "      <td>login</td>\n",
       "    </tr>\n",
       "    <tr>\n",
       "      <th>4</th>\n",
       "      <td>821D82C2BB74CBB2</td>\n",
       "      <td>2020-12-07 00:00:35</td>\n",
       "      <td>product_page</td>\n",
       "    </tr>\n",
       "  </tbody>\n",
       "</table>\n",
       "</div>"
      ],
      "text/plain": [
       "            user_id            event_dt    event_name\n",
       "0  EB2D1E4A76B38E24 2020-12-07 00:00:33         login\n",
       "1  EB2D1E4A76B38E24 2020-12-07 00:00:33      purchase\n",
       "2  EB2D1E4A76B38E24 2020-12-07 00:00:34  product_page\n",
       "3  821D82C2BB74CBB2 2020-12-07 00:00:35         login\n",
       "4  821D82C2BB74CBB2 2020-12-07 00:00:35  product_page"
      ]
     },
     "execution_count": 24,
     "metadata": {},
     "output_type": "execute_result"
    }
   ],
   "source": [
    "# убираем лишний столбец\n",
    "events = events.drop(columns='details')\n",
    "\n",
    "# сортируем события в хронологическом порядке\n",
    "events = events.sort_values(by='event_dt').reset_index(drop=True)\n",
    "\n",
    "# смотрим на первые 5 строк результат\n",
    "events.head()"
   ]
  },
  {
   "cell_type": "markdown",
   "metadata": {},
   "source": [
    "С таблицей `events` поработали, теперь переходим к таблице `participants`. Так как у нас параллельно проводятся 2 А/В-теста, то нам следует проверить пересечения пользователей в тестах. Найдем пользователей, которые участвовали сразу в двух тестах:"
   ]
  },
  {
   "cell_type": "code",
   "execution_count": 25,
   "metadata": {},
   "outputs": [
    {
     "name": "stdout",
     "output_type": "stream",
     "text": [
      "Количество пользователей, которые участвовали сразу в 2-х тестах: 1602\n"
     ]
    }
   ],
   "source": [
    "# пользователи, которые участвовали сразу в двух тестах\n",
    "intersecting_users = participants[participants['user_id'].isin(\n",
    "    participants.groupby('user_id').agg({'ab_test': 'nunique'}).query('ab_test > 1').index\n",
    ")]\n",
    "\n",
    "print('Количество пользователей, которые участвовали сразу в 2-х тестах:', intersecting_users['user_id'].nunique())"
   ]
  },
  {
   "cell_type": "markdown",
   "metadata": {},
   "source": [
    "Мы нашли 1602 пользователя, которые участвовали сразу в 2-х тестах. Из этого количества пользователей мы можем оставить тех, кто был в контрольной группе (А) теста `interface_eu_test`, так как им показывался продукт без изменений второго теста. Посмотрим сколько таких пользователей:"
   ]
  },
  {
   "cell_type": "code",
   "execution_count": 26,
   "metadata": {},
   "outputs": [
    {
     "name": "stdout",
     "output_type": "stream",
     "text": [
      "Количество пересекающихся пользователей контрольной группы в тесте interface_eu_test:  819\n"
     ]
    }
   ],
   "source": [
    "print('Количество пересекающихся пользователей контрольной группы в тесте interface_eu_test: ',\n",
    "       len(intersecting_users.query('ab_test == \"interface_eu_test\" and group == \"A\"')['user_id']))"
   ]
  },
  {
   "cell_type": "markdown",
   "metadata": {},
   "source": [
    "Больше половины пересекающихся пользователей мы можем оставить. Так и поступим, а остальных пользователей срежем:"
   ]
  },
  {
   "cell_type": "code",
   "execution_count": 27,
   "metadata": {},
   "outputs": [],
   "source": [
    "# пользователи, которых оставляем\n",
    "users_to_stay = intersecting_users.query('ab_test == \"interface_eu_test\" and group == \"A\"')['user_id']\n",
    "\n",
    "# пользователи, которых удаляем\n",
    "users_to_delete = intersecting_users.query('user_id not in @users_to_stay')['user_id'].unique()\n",
    "\n",
    "# итоговые участники нашего А/Б теста\n",
    "rst_users = participants.query('ab_test == \"recommender_system_test\" and user_id not in @users_to_delete')\n",
    "\n",
    "# добавим к каждому пользователю данные из new_users\n",
    "rst_users = rst_users.merge(new_users, on='user_id')"
   ]
  },
  {
   "cell_type": "markdown",
   "metadata": {},
   "source": [
    "Посмотрим какую долю пользователей мы срезали:"
   ]
  },
  {
   "cell_type": "code",
   "execution_count": 28,
   "metadata": {},
   "outputs": [
    {
     "name": "stdout",
     "output_type": "stream",
     "text": [
      "Доля срезанных пользователей от изначального количества: 12%\n",
      "Текущее количество пользователей в тесте: 5918\n"
     ]
    }
   ],
   "source": [
    "# изначальное количество пользователей\n",
    "init_num_of_rst_participants = participants.query('ab_test == \"recommender_system_test\"')['user_id'].nunique()\n",
    "\n",
    "print('Доля срезанных пользователей от изначального количества: {:.0%}'.format(\n",
    "       (init_num_of_rst_participants - len(rst_users)) / init_num_of_rst_participants))\n",
    "\n",
    "print('Текущее количество пользователей в тесте:', len(rst_users))"
   ]
  },
  {
   "cell_type": "markdown",
   "metadata": {},
   "source": [
    "В итоге мы потеряли около 12% от изначального количества участников нашего теста. При этом у нас осталось более 5900 пользователей."
   ]
  },
  {
   "cell_type": "markdown",
   "metadata": {},
   "source": [
    "Добавим столбцы с флажком является ли пользователь покупателем и если да, то добавим сумму покупок:"
   ]
  },
  {
   "cell_type": "code",
   "execution_count": 29,
   "metadata": {},
   "outputs": [
    {
     "data": {
      "text/html": [
       "<div>\n",
       "<style scoped>\n",
       "    .dataframe tbody tr th:only-of-type {\n",
       "        vertical-align: middle;\n",
       "    }\n",
       "\n",
       "    .dataframe tbody tr th {\n",
       "        vertical-align: top;\n",
       "    }\n",
       "\n",
       "    .dataframe thead th {\n",
       "        text-align: right;\n",
       "    }\n",
       "</style>\n",
       "<table border=\"1\" class=\"dataframe\">\n",
       "  <thead>\n",
       "    <tr style=\"text-align: right;\">\n",
       "      <th></th>\n",
       "      <th>user_id</th>\n",
       "      <th>group</th>\n",
       "      <th>ab_test</th>\n",
       "      <th>first_date</th>\n",
       "      <th>region</th>\n",
       "      <th>device</th>\n",
       "      <th>is_buyer</th>\n",
       "      <th>total</th>\n",
       "    </tr>\n",
       "  </thead>\n",
       "  <tbody>\n",
       "    <tr>\n",
       "      <th>0</th>\n",
       "      <td>D1ABA3E2887B6A73</td>\n",
       "      <td>A</td>\n",
       "      <td>recommender_system_test</td>\n",
       "      <td>2020-12-07</td>\n",
       "      <td>EU</td>\n",
       "      <td>PC</td>\n",
       "      <td>True</td>\n",
       "      <td>104.98</td>\n",
       "    </tr>\n",
       "    <tr>\n",
       "      <th>1</th>\n",
       "      <td>A7A3664BD6242119</td>\n",
       "      <td>A</td>\n",
       "      <td>recommender_system_test</td>\n",
       "      <td>2020-12-20</td>\n",
       "      <td>EU</td>\n",
       "      <td>iPhone</td>\n",
       "      <td>False</td>\n",
       "      <td>0.00</td>\n",
       "    </tr>\n",
       "    <tr>\n",
       "      <th>2</th>\n",
       "      <td>DABC14FDDFADD29E</td>\n",
       "      <td>A</td>\n",
       "      <td>recommender_system_test</td>\n",
       "      <td>2020-12-08</td>\n",
       "      <td>EU</td>\n",
       "      <td>Mac</td>\n",
       "      <td>False</td>\n",
       "      <td>0.00</td>\n",
       "    </tr>\n",
       "    <tr>\n",
       "      <th>3</th>\n",
       "      <td>04988C5DF189632E</td>\n",
       "      <td>A</td>\n",
       "      <td>recommender_system_test</td>\n",
       "      <td>2020-12-14</td>\n",
       "      <td>EU</td>\n",
       "      <td>iPhone</td>\n",
       "      <td>True</td>\n",
       "      <td>29.95</td>\n",
       "    </tr>\n",
       "    <tr>\n",
       "      <th>4</th>\n",
       "      <td>482F14783456D21B</td>\n",
       "      <td>B</td>\n",
       "      <td>recommender_system_test</td>\n",
       "      <td>2020-12-14</td>\n",
       "      <td>EU</td>\n",
       "      <td>PC</td>\n",
       "      <td>False</td>\n",
       "      <td>0.00</td>\n",
       "    </tr>\n",
       "  </tbody>\n",
       "</table>\n",
       "</div>"
      ],
      "text/plain": [
       "            user_id group                  ab_test first_date region  device  \\\n",
       "0  D1ABA3E2887B6A73     A  recommender_system_test 2020-12-07     EU      PC   \n",
       "1  A7A3664BD6242119     A  recommender_system_test 2020-12-20     EU  iPhone   \n",
       "2  DABC14FDDFADD29E     A  recommender_system_test 2020-12-08     EU     Mac   \n",
       "3  04988C5DF189632E     A  recommender_system_test 2020-12-14     EU  iPhone   \n",
       "4  482F14783456D21B     B  recommender_system_test 2020-12-14     EU      PC   \n",
       "\n",
       "   is_buyer   total  \n",
       "0      True  104.98  \n",
       "1     False    0.00  \n",
       "2     False    0.00  \n",
       "3      True   29.95  \n",
       "4     False    0.00  "
      ]
     },
     "execution_count": 29,
     "metadata": {},
     "output_type": "execute_result"
    }
   ],
   "source": [
    "# список покупателей\n",
    "buyers = events.query('event_name == \"purchase\"')['user_id'].unique()\n",
    "\n",
    "# добавляем столбец с показателем является ли пользователь покупателем\n",
    "rst_users['is_buyer'] = rst_users['user_id'].apply(lambda x: True if x in buyers else False)\n",
    "\n",
    "# также для покупателей добавим сумму покупок\n",
    "rst_users = rst_users.merge(\n",
    "    purchases[purchases['user_id'].isin(rst_users['user_id'])].groupby('user_id').agg({'total': 'sum'}).reset_index(),\n",
    "    on='user_id',\n",
    "    how='left'\n",
    ").fillna(0)\n",
    "\n",
    "rst_users.head()"
   ]
  },
  {
   "cell_type": "markdown",
   "metadata": {},
   "source": [
    "### Резюме: предобработка данных\n",
    "\n",
    "При предобработке мы соверишили следующие преобразования в данных:\n",
    "* Преобразовали даты во всех датасетах к правильному типу,\n",
    "* В таблице `marketing` создали столбцы для каждого региона. Заполнили эти столбцы булевыми значениями в зависимости от того, проходила ли рекламная кампания в данном регионе или нет,\n",
    "* Выделили отдельную таблицу `purchases` куда перенесли id пользователей, дату покупки и сумму покупки. Эти данные мы взяли из таблицы `events`. В ней же мы убрали столбец `details`,\n",
    "* Избавились от пользователей, которые участвовали в двух АБ-тестах сразу. При чем, мы не удаляли пользователей, которые были в параллельном тесте в контрольной группе, так как они видели продукт без изменений второго АБ-теста. Всего пришлось срезать 12% от общего числа участников нашего теста,\n",
    "* Мы добавили в таблицу `rst_users` данные о том, является ли пользователь покупателем и если является то сумму его покупок. "
   ]
  },
  {
   "cell_type": "markdown",
   "metadata": {},
   "source": [
    "# Оценка корректности проведения теста"
   ]
  },
  {
   "cell_type": "markdown",
   "metadata": {},
   "source": [
    "Для того, чтобы оценить корректность проведения теста проверим следующие моменты:\n",
    "* соответствие пунктам ТЗ,\n",
    "* проверим было ли влияние маркетинговых мероприятий на какую-либо группу нашего теста,\n",
    "* изучим аудиторию АБ-теста и удалим всех неподходящих пользователей"
   ]
  },
  {
   "cell_type": "markdown",
   "metadata": {},
   "source": [
    "## Проверка на соответствие ТЗ"
   ]
  },
  {
   "cell_type": "markdown",
   "metadata": {},
   "source": [
    "Проверим следующие пункты ТЗ:\n",
    "* Дата запуска теста 07.12.2020,\n",
    "* Дата окончания теста 04.01.2021,\n",
    "* Крайняя дата набора пользователей 21.12.2020,\n",
    "* Общее количество участников теста 6000 человек,\n",
    "* Аудитория теста 15% пользователей из Европы,\n",
    "* Планируемый лайфтайм пользователей 14 дней."
   ]
  },
  {
   "cell_type": "markdown",
   "metadata": {},
   "source": [
    "Проверим наши данные на предмет соответствия техническому заданию.\n",
    "\n",
    "Первый пункт ТЗ – дата запуска теста 07.12.2020. Посмотрим, когда произошло первое событие по нашему А/Б-тесту:"
   ]
  },
  {
   "cell_type": "code",
   "execution_count": 30,
   "metadata": {},
   "outputs": [
    {
     "name": "stdout",
     "output_type": "stream",
     "text": [
      "Дата первого события в А/Б тесте: 2020-12-07 00:05:57\n"
     ]
    }
   ],
   "source": [
    "print('Дата первого события в А/Б тесте:', events[events['user_id'].isin(rst_users['user_id'].unique())]['event_dt'].min())"
   ]
  },
  {
   "cell_type": "markdown",
   "metadata": {},
   "source": [
    "Первое событие соответствует дате запуска А/Б теста.\n",
    "\n",
    "Второй пункт ТЗ – дата окончания теста 4 января. То есть по ТЗ планировалось, что последние события набранных пользователей будут 4 января. Посмотрим так ли это:"
   ]
  },
  {
   "cell_type": "code",
   "execution_count": 31,
   "metadata": {},
   "outputs": [
    {
     "name": "stdout",
     "output_type": "stream",
     "text": [
      "Дата последнего события в А/Б тесте: 2020-12-30 12:42:57\n"
     ]
    }
   ],
   "source": [
    "print('Дата последнего события в А/Б тесте:', events[events['user_id'].isin(rst_users['user_id'].unique())]['event_dt'].max())"
   ]
  },
  {
   "cell_type": "markdown",
   "metadata": {},
   "source": [
    "Последнее событие пользователи совершили 30 декабря, то есть на 5 дней раньше, чем планировалось в ТЗ. Хотя возможно, что проблема в том, что не все данные пока дошли.\n",
    "\n",
    "Третий пункт – крайняя дата набора пользователей 21 декабря. Проверяем:"
   ]
  },
  {
   "cell_type": "code",
   "execution_count": 32,
   "metadata": {},
   "outputs": [
    {
     "name": "stdout",
     "output_type": "stream",
     "text": [
      "Дата прихода последнего нового пользователя: 2020-12-21 00:00:00\n"
     ]
    }
   ],
   "source": [
    "print('Дата прихода последнего нового пользователя:', rst_users['first_date'].max())"
   ]
  },
  {
   "cell_type": "markdown",
   "metadata": {},
   "source": [
    "Крайняя дата добавления пользователя в тест соответствует ТЗ.\n",
    "\n",
    "Четвертый пункт – ожидаемое количество участников теста 6000 человек."
   ]
  },
  {
   "cell_type": "code",
   "execution_count": 33,
   "metadata": {},
   "outputs": [
    {
     "name": "stdout",
     "output_type": "stream",
     "text": [
      "Количество участников теста: 5918\n"
     ]
    }
   ],
   "source": [
    "print('Количество участников теста:', rst_users['user_id'].nunique())"
   ]
  },
  {
   "cell_type": "markdown",
   "metadata": {},
   "source": [
    "Количество участников в реальности лишь на 80 человек меньше, чем планировалось по ТЗ. Можно считать, что этот пункт тоже выполнен.\n",
    "\n",
    "Следующий пункт – аудитория теста: 15% новых пользователей из региона EU. Посмотрим из каких регионов участники теста:"
   ]
  },
  {
   "cell_type": "code",
   "execution_count": 34,
   "metadata": {},
   "outputs": [
    {
     "name": "stdout",
     "output_type": "stream",
     "text": [
      "Количество пользователей из EU согласно ТЗ должно было быть: 5654\n"
     ]
    },
    {
     "data": {
      "text/plain": [
       "EU           5568\n",
       "N.America     223\n",
       "APAC           72\n",
       "CIS            55\n",
       "Name: region, dtype: int64"
      ]
     },
     "execution_count": 34,
     "metadata": {},
     "output_type": "execute_result"
    }
   ],
   "source": [
    "# посмотрим сколько пользователей должно было быть из региона EU\n",
    "last_date = pd.to_datetime('21.12.2020', infer_datetime_format=True) # крайняя дата набора пользователей\n",
    "\n",
    "print('Количество пользователей из EU согласно ТЗ должно было быть: {:.0f}'.format(\n",
    "       new_users.query('first_date < @last_date and region == \"EU\"')['user_id'].nunique() * 0.15))\n",
    "\n",
    "# распредление участников теста по регионам\n",
    "new_users[new_users['user_id'].isin(rst_users['user_id'])]['region'].value_counts()"
   ]
  },
  {
   "cell_type": "markdown",
   "metadata": {},
   "source": [
    "15% пользователей из Европы это 5654 человек. В реальности у нас есть 5568 пользователей из этого региона и несколько сотен пользователей из других регионов. В целом, разница в количестве пользователей с ТЗ небольшая, поэтому этот пункт можно считать выполненным. "
   ]
  },
  {
   "cell_type": "markdown",
   "metadata": {},
   "source": [
    "Последний пункт ТЗ для проверки – планируемый лайфтайм пользователей 14 дней. Расчитаем лайфтаймы для активных пользователей. Активными будем считать тех, кто совершил хотя бы одно событие."
   ]
  },
  {
   "cell_type": "code",
   "execution_count": 35,
   "metadata": {},
   "outputs": [],
   "source": [
    "# выделим события пользователей нашего теста\n",
    "rst_events = events[events['user_id'].isin(rst_users['user_id'])].copy().reset_index(drop=True)\n",
    "\n",
    "# приведем даты к формату ГГГГ-ММ-ДД\n",
    "rst_events['event_dt'] = rst_events['event_dt'].apply(lambda x: x.strftime('%Y-%m-%d'))"
   ]
  },
  {
   "cell_type": "code",
   "execution_count": 36,
   "metadata": {},
   "outputs": [],
   "source": [
    "# добавим столбец с датой последнего события\n",
    "rst_users = (\n",
    "    rst_users.merge(rst_events.groupby('user_id').agg({'event_dt': 'last'}), on='user_id', how='left')\n",
    "    .rename(columns={'event_dt': 'last_date'})\n",
    ")\n",
    "\n",
    "# добавим столбец с лайфтаймом пользователя\n",
    "rst_users['lifetime'] = (pd.to_datetime(rst_users['last_date']) - rst_users['first_date']).dt.days\n"
   ]
  },
  {
   "cell_type": "code",
   "execution_count": 37,
   "metadata": {},
   "outputs": [
    {
     "name": "stdout",
     "output_type": "stream",
     "text": [
      "Средний лайфтайм активного пользователя: 7 дней\n"
     ]
    }
   ],
   "source": [
    "# выводим средний лайфтайм активного пользователя\n",
    "print('Средний лайфтайм активного пользователя: {:.0f} дней'.format(rst_users.query('lifetime > 0')['lifetime'].mean()))"
   ]
  },
  {
   "cell_type": "markdown",
   "metadata": {},
   "source": [
    "Средний лайфтайм оказался 7 дней, что в 2 раза меньше чем планировалось в ТЗ. Этот пункт не соответствует ТЗ."
   ]
  },
  {
   "cell_type": "markdown",
   "metadata": {},
   "source": [
    "### Резюме: соответствие ТЗ\n",
    "\n",
    "**Соответствует ТЗ:**\n",
    "* Дата запуска 07.12.2020,\n",
    "* Крайняя дата набора пользователей 21.12.2020,\n",
    "* Количество участников теста – 5918 человек (по ТЗ планировалось 6000),\n",
    "* Аудитория теста – 5568 пользователей из Европы (по ТЗ планировалось 5654),\n",
    "\n",
    "**Не соответствует ТЗ:**\n",
    "* Дата последнего события в тесте – 30.12.2020 (по ТЗ планировалось 04.01.2021),\n",
    "* Лайфтайм пользователей – 7 дней (по ТЗ предполагалось, что лайфтайм будет 14 дней)\n",
    "\n",
    "То есть данные соответствуют большинству пунктов ТЗ. Однако, есть еще один момент. Мы планировали, что пользователи для теста будут набираться только из региона EU, но в данные попали некоторые пользователи из других регионов. Если мы их уберем, то придется переместить пункт о количестве участников теста в несоответствующие ТЗ пункты. "
   ]
  },
  {
   "cell_type": "markdown",
   "metadata": {},
   "source": [
    "## Проверка времени проведения теста\n",
    "\n",
    "На результаты теста могут сильно повлиять маркетинговые кампании. Посмотрим, были ли маркетинговые кампании во время тестирования и оценим их эффект:"
   ]
  },
  {
   "cell_type": "code",
   "execution_count": 38,
   "metadata": {},
   "outputs": [
    {
     "data": {
      "text/html": [
       "<div>\n",
       "<style scoped>\n",
       "    .dataframe tbody tr th:only-of-type {\n",
       "        vertical-align: middle;\n",
       "    }\n",
       "\n",
       "    .dataframe tbody tr th {\n",
       "        vertical-align: top;\n",
       "    }\n",
       "\n",
       "    .dataframe thead th {\n",
       "        text-align: right;\n",
       "    }\n",
       "</style>\n",
       "<table border=\"1\" class=\"dataframe\">\n",
       "  <thead>\n",
       "    <tr style=\"text-align: right;\">\n",
       "      <th></th>\n",
       "      <th>name</th>\n",
       "      <th>start_dt</th>\n",
       "      <th>finish_dt</th>\n",
       "      <th>EU</th>\n",
       "      <th>N.America</th>\n",
       "      <th>CIS</th>\n",
       "      <th>APAC</th>\n",
       "    </tr>\n",
       "  </thead>\n",
       "  <tbody>\n",
       "    <tr>\n",
       "      <th>0</th>\n",
       "      <td>Christmas&amp;New Year Promo</td>\n",
       "      <td>2020-12-25</td>\n",
       "      <td>2021-01-03</td>\n",
       "      <td>True</td>\n",
       "      <td>True</td>\n",
       "      <td>False</td>\n",
       "      <td>False</td>\n",
       "    </tr>\n",
       "    <tr>\n",
       "      <th>10</th>\n",
       "      <td>CIS New Year Gift Lottery</td>\n",
       "      <td>2020-12-30</td>\n",
       "      <td>2021-01-07</td>\n",
       "      <td>False</td>\n",
       "      <td>False</td>\n",
       "      <td>True</td>\n",
       "      <td>False</td>\n",
       "    </tr>\n",
       "  </tbody>\n",
       "</table>\n",
       "</div>"
      ],
      "text/plain": [
       "                         name   start_dt  finish_dt     EU  N.America    CIS  \\\n",
       "0    Christmas&New Year Promo 2020-12-25 2021-01-03   True       True  False   \n",
       "10  CIS New Year Gift Lottery 2020-12-30 2021-01-07  False      False   True   \n",
       "\n",
       "     APAC  \n",
       "0   False  \n",
       "10  False  "
      ]
     },
     "execution_count": 38,
     "metadata": {},
     "output_type": "execute_result"
    }
   ],
   "source": [
    "# определим даты начала и окончания теста \n",
    "start_rst_dt = pd.to_datetime('2020-12-07')\n",
    "finish_rst_dt = pd.to_datetime('2021-01-04')\n",
    "\n",
    "# маркетинговые кампании, которые были во время теста\n",
    "marketing[marketing['finish_dt'] > start_rst_dt]"
   ]
  },
  {
   "cell_type": "markdown",
   "metadata": {},
   "source": [
    "Время проведения эксперимента совпало с двумя маркетинговыми активностями. Одна из этих активностей также распространялась на аудиторию нашего теста, то есть на пользователей из региона EU. Но есть 2 причины, по которым мы не будем считать это проблемой. Во-первых, данная маркетинговая активность происходила после того как мы набрали пользователей. А во-вторых, если влияние и было, то на обе группы равносильно.\n",
    "\n",
    "Еше один фактор, который мог менять поведение пользователей: тест проводился в предверии новогодних праздников. Покупательская активность при приближении нового года может отличаться от активности в другое время года. Но опять таки влияние это было одинаковым для обеих групп. "
   ]
  },
  {
   "cell_type": "markdown",
   "metadata": {},
   "source": [
    "## Распределение аудитории теста"
   ]
  },
  {
   "cell_type": "markdown",
   "metadata": {},
   "source": [
    "На предыдущих этапах мы видели, что у нас есть пользователи не только из целевого региона (EU). Уберем пользователей из всех регионов кроме целевого:"
   ]
  },
  {
   "cell_type": "code",
   "execution_count": 39,
   "metadata": {},
   "outputs": [
    {
     "name": "stdout",
     "output_type": "stream",
     "text": [
      "Количество участников до среза: 5918\n",
      "Количество участников до среза: 5568\n"
     ]
    }
   ],
   "source": [
    "# количество пользователей до среза\n",
    "print('Количество участников до среза:', len(rst_users))\n",
    "\n",
    "# срезаем пользователей из нецелевых регионов\n",
    "rst_users = rst_users.query('region == \"EU\"')\n",
    "\n",
    "# количество пользователей после среза\n",
    "print('Количество участников до среза:', len(rst_users))"
   ]
  },
  {
   "cell_type": "markdown",
   "metadata": {},
   "source": [
    "Мы срезали 350 пользователей, но зато у нас теперь только релевантные пользователи."
   ]
  },
  {
   "cell_type": "markdown",
   "metadata": {},
   "source": [
    "## Выводы по оценке корректности теста\n",
    "\n",
    "Мы проверили данные на соответствие пунктам ТЗ и сделали следующие выводы:\n",
    "* Соответствует ТЗ:\n",
    "    * Дата запуска 07.12.2020,\n",
    "    * Крайняя дата набора пользователей 21.12.2020,\n",
    "    * Количество участников теста – 5918 человек (по ТЗ планировалось 6000),\n",
    "    * Аудитория теста – 5568 пользователей из Европы (по ТЗ планировалось 5654),\n",
    "* Не соответствует ТЗ:\n",
    "    * Дата последнего события в тесте – 30.12.2020 (по ТЗ планировалось 04.01.2021),\n",
    "    * Лайфтайм пользователей – 7 дней (по ТЗ предполагалось, что лайфтайм будет 14 дней)\n",
    "\n",
    "Во время проведения теста проходили 2 маркетинговые активности и одна из них проходила в нашем целевом регионе (EU). Так как она проводилась после того как мы перестали набирать участников теста, и влияла на обе группы одинаково, то мы решили оставить все как есть.\n",
    "\n",
    "Дальше мы изучили аудиторию теста и удалили пользователей не из региона EU. В итоге у нас осталось 5568 пользователей. "
   ]
  },
  {
   "cell_type": "markdown",
   "metadata": {},
   "source": [
    "# Исследовательский анализ данных\n",
    "\n",
    "Познакомимся с данными поближе. План исследовательского анализа данных:\n",
    "1. Исследование пользователей в разрезе групп:\n",
    "    * Распределение по группам,\n",
    "    * Распределение по дате привлечения\n",
    "    * Распределение по регионам,\n",
    "    * Распределение по девайсам,\n",
    "    * Соотношение покупателей и непокупателей,\n",
    "    * Распределение выручки от покупателей.\n",
    "2. Исследование событий в разрезе групп:\n",
    "    * Распределение количества событий на пользователя,\n",
    "    * Распределение количества событий до первой покупки на пользователя,\n",
    "    * Воронка событий,\n",
    "    * Распределение событий по дням,\n",
    "\n",
    "Некоторые моменты мы уже видели в виде таблиц, но теперь визуализируем их через графики."
   ]
  },
  {
   "cell_type": "markdown",
   "metadata": {},
   "source": [
    "## Исследование пользователей в разрезе групп"
   ]
  },
  {
   "cell_type": "markdown",
   "metadata": {},
   "source": [
    "### Распределение по группам"
   ]
  },
  {
   "cell_type": "code",
   "execution_count": 40,
   "metadata": {},
   "outputs": [
    {
     "data": {
      "image/jpeg": "[encoded data removed]"
     },
     "metadata": {},
     "output_type": "display_data"
    }
   ],
   "source": [
    "# создаем фигуру\n",
    "fig = px.histogram(\n",
    "    data_frame=rst_users,\n",
    "    x='group',\n",
    "    color='group',\n",
    "    color_discrete_sequence=colors,\n",
    "    width=800,\n",
    "    text_auto=True\n",
    ")\n",
    "\n",
    "# наводим красоту и добавляем заголовок\n",
    "style_plot(\n",
    "    fig,\n",
    "    title='Распределение пользователей по группам'\n",
    ")\n",
    "\n",
    "# убираем легенду и делаем отступы между столбцами\n",
    "fig.update_layout(\n",
    "    bargap=0.6,\n",
    "    showlegend=False,\n",
    "    \n",
    ")\n",
    "\n",
    "fig.show()"
   ]
  },
  {
   "cell_type": "markdown",
   "metadata": {},
   "source": [
    "В группе А (контрольной) около 3200 пользователей, а в группе Б (эксперементальной) их около 2400. То есть разница примерно в 800 пользователей."
   ]
  },
  {
   "cell_type": "markdown",
   "metadata": {},
   "source": [
    "### Распределение пользователей по дате привлечения\n",
    "\n",
    "Посмотрим в какие дни были привлечены пользователи:"
   ]
  },
  {
   "cell_type": "code",
   "execution_count": 41,
   "metadata": {},
   "outputs": [
    {
     "data": {
      "image/jpeg": "[encoded data removed]"
     },
     "metadata": {},
     "output_type": "display_data"
    }
   ],
   "source": [
    "# готовим данные для визуализации кумулятивного набора пользователей\n",
    "to_plot = rst_users.pivot_table(\n",
    "    index='first_date',\n",
    "    columns='group',\n",
    "    values='user_id',\n",
    "    aggfunc='count'\n",
    ").cumsum(axis=0).reset_index()\n",
    "\n",
    "# создаем фигуру \n",
    "fig = make_subplots(\n",
    "    cols=2,\n",
    "    rows=2,\n",
    "    shared_yaxes=True,\n",
    "    subplot_titles=['Группа A', 'Группа B', 'Кумулятивный набор пользователей'],\n",
    "    specs=[\n",
    "        [{}, {}],\n",
    "        [{\"colspan\": 2}, None]],\n",
    ")\n",
    "\n",
    "for i, group in enumerate(['A', 'B']):\n",
    "    # добавляем гистограмму набора пользователей по датам\n",
    "    fig.add_trace(\n",
    "        go.Histogram(\n",
    "            x=rst_users.query('group == @group')['first_date'],\n",
    "            marker={'color': colors[i]},\n",
    "            name='Group ' + group\n",
    "        ),\n",
    "        row=1, col=i+1\n",
    "    )\n",
    "\n",
    "    # добавляем кумулятивный график набора пользователей\n",
    "    fig.add_trace(\n",
    "        go.Scatter(\n",
    "            x=to_plot['first_date'],\n",
    "            y=to_plot[group],\n",
    "            marker={'color': colors[i]},\n",
    "            name='Group ' + group\n",
    "        ), row=2, col=1,\n",
    "    )\n",
    "\n",
    "# настроим высоту фигуры\n",
    "fig.update_layout(height=600)\n",
    "\n",
    "# настроим формат подписей к оси Х\n",
    "fig.update_xaxes(tickformat = '%d<br>%b')\n",
    "\n",
    "# стилизуем график\n",
    "style_subplots(fig, title= 'Распределение набора пользователей',)\n",
    "\n",
    "fig.show()"
   ]
  },
  {
   "cell_type": "markdown",
   "metadata": {},
   "source": [
    "Графики набора пользователей очень похожи, за исключением того, что в группу А попадало несколько больше пользователей. Кумулятивная линия также без рывков и плавно идет наверх."
   ]
  },
  {
   "cell_type": "markdown",
   "metadata": {},
   "source": [
    "### Распределение пользователей по девайсам"
   ]
  },
  {
   "cell_type": "code",
   "execution_count": 42,
   "metadata": {},
   "outputs": [
    {
     "data": {
      "image/jpeg": "[encoded data removed]"
     },
     "metadata": {},
     "output_type": "display_data"
    }
   ],
   "source": [
    "# создаем фигуру\n",
    "fig = make_subplots(\n",
    "    rows=1,\n",
    "    cols=2,\n",
    "    shared_yaxes=True,\n",
    "    subplot_titles=['Группа А', 'Группа B']\n",
    ")\n",
    "\n",
    "# добавляем гистограммы по группам \n",
    "for i, group in enumerate(['A', 'B']):\n",
    "    fig.add_trace(\n",
    "        go.Histogram(\n",
    "            x=rst_users.query('group == @group')['device'],\n",
    "            text=rst_users.query('group == @group').groupby('device')['user_id'].count().sort_values(ascending=False),\n",
    "            name='group ' + group,\n",
    "            marker_color=colors[i],\n",
    "        ), row=1, col=i+1\n",
    "    )\n",
    "\n",
    "# наводим красоту\n",
    "style_subplots(fig, title='Распределение пользователей по девайсам')\n",
    "\n",
    "# сортируем столбцы по возрастанию\n",
    "fig.update_xaxes(\n",
    "    categoryorder='total descending'\n",
    ")\n",
    "\n",
    "fig.show()"
   ]
  },
  {
   "cell_type": "markdown",
   "metadata": {},
   "source": [
    "Как мы уже говорили, группы распределены по девайсам равномерно. Большинство пользователей используют Android, меньшинство – Mac."
   ]
  },
  {
   "cell_type": "markdown",
   "metadata": {},
   "source": [
    "### Доли покупателей по группам"
   ]
  },
  {
   "cell_type": "code",
   "execution_count": 43,
   "metadata": {},
   "outputs": [
    {
     "data": {
      "image/jpeg": "[encoded data removed]"
     },
     "metadata": {},
     "output_type": "display_data"
    }
   ],
   "source": [
    "# создаем фигуру\n",
    "fig = px.histogram(\n",
    "    data_frame=rst_users,\n",
    "    x='group',\n",
    "    color='is_buyer',\n",
    "    width=800,\n",
    "    color_discrete_sequence=colors,\n",
    "    barnorm='percent'\n",
    ")\n",
    "\n",
    "# наводим красоту\n",
    "style_plot(fig, title='Доли покупателей')\n",
    "\n",
    "\n",
    "\n",
    "# задаем отступы между столбцами \n",
    "fig.update_layout(\n",
    "    bargap=0.6,\n",
    "    legend_title='Покупатель',\n",
    "    xaxis_categoryorder='array'\n",
    ")\n",
    "\n",
    "# выводим фигуру\n",
    "fig.show()"
   ]
  },
  {
   "cell_type": "markdown",
   "metadata": {},
   "source": [
    "В группе А 23% пользователей являются клиентами, а вот в группе В такими являются лишь 9%. Различия выглядят впечатляюще."
   ]
  },
  {
   "cell_type": "markdown",
   "metadata": {},
   "source": [
    "### Распределение выручки от клиентов"
   ]
  },
  {
   "cell_type": "code",
   "execution_count": 44,
   "metadata": {},
   "outputs": [
    {
     "data": {
      "image/jpeg": "[encoded data removed]"
     },
     "metadata": {},
     "output_type": "display_data"
    }
   ],
   "source": [
    "# создаем фигуру\n",
    "fig = px.histogram(\n",
    "    data_frame=rst_users.query('is_buyer == True'),\n",
    "    x='total',\n",
    "    color='group',\n",
    "    color_discrete_sequence=colors,\n",
    "    width=800,\n",
    "    marginal='box' # добавляем ящик с усами над гистограммой\n",
    ")\n",
    "\n",
    "# наводим красоту\n",
    "style_plot(\n",
    "    fig,\n",
    "    title='Распределение по тратам',\n",
    "    xlabel='Сумма покупки'\n",
    "    )\n",
    "\n",
    "# добавим заголовок к легенде и отступы между столбцами \n",
    "fig.update_layout(\n",
    "    bargap=0.1,\n",
    "    legend_title='Группа',\n",
    ")\n",
    "\n",
    "fig.show()"
   ]
  },
  {
   "cell_type": "markdown",
   "metadata": {},
   "source": [
    "Диапазон сумм покупки в группе А шире и в среднем больше: медианная сумма покупки в группе А около 20, а в группе В около 15. В данных присутствуют выбросы, например в группе А есть клиент, который закупился более чем на 1000. Вообще бОльшая часть распределения лежит до 40, также есть группа пользователей с показателями от 80 до 140"
   ]
  },
  {
   "cell_type": "markdown",
   "metadata": {},
   "source": [
    "## Исследование событий"
   ]
  },
  {
   "cell_type": "markdown",
   "metadata": {},
   "source": [
    "Перед тем как изучать события подготовим данные. Выделим только события пользователей, которые участвуют в тесте:"
   ]
  },
  {
   "cell_type": "code",
   "execution_count": 45,
   "metadata": {},
   "outputs": [
    {
     "data": {
      "text/html": [
       "<div>\n",
       "<style scoped>\n",
       "    .dataframe tbody tr th:only-of-type {\n",
       "        vertical-align: middle;\n",
       "    }\n",
       "\n",
       "    .dataframe tbody tr th {\n",
       "        vertical-align: top;\n",
       "    }\n",
       "\n",
       "    .dataframe thead th {\n",
       "        text-align: right;\n",
       "    }\n",
       "</style>\n",
       "<table border=\"1\" class=\"dataframe\">\n",
       "  <thead>\n",
       "    <tr style=\"text-align: right;\">\n",
       "      <th></th>\n",
       "      <th>user_id</th>\n",
       "      <th>event_dt</th>\n",
       "      <th>event_name</th>\n",
       "      <th>group</th>\n",
       "    </tr>\n",
       "  </thead>\n",
       "  <tbody>\n",
       "    <tr>\n",
       "      <th>0</th>\n",
       "      <td>894A2506B3A50D03</td>\n",
       "      <td>2020-12-07</td>\n",
       "      <td>product_page</td>\n",
       "      <td>B</td>\n",
       "    </tr>\n",
       "    <tr>\n",
       "      <th>1</th>\n",
       "      <td>5E0FE312B9349ADB</td>\n",
       "      <td>2020-12-07</td>\n",
       "      <td>login</td>\n",
       "      <td>B</td>\n",
       "    </tr>\n",
       "    <tr>\n",
       "      <th>2</th>\n",
       "      <td>5E0FE312B9349ADB</td>\n",
       "      <td>2020-12-07</td>\n",
       "      <td>purchase</td>\n",
       "      <td>B</td>\n",
       "    </tr>\n",
       "    <tr>\n",
       "      <th>3</th>\n",
       "      <td>F057A0C8EFECDBEE</td>\n",
       "      <td>2020-12-07</td>\n",
       "      <td>login</td>\n",
       "      <td>B</td>\n",
       "    </tr>\n",
       "    <tr>\n",
       "      <th>4</th>\n",
       "      <td>F057A0C8EFECDBEE</td>\n",
       "      <td>2020-12-07</td>\n",
       "      <td>product_cart</td>\n",
       "      <td>B</td>\n",
       "    </tr>\n",
       "  </tbody>\n",
       "</table>\n",
       "</div>"
      ],
      "text/plain": [
       "            user_id   event_dt    event_name group\n",
       "0  894A2506B3A50D03 2020-12-07  product_page     B\n",
       "1  5E0FE312B9349ADB 2020-12-07         login     B\n",
       "2  5E0FE312B9349ADB 2020-12-07      purchase     B\n",
       "3  F057A0C8EFECDBEE 2020-12-07         login     B\n",
       "4  F057A0C8EFECDBEE 2020-12-07  product_cart     B"
      ]
     },
     "execution_count": 45,
     "metadata": {},
     "output_type": "execute_result"
    }
   ],
   "source": [
    "# создаем таблицу с событями пользователей, которые участвовали в тесте \n",
    "rst_events = events[events['user_id'].isin(rst_users['user_id'])].copy()\n",
    "\n",
    "# приводим даты к нужному формату и типу\n",
    "rst_events['event_dt'] = pd.to_datetime(rst_events['event_dt'].apply(lambda x: x.strftime('%Y-%m-%d')))\n",
    "\n",
    "# сортируем события по дате обнуляем индексы\n",
    "rst_events = rst_events.sort_values(by='event_dt').reset_index(drop=True)\n",
    "\n",
    "# добавим для пользователей их группы в АБ тестировании\n",
    "rst_events = rst_events.merge(rst_users[['user_id', 'group']], on='user_id', how='left')\n",
    "\n",
    "# выводим первые 5 строчек \n",
    "rst_events.head()"
   ]
  },
  {
   "cell_type": "markdown",
   "metadata": {},
   "source": [
    "Теперь данные готовы к анализу.\n",
    "\n",
    "### Распределение событий на пользователя\n",
    "\n",
    "Посмотрим сколько событий совершает пользователь. Будем смотреть на относительные показатели для каждой группы:"
   ]
  },
  {
   "cell_type": "code",
   "execution_count": 46,
   "metadata": {},
   "outputs": [
    {
     "data": {
      "image/jpeg": "[encoded data removed]"
     },
     "metadata": {},
     "output_type": "display_data"
    }
   ],
   "source": [
    "# готовим данные к визуализации\n",
    "to_plot = rst_events.groupby(['user_id', 'group']).agg({'event_name': 'count'}).reset_index()\n",
    "\n",
    "# создаем фигуру\n",
    "fig = make_subplots(\n",
    "    rows=1,\n",
    "    cols=2,\n",
    "    shared_yaxes=True,\n",
    "    subplot_titles=['Группа А', 'Группа B']\n",
    ")\n",
    "\n",
    "# добавляем гистограммы по группам \n",
    "for i, group in enumerate(['A', 'B']):\n",
    "    fig.add_trace(\n",
    "        go.Histogram(\n",
    "            x=to_plot.query('group == @group')['event_name'],\n",
    "            name='group ' + group,\n",
    "            marker_color=colors[i],\n",
    "            histnorm='percent'\n",
    "        ), row=1, col=i+1\n",
    "    )\n",
    "\n",
    "# наводим красоту\n",
    "style_subplots(\n",
    "    fig, \n",
    "    title='Распределение количества событий на пользователя'\n",
    ")\n",
    "\n",
    "# задаем диапазон значений для оси Х\n",
    "fig.update_xaxes(\n",
    "    range=[0,25]\n",
    ")\n",
    "\n",
    "# задаем заголовок для оси Y\n",
    "fig.update_layout(\n",
    "    yaxis_title_text='Доля пользователей, %'\n",
    ")\n",
    "\n",
    "\n",
    "fig.show()"
   ]
  },
  {
   "cell_type": "markdown",
   "metadata": {},
   "source": [
    "Для бОльшей доли пользователей обеих групп характерно совершать 4 или 6 событий. В группе А – 4 события совершают 16% пользователей, а 6 событий 22% пользователей. В группе Б – 4 и 6 событий совершают по 20% пользователей.\n",
    "\n",
    "Еще заметна интересная деталь – очень мало пользователей совершают 5, 7 и 11 событий. "
   ]
  },
  {
   "cell_type": "markdown",
   "metadata": {},
   "source": [
    "### Распределение количества событий до первой покупки"
   ]
  },
  {
   "cell_type": "markdown",
   "metadata": {},
   "source": [
    "Подготовим данные для визуализации:"
   ]
  },
  {
   "cell_type": "code",
   "execution_count": 47,
   "metadata": {},
   "outputs": [],
   "source": [
    "# находим дату первой покупки для каждого пользователя\n",
    "to_plot = rst_events.query('event_name == \"purchase\"').groupby('user_id').agg({'event_dt': 'first'}).reset_index()\n",
    "\n",
    "# функция для подсчета событий до первой покупки\n",
    "def count_events(row):\n",
    "    result = (\n",
    "        len(rst_events[\n",
    "            (rst_events['event_name'] != 'purchase') &\n",
    "            (rst_events['user_id'] == row['user_id']) &\n",
    "            (rst_events['event_dt'] <= row['event_dt'])\n",
    "        ])\n",
    "        )\n",
    "    return result\n",
    "\n",
    "# добавим количество событий до первой покупки\n",
    "to_plot['n_events'] = to_plot.apply(lambda x: count_events(x), axis=1)\n",
    "\n",
    "# добавим группу для каждого покупателя\n",
    "to_plot = to_plot.merge(rst_users[['user_id', 'group']], on='user_id', how='left')"
   ]
  },
  {
   "cell_type": "markdown",
   "metadata": {},
   "source": [
    "У нас готова таблица с количеством событий до первой покупки пользователя. Смотрим распределения:"
   ]
  },
  {
   "cell_type": "code",
   "execution_count": 48,
   "metadata": {},
   "outputs": [
    {
     "data": {
      "image/jpeg": "[encoded data removed]"
     },
     "metadata": {},
     "output_type": "display_data"
    }
   ],
   "source": [
    "# создаем фигуру\n",
    "fig = make_subplots(\n",
    "    rows=1,\n",
    "    cols=2,\n",
    "    shared_yaxes=True,\n",
    "    subplot_titles=['Группа А', 'Группа B']\n",
    ")\n",
    "\n",
    "# добавляем гистограммы по группам \n",
    "for i, group in enumerate(['A', 'B']):\n",
    "    fig.add_trace(\n",
    "        go.Histogram(\n",
    "            x=to_plot.query('group == @group')['n_events'],\n",
    "            name='group ' + group,\n",
    "            marker_color=colors[i],\n",
    "            histnorm='percent'\n",
    "        ), row=1, col=i+1\n",
    "    )\n",
    "\n",
    "# наводим красоту\n",
    "style_subplots(\n",
    "    fig, \n",
    "    title='Распределение количества событий на пользователя'\n",
    ")\n",
    "\n",
    "# задаем диапазон значений для оси Х\n",
    "fig.update_xaxes(\n",
    "    range=[0,6]\n",
    ")\n",
    "\n",
    "# задаем заголовок для оси Y\n",
    "fig.update_layout(\n",
    "    yaxis_title_text='Доля пользователей, %',\n",
    ")\n",
    "\n",
    "fig.show()"
   ]
  },
  {
   "cell_type": "markdown",
   "metadata": {},
   "source": [
    "Распределения оказались похожими: около 60% пользователей совершают 2 события перед покупкой. Также примерно по 20% пользователей совершают 1 или 3 действия. "
   ]
  },
  {
   "cell_type": "markdown",
   "metadata": {},
   "source": [
    "### Строим воронку"
   ]
  },
  {
   "cell_type": "markdown",
   "metadata": {},
   "source": [
    "Перед тем как строить воронку, нам нужно подготовить данные. Для этого создадим таблицу с названиями событий и групп и количеством пользователей совершивших действие хотя бы 1 раз. "
   ]
  },
  {
   "cell_type": "code",
   "execution_count": 49,
   "metadata": {},
   "outputs": [],
   "source": [
    "# готовим данные\n",
    "to_plot = (\n",
    "    rst_events.pivot_table(\n",
    "        index=['group', 'event_name'],\n",
    "        values='user_id',\n",
    "        aggfunc='nunique'\n",
    "    )\n",
    "    .reset_index()\n",
    "    .rename(columns={\n",
    "        'user_id': 'n_users'\n",
    "    })\n",
    ")\n",
    "\n",
    "# добавим общее количество пользователей по группам\n",
    "to_plot = pd.concat(\n",
    "    [to_plot,\n",
    "    pd.DataFrame({\n",
    "        'group': ['A', 'B'],\n",
    "        'event_name': ['all_users'] * 2,\n",
    "        'n_users': [len(rst_users.query('group == @group')) for group in ['A', 'B']]\n",
    "    })]\n",
    ")\n",
    "\n",
    "# сортируем данные по группам и количеству\n",
    "to_plot = to_plot.sort_values(by=['group', 'n_users'], ascending=False).reset_index(drop=True)"
   ]
  },
  {
   "cell_type": "markdown",
   "metadata": {},
   "source": [
    "Данные готовы, посмотрим на них попробуем сформировать воронку:"
   ]
  },
  {
   "cell_type": "code",
   "execution_count": 50,
   "metadata": {},
   "outputs": [
    {
     "data": {
      "text/html": [
       "<div>\n",
       "<style scoped>\n",
       "    .dataframe tbody tr th:only-of-type {\n",
       "        vertical-align: middle;\n",
       "    }\n",
       "\n",
       "    .dataframe tbody tr th {\n",
       "        vertical-align: top;\n",
       "    }\n",
       "\n",
       "    .dataframe thead th {\n",
       "        text-align: right;\n",
       "    }\n",
       "</style>\n",
       "<table border=\"1\" class=\"dataframe\">\n",
       "  <thead>\n",
       "    <tr style=\"text-align: right;\">\n",
       "      <th></th>\n",
       "      <th>group</th>\n",
       "      <th>event_name</th>\n",
       "      <th>n_users</th>\n",
       "    </tr>\n",
       "  </thead>\n",
       "  <tbody>\n",
       "    <tr>\n",
       "      <th>0</th>\n",
       "      <td>B</td>\n",
       "      <td>all_users</td>\n",
       "      <td>2373</td>\n",
       "    </tr>\n",
       "    <tr>\n",
       "      <th>1</th>\n",
       "      <td>B</td>\n",
       "      <td>login</td>\n",
       "      <td>771</td>\n",
       "    </tr>\n",
       "    <tr>\n",
       "      <th>2</th>\n",
       "      <td>B</td>\n",
       "      <td>product_page</td>\n",
       "      <td>429</td>\n",
       "    </tr>\n",
       "    <tr>\n",
       "      <th>3</th>\n",
       "      <td>B</td>\n",
       "      <td>purchase</td>\n",
       "      <td>219</td>\n",
       "    </tr>\n",
       "    <tr>\n",
       "      <th>4</th>\n",
       "      <td>B</td>\n",
       "      <td>product_cart</td>\n",
       "      <td>214</td>\n",
       "    </tr>\n",
       "    <tr>\n",
       "      <th>5</th>\n",
       "      <td>A</td>\n",
       "      <td>all_users</td>\n",
       "      <td>3195</td>\n",
       "    </tr>\n",
       "    <tr>\n",
       "      <th>6</th>\n",
       "      <td>A</td>\n",
       "      <td>login</td>\n",
       "      <td>2279</td>\n",
       "    </tr>\n",
       "    <tr>\n",
       "      <th>7</th>\n",
       "      <td>A</td>\n",
       "      <td>product_page</td>\n",
       "      <td>1476</td>\n",
       "    </tr>\n",
       "    <tr>\n",
       "      <th>8</th>\n",
       "      <td>A</td>\n",
       "      <td>purchase</td>\n",
       "      <td>734</td>\n",
       "    </tr>\n",
       "    <tr>\n",
       "      <th>9</th>\n",
       "      <td>A</td>\n",
       "      <td>product_cart</td>\n",
       "      <td>686</td>\n",
       "    </tr>\n",
       "  </tbody>\n",
       "</table>\n",
       "</div>"
      ],
      "text/plain": [
       "  group    event_name  n_users\n",
       "0     B     all_users     2373\n",
       "1     B         login      771\n",
       "2     B  product_page      429\n",
       "3     B      purchase      219\n",
       "4     B  product_cart      214\n",
       "5     A     all_users     3195\n",
       "6     A         login     2279\n",
       "7     A  product_page     1476\n",
       "8     A      purchase      734\n",
       "9     A  product_cart      686"
      ]
     },
     "execution_count": 50,
     "metadata": {},
     "output_type": "execute_result"
    }
   ],
   "source": [
    "# выводим данные\n",
    "to_plot"
   ]
  },
  {
   "cell_type": "markdown",
   "metadata": {},
   "source": [
    "Похоже, что воронка выглядит следующим образом: логин, продуктовая страница и покупка. Видимо товар можно купить прямо из карточки товара, так как событий `product_cart`, то есть просмотров корзины меньше чем покупок. Срежем данные о просмотрах корзины и построим воронку:"
   ]
  },
  {
   "cell_type": "code",
   "execution_count": 51,
   "metadata": {},
   "outputs": [],
   "source": [
    "# срежем события просмотра корзины\n",
    "to_plot = to_plot.query('event_name != \"product_cart\"')"
   ]
  },
  {
   "cell_type": "code",
   "execution_count": 52,
   "metadata": {},
   "outputs": [
    {
     "data": {
      "image/jpeg": "[encoded data removed]"
     },
     "metadata": {},
     "output_type": "display_data"
    }
   ],
   "source": [
    "# создаем фигуру\n",
    "fig = make_subplots(\n",
    "    rows=1,\n",
    "    cols=2,\n",
    "    shared_yaxes=True,\n",
    "    subplot_titles=['Группа А', 'Группа B']\n",
    ")\n",
    "\n",
    "# добавляем графики по группам\n",
    "for i, group in enumerate(['A', 'B']):\n",
    "    fig.add_trace(\n",
    "        go.Funnel(\n",
    "            y=to_plot.query('group == @group')['event_name'],\n",
    "            x=to_plot.query('group == @group')['n_users'],\n",
    "            name='group' + group, \n",
    "            marker_color=colors[i],\n",
    "            textinfo = \"percent initial\"\n",
    "        ),\n",
    "        row=1,\n",
    "        col=1+i\n",
    "    )\n",
    "\n",
    "# наводим красоту\n",
    "style_subplots(\n",
    "    fig,\n",
    "    title='Воронка событий'\n",
    ")\n",
    "\n",
    "fig.show()"
   ]
  },
  {
   "cell_type": "markdown",
   "metadata": {},
   "source": [
    "Самое узкое место в воронке для группы B – этап `login`. Лишь 32% процента перешли на этот этап в группе B. Для сравнения в группе А доля таких пользователей 71%. Но группа B немного сильнее в конверсии из `product_page` в `purchase`: у нее конверсия 51%, а в группе А 49%. Ну а различие общей конверсии в покупателя очень велико: в группе А – 23%, а в группе B – 9%."
   ]
  },
  {
   "cell_type": "markdown",
   "metadata": {},
   "source": [
    "### Распределение событий по дням"
   ]
  },
  {
   "cell_type": "markdown",
   "metadata": {},
   "source": [
    "Чтобы корректно изучить распределение событий по дням мы визуализируем данные в 2-х разрезах:\n",
    "1. Доля событий конкретного дня относительно количества всех событий по группе. То есть без привязки к количеству пользователей,\n",
    "2. Количество событий на 1 пользователя в день по группам. То есть анализ с привязкой к количеству пользователей.\n",
    "\n",
    "В первом случае мы изучим именно события и их распределение по дням, а во втором случае мы изучим динамику активности пользователей."
   ]
  },
  {
   "cell_type": "code",
   "execution_count": 53,
   "metadata": {},
   "outputs": [
    {
     "data": {
      "image/jpeg": "[encoded data removed]"
     },
     "metadata": {},
     "output_type": "display_data"
    }
   ],
   "source": [
    "# создаем фигуру\n",
    "fig = make_subplots(\n",
    "    rows=2,\n",
    "    cols=1,\n",
    "    subplot_titles=['Группа А', 'Группа B'],\n",
    ")\n",
    "\n",
    "# добавляем графики по группам\n",
    "for i, group in enumerate(['A', 'B']):\n",
    "    fig.add_trace(\n",
    "        go.Histogram(\n",
    "            x=rst_events.query('group == @group')['event_dt'],\n",
    "            name='Group '+ group, \n",
    "            histnorm='percent',\n",
    "            marker_color=colors[i],\n",
    "            # cumulative_enabled=True\n",
    "        ),\n",
    "        row=1+i,\n",
    "        col=1\n",
    "    )\n",
    "\n",
    "# наводим красоту\n",
    "style_subplots(\n",
    "    fig,\n",
    "    title='Распределение событий по дням'\n",
    ")\n",
    "\n",
    "# диапазон значений и заголовок для оси Y\n",
    "fig.update_yaxes(\n",
    "    # range=[0,12],\n",
    "    title_text='Доля событий, %'\n",
    ")\n",
    "\n",
    "fig.update_layout(\n",
    "    height=700\n",
    ")\n",
    "\n",
    "\n",
    "# диапазон значений для оси X\n",
    "fig.update_xaxes(\n",
    "    range=[rst_events['event_dt'].min(), rst_events['event_dt'].max()]\n",
    ")\n",
    "\n",
    "# выводим график \n",
    "fig.show()"
   ]
  },
  {
   "cell_type": "markdown",
   "metadata": {},
   "source": [
    "Распределения немного отличаются. Прежде всего нужно помнить, что пользователей мы набирали до 21 декабря. В этой точке у обеих групп пик: больше пользователей, больше событий они совершают. \n",
    "\n",
    "В группе А рост количества событий совпадает с ростом количества пользователей. Но увеличение идет ступенчатое, с шагом примерно в неделю. То есть всю первую неделю, несмотря на кумулятивный рост количества пользователей количество событий оставалось неизменным. Затем с 14 декабря количество событий резко увеличилось. Это может быть связано с несколькими вариантами: либо ускорился набор пользователей, либо помимо свеженабранных начали активничать уже текущие пользователи. Если мы посмотрим на график распределения набора пользователей, то увидим, что в группе А 14 декабря был один из пиков по показателю привлечения новых пользователей. Затем следующий пик прироста новых пользователей был 21 декабря. В этот же день на графике виден пик и по количеству событий. Затем набор пользователей прекратился и количество событий стало медленно, но постепенно снижаться.\n",
    "\n",
    "В группе Б также видна зависимость прироста новых пользователей и количества событий. за исключением того, что и набор пользователей, и количество событий по графику более \"рваные\", чем в группе А. \n",
    "\n",
    "Терперь посмотрим на показатель количества событий на пользователя по дням.\n",
    "\n",
    "Подготовим данные:"
   ]
  },
  {
   "cell_type": "code",
   "execution_count": 54,
   "metadata": {},
   "outputs": [],
   "source": [
    "# создаем таблицу с количеством уникальных пользователей и количеством событий в день\n",
    "rst_events_agg = (\n",
    "    rst_events.pivot_table(\n",
    "        index= ['event_dt','group'],\n",
    "        aggfunc={\n",
    "            'user_id': 'nunique', # считаем уникальных пользователей \n",
    "            'event_name': 'count' # считаем количество событий в определеннную дату в определенной группе\n",
    "        }\n",
    "    )\n",
    "    .reset_index()\n",
    "    .rename(columns={\n",
    "        'event_name': 'events_per_dt',\n",
    "        'user_id': 'users_per_dt'\n",
    "    })\n",
    "    .sort_values(by=['group', 'event_dt'])\n",
    "    .reset_index(drop=True)\n",
    ")\n",
    "\n",
    "# добавляем графу количество событий на пользователя в день\n",
    "rst_events_agg['events_per_user'] = rst_events_agg['events_per_dt'] / rst_events_agg['users_per_dt']"
   ]
  },
  {
   "cell_type": "markdown",
   "metadata": {},
   "source": [
    "Данные готовы, теперь можно их визуализировать:"
   ]
  },
  {
   "cell_type": "code",
   "execution_count": 55,
   "metadata": {},
   "outputs": [
    {
     "data": {
      "image/jpeg": "[encoded data removed]"
     },
     "metadata": {},
     "output_type": "display_data"
    }
   ],
   "source": [
    "# создаем фигуру\n",
    "fig = go.Figure()\n",
    "\n",
    "# добавляем графики по группам\n",
    "for i, group in enumerate(['A', 'B']):\n",
    "    fig.add_trace(\n",
    "        go.Scatter(\n",
    "            x=rst_events_agg.query('group == @group')['event_dt'],\n",
    "            y=rst_events_agg.query('group == @group')['events_per_user'],\n",
    "            mode='lines+markers',\n",
    "            name='Группа '+ group, \n",
    "            line_shape='spline', # сглаженная линия\n",
    "            line_color=colors[i],\n",
    "        )\n",
    "    )\n",
    "\n",
    "    # добавим линию со средним значением количества событий на пользователя по группам\n",
    "    fig.add_hline(\n",
    "        y=rst_events_agg.query('group == @group')['events_per_user'].mean(),\n",
    "        line_dash=\"dash\",\n",
    "        line_color=opacity_colors(0.7)[i],\n",
    "        annotation_text='Среднее <br> для группы ' + group,\n",
    "        annotation_position='right',\n",
    "        annotation_font_color=opacity_colors(0.9)[i]\n",
    "    )\n",
    "\n",
    "# ситилизуем график\n",
    "style_plot(fig, title='Количество событий на пользователя в день')\n",
    "\n",
    "# устанавливаем ширину графика\n",
    "fig.update_layout(\n",
    "    width=800,\n",
    "    legend_orientation='h',\n",
    "    margin_r=100\n",
    ")\n",
    "\n",
    "# диапазон подписей и заголовок для оси Y\n",
    "fig.update_yaxes(\n",
    "    range=[1.6, 2.6],\n",
    "    title_text='Количсетво событий'\n",
    ")\n",
    "\n",
    "# настраимваем диапазон подписей к оси Х\n",
    "fig.update_xaxes(\n",
    "    range=[rst_events['event_dt'].min(), rst_events['event_dt'].max()]\n",
    ")\n",
    "\n",
    "# выводим график\n",
    "fig.show()"
   ]
  },
  {
   "cell_type": "markdown",
   "metadata": {},
   "source": [
    "В среднем пользователи группы В совершают немного меньше событий в день, чем пользователи из группы А.\n",
    "\n",
    "Пользователи в группе А, которые пришли на первой неделе были менее активные, чем последующие. Но после 14 декабря показатель событий на пользователя в день немного подрос и оставался относительно стабильным до конца исследования.\n",
    "\n",
    "В группе В самые активные пользователи были 7 и 14 декабря. Но в целом дисперсия по пользователям группы В выше, чем по пользователям группы А. До конца исследования показатель событий на пользователя так и не вышел на относительное плато, становясь то выше, то ниже."
   ]
  },
  {
   "cell_type": "markdown",
   "metadata": {},
   "source": [
    "## Выводы"
   ]
  },
  {
   "cell_type": "markdown",
   "metadata": {},
   "source": [
    "Мы завершили исследовательский анализ данных и теперь имеем представление о пользователях разных групп теста. Сформулируем основные характерные черты для пользователей:\n",
    "* Группа А больше группы В примерно на 800 пользователей. В группе А их 3195, а в группе В их 2373.\n",
    "* Наполнялись пользователями группы также параллельно и в целом равномерно. Больше всего пользователей пришло 7, 14 и 21 декабря,\n",
    "* Лидер среди платформ – Android, следом идут PC, iPhone и Mac соответственно,\n",
    "* Конверсия в покупателя по группам довольно таки сильно отличается: в группе А покупателей 23% пользователей, а в группе B их всего лишь 9%,\n",
    "* По тратам можно выделить 3 группы в порядке убывания количества пользователей:\n",
    "    * Пользователи, которые тратят до 40$,\n",
    "    * Пользователи, которые тратят до 140$,\n",
    "    * Пользователи, которые тратят свыше 140$\n",
    "* В группе А шире диапазон трат пользователей, чем в группе В. Медианное значение суммы покупок пользователей группы А – 20$, а группы В – 15$\n",
    "* Большинство пользователей обеих групп совершают по 4 или 6 события. Еще заметна интересная деталь, что очень мало пользователей совершают по 5, 7 и 11 событий.\n",
    "* Перед первой покупкой в обеих группах пользователи совершают 2 события. Судя по всему, покупку можно сделать не заходя в корзину, а сразу со страницы продукта.\n",
    "* Воронки по группам отличаются довольно таки сильно. В группе В самое узкое место это первый этап `login`. Конверсия в это действие у пользователей группы В – 32%. Для сравнения в группе А конверсия в `login` – 72%. Пользователи группы В лучше конвертируются лишь из `product_page` в `purchase` – 51% против 49% в группе А.\n",
    "* В среднем пользователи из группы А совершают больше событий в день, чем пользователи группы В."
   ]
  },
  {
   "cell_type": "markdown",
   "metadata": {},
   "source": [
    "# Оценка результатов А/В-тестирования"
   ]
  },
  {
   "cell_type": "markdown",
   "metadata": {},
   "source": [
    "Данные предобработаны и изучены. Теперь можно приступать к основной задаче исследования – оценке результатов А/В-тестирования.\n",
    "\n",
    "Напомним, какой эффект мы ожидаем увидеть от А/В-тестирования:\n",
    "\n",
    "За 14 дней с момента регистрации пользователи покажут улучшение каждой метрики не менее, чем на 10%:\n",
    "- конверсии в просмотр карточек товаров — событие `product_page`,\n",
    "- просмотры корзины — `product_cart`,\n",
    "- покупки — `purchase`.\n",
    "\n",
    "Найдем текущие метрики конверсии по этим показателям:"
   ]
  },
  {
   "cell_type": "code",
   "execution_count": 56,
   "metadata": {},
   "outputs": [],
   "source": [
    "# готовим таблицу с конверсией в действие на 14-й день\n",
    "conversions = rst_users[['user_id', 'first_date']].copy()\n",
    "\n",
    "# сортируем пользователей по дате первого события \n",
    "conversions = conversions.sort_values(by='first_date').reset_index(drop=True)\n",
    "\n",
    "# добавляем дату 14-го дня в продукте, чтобы по ней измерять конверсию\n",
    "conversions['last_date'] = conversions['first_date'].apply(\n",
    "    lambda x: x + dt.timedelta(days=14)\n",
    ")"
   ]
  },
  {
   "cell_type": "code",
   "execution_count": 57,
   "metadata": {},
   "outputs": [],
   "source": [
    "# функция определяет конвертировался ли пользователь в действие\n",
    "# row – строка датасета\n",
    "# action – действие, конверсию в которое проверяем\n",
    "def is_cr(row, action):\n",
    "    result = action in rst_events[\n",
    "        (rst_events['user_id'] == row['user_id']) &\n",
    "        (rst_events['event_dt'] < row['last_date'])\n",
    "    ]['event_name'].unique()\n",
    "    return result"
   ]
  },
  {
   "cell_type": "code",
   "execution_count": 58,
   "metadata": {},
   "outputs": [
    {
     "name": "stderr",
     "output_type": "stream",
     "text": [
      "100%|██████████| 3/3 [00:24<00:00,  8.01s/it]\n"
     ]
    }
   ],
   "source": [
    "# добавляем столбцы с информацией о конверсии по шагам\n",
    "for event in tqdm(['purchase', 'product_page', 'product_cart']):\n",
    "    conversions['cr_' + event] = conversions.apply(lambda x: is_cr(x, event), axis=1)"
   ]
  },
  {
   "cell_type": "code",
   "execution_count": 59,
   "metadata": {},
   "outputs": [
    {
     "data": {
      "text/html": [
       "<div>\n",
       "<style scoped>\n",
       "    .dataframe tbody tr th:only-of-type {\n",
       "        vertical-align: middle;\n",
       "    }\n",
       "\n",
       "    .dataframe tbody tr th {\n",
       "        vertical-align: top;\n",
       "    }\n",
       "\n",
       "    .dataframe thead th {\n",
       "        text-align: right;\n",
       "    }\n",
       "</style>\n",
       "<table border=\"1\" class=\"dataframe\">\n",
       "  <thead>\n",
       "    <tr style=\"text-align: right;\">\n",
       "      <th></th>\n",
       "      <th>user_id</th>\n",
       "      <th>group</th>\n",
       "      <th>cr_product_page</th>\n",
       "      <th>cr_product_cart</th>\n",
       "      <th>cr_purchase</th>\n",
       "    </tr>\n",
       "  </thead>\n",
       "  <tbody>\n",
       "    <tr>\n",
       "      <th>0</th>\n",
       "      <td>D1ABA3E2887B6A73</td>\n",
       "      <td>A</td>\n",
       "      <td>True</td>\n",
       "      <td>True</td>\n",
       "      <td>True</td>\n",
       "    </tr>\n",
       "    <tr>\n",
       "      <th>1</th>\n",
       "      <td>1632E8454F655D06</td>\n",
       "      <td>B</td>\n",
       "      <td>False</td>\n",
       "      <td>False</td>\n",
       "      <td>False</td>\n",
       "    </tr>\n",
       "    <tr>\n",
       "      <th>2</th>\n",
       "      <td>A27903E52DAF4FB5</td>\n",
       "      <td>A</td>\n",
       "      <td>False</td>\n",
       "      <td>False</td>\n",
       "      <td>False</td>\n",
       "    </tr>\n",
       "    <tr>\n",
       "      <th>3</th>\n",
       "      <td>94DEE458C4F03B12</td>\n",
       "      <td>B</td>\n",
       "      <td>True</td>\n",
       "      <td>False</td>\n",
       "      <td>False</td>\n",
       "    </tr>\n",
       "    <tr>\n",
       "      <th>4</th>\n",
       "      <td>6CF06DC9CCEEADE3</td>\n",
       "      <td>B</td>\n",
       "      <td>False</td>\n",
       "      <td>False</td>\n",
       "      <td>False</td>\n",
       "    </tr>\n",
       "  </tbody>\n",
       "</table>\n",
       "</div>"
      ],
      "text/plain": [
       "            user_id group  cr_product_page  cr_product_cart  cr_purchase\n",
       "0  D1ABA3E2887B6A73     A             True             True         True\n",
       "1  1632E8454F655D06     B            False            False        False\n",
       "2  A27903E52DAF4FB5     A            False            False        False\n",
       "3  94DEE458C4F03B12     B             True            False        False\n",
       "4  6CF06DC9CCEEADE3     B            False            False        False"
      ]
     },
     "execution_count": 59,
     "metadata": {},
     "output_type": "execute_result"
    }
   ],
   "source": [
    "# добавим группу к каждому пользователю\n",
    "conversions = conversions.merge(rst_users[['user_id', 'group']], on='user_id', how='left')\n",
    "\n",
    "# оставляем только нужные нам столбцы в логичном порядке\n",
    "conversions = conversions[['user_id', 'group', 'cr_product_page', 'cr_product_cart', 'cr_purchase']]\n",
    "\n",
    "# выведем первые 5 строк получившейся таблицы\n",
    "conversions.head()"
   ]
  },
  {
   "cell_type": "code",
   "execution_count": 60,
   "metadata": {},
   "outputs": [],
   "source": [
    "# создадим таблицу сгруппированную по тестовой группе\n",
    "conversions_grouped = conversions.groupby('group').mean().T\n",
    "\n",
    "# добавим столбец с целью по конверсии\n",
    "conversions_grouped['target'] = conversions_grouped['A'] * 1.1"
   ]
  },
  {
   "cell_type": "markdown",
   "metadata": {},
   "source": [
    "У нас готова таблица с показателями текущей конверсии и целью по конверсии. Выведем ее:"
   ]
  },
  {
   "cell_type": "code",
   "execution_count": 61,
   "metadata": {},
   "outputs": [
    {
     "data": {
      "text/html": [
       "<div>\n",
       "<style scoped>\n",
       "    .dataframe tbody tr th:only-of-type {\n",
       "        vertical-align: middle;\n",
       "    }\n",
       "\n",
       "    .dataframe tbody tr th {\n",
       "        vertical-align: top;\n",
       "    }\n",
       "\n",
       "    .dataframe thead th {\n",
       "        text-align: right;\n",
       "    }\n",
       "</style>\n",
       "<table border=\"1\" class=\"dataframe\">\n",
       "  <thead>\n",
       "    <tr style=\"text-align: right;\">\n",
       "      <th>group</th>\n",
       "      <th>A</th>\n",
       "      <th>B</th>\n",
       "      <th>target</th>\n",
       "    </tr>\n",
       "  </thead>\n",
       "  <tbody>\n",
       "    <tr>\n",
       "      <th>cr_product_page</th>\n",
       "      <td>0.461972</td>\n",
       "      <td>0.180784</td>\n",
       "      <td>0.508169</td>\n",
       "    </tr>\n",
       "    <tr>\n",
       "      <th>cr_product_cart</th>\n",
       "      <td>0.214710</td>\n",
       "      <td>0.090181</td>\n",
       "      <td>0.236182</td>\n",
       "    </tr>\n",
       "    <tr>\n",
       "      <th>cr_purchase</th>\n",
       "      <td>0.229734</td>\n",
       "      <td>0.092288</td>\n",
       "      <td>0.252707</td>\n",
       "    </tr>\n",
       "  </tbody>\n",
       "</table>\n",
       "</div>"
      ],
      "text/plain": [
       "group                   A         B    target\n",
       "cr_product_page  0.461972  0.180784  0.508169\n",
       "cr_product_cart  0.214710  0.090181  0.236182\n",
       "cr_purchase      0.229734  0.092288  0.252707"
      ]
     },
     "execution_count": 61,
     "metadata": {},
     "output_type": "execute_result"
    }
   ],
   "source": [
    "# выводим таблицу с показателями текущей конверсии\n",
    "conversions_grouped"
   ]
  },
  {
   "cell_type": "markdown",
   "metadata": {},
   "source": [
    "Сразу хочется сделать вывод о том, что группа В не оправдала надежд. Показатели конверсии в этой группе крайне низки и далеки от цели. Но не будем делать поспешных выводов и проверим все гипотезы статистически."
   ]
  },
  {
   "cell_type": "markdown",
   "metadata": {},
   "source": [
    "### Статистическая проверка гипотез"
   ]
  },
  {
   "cell_type": "markdown",
   "metadata": {},
   "source": [
    "Нам нужно проверить 3 гипотезы: про конверсию в просмотр карточки, в просмотр корзины и в покупку.\n",
    "\n",
    "Для проверки будем использовать Z-критерий для долей. Для начала определим уровень значимости альфа – 0.05. Но так как мы будем проверять сразу 3 гипотезы на одних и тех же данных, то вероятность ошибиться в какой либо из проверок возрастает. Чтобы исправить это применим поправку Бонферрони: разделим уровень значимости на количество статистических проверок, то есть на 3.\n",
    "\n",
    "Вычислим итоговый уровень значимости:"
   ]
  },
  {
   "cell_type": "code",
   "execution_count": 62,
   "metadata": {},
   "outputs": [],
   "source": [
    "# определяем уровень значимости с поправкой Бонферрони\n",
    "alpha = 0.05 / 3 "
   ]
  },
  {
   "cell_type": "markdown",
   "metadata": {},
   "source": [
    "Чтобы тест сработал корректно, убедимся, что у нас достаточно пользователей. Для этого нам нужно задать еще 2 параметра: уровень мощности и соотношение выборок.\n",
    "\n",
    "Уровень мощности возьмем стандартный – 0.08. А соотношение выборок посчитаем:"
   ]
  },
  {
   "cell_type": "code",
   "execution_count": 63,
   "metadata": {},
   "outputs": [],
   "source": [
    "# соотношение выборок\n",
    "samples_ratio = len(rst_users.query('group == \"B\"')) / len(rst_users.query('group == \"A\"'))"
   ]
  },
  {
   "cell_type": "markdown",
   "metadata": {},
   "source": [
    "Теперь нам известны все параметры и мы можем определить рекомендованный размер выборки. Делать мы это будем при помощи двух функций из модуля statsmodels:\n",
    "* `proportion_effectsize()` – определит стандартизированный размер эффекта. \n",
    "* `NormalIndPower().solve_power()` – определит рекомендуемый размер выборки.\n",
    "\n",
    "Запустим цикл, который посчитает размер бОльшей выборки для каждого показателя:"
   ]
  },
  {
   "cell_type": "code",
   "execution_count": 64,
   "metadata": {},
   "outputs": [],
   "source": [
    "# список в которому будем хранить размеры выборок для каждого показателя\n",
    "sample_sizes = []\n",
    "\n",
    "# ищем размер выборки для каждого теста \n",
    "for i in range(len(conversions_grouped)):\n",
    "\n",
    "    # найдем стандартизированный размер выборки\n",
    "    es = sms.proportion_effectsize(conversions_grouped.iloc[i]['A'], conversions_grouped.iloc[i]['target'])\n",
    "\n",
    "    # находим размер бОльшей выборки\n",
    "    sample_size = round(sms.NormalIndPower().solve_power(\n",
    "        effect_size = es,    # стандартизированный размер эффекта\n",
    "        power=0.8,           # уровень мощности   \n",
    "        alpha=alpha,         # уровень значимости\n",
    "        ratio=samples_ratio  # соотношение выборок\n",
    "        ))\n",
    "\n",
    "    sample_sizes.append(sample_size)\n",
    "\n",
    "# добавляем столбец с рекомендованным размером бОльшей выборки\n",
    "conversions_grouped['bigger_sample_size'] = sample_sizes"
   ]
  },
  {
   "cell_type": "markdown",
   "metadata": {},
   "source": [
    "Мы определили рекомендуемые размеры выборки для каждого теста. Теперь посмотрим соблюдается ли это условия с нашими данными:"
   ]
  },
  {
   "cell_type": "code",
   "execution_count": 65,
   "metadata": {},
   "outputs": [
    {
     "data": {
      "text/plain": [
       "cr_product_page     True\n",
       "cr_product_cart    False\n",
       "cr_purchase        False\n",
       "Name: bigger_sample_size, dtype: bool"
      ]
     },
     "execution_count": 65,
     "metadata": {},
     "output_type": "execute_result"
    }
   ],
   "source": [
    "# проверим соблюдаются ли рекомендации по размеру для бОльшей выборки\n",
    "conversions_grouped['bigger_sample_size'] < len(rst_users.query('group == \"A\"'))"
   ]
  },
  {
   "cell_type": "code",
   "execution_count": 66,
   "metadata": {},
   "outputs": [
    {
     "data": {
      "text/plain": [
       "cr_product_page     True\n",
       "cr_product_cart    False\n",
       "cr_purchase        False\n",
       "Name: bigger_sample_size, dtype: bool"
      ]
     },
     "execution_count": 66,
     "metadata": {},
     "output_type": "execute_result"
    }
   ],
   "source": [
    "# проверим соблюдаются ли рекомендации по размеру для меньшей выборки\n",
    "conversions_grouped['bigger_sample_size'] * samples_ratio < len(rst_users.query('group == \"A\"'))"
   ]
  },
  {
   "cell_type": "markdown",
   "metadata": {},
   "source": [
    "Условие по размеру выборки соблюдается лишь для показателя `cr_product_page`. По остальным показателям нам недостаточно данных, чтобы корректно сделать тест. В связи с этим, мы не будем делать статистическую проверку гипотез для других показателей иначе мы получим просто некорректные результаты, которым сложно будет доверять.\n",
    "\n",
    "А так как мы будем проводить 1 тест, а не 3, то и уровень значимости мы можем вернуть к исходному показателю – 0.05."
   ]
  },
  {
   "cell_type": "code",
   "execution_count": 67,
   "metadata": {},
   "outputs": [],
   "source": [
    "# возвращаем исходный уровень значимости\n",
    "alpha = 0.05"
   ]
  },
  {
   "cell_type": "markdown",
   "metadata": {},
   "source": [
    "Сформулируем гипотезы:\n",
    "- Нулевая гипотеза: конверсии в просмотр карточки продукта в контрольной и тестовой группе статистически не отличаются,\n",
    "- Альтернативная гипотеща: конверсии в просмотр карточки продукта в контрольной и тестовой группе статистически отличаются.\n",
    "\n",
    "Проверяем:"
   ]
  },
  {
   "cell_type": "code",
   "execution_count": 68,
   "metadata": {},
   "outputs": [
    {
     "name": "stdout",
     "output_type": "stream",
     "text": [
      "Есть основания отклонить нулевую гипотезу: конверсии по группам отличаются.\n"
     ]
    }
   ],
   "source": [
    "# запускаем тест и находим значение \n",
    "_, pval = proportions_ztest(\n",
    "    [conversions.query('group == \"A\"')['cr_product_page'].sum(), conversions.query('group == \"B\"')['cr_product_page'].sum()],\n",
    "    [len(conversions.query('group == \"A\"')['cr_product_page']), len(conversions.query('group == \"B\"')['cr_product_page'])]\n",
    ")\n",
    "\n",
    "if pval < alpha:\n",
    "    print('Есть основания отклонить нулевую гипотезу: конверсии по группам отличаются.')\n",
    "else:\n",
    "    print('у нас недостаточно оснований отклонить нулевую гипотезу: конверсии по группам не отличаются.')"
   ]
  },
  {
   "cell_type": "markdown",
   "metadata": {},
   "source": [
    "Тест показал, что конверсии в выборках статистически значимо отличаются друг от друга. А до этого мы видели, что конверсия в эксперементальной группе гораздо ниже, чем конверсия в контрольной. Теперь мы можем сказать, что это не случайность, а действительно с новой системой рекомендаций конверсия в просмотр страницы продукта меньше."
   ]
  },
  {
   "cell_type": "markdown",
   "metadata": {},
   "source": [
    "## Выводы"
   ]
  },
  {
   "cell_type": "markdown",
   "metadata": {},
   "source": [
    "* Все показатели конверсии в группе В ниже, чем в группе А\n",
    "* При уровне значимости равном 0.017 (0.05 с поправкой Бонферрони), мощности теста 0.8 и соотношении размеров выборок 0.75 (меньшая относительно бОльшей) по размеру выборки проходит только показатель конверсии в просмотр карточки продукта. Чтобы проводить тест остальных показателей нам требуется увеличить количество пользователей, либо ухудшить какой-либо параметр теста.\n",
    "* Двусторонний z-тест показал, что конверсии в просмотр карточки продукта статистически отличаются между группами. То есть группа Б показывает себя хуже и это статистически значимо."
   ]
  },
  {
   "cell_type": "markdown",
   "metadata": {},
   "source": [
    "# Общие выводы"
   ]
  },
  {
   "cell_type": "markdown",
   "metadata": {},
   "source": [
    "На основе исследовательского анализа данных и оценки АБ-теста сделаем итоговые выводы.\n",
    "\n",
    "### Исследовательский анализ данных\n",
    "\n",
    "Мы проверили данные на соответствие пунктам ТЗ и сделали следующие выводы:\n",
    "* Соответствует ТЗ:\n",
    "    * Дата запуска 07.12.2020,\n",
    "    * Крайняя дата набора пользователей 21.12.2020,\n",
    "    * Количество участников теста – 5918 человек (по ТЗ планировалось 6000),\n",
    "    * Аудитория теста – 5568 пользователей из Европы (по ТЗ планировалось 5654),\n",
    "* Не соответствует ТЗ:\n",
    "    * Дата последнего события в тесте – 30.12.2020 (по ТЗ планировалось 04.01.2021),\n",
    "    * Лайфтайм пользователей – 7 дней (по ТЗ предполагалось, что лайфтайм будет 14 дней)\n",
    "\n",
    "Во время проведения теста проходили 2 маркетинговые активности и одна из них проходила в нашем целевом регионе (EU). Так как она проводилась после того как мы перестали набирать участников теста, и влияла на обе группы одинаково, то мы решили оставить все как есть.\n",
    "\n",
    "Дальше мы изучили аудиторию теста и удалили пользователей не из региона EU. В итоге у нас осталось 5568 пользователей. \n",
    "\n",
    "При исследовательском анализе данных самые сильные отличия мы увидели в воронке. В группе В самое узкое место это первый этап `login`. Конверсия в это действие у пользователей группы В – 32%. Для сравнения в группе А конверсия в `login` – 72%. Пользователи группы В лучше конвертируются лишь из `product_page` в `purchase` – 51% против 49% в группе А.\n",
    "\n",
    "Низкая конверсия в `login` вызывает подозрения. Нужно узнать нет ли какого-нибудь бага в эксперементальной версии продукта.\n",
    "\n",
    "### Статистическая проверка гипотез\n",
    "\n",
    "К оценке АБ-тестирования мы уже подходили с пониманием, что данные не по всем пунктам соответствуют ТЗ и исследование проводилось в предверии новогодних праздников, что могло повлиять на поведение пользователей. Последним этапом оценки корректности данных для статистического теста была проверка размера выборок.\n",
    "\n",
    "Тестировать мы решили с помощью z-теста для пропорций со следующими параметрами:\n",
    "* Уровень значимости альфа – 0.05 с поправкой Бонферрони на множественные тесты (на 3),\n",
    "* Мощность теста – 0.8,\n",
    "* Отношение меньшей выборки к бОльшей – 0.74\n",
    "\n",
    "На основе этих параметров мы сделали проверку размера выборок. И по этому критерию прошло только тестирование конверсии в просмотр карточки продукта. Для всех остальных конверсий данных оказалось недостаточно.\n",
    "\n",
    "Статистический тест показал, что выборки принадлежат разным генеральным совокупностям. То есть результаты значимо отличаются друг от друга. Соответственно более низкая конверсия в эксперементальной группе это не случайность.\n",
    "\n",
    "### Заключение\n",
    "\n",
    "Можно сделать заключение о том, что тест был проведен некорректно. Во-первых, данные не соответствуют большинству пунктов ТЗ. Во-вторых, для проведения некоторых статистических тестов недостаточны размеры выборок.\n",
    "\n",
    "Возможно, что проблема недостаточного размера выборок в том, что не все данные дошли, так как последнее действие пользователей, которые участвовали в тесте было 30 декабря, а тест рассчитан до 4 января. Если же проблема не в это, то следует увеличить размеры выборок и добрать пользователей."
   ]
  }
 ],
 "metadata": {
  "ExecuteTimeLog": [
   {
    "duration": 1666,
    "start_time": "2022-09-22T09:33:41.817Z"
   },
   {
    "duration": 4,
    "start_time": "2022-09-22T09:33:43.486Z"
   },
   {
    "duration": 10,
    "start_time": "2022-09-22T09:33:43.492Z"
   },
   {
    "duration": 6,
    "start_time": "2022-09-22T09:33:43.504Z"
   },
   {
    "duration": 1163,
    "start_time": "2022-09-22T09:33:43.512Z"
   },
   {
    "duration": 14,
    "start_time": "2022-09-22T09:33:44.677Z"
   },
   {
    "duration": 21,
    "start_time": "2022-09-22T09:33:44.693Z"
   },
   {
    "duration": 35,
    "start_time": "2022-09-22T09:33:44.716Z"
   },
   {
    "duration": 17,
    "start_time": "2022-09-22T09:33:44.753Z"
   },
   {
    "duration": 26,
    "start_time": "2022-09-22T09:33:44.773Z"
   },
   {
    "duration": 100,
    "start_time": "2022-09-22T09:33:44.801Z"
   },
   {
    "duration": 8,
    "start_time": "2022-09-22T09:33:44.903Z"
   },
   {
    "duration": 86,
    "start_time": "2022-09-22T09:33:44.913Z"
   },
   {
    "duration": 54,
    "start_time": "2022-09-22T09:33:45.001Z"
   },
   {
    "duration": 672,
    "start_time": "2022-09-22T09:33:45.056Z"
   },
   {
    "duration": 57,
    "start_time": "2022-09-22T09:33:45.734Z"
   },
   {
    "duration": 7,
    "start_time": "2022-09-22T09:33:45.793Z"
   },
   {
    "duration": 16,
    "start_time": "2022-09-22T09:33:45.802Z"
   },
   {
    "duration": 32,
    "start_time": "2022-09-22T09:33:45.835Z"
   },
   {
    "duration": 107,
    "start_time": "2022-09-22T09:33:45.868Z"
   },
   {
    "duration": 16,
    "start_time": "2022-09-22T09:33:45.977Z"
   },
   {
    "duration": 39,
    "start_time": "2022-09-22T09:33:45.995Z"
   },
   {
    "duration": 103,
    "start_time": "2022-09-22T09:33:52.919Z"
   },
   {
    "duration": 45,
    "start_time": "2022-09-22T09:33:53.024Z"
   },
   {
    "duration": 50,
    "start_time": "2022-09-22T09:33:53.071Z"
   },
   {
    "duration": 70,
    "start_time": "2022-09-22T09:33:53.123Z"
   },
   {
    "duration": 4,
    "start_time": "2022-09-22T09:33:53.195Z"
   },
   {
    "duration": 65,
    "start_time": "2022-09-22T09:33:53.201Z"
   },
   {
    "duration": 5,
    "start_time": "2022-09-22T09:33:53.268Z"
   },
   {
    "duration": 12,
    "start_time": "2022-09-22T09:33:53.275Z"
   },
   {
    "duration": 15,
    "start_time": "2022-09-22T09:33:53.288Z"
   },
   {
    "duration": 42,
    "start_time": "2022-09-22T09:33:53.305Z"
   },
   {
    "duration": 2254,
    "start_time": "2022-09-22T09:33:53.349Z"
   },
   {
    "duration": 17,
    "start_time": "2022-09-22T09:33:55.605Z"
   },
   {
    "duration": 31,
    "start_time": "2022-09-22T09:33:55.637Z"
   },
   {
    "duration": 134,
    "start_time": "2022-09-22T09:33:55.672Z"
   },
   {
    "duration": 0,
    "start_time": "2022-09-22T09:33:55.809Z"
   },
   {
    "duration": 0,
    "start_time": "2022-09-22T09:33:55.810Z"
   },
   {
    "duration": 0,
    "start_time": "2022-09-22T09:33:55.812Z"
   },
   {
    "duration": 1,
    "start_time": "2022-09-22T09:33:55.814Z"
   },
   {
    "duration": 0,
    "start_time": "2022-09-22T09:33:55.816Z"
   },
   {
    "duration": 0,
    "start_time": "2022-09-22T09:33:55.818Z"
   },
   {
    "duration": 0,
    "start_time": "2022-09-22T09:33:55.834Z"
   },
   {
    "duration": 1,
    "start_time": "2022-09-22T09:33:55.839Z"
   },
   {
    "duration": 0,
    "start_time": "2022-09-22T09:33:55.840Z"
   },
   {
    "duration": 0,
    "start_time": "2022-09-22T09:33:55.841Z"
   },
   {
    "duration": 0,
    "start_time": "2022-09-22T09:33:55.842Z"
   },
   {
    "duration": 0,
    "start_time": "2022-09-22T09:33:55.843Z"
   },
   {
    "duration": 0,
    "start_time": "2022-09-22T09:33:55.845Z"
   },
   {
    "duration": 0,
    "start_time": "2022-09-22T09:33:55.845Z"
   },
   {
    "duration": 0,
    "start_time": "2022-09-22T09:33:55.846Z"
   },
   {
    "duration": 46,
    "start_time": "2022-09-22T09:33:56.102Z"
   },
   {
    "duration": 0,
    "start_time": "2022-09-22T09:33:56.156Z"
   },
   {
    "duration": 3,
    "start_time": "2022-09-22T09:33:56.897Z"
   },
   {
    "duration": 17,
    "start_time": "2022-09-22T09:34:13.562Z"
   },
   {
    "duration": 0,
    "start_time": "2022-09-22T09:34:13.581Z"
   },
   {
    "duration": 0,
    "start_time": "2022-09-22T09:34:13.582Z"
   },
   {
    "duration": 0,
    "start_time": "2022-09-22T09:34:13.584Z"
   },
   {
    "duration": 0,
    "start_time": "2022-09-22T09:34:13.584Z"
   },
   {
    "duration": 0,
    "start_time": "2022-09-22T09:34:13.586Z"
   },
   {
    "duration": 0,
    "start_time": "2022-09-22T09:34:13.587Z"
   },
   {
    "duration": 0,
    "start_time": "2022-09-22T09:34:13.588Z"
   },
   {
    "duration": 0,
    "start_time": "2022-09-22T09:34:13.589Z"
   },
   {
    "duration": 0,
    "start_time": "2022-09-22T09:34:13.591Z"
   },
   {
    "duration": 0,
    "start_time": "2022-09-22T09:34:13.592Z"
   },
   {
    "duration": 607,
    "start_time": "2022-09-22T09:35:11.835Z"
   },
   {
    "duration": 1599,
    "start_time": "2022-09-22T09:35:29.347Z"
   },
   {
    "duration": 7,
    "start_time": "2022-09-22T09:35:30.949Z"
   },
   {
    "duration": 17,
    "start_time": "2022-09-22T09:35:30.959Z"
   },
   {
    "duration": 15,
    "start_time": "2022-09-22T09:35:30.978Z"
   },
   {
    "duration": 769,
    "start_time": "2022-09-22T09:35:30.997Z"
   },
   {
    "duration": 13,
    "start_time": "2022-09-22T09:35:31.768Z"
   },
   {
    "duration": 16,
    "start_time": "2022-09-22T09:35:31.784Z"
   },
   {
    "duration": 38,
    "start_time": "2022-09-22T09:35:31.802Z"
   },
   {
    "duration": 30,
    "start_time": "2022-09-22T09:35:31.841Z"
   },
   {
    "duration": 31,
    "start_time": "2022-09-22T09:35:31.873Z"
   },
   {
    "duration": 80,
    "start_time": "2022-09-22T09:35:31.906Z"
   },
   {
    "duration": 10,
    "start_time": "2022-09-22T09:35:31.988Z"
   },
   {
    "duration": 97,
    "start_time": "2022-09-22T09:35:32.000Z"
   },
   {
    "duration": 46,
    "start_time": "2022-09-22T09:35:32.100Z"
   },
   {
    "duration": 613,
    "start_time": "2022-09-22T09:35:32.152Z"
   },
   {
    "duration": 49,
    "start_time": "2022-09-22T09:35:32.768Z"
   },
   {
    "duration": 18,
    "start_time": "2022-09-22T09:35:32.819Z"
   },
   {
    "duration": 34,
    "start_time": "2022-09-22T09:35:32.841Z"
   },
   {
    "duration": 30,
    "start_time": "2022-09-22T09:35:32.877Z"
   },
   {
    "duration": 92,
    "start_time": "2022-09-22T09:35:32.909Z"
   },
   {
    "duration": 20,
    "start_time": "2022-09-22T09:35:33.004Z"
   },
   {
    "duration": 39,
    "start_time": "2022-09-22T09:35:33.026Z"
   },
   {
    "duration": 127,
    "start_time": "2022-09-22T09:35:33.067Z"
   },
   {
    "duration": 53,
    "start_time": "2022-09-22T09:35:33.196Z"
   },
   {
    "duration": 53,
    "start_time": "2022-09-22T09:35:33.250Z"
   },
   {
    "duration": 73,
    "start_time": "2022-09-22T09:35:33.305Z"
   },
   {
    "duration": 5,
    "start_time": "2022-09-22T09:35:33.380Z"
   },
   {
    "duration": 49,
    "start_time": "2022-09-22T09:35:33.387Z"
   },
   {
    "duration": 12,
    "start_time": "2022-09-22T09:35:33.451Z"
   },
   {
    "duration": 22,
    "start_time": "2022-09-22T09:35:33.464Z"
   },
   {
    "duration": 24,
    "start_time": "2022-09-22T09:35:33.489Z"
   },
   {
    "duration": 17,
    "start_time": "2022-09-22T09:35:33.515Z"
   },
   {
    "duration": 2485,
    "start_time": "2022-09-22T09:35:33.534Z"
   },
   {
    "duration": 45,
    "start_time": "2022-09-22T09:35:36.021Z"
   },
   {
    "duration": 23,
    "start_time": "2022-09-22T09:35:36.072Z"
   },
   {
    "duration": 939,
    "start_time": "2022-09-22T09:35:36.097Z"
   },
   {
    "duration": 389,
    "start_time": "2022-09-22T09:35:37.039Z"
   },
   {
    "duration": 122,
    "start_time": "2022-09-22T09:35:37.430Z"
   },
   {
    "duration": 77,
    "start_time": "2022-09-22T09:35:37.560Z"
   },
   {
    "duration": 215,
    "start_time": "2022-09-22T09:35:37.645Z"
   },
   {
    "duration": 0,
    "start_time": "2022-09-22T09:35:37.862Z"
   },
   {
    "duration": 0,
    "start_time": "2022-09-22T09:35:37.863Z"
   },
   {
    "duration": 0,
    "start_time": "2022-09-22T09:35:37.864Z"
   },
   {
    "duration": 0,
    "start_time": "2022-09-22T09:35:37.865Z"
   },
   {
    "duration": 0,
    "start_time": "2022-09-22T09:35:37.866Z"
   },
   {
    "duration": 0,
    "start_time": "2022-09-22T09:35:37.866Z"
   },
   {
    "duration": 0,
    "start_time": "2022-09-22T09:35:37.867Z"
   },
   {
    "duration": 0,
    "start_time": "2022-09-22T09:35:37.868Z"
   },
   {
    "duration": 0,
    "start_time": "2022-09-22T09:35:37.869Z"
   },
   {
    "duration": 0,
    "start_time": "2022-09-22T09:35:37.870Z"
   },
   {
    "duration": 0,
    "start_time": "2022-09-22T09:35:37.871Z"
   },
   {
    "duration": 0,
    "start_time": "2022-09-22T09:35:37.872Z"
   },
   {
    "duration": 0,
    "start_time": "2022-09-22T09:35:37.873Z"
   },
   {
    "duration": 0,
    "start_time": "2022-09-22T09:35:37.873Z"
   },
   {
    "duration": 0,
    "start_time": "2022-09-22T09:35:37.875Z"
   },
   {
    "duration": 0,
    "start_time": "2022-09-22T09:35:37.876Z"
   },
   {
    "duration": 0,
    "start_time": "2022-09-22T09:35:37.877Z"
   },
   {
    "duration": 0,
    "start_time": "2022-09-22T09:35:37.878Z"
   },
   {
    "duration": 0,
    "start_time": "2022-09-22T09:35:37.878Z"
   },
   {
    "duration": 0,
    "start_time": "2022-09-22T09:35:37.879Z"
   },
   {
    "duration": 0,
    "start_time": "2022-09-22T09:35:37.880Z"
   },
   {
    "duration": 0,
    "start_time": "2022-09-22T09:35:37.881Z"
   },
   {
    "duration": 0,
    "start_time": "2022-09-22T09:35:37.882Z"
   },
   {
    "duration": 0,
    "start_time": "2022-09-22T09:35:37.883Z"
   },
   {
    "duration": 0,
    "start_time": "2022-09-22T09:35:37.884Z"
   },
   {
    "duration": 173,
    "start_time": "2022-09-22T09:36:58.355Z"
   },
   {
    "duration": 14,
    "start_time": "2022-09-22T09:37:40.085Z"
   },
   {
    "duration": 89,
    "start_time": "2022-09-22T09:37:56.071Z"
   },
   {
    "duration": 126,
    "start_time": "2022-09-22T09:38:04.417Z"
   },
   {
    "duration": 92,
    "start_time": "2022-09-22T09:38:13.691Z"
   },
   {
    "duration": 93,
    "start_time": "2022-09-22T09:38:26.086Z"
   },
   {
    "duration": 156,
    "start_time": "2022-09-22T09:38:38.556Z"
   },
   {
    "duration": 67,
    "start_time": "2022-09-22T09:38:41.889Z"
   },
   {
    "duration": 2939,
    "start_time": "2022-09-22T09:38:46.685Z"
   },
   {
    "duration": 48,
    "start_time": "2022-09-22T09:38:49.626Z"
   },
   {
    "duration": 27,
    "start_time": "2022-09-22T09:38:53.688Z"
   },
   {
    "duration": 10,
    "start_time": "2022-09-22T09:38:58.189Z"
   },
   {
    "duration": 7,
    "start_time": "2022-09-22T09:39:03.426Z"
   },
   {
    "duration": 60,
    "start_time": "2022-09-22T09:39:06.220Z"
   },
   {
    "duration": 1484,
    "start_time": "2022-09-22T09:40:02.140Z"
   },
   {
    "duration": 4,
    "start_time": "2022-09-22T09:40:03.626Z"
   },
   {
    "duration": 25,
    "start_time": "2022-09-22T09:40:03.633Z"
   },
   {
    "duration": 12,
    "start_time": "2022-09-22T09:40:03.660Z"
   },
   {
    "duration": 768,
    "start_time": "2022-09-22T09:40:03.674Z"
   },
   {
    "duration": 21,
    "start_time": "2022-09-22T09:40:04.445Z"
   },
   {
    "duration": 18,
    "start_time": "2022-09-22T09:40:04.468Z"
   },
   {
    "duration": 24,
    "start_time": "2022-09-22T09:40:04.488Z"
   },
   {
    "duration": 26,
    "start_time": "2022-09-22T09:40:04.513Z"
   },
   {
    "duration": 23,
    "start_time": "2022-09-22T09:40:04.542Z"
   },
   {
    "duration": 109,
    "start_time": "2022-09-22T09:40:04.567Z"
   },
   {
    "duration": 8,
    "start_time": "2022-09-22T09:40:04.678Z"
   },
   {
    "duration": 112,
    "start_time": "2022-09-22T09:40:04.689Z"
   },
   {
    "duration": 54,
    "start_time": "2022-09-22T09:40:04.802Z"
   },
   {
    "duration": 553,
    "start_time": "2022-09-22T09:40:04.858Z"
   },
   {
    "duration": 66,
    "start_time": "2022-09-22T09:40:05.413Z"
   },
   {
    "duration": 8,
    "start_time": "2022-09-22T09:40:05.481Z"
   },
   {
    "duration": 16,
    "start_time": "2022-09-22T09:40:05.490Z"
   },
   {
    "duration": 42,
    "start_time": "2022-09-22T09:40:05.508Z"
   },
   {
    "duration": 100,
    "start_time": "2022-09-22T09:40:05.552Z"
   },
   {
    "duration": 16,
    "start_time": "2022-09-22T09:40:05.654Z"
   },
   {
    "duration": 42,
    "start_time": "2022-09-22T09:40:05.672Z"
   },
   {
    "duration": 102,
    "start_time": "2022-09-22T09:40:05.717Z"
   },
   {
    "duration": 52,
    "start_time": "2022-09-22T09:40:05.822Z"
   },
   {
    "duration": 68,
    "start_time": "2022-09-22T09:40:05.876Z"
   },
   {
    "duration": 47,
    "start_time": "2022-09-22T09:40:05.952Z"
   },
   {
    "duration": 4,
    "start_time": "2022-09-22T09:40:06.001Z"
   },
   {
    "duration": 45,
    "start_time": "2022-09-22T09:40:06.009Z"
   },
   {
    "duration": 6,
    "start_time": "2022-09-22T09:40:06.056Z"
   },
   {
    "duration": 9,
    "start_time": "2022-09-22T09:40:06.064Z"
   },
   {
    "duration": 16,
    "start_time": "2022-09-22T09:40:06.074Z"
   },
   {
    "duration": 7,
    "start_time": "2022-09-22T09:40:06.092Z"
   },
   {
    "duration": 2501,
    "start_time": "2022-09-22T09:40:06.101Z"
   },
   {
    "duration": 33,
    "start_time": "2022-09-22T09:40:08.604Z"
   },
   {
    "duration": 26,
    "start_time": "2022-09-22T09:40:08.639Z"
   },
   {
    "duration": 570,
    "start_time": "2022-09-22T09:40:08.667Z"
   },
   {
    "duration": 285,
    "start_time": "2022-09-22T09:40:09.239Z"
   },
   {
    "duration": 74,
    "start_time": "2022-09-22T09:40:09.526Z"
   },
   {
    "duration": 90,
    "start_time": "2022-09-22T09:40:09.602Z"
   },
   {
    "duration": 110,
    "start_time": "2022-09-22T09:40:09.694Z"
   },
   {
    "duration": 103,
    "start_time": "2022-09-22T09:40:09.806Z"
   },
   {
    "duration": 172,
    "start_time": "2022-09-22T09:40:09.911Z"
   },
   {
    "duration": 71,
    "start_time": "2022-09-22T09:40:10.085Z"
   },
   {
    "duration": 2796,
    "start_time": "2022-09-22T09:40:10.158Z"
   },
   {
    "duration": 41,
    "start_time": "2022-09-22T09:40:12.956Z"
   },
   {
    "duration": 59,
    "start_time": "2022-09-22T09:40:12.999Z"
   },
   {
    "duration": 8,
    "start_time": "2022-09-22T09:40:13.060Z"
   },
   {
    "duration": 9,
    "start_time": "2022-09-22T09:40:13.070Z"
   },
   {
    "duration": 45,
    "start_time": "2022-09-22T09:40:13.080Z"
   },
   {
    "duration": 485,
    "start_time": "2022-09-22T09:40:13.126Z"
   },
   {
    "duration": 36,
    "start_time": "2022-09-22T09:40:13.613Z"
   },
   {
    "duration": 91,
    "start_time": "2022-09-22T09:40:13.651Z"
   },
   {
    "duration": 33,
    "start_time": "2022-09-22T09:40:13.744Z"
   },
   {
    "duration": 4,
    "start_time": "2022-09-22T09:40:13.779Z"
   },
   {
    "duration": 35137,
    "start_time": "2022-09-22T09:40:13.784Z"
   },
   {
    "duration": 36,
    "start_time": "2022-09-22T09:40:48.923Z"
   },
   {
    "duration": 16,
    "start_time": "2022-09-22T09:40:48.963Z"
   },
   {
    "duration": 14,
    "start_time": "2022-09-22T09:40:48.981Z"
   },
   {
    "duration": 7,
    "start_time": "2022-09-22T09:40:48.997Z"
   },
   {
    "duration": 11,
    "start_time": "2022-09-22T09:40:49.006Z"
   },
   {
    "duration": 55,
    "start_time": "2022-09-22T09:40:49.019Z"
   },
   {
    "duration": 11,
    "start_time": "2022-09-22T09:40:49.079Z"
   },
   {
    "duration": 19,
    "start_time": "2022-09-22T09:40:49.092Z"
   },
   {
    "duration": 7,
    "start_time": "2022-09-22T09:40:49.113Z"
   },
   {
    "duration": 24,
    "start_time": "2022-09-22T09:40:49.121Z"
   },
   {
    "duration": 1467,
    "start_time": "2022-09-25T23:07:37.891Z"
   },
   {
    "duration": 5,
    "start_time": "2022-09-25T23:07:39.361Z"
   },
   {
    "duration": 26,
    "start_time": "2022-09-25T23:07:39.367Z"
   },
   {
    "duration": 34,
    "start_time": "2022-09-25T23:07:39.395Z"
   },
   {
    "duration": 652,
    "start_time": "2022-09-25T23:07:39.431Z"
   },
   {
    "duration": 13,
    "start_time": "2022-09-25T23:07:40.085Z"
   },
   {
    "duration": 11,
    "start_time": "2022-09-25T23:07:40.099Z"
   },
   {
    "duration": 18,
    "start_time": "2022-09-25T23:07:40.112Z"
   },
   {
    "duration": 7,
    "start_time": "2022-09-25T23:07:40.132Z"
   },
   {
    "duration": 16,
    "start_time": "2022-09-25T23:07:40.154Z"
   },
   {
    "duration": 62,
    "start_time": "2022-09-25T23:07:40.172Z"
   },
   {
    "duration": 23,
    "start_time": "2022-09-25T23:07:40.236Z"
   },
   {
    "duration": 57,
    "start_time": "2022-09-25T23:07:40.261Z"
   },
   {
    "duration": 46,
    "start_time": "2022-09-25T23:07:40.322Z"
   },
   {
    "duration": 549,
    "start_time": "2022-09-25T23:07:40.370Z"
   },
   {
    "duration": 58,
    "start_time": "2022-09-25T23:07:40.921Z"
   },
   {
    "duration": 8,
    "start_time": "2022-09-25T23:07:40.981Z"
   },
   {
    "duration": 14,
    "start_time": "2022-09-25T23:07:40.990Z"
   },
   {
    "duration": 23,
    "start_time": "2022-09-25T23:07:41.005Z"
   },
   {
    "duration": 93,
    "start_time": "2022-09-25T23:07:41.030Z"
   },
   {
    "duration": 33,
    "start_time": "2022-09-25T23:07:41.125Z"
   },
   {
    "duration": 31,
    "start_time": "2022-09-25T23:07:41.160Z"
   },
   {
    "duration": 132,
    "start_time": "2022-09-25T23:07:41.193Z"
   },
   {
    "duration": 41,
    "start_time": "2022-09-25T23:07:41.327Z"
   },
   {
    "duration": 6,
    "start_time": "2022-09-25T23:07:41.370Z"
   },
   {
    "duration": 44,
    "start_time": "2022-09-25T23:07:41.378Z"
   },
   {
    "duration": 29,
    "start_time": "2022-09-25T23:07:41.425Z"
   },
   {
    "duration": 2094,
    "start_time": "2022-09-25T23:07:41.457Z"
   },
   {
    "duration": 61,
    "start_time": "2022-09-25T23:07:43.553Z"
   },
   {
    "duration": 76,
    "start_time": "2022-09-25T23:07:43.615Z"
   },
   {
    "duration": 4,
    "start_time": "2022-09-25T23:07:43.693Z"
   },
   {
    "duration": 7,
    "start_time": "2022-09-25T23:07:43.699Z"
   },
   {
    "duration": 48,
    "start_time": "2022-09-25T23:07:43.708Z"
   },
   {
    "duration": 160,
    "start_time": "2022-09-25T23:07:43.758Z"
   },
   {
    "duration": 24,
    "start_time": "2022-09-25T23:07:43.920Z"
   },
   {
    "duration": 13,
    "start_time": "2022-09-25T23:07:43.946Z"
   },
   {
    "duration": 16,
    "start_time": "2022-09-25T23:07:43.961Z"
   },
   {
    "duration": 9,
    "start_time": "2022-09-25T23:07:43.978Z"
   },
   {
    "duration": 600,
    "start_time": "2022-09-25T23:07:43.989Z"
   },
   {
    "duration": 278,
    "start_time": "2022-09-25T23:07:44.591Z"
   },
   {
    "duration": 82,
    "start_time": "2022-09-25T23:07:44.873Z"
   },
   {
    "duration": 69,
    "start_time": "2022-09-25T23:07:44.957Z"
   },
   {
    "duration": 102,
    "start_time": "2022-09-25T23:07:45.027Z"
   },
   {
    "duration": 192,
    "start_time": "2022-09-25T23:07:45.131Z"
   },
   {
    "duration": 71,
    "start_time": "2022-09-25T23:07:45.325Z"
   },
   {
    "duration": 2974,
    "start_time": "2022-09-25T23:07:45.397Z"
   },
   {
    "duration": 40,
    "start_time": "2022-09-25T23:07:48.373Z"
   },
   {
    "duration": 44,
    "start_time": "2022-09-25T23:07:48.415Z"
   },
   {
    "duration": 7,
    "start_time": "2022-09-25T23:07:48.460Z"
   },
   {
    "duration": 8,
    "start_time": "2022-09-25T23:07:48.469Z"
   },
   {
    "duration": 48,
    "start_time": "2022-09-25T23:07:48.478Z"
   },
   {
    "duration": 500,
    "start_time": "2022-09-25T23:07:48.528Z"
   },
   {
    "duration": 49,
    "start_time": "2022-09-25T23:07:49.030Z"
   },
   {
    "duration": 192,
    "start_time": "2022-09-25T23:07:49.081Z"
   },
   {
    "duration": 37,
    "start_time": "2022-09-25T23:07:49.275Z"
   },
   {
    "duration": 3,
    "start_time": "2022-09-25T23:07:49.314Z"
   },
   {
    "duration": 36052,
    "start_time": "2022-09-25T23:07:49.319Z"
   },
   {
    "duration": 17,
    "start_time": "2022-09-25T23:08:25.373Z"
   },
   {
    "duration": 7,
    "start_time": "2022-09-25T23:08:25.392Z"
   },
   {
    "duration": 17,
    "start_time": "2022-09-25T23:08:25.401Z"
   },
   {
    "duration": 5,
    "start_time": "2022-09-25T23:08:25.420Z"
   },
   {
    "duration": 33,
    "start_time": "2022-09-25T23:08:25.426Z"
   },
   {
    "duration": 34,
    "start_time": "2022-09-25T23:08:25.461Z"
   },
   {
    "duration": 10,
    "start_time": "2022-09-25T23:08:25.497Z"
   },
   {
    "duration": 13,
    "start_time": "2022-09-25T23:08:25.509Z"
   },
   {
    "duration": 9,
    "start_time": "2022-09-25T23:08:25.524Z"
   },
   {
    "duration": 25,
    "start_time": "2022-09-25T23:08:25.534Z"
   }
  ],
  "kernelspec": {
   "display_name": "Python 3 (ipykernel)",
   "language": "python",
   "name": "python3"
  },
  "language_info": {
   "codemirror_mode": {
    "name": "ipython",
    "version": 3
   },
   "file_extension": ".py",
   "mimetype": "text/x-python",
   "name": "python",
   "nbconvert_exporter": "python",
   "pygments_lexer": "ipython3",
   "version": "3.9.12"
  },
  "toc": {
   "base_numbering": 1,
   "nav_menu": {},
   "number_sections": true,
   "sideBar": true,
   "skip_h1_title": true,
   "title_cell": "Table of Contents",
   "title_sidebar": "Contents",
   "toc_cell": false,
   "toc_position": {},
   "toc_section_display": true,
   "toc_window_display": false
  },
  "vscode": {
   "interpreter": {
    "hash": "b45710fb27ba25918766396b1ac6e717e70583c52ce98524e0abf9642c52bdb6"
   }
  }
 },
 "nbformat": 4,
 "nbformat_minor": 2
}
