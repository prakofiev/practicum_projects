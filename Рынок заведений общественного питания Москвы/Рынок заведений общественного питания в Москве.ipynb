{
 "cells": [
  {
   "cell_type": "markdown",
   "id": "eeb6552b",
   "metadata": {},
   "source": [
    "# Исследование рынка общественных заведений в Москве"
   ]
  },
  {
   "cell_type": "markdown",
   "id": "a9866267",
   "metadata": {},
   "source": [
    "# Описание и импорт данных"
   ]
  },
  {
   "cell_type": "markdown",
   "id": "6ac9cfad",
   "metadata": {},
   "source": [
    "## Описание проекта\n",
    "\n",
    "Компания хочет открыть небольшое кафе в Москве. Ключевая идея – вместо официантов роботы. Проект дорогой, поэтому нужно привлекать инвестиции. Инвесторы для оценки идеи запросили текущее положение дел на рынке.\n",
    "\n",
    "**Цель исследования**: Изучить текущее состояние рынка в разрезе характеристик и местоположения заведений. На основе этих данных предоставить инвесторам доказательства потенциального успеха бизнеса.\n",
    "\n",
    "**Общий план исследования**:\n",
    "1. Предобработаем данные.\n",
    "2. Исследуем характеристики заведений: принадлежность к сети, количество посадочных мест, тип заведения.\n",
    "3. Исследуем местоположения заведений.\n",
    "4. Сделаем общие выводы и дадим рекомендации.\n",
    "5. Подготовим данные для инвесторов."
   ]
  },
  {
   "cell_type": "markdown",
   "id": "e068c84a",
   "metadata": {},
   "source": [
    "## Описание данных\n",
    "\n",
    "У нас есть данные о заведениях общественного питания в Москве.\n",
    "\n",
    "Таблица **`rest_data`**:\n",
    "* `id` — идентификатор объекта;\n",
    "* `object_name` — название объекта общественного питания;\n",
    "* `chain` — сетевой ресторан;\n",
    "* `object_type` — тип объекта общественного питания;\n",
    "* `address` — адрес;\n",
    "* `number` — количество посадочных мест."
   ]
  },
  {
   "cell_type": "markdown",
   "id": "6c385b29",
   "metadata": {},
   "source": [
    "## Импорт библиотек"
   ]
  },
  {
   "cell_type": "code",
   "execution_count": 1,
   "id": "7dba5b3e",
   "metadata": {},
   "outputs": [],
   "source": [
    "# импорт библиотек\n",
    "import pandas as pd\n",
    "import numpy as np\n",
    "import matplotlib as mpl\n",
    "import plotly.express as px\n",
    "import re\n",
    "import plotly.io as pio\n",
    "import warnings\n",
    "\n",
    "from geopandas.tools import geocode\n",
    "warnings.filterwarnings('ignore')\n",
    "pio.renderers.default='jpeg'"
   ]
  },
  {
   "cell_type": "code",
   "execution_count": 2,
   "id": "dd41c767",
   "metadata": {},
   "outputs": [],
   "source": [
    "# настроим некоторые параметры отображения графиков\n",
    "custom_params = {\n",
    "    'figure.figsize': (14,6),\n",
    "    'axes.spines.left': False,\n",
    "    'axes.spines.right': False,\n",
    "    'axes.spines.top': False,\n",
    "    'axes.titlesize': 16,\n",
    "    'axes.titleweight': 'bold',\n",
    "    'axes.grid': True,\n",
    "    'axes.grid.axis': 'y',\n",
    "    'grid.alpha': 0.5,\n",
    "    'axes.formatter.limits': [-10, 10], # условия для отображения научного формата\n",
    "}\n",
    "\n",
    "for key, val in custom_params.items():\n",
    "    mpl.rcParams[key] = val\n",
    "\n",
    "# цвета для графиков\n",
    "colors = ['#303F9F', '#F57C00','#388E3C','#C2185B','#FBC02D','#5D4037',\n",
    "          '#455A64', '#D32F2F', '#1976D2', '#AFB42B', '#689F38','#512DA8','#00796B','#689F38']"
   ]
  },
  {
   "cell_type": "markdown",
   "id": "56c36fa4",
   "metadata": {},
   "source": [
    "## Импорт данных"
   ]
  },
  {
   "cell_type": "markdown",
   "id": "5cf9b6a9",
   "metadata": {},
   "source": [
    "Импортируем данные, посмотрим первые значения и общую информацию по датасету:"
   ]
  },
  {
   "cell_type": "code",
   "execution_count": 3,
   "id": "7465ac1e",
   "metadata": {},
   "outputs": [],
   "source": [
    "# импорт данных\n",
    "try:\n",
    "    data = pd.read_csv('datasets/rest_data.csv') # для работы на jupyterhub\n",
    "except:\n",
    "    data = pd.read_csv('/datasets/rest_data.csv') # для локальной работы"
   ]
  },
  {
   "cell_type": "code",
   "execution_count": 4,
   "id": "64d4f337",
   "metadata": {},
   "outputs": [
    {
     "data": {
      "text/html": [
       "<div>\n",
       "<style scoped>\n",
       "    .dataframe tbody tr th:only-of-type {\n",
       "        vertical-align: middle;\n",
       "    }\n",
       "\n",
       "    .dataframe tbody tr th {\n",
       "        vertical-align: top;\n",
       "    }\n",
       "\n",
       "    .dataframe thead th {\n",
       "        text-align: right;\n",
       "    }\n",
       "</style>\n",
       "<table border=\"1\" class=\"dataframe\">\n",
       "  <thead>\n",
       "    <tr style=\"text-align: right;\">\n",
       "      <th></th>\n",
       "      <th>id</th>\n",
       "      <th>object_name</th>\n",
       "      <th>chain</th>\n",
       "      <th>object_type</th>\n",
       "      <th>address</th>\n",
       "      <th>number</th>\n",
       "    </tr>\n",
       "  </thead>\n",
       "  <tbody>\n",
       "    <tr>\n",
       "      <th>0</th>\n",
       "      <td>151635</td>\n",
       "      <td>СМЕТАНА</td>\n",
       "      <td>нет</td>\n",
       "      <td>кафе</td>\n",
       "      <td>город Москва, улица Егора Абакумова, дом 9</td>\n",
       "      <td>48</td>\n",
       "    </tr>\n",
       "    <tr>\n",
       "      <th>1</th>\n",
       "      <td>77874</td>\n",
       "      <td>Родник</td>\n",
       "      <td>нет</td>\n",
       "      <td>кафе</td>\n",
       "      <td>город Москва, улица Талалихина, дом 2/1, корпус 1</td>\n",
       "      <td>35</td>\n",
       "    </tr>\n",
       "    <tr>\n",
       "      <th>2</th>\n",
       "      <td>24309</td>\n",
       "      <td>Кафе «Академия»</td>\n",
       "      <td>нет</td>\n",
       "      <td>кафе</td>\n",
       "      <td>город Москва, Абельмановская улица, дом 6</td>\n",
       "      <td>95</td>\n",
       "    </tr>\n",
       "    <tr>\n",
       "      <th>3</th>\n",
       "      <td>21894</td>\n",
       "      <td>ПИЦЦЕТОРИЯ</td>\n",
       "      <td>да</td>\n",
       "      <td>кафе</td>\n",
       "      <td>город Москва, Абрамцевская улица, дом 1</td>\n",
       "      <td>40</td>\n",
       "    </tr>\n",
       "    <tr>\n",
       "      <th>4</th>\n",
       "      <td>119365</td>\n",
       "      <td>Кафе «Вишневая метель»</td>\n",
       "      <td>нет</td>\n",
       "      <td>кафе</td>\n",
       "      <td>город Москва, Абрамцевская улица, дом 9, корпус 1</td>\n",
       "      <td>50</td>\n",
       "    </tr>\n",
       "  </tbody>\n",
       "</table>\n",
       "</div>"
      ],
      "text/plain": [
       "       id             object_name chain object_type  \\\n",
       "0  151635                 СМЕТАНА   нет        кафе   \n",
       "1   77874                  Родник   нет        кафе   \n",
       "2   24309         Кафе «Академия»   нет        кафе   \n",
       "3   21894              ПИЦЦЕТОРИЯ    да        кафе   \n",
       "4  119365  Кафе «Вишневая метель»   нет        кафе   \n",
       "\n",
       "                                             address  number  \n",
       "0         город Москва, улица Егора Абакумова, дом 9      48  \n",
       "1  город Москва, улица Талалихина, дом 2/1, корпус 1      35  \n",
       "2          город Москва, Абельмановская улица, дом 6      95  \n",
       "3            город Москва, Абрамцевская улица, дом 1      40  \n",
       "4  город Москва, Абрамцевская улица, дом 9, корпус 1      50  "
      ]
     },
     "execution_count": 4,
     "metadata": {},
     "output_type": "execute_result"
    }
   ],
   "source": [
    "# выведем первые 5 строк\n",
    "data.head()"
   ]
  },
  {
   "cell_type": "code",
   "execution_count": 5,
   "id": "6e6f29c4",
   "metadata": {},
   "outputs": [
    {
     "name": "stdout",
     "output_type": "stream",
     "text": [
      "<class 'pandas.core.frame.DataFrame'>\n",
      "RangeIndex: 15366 entries, 0 to 15365\n",
      "Data columns (total 6 columns):\n",
      " #   Column       Non-Null Count  Dtype \n",
      "---  ------       --------------  ----- \n",
      " 0   id           15366 non-null  int64 \n",
      " 1   object_name  15366 non-null  object\n",
      " 2   chain        15366 non-null  object\n",
      " 3   object_type  15366 non-null  object\n",
      " 4   address      15366 non-null  object\n",
      " 5   number       15366 non-null  int64 \n",
      "dtypes: int64(2), object(4)\n",
      "memory usage: 720.4+ KB\n"
     ]
    }
   ],
   "source": [
    "# основная информация по данным\n",
    "data.info()"
   ]
  },
  {
   "cell_type": "markdown",
   "id": "660bf623",
   "metadata": {},
   "source": [
    "Из первого взгляда на данные видно, что в них нет пропусков и все данные правильного типа."
   ]
  },
  {
   "cell_type": "markdown",
   "id": "3f0d8fe7",
   "metadata": {},
   "source": [
    "# Предобработка данных"
   ]
  },
  {
   "cell_type": "markdown",
   "id": "41dcbf01",
   "metadata": {},
   "source": [
    "В целом данные у нас неплохие. Мы уже увидели, что у нас нет пропусков, что все типы данных корректные. Нам осталось проверить данные на явные и неявные дубликаты. Также добавим столбец с улицами, на которых располагаются заведения и заменим названия типов заведений на более короткие. Это пригодится нам в дальнейшем исследовании."
   ]
  },
  {
   "cell_type": "markdown",
   "id": "a2d65591",
   "metadata": {},
   "source": [
    "## Изменение названий типов заведений"
   ]
  },
  {
   "cell_type": "markdown",
   "id": "3ce4863c",
   "metadata": {},
   "source": [
    "В данных есть названия заведений которые можно сократить:\n",
    "* \"предприятие быстрого обслуживания\" на \"фастфуд\",\n",
    "* \"магазин (отдел кулинарии)\" на \"кулинария\"\n",
    "\n",
    "С короткими названиями проще воспринимать информацию и на графиках они будут смотреться аккуратнее."
   ]
  },
  {
   "cell_type": "code",
   "execution_count": 6,
   "id": "6c87c139",
   "metadata": {},
   "outputs": [],
   "source": [
    "# сокращаем названия типов заведений\n",
    "data['object_type'] = data['object_type'].replace({\n",
    "    'предприятие быстрого обслуживания': 'фастфуд',\n",
    "    'магазин (отдел кулинарии)': 'кулинария'\n",
    "})"
   ]
  },
  {
   "cell_type": "markdown",
   "id": "cc59956b",
   "metadata": {},
   "source": [
    "## Проверка на наличие дубликатов\n",
    "\n",
    "Сначала проверим данные на явные дубликаты:"
   ]
  },
  {
   "cell_type": "code",
   "execution_count": 7,
   "id": "ab84f954",
   "metadata": {},
   "outputs": [
    {
     "name": "stdout",
     "output_type": "stream",
     "text": [
      "Количество явных дубликатов: 0\n"
     ]
    }
   ],
   "source": [
    "print('Количество явных дубликатов:', data.duplicated().sum())"
   ]
  },
  {
   "cell_type": "markdown",
   "id": "a7091621",
   "metadata": {},
   "source": [
    "Теперь попробуем проверить на дубликаты все столбцы за исключением `id`:"
   ]
  },
  {
   "cell_type": "code",
   "execution_count": 8,
   "id": "e6b4dd7e",
   "metadata": {},
   "outputs": [
    {
     "name": "stdout",
     "output_type": "stream",
     "text": [
      "Количество явных дубликатов, без учета столбца id: 82\n"
     ]
    }
   ],
   "source": [
    "print(\n",
    "    'Количество явных дубликатов, без учета столбца id:',\n",
    "    data.duplicated(subset=['object_name', 'chain', 'object_type', 'address', 'number']).sum()\n",
    ")"
   ]
  },
  {
   "cell_type": "code",
   "execution_count": 9,
   "id": "61da31a8",
   "metadata": {},
   "outputs": [],
   "source": [
    "# срезаем дубликаты\n",
    "data = data[~data.duplicated(subset=['object_name', 'chain', 'object_type', 'address', 'number'])]"
   ]
  },
  {
   "cell_type": "markdown",
   "id": "40829c4f",
   "metadata": {},
   "source": [
    "Отлично, явные дубликаты мы убрали.\n",
    "\n",
    "Проверим данные на наличие неявных дубликатов:"
   ]
  },
  {
   "cell_type": "code",
   "execution_count": 10,
   "id": "7818a750",
   "metadata": {},
   "outputs": [
    {
     "data": {
      "text/plain": [
       "0"
      ]
     },
     "execution_count": 10,
     "metadata": {},
     "output_type": "execute_result"
    }
   ],
   "source": [
    "# проверка уникальности id\n",
    "len(data) - data['id'].nunique()"
   ]
  },
  {
   "cell_type": "code",
   "execution_count": 11,
   "id": "d14648f8",
   "metadata": {},
   "outputs": [
    {
     "name": "stdout",
     "output_type": "stream",
     "text": [
      "['нет' 'да']\n"
     ]
    }
   ],
   "source": [
    "# выведем уникальные значения в параметре с указаением сетевое заведение или нет \n",
    "print(data['chain'].unique())"
   ]
  },
  {
   "cell_type": "code",
   "execution_count": 12,
   "id": "4b343694",
   "metadata": {},
   "outputs": [
    {
     "name": "stdout",
     "output_type": "stream",
     "text": [
      "['кафе' 'столовая' 'закусочная' 'фастфуд' 'ресторан' 'кафетерий' 'буфет'\n",
      " 'бар' 'кулинария']\n"
     ]
    }
   ],
   "source": [
    "# выведем уникальные значения в типе заведения\n",
    "print(data['object_type'].unique())"
   ]
  },
  {
   "cell_type": "markdown",
   "id": "743c8827",
   "metadata": {},
   "source": [
    "В столбцах id, chain, object_type неявных дубликатов нет. С названиями заведений все немного сложнее. В названиях много неявных дубликатов, например вот дубликаты заведения Макдоналдс:"
   ]
  },
  {
   "cell_type": "code",
   "execution_count": 13,
   "id": "44fcacfc",
   "metadata": {},
   "outputs": [
    {
     "data": {
      "text/plain": [
       "array(['МАКДОНАЛДС', 'Ресторан «Макдоналдс»', 'Макдоналдс',\n",
       "       'Предприятие быстрого обслуживания «Макдоналдс»',\n",
       "       'МОСКВА - МАКДОНАЛДС', 'КАФЕ МАКДОНАЛДС', 'КАФЕ «МАКДОНАЛДС»',\n",
       "       'Кафе «МАКДОНАЛДС»', 'РЕСТОРАН«МАКДОНАЛДС»', 'Кафе «Макдоналдс»'],\n",
       "      dtype=object)"
      ]
     },
     "execution_count": 13,
     "metadata": {},
     "output_type": "execute_result"
    }
   ],
   "source": [
    "# неявные дубликаты по заведению \"макдоналдс\"\n",
    "data[data['object_name'].str.contains('макдоналдс', case=False)]['object_name'].unique()"
   ]
  },
  {
   "cell_type": "markdown",
   "id": "b5e06f01",
   "metadata": {},
   "source": [
    "Столько Макдональдсов, аж стало больно... ой, кхм.\n",
    "\n",
    "Все это явно тот самый единственный и неповторимый Макдоналдс. Вот список признаков дубликатов:\n",
    "* В названии присутствует тип заведения,\n",
    "* Разные регистры,\n",
    "* Кавычки.\n",
    "\n",
    "Создадим функцию, которая очистит названия от этих признаков:"
   ]
  },
  {
   "cell_type": "code",
   "execution_count": 14,
   "id": "46a75894",
   "metadata": {},
   "outputs": [],
   "source": [
    "# список с типами заведений\n",
    "object_types = data['object_type'].unique()\n",
    "\n",
    "# функция для очистки имен\n",
    "def clean_names(name):\n",
    "    \n",
    "    # вернем название в нижнем регистре, если название состоит из 1 слова\n",
    "    if len(name.split()) == 1:\n",
    "        return name.lower()\n",
    "    \n",
    "    # переводим в нижний регистр\n",
    "    result = name.lower()\n",
    "    \n",
    "    # убираем из названия тип объекта\n",
    "    for obj_type in object_types:\n",
    "        if re.match(obj_type, result):\n",
    "            result = re.sub(obj_type, '', result)\n",
    "            \n",
    "    # убираем кавычки из названия\n",
    "    result = re.sub('[«»]', '', result)\n",
    "    \n",
    "    # убираем пробелы по краям\n",
    "    result = result.strip()\n",
    "\n",
    "    return result"
   ]
  },
  {
   "cell_type": "code",
   "execution_count": 15,
   "id": "69030dcb",
   "metadata": {},
   "outputs": [
    {
     "name": "stdout",
     "output_type": "stream",
     "text": [
      "Количество уникальных названий заведений до очистки неявных дубликатов: 10393\n",
      "Количество уникальных названий заведений после очистки от неявных дубликатов: 9365\n"
     ]
    }
   ],
   "source": [
    "# применим функцию к названиям и посмотрим сколько значений мы очистили\n",
    "print('Количество уникальных названий заведений до очистки неявных дубликатов: {}'.format(data['object_name'].nunique()))\n",
    "\n",
    "data['object_name'] = data['object_name'].apply(clean_names)\n",
    "\n",
    "print('Количество уникальных названий заведений после очистки от неявных дубликатов: {}'\n",
    "      .format(data['object_name'].nunique()))"
   ]
  },
  {
   "cell_type": "markdown",
   "id": "fc77f0a6",
   "metadata": {},
   "source": [
    "После применения функции мы убрали более 1000 дубликатов названий. Посмотрим как теперь выглядит список названий со словом \"макдоналдс\":"
   ]
  },
  {
   "cell_type": "code",
   "execution_count": 16,
   "id": "9051d20f",
   "metadata": {},
   "outputs": [
    {
     "data": {
      "text/plain": [
       "array(['макдоналдс', 'предприятие быстрого обслуживания макдоналдс',\n",
       "       'москва - макдоналдс', 'ресторан«макдоналдс»'], dtype=object)"
      ]
     },
     "execution_count": 16,
     "metadata": {},
     "output_type": "execute_result"
    }
   ],
   "source": [
    "# неявные дубликаты по заведению \"макдоналдс\"\n",
    "data[data['object_name'].str.contains('макдоналдс', case=False)]['object_name'].unique()"
   ]
  },
  {
   "cell_type": "markdown",
   "id": "4e131102",
   "metadata": {},
   "source": [
    "Отлично, вместо 11 осталось всего 3 (все как в жизни 🥲). Этого достаточно для более точного анализа."
   ]
  },
  {
   "cell_type": "markdown",
   "id": "61109b9a",
   "metadata": {},
   "source": [
    "<div class=\"alert alert-block alert-info\">\n",
    "<font size='4'><b>Комментарий студента</b></font>    \n",
    "    \n",
    "Ого, спасибо за комментарий, на будущее буду держать это в голове!\n",
    "    \n",
    "</div>"
   ]
  },
  {
   "cell_type": "markdown",
   "id": "25bc609b",
   "metadata": {},
   "source": [
    "## Добавление столбца с улицами"
   ]
  },
  {
   "cell_type": "markdown",
   "id": "2f2d00b0",
   "metadata": {},
   "source": [
    "Добавим улицы на которых расположены заведения в отдельный столбец датафрейма. Это пригодится нам для дальнейшего исследования."
   ]
  },
  {
   "cell_type": "code",
   "execution_count": 17,
   "id": "233bcd79",
   "metadata": {},
   "outputs": [],
   "source": [
    "# словарь с типами улиц\n",
    "types = ['улица', 'шоссе', 'проспект', 'бульвар', 'проезд',\n",
    "                'переулок', 'набережная', 'площадь', 'аллея', 'квартал',\n",
    "               'микрорайон', 'территория']\n",
    "\n",
    "def get_street(address):\n",
    "    # разделяем строку адреса\n",
    "    address_splited = address.split(',')\n",
    "    \n",
    "    # проверим каждый элемент адреса на принадлежность к типу улиц\n",
    "    for elem in address_splited:\n",
    "        for street_type in types:\n",
    "            if street_type in elem.lower():\n",
    "                return elem.strip()"
   ]
  },
  {
   "cell_type": "code",
   "execution_count": 18,
   "id": "ebd63531",
   "metadata": {},
   "outputs": [],
   "source": [
    "# применим функцию\n",
    "data['street'] = data['address'].apply(get_street)"
   ]
  },
  {
   "cell_type": "code",
   "execution_count": 19,
   "id": "aee4b0d8",
   "metadata": {},
   "outputs": [
    {
     "data": {
      "text/html": [
       "<div>\n",
       "<style scoped>\n",
       "    .dataframe tbody tr th:only-of-type {\n",
       "        vertical-align: middle;\n",
       "    }\n",
       "\n",
       "    .dataframe tbody tr th {\n",
       "        vertical-align: top;\n",
       "    }\n",
       "\n",
       "    .dataframe thead th {\n",
       "        text-align: right;\n",
       "    }\n",
       "</style>\n",
       "<table border=\"1\" class=\"dataframe\">\n",
       "  <thead>\n",
       "    <tr style=\"text-align: right;\">\n",
       "      <th></th>\n",
       "      <th>id</th>\n",
       "      <th>object_name</th>\n",
       "      <th>chain</th>\n",
       "      <th>object_type</th>\n",
       "      <th>address</th>\n",
       "      <th>number</th>\n",
       "      <th>street</th>\n",
       "    </tr>\n",
       "  </thead>\n",
       "  <tbody>\n",
       "    <tr>\n",
       "      <th>0</th>\n",
       "      <td>151635</td>\n",
       "      <td>сметана</td>\n",
       "      <td>нет</td>\n",
       "      <td>кафе</td>\n",
       "      <td>город Москва, улица Егора Абакумова, дом 9</td>\n",
       "      <td>48</td>\n",
       "      <td>улица Егора Абакумова</td>\n",
       "    </tr>\n",
       "    <tr>\n",
       "      <th>1</th>\n",
       "      <td>77874</td>\n",
       "      <td>родник</td>\n",
       "      <td>нет</td>\n",
       "      <td>кафе</td>\n",
       "      <td>город Москва, улица Талалихина, дом 2/1, корпус 1</td>\n",
       "      <td>35</td>\n",
       "      <td>улица Талалихина</td>\n",
       "    </tr>\n",
       "    <tr>\n",
       "      <th>2</th>\n",
       "      <td>24309</td>\n",
       "      <td>академия</td>\n",
       "      <td>нет</td>\n",
       "      <td>кафе</td>\n",
       "      <td>город Москва, Абельмановская улица, дом 6</td>\n",
       "      <td>95</td>\n",
       "      <td>Абельмановская улица</td>\n",
       "    </tr>\n",
       "    <tr>\n",
       "      <th>3</th>\n",
       "      <td>21894</td>\n",
       "      <td>пиццетория</td>\n",
       "      <td>да</td>\n",
       "      <td>кафе</td>\n",
       "      <td>город Москва, Абрамцевская улица, дом 1</td>\n",
       "      <td>40</td>\n",
       "      <td>Абрамцевская улица</td>\n",
       "    </tr>\n",
       "    <tr>\n",
       "      <th>4</th>\n",
       "      <td>119365</td>\n",
       "      <td>вишневая метель</td>\n",
       "      <td>нет</td>\n",
       "      <td>кафе</td>\n",
       "      <td>город Москва, Абрамцевская улица, дом 9, корпус 1</td>\n",
       "      <td>50</td>\n",
       "      <td>Абрамцевская улица</td>\n",
       "    </tr>\n",
       "  </tbody>\n",
       "</table>\n",
       "</div>"
      ],
      "text/plain": [
       "       id      object_name chain object_type  \\\n",
       "0  151635          сметана   нет        кафе   \n",
       "1   77874           родник   нет        кафе   \n",
       "2   24309         академия   нет        кафе   \n",
       "3   21894       пиццетория    да        кафе   \n",
       "4  119365  вишневая метель   нет        кафе   \n",
       "\n",
       "                                             address  number  \\\n",
       "0         город Москва, улица Егора Абакумова, дом 9      48   \n",
       "1  город Москва, улица Талалихина, дом 2/1, корпус 1      35   \n",
       "2          город Москва, Абельмановская улица, дом 6      95   \n",
       "3            город Москва, Абрамцевская улица, дом 1      40   \n",
       "4  город Москва, Абрамцевская улица, дом 9, корпус 1      50   \n",
       "\n",
       "                  street  \n",
       "0  улица Егора Абакумова  \n",
       "1       улица Талалихина  \n",
       "2   Абельмановская улица  \n",
       "3     Абрамцевская улица  \n",
       "4     Абрамцевская улица  "
      ]
     },
     "execution_count": 19,
     "metadata": {},
     "output_type": "execute_result"
    }
   ],
   "source": [
    "# выведем первые 5 значений \n",
    "data.head()"
   ]
  },
  {
   "cell_type": "markdown",
   "id": "cbd6aeb2",
   "metadata": {},
   "source": [
    "Улицы на месте, и выглядят правдоподобно."
   ]
  },
  {
   "cell_type": "markdown",
   "id": "6967fcb9",
   "metadata": {},
   "source": [
    "## Выводы"
   ]
  },
  {
   "cell_type": "markdown",
   "id": "d58eb120",
   "metadata": {},
   "source": [
    "В данных мы не нашли явных дубликатов, зато неявных дубликатов в столбце с названиями заведений навалом. Мы как могли почистили их: перевели в нижний регистр, убрали из названий типы заведений, убрали кавычки. Всего после чистки стало на 1000 неявных дубликатов меньше.\n",
    "\n",
    "Также в исходный датафрейм мы добавили столбец с названием улицы, на которой располагается заведение.\n",
    "\n",
    "Данные готовы к анализу."
   ]
  },
  {
   "cell_type": "markdown",
   "id": "d5ff7d95",
   "metadata": {},
   "source": [
    "# Исследование заведений по типам"
   ]
  },
  {
   "cell_type": "markdown",
   "id": "1a89cdb7",
   "metadata": {},
   "source": [
    "Начнем исследование данных с изучения видов заведений. \n",
    "\n",
    "Цель данного этапа ответить на вопросы:\n",
    "* Какие виды заведений самые популярные?\n",
    "* Для какого вида заведений характерно сетевое распространение?\n",
    "* Какое количество мест характерно для каждого вида заведения?\n",
    "* Какое количество посадочных мест характерно для сетевых заведений?\n",
    "\n",
    "Последовательно ответим на все эти вопросы. А главным инструментом для поиска ответов будут графики."
   ]
  },
  {
   "cell_type": "markdown",
   "id": "fc64a6cc",
   "metadata": {},
   "source": [
    "Создадим функцию для стилизации графиков:"
   ]
  },
  {
   "cell_type": "code",
   "execution_count": 20,
   "id": "d5feea75",
   "metadata": {},
   "outputs": [],
   "source": [
    "# функция для настройки стиля в графиках\n",
    "def style_plot(\n",
    "    xlabel,\n",
    "    ylabel,\n",
    "#     text_tmpl='%{y:.0f}',\n",
    "#     yticks=False\n",
    "    \n",
    "):\n",
    "    fig.update_layout(\n",
    "        autosize=True,\n",
    "        xaxis_title_text=xlabel,\n",
    "        yaxis_title_text=ylabel,\n",
    "        plot_bgcolor='white',\n",
    "        xaxis=dict(\n",
    "            showline=True,\n",
    "            linecolor='#58595B',\n",
    "            color='black',\n",
    "            categoryorder='total descending'\n",
    "        ),\n",
    "        yaxis=dict(\n",
    "            color='black',\n",
    "            showgrid=True,\n",
    "            gridcolor='#E6E7E8',\n",
    "#             showticklabels=yticks\n",
    "        ),\n",
    "        title=dict(\n",
    "            font=dict(\n",
    "                color='black'\n",
    "            )\n",
    "        )\n",
    "    )\n",
    "#     fig.update_traces(texttemplate=text_tmpl ,textposition='outside')"
   ]
  },
  {
   "cell_type": "markdown",
   "id": "63f865d8",
   "metadata": {},
   "source": [
    "### Какие виды заведений самые популярные?"
   ]
  },
  {
   "cell_type": "code",
   "execution_count": 21,
   "id": "7830b959",
   "metadata": {},
   "outputs": [
    {
     "data": {
      "image/jpeg": "[encoded data removed]"
     },
     "metadata": {},
     "output_type": "display_data"
    }
   ],
   "source": [
    "# гистограмма распределения заведений по типу\n",
    "fig = px.histogram(\n",
    "    data.replace({'предприятие быстрого обслуживания': 'фастфуд'}),\n",
    "    x='object_type',\n",
    "#     text_auto=True,\n",
    "    title='Распределение заведений по типу',\n",
    "    color_discrete_sequence=colors,\n",
    "    labels={'object_type': 'Тип заведения'},\n",
    ")\n",
    "\n",
    "# выводим стилизованную гистограмму\n",
    "style_plot(xlabel='', ylabel='Количество')\n",
    "fig.update_traces(hovertemplate=\"Тип заведения: %{x}<br>Количество заведений: %{y:.0f}\")\n",
    "fig.show()"
   ]
  },
  {
   "cell_type": "markdown",
   "id": "f2bd615d",
   "metadata": {},
   "source": [
    "<div class=\"alert alert-block alert-info\">\n",
    "<font size='4'><b>Комментарий студента</b></font>    \n",
    "    \n",
    "Урезал некоторую красоту, ради работоспособности... Поэтому тебе придется на слово поверить, что графики выглядели просто великолепно...\n",
    "    \n",
    "😝\n",
    "    \n",
    "</div>"
   ]
  },
  {
   "cell_type": "markdown",
   "id": "933a23d6",
   "metadata": {},
   "source": [
    "Судя по графику самый популярный тип заведения – кафе. В Москве открыто более 6000 заведений этого типа. Следом идет группа: столовые, рестораны и фастфуд. В этих категориях открыто от 2000 до 2500 заведений. У остальных типов открыто не более 900 заведений."
   ]
  },
  {
   "cell_type": "markdown",
   "id": "2fadadad",
   "metadata": {},
   "source": [
    "### Для какого вида заведения характерно сетевое распространение?"
   ]
  },
  {
   "cell_type": "markdown",
   "id": "74073289",
   "metadata": {},
   "source": [
    "Для начала посмотрим на общую картину по сетевым заведениям:"
   ]
  },
  {
   "cell_type": "code",
   "execution_count": 22,
   "id": "0ff04f6c",
   "metadata": {},
   "outputs": [
    {
     "data": {
      "image/jpeg": "[encoded data removed]"
     },
     "metadata": {},
     "output_type": "display_data"
    }
   ],
   "source": [
    "# готовим данные для визуализации\n",
    "to_plot = data['chain'].value_counts().reset_index().replace({'да': 'сетевое заведение', 'нет': 'несетевое заведение'})\n",
    "\n",
    "# строим фигуру\n",
    "fig = px.pie(\n",
    "    to_plot,\n",
    "    values='chain',\n",
    "    names='index',\n",
    "    title='Отношение сетевых и несетевых заведений',\n",
    "    labels={'index': 'Вид заведения', 'chain': 'Количество'},\n",
    "    color_discrete_sequence=colors,\n",
    "    width=600\n",
    "    \n",
    ")\n",
    "\n",
    "# отобразим легенду\n",
    "fig.update_traces(\n",
    "    showlegend=True, \n",
    ")\n",
    "\n",
    "fig.show()"
   ]
  },
  {
   "cell_type": "markdown",
   "id": "be8515e2",
   "metadata": {},
   "source": [
    "Лишь каждое 5 заведение принадлежит какой-либо сети.\n",
    "\n",
    "Посмотрим на доли сетевых заведений среди всех типов заведений:"
   ]
  },
  {
   "cell_type": "code",
   "execution_count": 23,
   "id": "23943573",
   "metadata": {},
   "outputs": [
    {
     "data": {
      "image/jpeg": "[encoded data removed]"
     },
     "metadata": {},
     "output_type": "display_data"
    }
   ],
   "source": [
    "# готовим данные для построения графика\n",
    "to_plot = data.pivot_table(\n",
    "    index='object_type',\n",
    "    columns='chain',\n",
    "    values='id',\n",
    "    aggfunc='count'\n",
    ")\n",
    "to_plot['chain_share'] = to_plot['да'] / (to_plot['да'] + to_plot['нет'])\n",
    "\n",
    "# строим фигуру\n",
    "fig = px.bar(\n",
    "    to_plot,\n",
    "    x=to_plot.index,\n",
    "    y=to_plot['chain_share'],\n",
    "    color_discrete_sequence=colors,\n",
    "#     text_auto=True,\n",
    "    title='Отношение сетевых заведений к общему по типу',\n",
    "    \n",
    ")\n",
    "\n",
    "# стилизуем фигуру\n",
    "style_plot(xlabel='', ylabel='Доля')\n",
    "fig.update_traces(hovertemplate=\"Тип заведения: %{x}<br>Доля сетевых заведений: %{y:.0%}\")\n",
    "fig.show()"
   ]
  },
  {
   "cell_type": "markdown",
   "id": "1c223e97",
   "metadata": {},
   "source": [
    "* Больше всего сетевых заведений характерно для фастфуда. В этой категории почти 41% от всех заведений входят в ту или иную сеть.\n",
    "* Затем следует с показателем 29% кулинария.\n",
    "* Рестораны и кафе имеют примерно одинаковый показатель: 24% и 23% соответственно.\n",
    "* Самые же несетевые категории это – бар, буфет, столовая. Их показатели 4%, 2% и менее 1% соответственно."
   ]
  },
  {
   "cell_type": "markdown",
   "id": "1b1cecc0",
   "metadata": {},
   "source": [
    "### Какое количество посадочных мест характерно для каждого вида заведения?"
   ]
  },
  {
   "cell_type": "markdown",
   "id": "9ac65572",
   "metadata": {},
   "source": [
    "Вывод о характерном количестве мест будем делать по средним показателям для каждого вида заведения. Осталось определить: использовать медиану или среднее арифметическое. Для этого построим сводную таблицу:"
   ]
  },
  {
   "cell_type": "code",
   "execution_count": 24,
   "id": "9efe2ca0",
   "metadata": {},
   "outputs": [
    {
     "data": {
      "text/html": [
       "<div>\n",
       "<style scoped>\n",
       "    .dataframe tbody tr th:only-of-type {\n",
       "        vertical-align: middle;\n",
       "    }\n",
       "\n",
       "    .dataframe tbody tr th {\n",
       "        vertical-align: top;\n",
       "    }\n",
       "\n",
       "    .dataframe thead tr th {\n",
       "        text-align: left;\n",
       "    }\n",
       "\n",
       "    .dataframe thead tr:last-of-type th {\n",
       "        text-align: right;\n",
       "    }\n",
       "</style>\n",
       "<table border=\"1\" class=\"dataframe\">\n",
       "  <thead>\n",
       "    <tr>\n",
       "      <th></th>\n",
       "      <th>median</th>\n",
       "      <th>mean</th>\n",
       "      <th>max</th>\n",
       "    </tr>\n",
       "    <tr>\n",
       "      <th></th>\n",
       "      <th>number</th>\n",
       "      <th>number</th>\n",
       "      <th>number</th>\n",
       "    </tr>\n",
       "    <tr>\n",
       "      <th>object_type</th>\n",
       "      <th></th>\n",
       "      <th></th>\n",
       "      <th></th>\n",
       "    </tr>\n",
       "  </thead>\n",
       "  <tbody>\n",
       "    <tr>\n",
       "      <th>бар</th>\n",
       "      <td>35</td>\n",
       "      <td>43.533333</td>\n",
       "      <td>1700</td>\n",
       "    </tr>\n",
       "    <tr>\n",
       "      <th>буфет</th>\n",
       "      <td>32</td>\n",
       "      <td>51.509532</td>\n",
       "      <td>320</td>\n",
       "    </tr>\n",
       "    <tr>\n",
       "      <th>закусочная</th>\n",
       "      <td>0</td>\n",
       "      <td>7.825215</td>\n",
       "      <td>216</td>\n",
       "    </tr>\n",
       "    <tr>\n",
       "      <th>кафе</th>\n",
       "      <td>30</td>\n",
       "      <td>39.785703</td>\n",
       "      <td>533</td>\n",
       "    </tr>\n",
       "    <tr>\n",
       "      <th>кафетерий</th>\n",
       "      <td>6</td>\n",
       "      <td>9.184810</td>\n",
       "      <td>200</td>\n",
       "    </tr>\n",
       "    <tr>\n",
       "      <th>кулинария</th>\n",
       "      <td>0</td>\n",
       "      <td>5.589744</td>\n",
       "      <td>50</td>\n",
       "    </tr>\n",
       "    <tr>\n",
       "      <th>ресторан</th>\n",
       "      <td>80</td>\n",
       "      <td>96.884750</td>\n",
       "      <td>1500</td>\n",
       "    </tr>\n",
       "    <tr>\n",
       "      <th>столовая</th>\n",
       "      <td>103</td>\n",
       "      <td>130.337848</td>\n",
       "      <td>1400</td>\n",
       "    </tr>\n",
       "    <tr>\n",
       "      <th>фастфуд</th>\n",
       "      <td>6</td>\n",
       "      <td>20.808219</td>\n",
       "      <td>580</td>\n",
       "    </tr>\n",
       "  </tbody>\n",
       "</table>\n",
       "</div>"
      ],
      "text/plain": [
       "            median        mean    max\n",
       "            number      number number\n",
       "object_type                          \n",
       "бар             35   43.533333   1700\n",
       "буфет           32   51.509532    320\n",
       "закусочная       0    7.825215    216\n",
       "кафе            30   39.785703    533\n",
       "кафетерий        6    9.184810    200\n",
       "кулинария        0    5.589744     50\n",
       "ресторан        80   96.884750   1500\n",
       "столовая       103  130.337848   1400\n",
       "фастфуд          6   20.808219    580"
      ]
     },
     "execution_count": 24,
     "metadata": {},
     "output_type": "execute_result"
    }
   ],
   "source": [
    "# создадим сводную таблицу \n",
    "to_plot = data.pivot_table(\n",
    "    index='object_type',\n",
    "    values='number',\n",
    "    aggfunc=['median', 'mean', 'max']\n",
    ")\n",
    "\n",
    "to_plot"
   ]
  },
  {
   "cell_type": "markdown",
   "id": "40040fc4",
   "metadata": {},
   "source": [
    "Во всех видах заведений присутствуют выбросы с максимальным значением. Поэтому будем использовать медиану, которая более устойчива к выбросам."
   ]
  },
  {
   "cell_type": "code",
   "execution_count": 25,
   "id": "6ae53284",
   "metadata": {},
   "outputs": [
    {
     "data": {
      "image/jpeg": "[encoded data removed]"
     },
     "metadata": {},
     "output_type": "display_data"
    }
   ],
   "source": [
    "# строим фигуру\n",
    "fig = px.bar(\n",
    "    x=to_plot.index,\n",
    "    y=to_plot['median']['number'],\n",
    "    color_discrete_sequence=colors,\n",
    "    title='Медианное количество мест по типам заведений'\n",
    ")\n",
    "\n",
    "# выводим стилизованный график\n",
    "style_plot(xlabel='', ylabel='Количество мест')\n",
    "fig.update_traces(hovertemplate='Тип заведения: %{x}<br>Количество мест: %{y}')\n",
    "fig.show()"
   ]
  },
  {
   "cell_type": "markdown",
   "id": "4028f653",
   "metadata": {},
   "source": [
    "По графику заметны 3 группы заведений:\n",
    "1. Заведения с большой вместимостью (от 80 мест до 105 мест): столовые, рестораны;\n",
    "2. Заведения со средней вместимостью (от 30 до 35 мест): бары, буфеты, кафе;\n",
    "3. Заведения с малой вместимостью (до 6 мест): кафетерии, фастфуды, кулинарии, закусочные.\n",
    "\n",
    "Но при этом нужно помнить, что это лишь средние значения, которые дают общее понимание. При детальном рассмотрении можно увидеть много неожиданного. Например, самое большое количество мест среди всех заведений не у столовой или ресторана, а у бара (1700 мест)."
   ]
  },
  {
   "cell_type": "markdown",
   "id": "2a4403a5",
   "metadata": {},
   "source": [
    "### Какое количество посадочных мест характерно для сетевых заведений?"
   ]
  },
  {
   "cell_type": "markdown",
   "id": "f42b52fd",
   "metadata": {},
   "source": [
    "Сузим выборку. Оставим только сетевые заведения, и посмотрим на среднее количество мест по ним."
   ]
  },
  {
   "cell_type": "code",
   "execution_count": 26,
   "id": "b58a720c",
   "metadata": {},
   "outputs": [
    {
     "data": {
      "image/jpeg": "[encoded data removed]"
     },
     "metadata": {},
     "output_type": "display_data"
    }
   ],
   "source": [
    "# готовим данные для графика\n",
    "to_plot = data.query('chain == \"да\"').pivot_table(\n",
    "    index='object_type',\n",
    "    values='number',\n",
    "    aggfunc=['median', 'mean', 'max']\n",
    ")\n",
    "\n",
    "\n",
    "fig = px.bar(\n",
    "    x=to_plot.index,\n",
    "    y=to_plot['median']['number'],\n",
    "    color_discrete_sequence=colors,\n",
    "    title='Медианное количество посадочных мест у сетевых заведений'\n",
    ")\n",
    "\n",
    "\n",
    "style_plot(xlabel='', ylabel='Количество мест')\n",
    "fig.update_traces(hovertemplate='Тип заведения: %{x}<br>Среднее значение: %{y}')\n",
    "fig.show()"
   ]
  },
  {
   "cell_type": "markdown",
   "id": "c9048721",
   "metadata": {},
   "source": [
    "Критически ситуация не поменялась. Из интересных моментов заметно лишь:\n",
    "* Для большинства сетевых заведений характерно увеличение посадочных мест.\n",
    "* У сетевых заведений с фастфудом в 5 раз больше мест, чем в среднем с учетом несетевых заведений.\n",
    "* Медианных показатель количества мест для сетевых буфетов равен 0, хотя при общем рассмотрении он был 32. Но все дело в том, что сетевых буфетов крайне мало. Поэтому какие-то выводы делать некорректно."
   ]
  },
  {
   "cell_type": "markdown",
   "id": "22cb6407",
   "metadata": {},
   "source": [
    "Теперь попробуем узнать есть ли зависимость среднего количества мест в заведения от размера сети. Для этого создадим сводную таблицу с размерами сети и медианным значением количества мест. Затем построим scatterplot и попробуем визуально определить зависимость:"
   ]
  },
  {
   "cell_type": "code",
   "execution_count": 27,
   "id": "3e0740b0",
   "metadata": {},
   "outputs": [],
   "source": [
    "# создадим сводную таблицу\n",
    "chain_data = (\n",
    "    data.query('chain == \"да\"')\n",
    "    .pivot_table(\n",
    "        index=['object_type', 'object_name'],\n",
    "        aggfunc={'id': 'count', 'number': 'median'},\n",
    "    )\n",
    "    .reset_index()\n",
    "    .rename(columns={'id': 'size_of_chain', 'number': 'median_seats'})\n",
    "    # чтобы убрать шумы возьмем только сети, в которых более 5 заведений \n",
    "    .query('size_of_chain >= 5')\n",
    ")"
   ]
  },
  {
   "cell_type": "code",
   "execution_count": 28,
   "id": "0bc9ae3b",
   "metadata": {
    "scrolled": false
   },
   "outputs": [
    {
     "data": {
      "image/jpeg": "[encoded data removed]"
     },
     "metadata": {},
     "output_type": "display_data"
    }
   ],
   "source": [
    "# строим график\n",
    "fig = px.scatter(\n",
    "    x=chain_data['size_of_chain'],\n",
    "    y=chain_data['median_seats'],\n",
    "    color=chain_data['object_type'],\n",
    "    color_discrete_sequence=colors,\n",
    "    labels={\n",
    "        'x': 'Количество заведений в сети',\n",
    "        'y': 'Медианное количество мест в заведении',\n",
    "        'color': 'Тип заведения'\n",
    "    },\n",
    "    title='Размер сети vs Медианное количество мест в заведении',\n",
    ")\n",
    "\n",
    "# наводим красоту\n",
    "fig.update_traces(\n",
    "    marker=dict(\n",
    "        size=15,\n",
    "        opacity=0.7\n",
    "    )\n",
    ")\n",
    "fig.update_layout(\n",
    "    xaxis=dict(\n",
    "        showgrid=True,\n",
    "        gridcolor='#E6E7E8',\n",
    "    )\n",
    ")\n",
    "style_plot(xlabel='Количество заведений в сети', ylabel='Медианное количество мест в заведении')\n",
    "\n",
    "fig.show()"
   ]
  },
  {
   "cell_type": "code",
   "execution_count": 29,
   "id": "a7162e52",
   "metadata": {},
   "outputs": [
    {
     "name": "stdout",
     "output_type": "stream",
     "text": [
      "Корреляция между размером сети и количеством мест в заведении: 0.07938093277509028\n"
     ]
    }
   ],
   "source": [
    "# посмотрим корреляцию\n",
    "print('Корреляция между размером сети и количеством мест в заведении:', \n",
    "      chain_data['size_of_chain'].corr(chain_data['median_seats']))"
   ]
  },
  {
   "cell_type": "markdown",
   "id": "e1e25fed",
   "metadata": {},
   "source": [
    "По графику видно:\n",
    "* Размер большинства сетей до 15 заведений. Количество мест в этих заведениях варьируется от 0 до 50.\n",
    "* Среди сетей с небольшим количеством заведений, но большим количеством мест видны некоторые сети ресторанов и кафе.\n",
    "* Также есть несколько сетей фастфуда и одна сеть кафе в которых более 100 заведений, в которых 40-80 мест.\n",
    "* Корреляция между количеством заведений и количеством мест совсем небольшая."
   ]
  },
  {
   "cell_type": "markdown",
   "id": "6dc9dea2",
   "metadata": {},
   "source": [
    "## Выводы"
   ]
  },
  {
   "cell_type": "markdown",
   "id": "9fde1d88",
   "metadata": {},
   "source": [
    "Мы изучили характеристики разных типов заведений. Вот некоторые выводы, которые мы смогли сделать:\n",
    "* Кафе – самый популярный тип заведения в Москве. Всего в городе открыто более 6000 кафе, что более чем в 2 раза превышает второй по популярности тип заведений.\n",
    "* 41% заведений типа фастфуд входят в сети. Самые уникальные заведения в типах: бар, буфет, столовая. Почти каждое четвертое кафе сетевое.\n",
    "* По количество посадочных мест заведения можно разбить на 3 группы:\n",
    "    1. Заведения с большой вместимостью (от 80 мест до 105 мест): столовые, рестораны;\n",
    "    2. Заведения со средней вместимостью (от 30 до 35 мест): бары, буфеты, кафе;\n",
    "    3. Заведения с малой вместимостью (до 6 мест): кафетерии, фастфуды, кулинарии, закусочные.\n",
    "* В сетевых заведениях в среднем больше мест, чем в несетевых. Лишь для буфетов это правило работает наоборот."
   ]
  },
  {
   "cell_type": "markdown",
   "id": "57b1057c",
   "metadata": {},
   "source": [
    "# Исследование заведений по местоположению"
   ]
  },
  {
   "cell_type": "markdown",
   "id": "86163823",
   "metadata": {},
   "source": [
    "Изучим заведения по их местоположению. Наша цель найти районы с самой высокой конкуренцией и районы, которые пока не сильно развиты в плане количества заведений. Благодаря полученным знаниям, мы сможем выбрать местоположение для нашего заведения."
   ]
  },
  {
   "cell_type": "markdown",
   "id": "fed0410d",
   "metadata": {},
   "source": [
    "Для того, чтобы определить район по улице, возьмем еще один датасет. В нем будут храниться улицы и районы, которым принадлежат эти улицы. "
   ]
  },
  {
   "cell_type": "code",
   "execution_count": 30,
   "id": "208f6705",
   "metadata": {},
   "outputs": [],
   "source": [
    "import requests\n",
    "from urllib.parse import urlencode\n",
    "\n",
    "base_url = 'https://cloud-api.yandex.net/v1/disk/public/resources/download?'\n",
    "public_key = 'https://disk.yandex.ru/d/ZN6BqCjNt14CbQ'\n",
    "\n",
    "# Получаем загрузочную ссылку\n",
    "final_url = base_url + urlencode(dict(public_key=public_key))\n",
    "response = requests.get(final_url)\n",
    "download_url = response.json()['href']\n",
    "\n",
    "# Загружаем файл и сохраняем его\n",
    "download_response = requests.get(download_url)\n",
    "with open('streets_by_districts.csv', 'wb') as f:\n",
    "    f.write(download_response.content)"
   ]
  },
  {
   "cell_type": "code",
   "execution_count": 31,
   "id": "b706bb2d",
   "metadata": {},
   "outputs": [],
   "source": [
    "# прочитаем датасет с районами Москвы\n",
    "msk_districts = pd.read_csv('streets_by_districts.csv', index_col=0)"
   ]
  },
  {
   "cell_type": "code",
   "execution_count": 32,
   "id": "eaa8cf42",
   "metadata": {},
   "outputs": [
    {
     "data": {
      "text/html": [
       "<div>\n",
       "<style scoped>\n",
       "    .dataframe tbody tr th:only-of-type {\n",
       "        vertical-align: middle;\n",
       "    }\n",
       "\n",
       "    .dataframe tbody tr th {\n",
       "        vertical-align: top;\n",
       "    }\n",
       "\n",
       "    .dataframe thead th {\n",
       "        text-align: right;\n",
       "    }\n",
       "</style>\n",
       "<table border=\"1\" class=\"dataframe\">\n",
       "  <thead>\n",
       "    <tr style=\"text-align: right;\">\n",
       "      <th></th>\n",
       "      <th>street</th>\n",
       "      <th>district</th>\n",
       "    </tr>\n",
       "  </thead>\n",
       "  <tbody>\n",
       "    <tr>\n",
       "      <th>0</th>\n",
       "      <td>1-й Ирининский переулок</td>\n",
       "      <td>Басманный район</td>\n",
       "    </tr>\n",
       "    <tr>\n",
       "      <th>1</th>\n",
       "      <td>2-й Ирининский переулок</td>\n",
       "      <td>Басманный район</td>\n",
       "    </tr>\n",
       "    <tr>\n",
       "      <th>2</th>\n",
       "      <td>3-й Ирининский переулок</td>\n",
       "      <td>Басманный район</td>\n",
       "    </tr>\n",
       "    <tr>\n",
       "      <th>3</th>\n",
       "      <td>Иркутская улица</td>\n",
       "      <td>район Гольяново</td>\n",
       "    </tr>\n",
       "    <tr>\n",
       "      <th>4</th>\n",
       "      <td>1-й Иртышский проезд</td>\n",
       "      <td>район Гольяново</td>\n",
       "    </tr>\n",
       "  </tbody>\n",
       "</table>\n",
       "</div>"
      ],
      "text/plain": [
       "                    street         district\n",
       "0  1-й Ирининский переулок  Басманный район\n",
       "1  2-й Ирининский переулок  Басманный район\n",
       "2  3-й Ирининский переулок  Басманный район\n",
       "3          Иркутская улица  район Гольяново\n",
       "4     1-й Иртышский проезд  район Гольяново"
      ]
     },
     "execution_count": 32,
     "metadata": {},
     "output_type": "execute_result"
    }
   ],
   "source": [
    "# выведем первые 5 строк датасета\n",
    "msk_districts.head()"
   ]
  },
  {
   "cell_type": "markdown",
   "id": "cf9911e9",
   "metadata": {},
   "source": [
    "## Топ-10 улиц по количеству заведений\n",
    "\n",
    "Выведем график топ-10 улиц с самым большим количеством заведений:"
   ]
  },
  {
   "cell_type": "code",
   "execution_count": 33,
   "id": "736f172b",
   "metadata": {},
   "outputs": [],
   "source": [
    "# срез улиц с наибольшим количеством заведений\n",
    "popular_streets = (\n",
    "    data.groupby('street')['id']\n",
    "    .count()\n",
    "    .sort_values(ascending=False)\n",
    "    .reset_index()\n",
    "    \n",
    ")"
   ]
  },
  {
   "cell_type": "code",
   "execution_count": 34,
   "id": "a8ac0435",
   "metadata": {},
   "outputs": [
    {
     "data": {
      "image/jpeg": "[encoded data removed]"
     },
     "metadata": {},
     "output_type": "display_data"
    }
   ],
   "source": [
    "# создаем фигуру\n",
    "fig = px.bar(\n",
    "    x=popular_streets['street'].iloc[:10],\n",
    "    y=popular_streets['id'].iloc[:10],\n",
    "    color_discrete_sequence=colors,\n",
    "    title='Улицы с самым большим количеством заведений'\n",
    ")\n",
    "\n",
    "# наводим красоту\n",
    "style_plot(xlabel='', ylabel='Количество заведений')\n",
    "fig.update_traces(hovertemplate='Количество: %{y}')\n",
    "fig.show()"
   ]
  },
  {
   "cell_type": "markdown",
   "id": "a1ea8e5a",
   "metadata": {},
   "source": [
    "Теперь посмотрим в каких районах располагаются эти улицы:"
   ]
  },
  {
   "cell_type": "code",
   "execution_count": 35,
   "id": "55159332",
   "metadata": {},
   "outputs": [],
   "source": [
    "# добавим районы\n",
    "popular_districts = popular_streets.iloc[:10].merge(msk_districts, on='street', how='left')"
   ]
  },
  {
   "cell_type": "markdown",
   "id": "de0f843a",
   "metadata": {},
   "source": [
    "Посмотрим на расположение этих улиц на карте Москвы. Для этого напишем функцию, которая будет находить координаты местоположения. Затем используем график scatter_mapbox для отображения этих координат на карте."
   ]
  },
  {
   "cell_type": "code",
   "execution_count": 36,
   "id": "1ce982bd",
   "metadata": {},
   "outputs": [
    {
     "data": {
      "text/html": [
       "<div>\n",
       "<style scoped>\n",
       "    .dataframe tbody tr th:only-of-type {\n",
       "        vertical-align: middle;\n",
       "    }\n",
       "\n",
       "    .dataframe tbody tr th {\n",
       "        vertical-align: top;\n",
       "    }\n",
       "\n",
       "    .dataframe thead th {\n",
       "        text-align: right;\n",
       "    }\n",
       "</style>\n",
       "<table border=\"1\" class=\"dataframe\">\n",
       "  <thead>\n",
       "    <tr style=\"text-align: right;\">\n",
       "      <th></th>\n",
       "      <th>street</th>\n",
       "      <th>id</th>\n",
       "    </tr>\n",
       "  </thead>\n",
       "  <tbody>\n",
       "    <tr>\n",
       "      <th>0</th>\n",
       "      <td>проспект Мира</td>\n",
       "      <td>204</td>\n",
       "    </tr>\n",
       "    <tr>\n",
       "      <th>1</th>\n",
       "      <td>Профсоюзная улица</td>\n",
       "      <td>182</td>\n",
       "    </tr>\n",
       "    <tr>\n",
       "      <th>2</th>\n",
       "      <td>Ленинградский проспект</td>\n",
       "      <td>172</td>\n",
       "    </tr>\n",
       "    <tr>\n",
       "      <th>3</th>\n",
       "      <td>Пресненская набережная</td>\n",
       "      <td>167</td>\n",
       "    </tr>\n",
       "    <tr>\n",
       "      <th>4</th>\n",
       "      <td>Варшавское шоссе</td>\n",
       "      <td>165</td>\n",
       "    </tr>\n",
       "    <tr>\n",
       "      <th>5</th>\n",
       "      <td>Ленинский проспект</td>\n",
       "      <td>148</td>\n",
       "    </tr>\n",
       "    <tr>\n",
       "      <th>6</th>\n",
       "      <td>проспект Вернадского</td>\n",
       "      <td>128</td>\n",
       "    </tr>\n",
       "    <tr>\n",
       "      <th>7</th>\n",
       "      <td>Кутузовский проспект</td>\n",
       "      <td>114</td>\n",
       "    </tr>\n",
       "    <tr>\n",
       "      <th>8</th>\n",
       "      <td>Каширское шоссе</td>\n",
       "      <td>111</td>\n",
       "    </tr>\n",
       "    <tr>\n",
       "      <th>9</th>\n",
       "      <td>Кировоградская улица</td>\n",
       "      <td>108</td>\n",
       "    </tr>\n",
       "  </tbody>\n",
       "</table>\n",
       "</div>"
      ],
      "text/plain": [
       "                   street   id\n",
       "0           проспект Мира  204\n",
       "1       Профсоюзная улица  182\n",
       "2  Ленинградский проспект  172\n",
       "3  Пресненская набережная  167\n",
       "4        Варшавское шоссе  165\n",
       "5      Ленинский проспект  148\n",
       "6    проспект Вернадского  128\n",
       "7    Кутузовский проспект  114\n",
       "8         Каширское шоссе  111\n",
       "9    Кировоградская улица  108"
      ]
     },
     "execution_count": 36,
     "metadata": {},
     "output_type": "execute_result"
    }
   ],
   "source": [
    "popular_streets.iloc[:10]"
   ]
  },
  {
   "cell_type": "code",
   "execution_count": 37,
   "id": "dde0c7e0",
   "metadata": {},
   "outputs": [
    {
     "data": {
      "text/html": [
       "<div>\n",
       "<style scoped>\n",
       "    .dataframe tbody tr th:only-of-type {\n",
       "        vertical-align: middle;\n",
       "    }\n",
       "\n",
       "    .dataframe tbody tr th {\n",
       "        vertical-align: top;\n",
       "    }\n",
       "\n",
       "    .dataframe thead th {\n",
       "        text-align: right;\n",
       "    }\n",
       "</style>\n",
       "<table border=\"1\" class=\"dataframe\">\n",
       "  <thead>\n",
       "    <tr style=\"text-align: right;\">\n",
       "      <th></th>\n",
       "      <th>street</th>\n",
       "      <th>id</th>\n",
       "      <th>district</th>\n",
       "    </tr>\n",
       "  </thead>\n",
       "  <tbody>\n",
       "    <tr>\n",
       "      <th>0</th>\n",
       "      <td>проспект Мира</td>\n",
       "      <td>204</td>\n",
       "      <td>Мещанский район</td>\n",
       "    </tr>\n",
       "    <tr>\n",
       "      <th>1</th>\n",
       "      <td>Профсоюзная улица</td>\n",
       "      <td>182</td>\n",
       "      <td>Академический район</td>\n",
       "    </tr>\n",
       "    <tr>\n",
       "      <th>2</th>\n",
       "      <td>Ленинградский проспект</td>\n",
       "      <td>172</td>\n",
       "      <td>район Аэропорт</td>\n",
       "    </tr>\n",
       "    <tr>\n",
       "      <th>3</th>\n",
       "      <td>Пресненская набережная</td>\n",
       "      <td>167</td>\n",
       "      <td>Пресненский район</td>\n",
       "    </tr>\n",
       "    <tr>\n",
       "      <th>4</th>\n",
       "      <td>Варшавское шоссе</td>\n",
       "      <td>165</td>\n",
       "      <td>Донской район</td>\n",
       "    </tr>\n",
       "    <tr>\n",
       "      <th>5</th>\n",
       "      <td>Ленинский проспект</td>\n",
       "      <td>148</td>\n",
       "      <td>район Якиманка</td>\n",
       "    </tr>\n",
       "    <tr>\n",
       "      <th>6</th>\n",
       "      <td>проспект Вернадского</td>\n",
       "      <td>128</td>\n",
       "      <td>Гагаринский район</td>\n",
       "    </tr>\n",
       "    <tr>\n",
       "      <th>7</th>\n",
       "      <td>Кутузовский проспект</td>\n",
       "      <td>114</td>\n",
       "      <td>район Дорогомилово</td>\n",
       "    </tr>\n",
       "    <tr>\n",
       "      <th>8</th>\n",
       "      <td>Каширское шоссе</td>\n",
       "      <td>111</td>\n",
       "      <td>район Москворечье-Сабурово</td>\n",
       "    </tr>\n",
       "    <tr>\n",
       "      <th>9</th>\n",
       "      <td>Кировоградская улица</td>\n",
       "      <td>108</td>\n",
       "      <td>район Чертаново Северное</td>\n",
       "    </tr>\n",
       "  </tbody>\n",
       "</table>\n",
       "</div>"
      ],
      "text/plain": [
       "                   street   id                    district\n",
       "0           проспект Мира  204             Мещанский район\n",
       "1       Профсоюзная улица  182         Академический район\n",
       "2  Ленинградский проспект  172              район Аэропорт\n",
       "3  Пресненская набережная  167           Пресненский район\n",
       "4        Варшавское шоссе  165               Донской район\n",
       "5      Ленинский проспект  148              район Якиманка\n",
       "6    проспект Вернадского  128           Гагаринский район\n",
       "7    Кутузовский проспект  114          район Дорогомилово\n",
       "8         Каширское шоссе  111  район Москворечье-Сабурово\n",
       "9    Кировоградская улица  108    район Чертаново Северное"
      ]
     },
     "execution_count": 37,
     "metadata": {},
     "output_type": "execute_result"
    }
   ],
   "source": [
    "popular_streets.iloc[:10].merge(msk_districts, on='street', how='left')"
   ]
  },
  {
   "cell_type": "code",
   "execution_count": 38,
   "id": "751b1e6e",
   "metadata": {},
   "outputs": [],
   "source": [
    "# функция для определения координат\n",
    "def get_location(district):\n",
    "    loc = geocode('Москва, ' + district, provider=\"nominatim\" , user_agent = 'my_request').geometry\n",
    "    return loc"
   ]
  },
  {
   "cell_type": "code",
   "execution_count": 39,
   "id": "ad19ec06",
   "metadata": {},
   "outputs": [],
   "source": [
    "# создадим датафрейм с районами в которые входят топ-10 самых популярных улиц\n",
    "popular_districts = pd.DataFrame({\n",
    "    'district': popular_districts['district'],\n",
    "    'objects': popular_districts['id']\n",
    "})\n",
    "\n",
    "# добавим локацию\n",
    "popular_districts['loc'] = popular_districts['district'].apply(get_location)\n",
    "\n",
    "# добавим долготу\n",
    "popular_districts['lat'] = popular_districts['loc'].apply(lambda l: l.y)\n",
    "\n",
    "# длбавим широту\n",
    "popular_districts['lon'] = popular_districts['loc'].apply(lambda l: l.x)"
   ]
  },
  {
   "cell_type": "code",
   "execution_count": 40,
   "id": "3a1e6f97",
   "metadata": {},
   "outputs": [
    {
     "data": {
      "image/jpeg": "[encoded data removed]"
     },
     "metadata": {},
     "output_type": "display_data"
    }
   ],
   "source": [
    "# строим карту распределения заведений\n",
    "fig = px.scatter_mapbox(\n",
    "    popular_districts,\n",
    "    lat=\"lat\",\n",
    "    lon=\"lon\",\n",
    "    zoom=8,\n",
    "    color='objects',\n",
    "    title='Карта районов улиц с самым большим количеством заведений',\n",
    "    color_continuous_scale='ice_r',\n",
    "    hover_name='district',\n",
    "    height=600,\n",
    "    labels={'objects': 'Количество заведений'}\n",
    ")\n",
    "\n",
    "fig.update_layout(mapbox_style=\"open-street-map\")\n",
    "fig.update_traces(\n",
    "    marker=dict(\n",
    "        size=30,\n",
    "        opacity=0.9,\n",
    "    ),\n",
    ")\n",
    "\n",
    "fig.show()"
   ]
  },
  {
   "cell_type": "markdown",
   "id": "ea85b1ad",
   "metadata": {},
   "source": [
    "На карте видно, что самые популярные улицы располагаются в центральных и южных районах Москвы в пределах МКАД. При этом на севере и востоке таких улиц нет."
   ]
  },
  {
   "cell_type": "markdown",
   "id": "4f667963",
   "metadata": {},
   "source": [
    "## Топ-10 районов по количеству улиц с одним заведением"
   ]
  },
  {
   "cell_type": "markdown",
   "id": "23a91dee",
   "metadata": {},
   "source": [
    "Теперь посмотрим на улицы, которые напротив не пользуются популярностью и имеют всего одно заведение:"
   ]
  },
  {
   "cell_type": "code",
   "execution_count": 41,
   "id": "bf3c05e7",
   "metadata": {},
   "outputs": [],
   "source": [
    "# срез улиц с одним заведением\n",
    "unpopular_streets = (\n",
    "    data.groupby('street')['id']\n",
    "    .count()\n",
    "    .reset_index()\n",
    "    .query('id == 1')\n",
    ")"
   ]
  },
  {
   "cell_type": "markdown",
   "id": "44e48a7c",
   "metadata": {},
   "source": [
    "Улицы готовы, но нас интересуют районы. Добавим районы и уберем улицы:"
   ]
  },
  {
   "cell_type": "code",
   "execution_count": 42,
   "id": "ab10a089",
   "metadata": {},
   "outputs": [],
   "source": [
    "# добавим к улицам районы\n",
    "unpopular_ditricts = unpopular_streets.merge(msk_districts, on='street', how='left').dropna(axis=0)\n",
    "\n",
    "# посчитаем количество улиц с одним заведением по районам\n",
    "unpopular_ditricts = unpopular_ditricts['district'].value_counts().iloc[:10]"
   ]
  },
  {
   "cell_type": "markdown",
   "id": "89e468b1",
   "metadata": {},
   "source": [
    "Строим гистограмму:"
   ]
  },
  {
   "cell_type": "code",
   "execution_count": 43,
   "id": "54b536f7",
   "metadata": {},
   "outputs": [
    {
     "data": {
      "image/jpeg": "[encoded data removed]"
     },
     "metadata": {},
     "output_type": "display_data"
    }
   ],
   "source": [
    "# строим фигуру\n",
    "fig = px.bar(\n",
    "    x=unpopular_ditricts.index,\n",
    "    y=unpopular_ditricts.values,\n",
    "    color_discrete_sequence=colors,\n",
    "    title='Топ-10 районов по количеству улиц с одним заведением'\n",
    ")\n",
    "\n",
    "style_plot(xlabel='', ylabel='Количество улиц с одним заведением')\n",
    "\n",
    "fig.show()"
   ]
  },
  {
   "cell_type": "markdown",
   "id": "564a681d",
   "metadata": {},
   "source": [
    "Посмотрим где находятся эти районы на карте:"
   ]
  },
  {
   "cell_type": "code",
   "execution_count": 44,
   "id": "b2816cb7",
   "metadata": {},
   "outputs": [],
   "source": [
    "# создадим датафрейм с топ-10 районов по количеству улиц с одним заведением\n",
    "unpopular_ditricts = pd.DataFrame({\n",
    "    'district': unpopular_ditricts.index,\n",
    "    'objects': unpopular_ditricts.values\n",
    "})\n",
    "\n",
    "# добавим локацию\n",
    "unpopular_ditricts['loc'] = unpopular_ditricts['district'].apply(get_location)\n",
    "\n",
    "# добавим долготу\n",
    "unpopular_ditricts['lat'] = unpopular_ditricts['loc'].apply(lambda l: l.y)\n",
    "\n",
    "# длбавим широту\n",
    "unpopular_ditricts['lon'] = unpopular_ditricts['loc'].apply(lambda l: l.x)"
   ]
  },
  {
   "cell_type": "code",
   "execution_count": 45,
   "id": "a8b53d1a",
   "metadata": {},
   "outputs": [
    {
     "data": {
      "image/jpeg": "[encoded data removed]"
     },
     "metadata": {},
     "output_type": "display_data"
    }
   ],
   "source": [
    "# строим карту расположения районов\n",
    "fig = px.scatter_mapbox(\n",
    "    unpopular_ditricts,\n",
    "    lat=\"lat\",\n",
    "    lon=\"lon\",\n",
    "    zoom=8,\n",
    "    color='objects',\n",
    "    title='Карта топ-10 районов по количеству улиц с одним заведением',\n",
    "    color_continuous_scale='ice_r',\n",
    "    hover_name='district',\n",
    "    height=600,\n",
    "    labels={'objects': 'Количество улиц'}\n",
    ")\n",
    "\n",
    "fig.update_layout(mapbox_style=\"open-street-map\")\n",
    "fig.update_traces(\n",
    "    marker=dict(\n",
    "        size=40,\n",
    "        opacity=0.9,\n",
    "    ),\n",
    ")\n",
    "\n",
    "fig.show()"
   ]
  },
  {
   "cell_type": "markdown",
   "id": "5eda0d15",
   "metadata": {},
   "source": [
    "Хмм... Все районы располагаются в центре. Но как будто бы это неочевидный ответ. Возможно результат исказило то, что в центре множество маленьких улочек, переулков и бульваров, на которых с бОльшей вероятностью будет мало заведений. Но все же зафиксируем текущий результат и посмотрим, что будет если оставить только улицы:"
   ]
  },
  {
   "cell_type": "markdown",
   "id": "c7f5e977",
   "metadata": {},
   "source": [
    "Чтобы получить более корректные результаты, оставим именно улицы, без учета переулков, бульваров и так далее. Сделаем мы это потому, что в центре города очень много небольших переулков, на которых с большей вероятностью будет одно заведение."
   ]
  },
  {
   "cell_type": "code",
   "execution_count": 46,
   "id": "0774022a",
   "metadata": {},
   "outputs": [],
   "source": [
    "# оставим только улицы\n",
    "unpopular_streets = unpopular_streets[unpopular_streets['street'].str.contains('улица')]"
   ]
  },
  {
   "cell_type": "code",
   "execution_count": 47,
   "id": "4b9e8fc0",
   "metadata": {},
   "outputs": [
    {
     "name": "stdout",
     "output_type": "stream",
     "text": [
      "Количество улиц на которых всего 1 заведение: 257\n"
     ]
    }
   ],
   "source": [
    "print('Количество улиц на которых всего 1 заведение:', len(unpopular_streets))"
   ]
  },
  {
   "cell_type": "markdown",
   "id": "64219ffe",
   "metadata": {},
   "source": [
    "В Москве есть целых 257 улиц на которых есть только одно заведение. Попробуем определить районы в которых располагаются эти улицы."
   ]
  },
  {
   "cell_type": "markdown",
   "id": "4d917f14",
   "metadata": {},
   "source": [
    "Добавим в срез с самыми непопулярными улицами районы. Затем оставим топ-10 таких районов:"
   ]
  },
  {
   "cell_type": "code",
   "execution_count": 48,
   "id": "b7a0b6df",
   "metadata": {},
   "outputs": [],
   "source": [
    "# добавим к улицам их районы\n",
    "unpopular_ditricts = unpopular_streets.merge(msk_districts, on='street', how='left').dropna(axis=0)\n",
    "\n",
    "unpopular_ditricts = unpopular_ditricts['district'].value_counts().iloc[:10]"
   ]
  },
  {
   "cell_type": "markdown",
   "id": "c17cf832",
   "metadata": {},
   "source": [
    "Построим график и узнаем какие районы вошли в наш список:"
   ]
  },
  {
   "cell_type": "code",
   "execution_count": 49,
   "id": "5f398604",
   "metadata": {},
   "outputs": [
    {
     "data": {
      "image/jpeg": "[encoded data removed]"
     },
     "metadata": {},
     "output_type": "display_data"
    }
   ],
   "source": [
    "# строим фигуру\n",
    "fig = px.bar(\n",
    "    x=unpopular_ditricts.index,\n",
    "    y=unpopular_ditricts.values,\n",
    "    color_discrete_sequence=colors,\n",
    "    title='Топ-10 районов по количеству улиц с одним заведением'\n",
    ")\n",
    "\n",
    "style_plot(xlabel='', ylabel='Количество улиц с одним заведением')\n",
    "\n",
    "fig.show()"
   ]
  },
  {
   "cell_type": "markdown",
   "id": "87d752ac",
   "metadata": {},
   "source": [
    "Теперь отметим эти районы на карте и сделаем выводы по их местоположению:"
   ]
  },
  {
   "cell_type": "code",
   "execution_count": 50,
   "id": "f063eebf",
   "metadata": {},
   "outputs": [],
   "source": [
    "# создадим датафрейм с топ-10 районов по количеству улиц с одним заведением\n",
    "unpopular_ditricts = pd.DataFrame({\n",
    "    'district': unpopular_ditricts.index,\n",
    "    'objects': unpopular_ditricts.values\n",
    "})\n",
    "\n",
    "# добавим локацию\n",
    "unpopular_ditricts['loc'] = unpopular_ditricts['district'].apply(get_location)\n",
    "\n",
    "# добавим долготу\n",
    "unpopular_ditricts['lat'] = unpopular_ditricts['loc'].apply(lambda l: l.y)\n",
    "\n",
    "# длбавим широту\n",
    "unpopular_ditricts['lon'] = unpopular_ditricts['loc'].apply(lambda l: l.x)"
   ]
  },
  {
   "cell_type": "code",
   "execution_count": 51,
   "id": "5ae6336f",
   "metadata": {},
   "outputs": [
    {
     "data": {
      "image/jpeg": "[encoded data removed]"
     },
     "metadata": {},
     "output_type": "display_data"
    }
   ],
   "source": [
    "# строим карту расположения районов\n",
    "fig = px.scatter_mapbox(\n",
    "    unpopular_ditricts,\n",
    "    lat=\"lat\",\n",
    "    lon=\"lon\",\n",
    "    zoom=8,\n",
    "    color='objects',\n",
    "    title='Карта топ-10 районов по количеству улиц с одним заведением',\n",
    "    color_continuous_scale='ice_r',\n",
    "    hover_name='district',\n",
    "    height=600,\n",
    "    labels={'objects': 'Количество улиц'}\n",
    ")\n",
    "\n",
    "fig.update_layout(mapbox_style=\"open-street-map\")\n",
    "fig.update_traces(\n",
    "    marker=dict(\n",
    "        size=40,\n",
    "        opacity=0.9,\n",
    "    ),\n",
    ")\n",
    "\n",
    "fig.show()"
   ]
  },
  {
   "cell_type": "markdown",
   "id": "40208992",
   "metadata": {},
   "source": [
    "Теперь результат больше похож на правду. Большинство районов находятся в новой Москве, то есть на юго-западной окраине. Два района находятся на северо-востоке и один близко к центру. В принципе тенденция очевидна – на улицах окраин мало заведений общепита."
   ]
  },
  {
   "cell_type": "markdown",
   "id": "35865da2",
   "metadata": {},
   "source": [
    "## Выводы"
   ]
  },
  {
   "cell_type": "markdown",
   "id": "78d12870",
   "metadata": {},
   "source": [
    "Мы посмотрели в каких районах находятся улицы, где больше всего заведений и в каких районах находится больше всего улиц с одним заведением. При анализе улиц с одним заведением, мы оставили именно улицы, так как на проездах, переулках и пр., вероятность встретить лишь 1 заведение заведомо выше.\n",
    "\n",
    "Самая большая конкуренция в центральных районах. Там встречаются улицы на которых более 100 заведений. Самая плотная на заведения улица в Москве – проспект Мира. Там находится целых 204 заведения.\n",
    "\n",
    "Самые \"пустые\" районы находятся в новой Москве. Там находится 7 районов в которых как минимум 8 улиц на которых сейчас открыто лишь 1 заведение. Также видна тенденция – чем дальше район, тем больше на нем будет улиц с малым количеством заведений."
   ]
  },
  {
   "cell_type": "markdown",
   "id": "3ded1274",
   "metadata": {},
   "source": [
    "# Общие выводы и рекомендации"
   ]
  },
  {
   "cell_type": "markdown",
   "id": "208da0b5",
   "metadata": {},
   "source": [
    "## Выводы\n",
    "\n",
    "Мы завершили исследование рынка заведений общепита Москвы. Мы изучили виды заведений, сетевое распространение заведений, количество мест и местоположение. \n",
    "\n",
    "Сделаем краткие выводы по каждой из характеристик.\n",
    "\n",
    "**Виды заведений**\n",
    "\n",
    "Самый популярный вид заведения – кафе. В Москве открыто 6099 заведений данного типа. После кафе идет группа из: столовых, ресторанов и предприятий быстрого обслуживания. Количество заведений у видов из этой группы от 1900 до 2600. Среди остальных видов лидируют бары. Их в Москве около 900. Остальных же видов не более 600.\n",
    "\n",
    "**Сетевое распространение**\n",
    "\n",
    "Сетевое распространение наиболее характерно у предприятий быстрого обслуживания. 41% заведений этого вида входит в какую-либо сеть. Также в сети входят четверть ресторанов и кафе и почти 30% отделов кулинарий в магазинах.\n",
    "\n",
    "Наиболее оригинальные виды заведений: бары, буфеты и столовые. Лишь 4%, 2% и менее 1% этих заведений входят в сети соответственно.\n",
    "\n",
    "**Количество мест**\n",
    "\n",
    "Больше всего посадочных мест у столовых и ресторанов. В среднем у них 103 и 80 мест соответственно. После них идут: бары, буфеты и кафе. В них в среднем 30-35 посадочных мест. Почти без посадочных мест в среднем работают: предприятия быстрого обслуживания, кафетерии, кулинарии и закусочные.\n",
    "\n",
    "Если брать срез сетевых заведений, то заметно ситуация поменяется у предприятий быстрого обслуживания и буфетов. У сетевых предприятий быстрого обслуживания в среднем в 5 раз больше посадочных мест, чем у несетевых. А сетевых буфетов слишком мало, поэтому их результат 0 мест сложно интерпретировать.\n",
    "\n",
    "**Местоположение**\n",
    "\n",
    "Самая высокая конкуренция наблюдается в центре и на юге Москвы. Там встречаются улицы, на которых более 100 заведений. Самая плотная с точки зрения заведений улица – проспект Мира, там 204 заведения.  \n",
    "\n",
    "На окраинах, наоборот, множество улиц имеют всего лишь 1 заведение. Большинство таких районов находятся в новой Москве. Также заметен тренд – чем дальше район, тем больше на нем будет улиц с одним заведением.\n",
    "\n",
    "## Рекомендации\n",
    "\n"
   ]
  },
  {
   "cell_type": "markdown",
   "id": "61ff356e",
   "metadata": {},
   "source": [
    "Напомним вводные характеристики нашего заведения:\n",
    "* оригинальная фишка – обслуживать гостей будут роботы,\n",
    "* проект дорогой,\n",
    "* заведение небольшое.\n",
    "\n",
    "Самым подходящим видом заведения исходя из наших характеристик будет – бар. Баров в Москве относительно немного. Как правило они средних размеров, на 35-45 мест. Да и работать с напитками роботам возможно будет проще, чем с блюдами. Все эти плюсы помогут немного снизить стоимость и без того дорогого проекта.\n",
    "\n",
    "Так как наша идея, что гостей будут обслуживать роботы, следовательно при сетевом распространении мы сможем задать один стандарт качества обслуживания. А это очень важный критерий для сети. На данный момент сети баров не слишком распространены. Это одновременно и плюс и минус. Плюс в том, что это голубой океан и если проект будет успешным, у нас будет меньше конкуренции. Минус же в том, что отсутствие сетей может быть показателем, что у людей нет запроса на сетевые бары. То есть в данном случае мы идем на дополнительный риск.\n",
    "\n",
    "Проект изначально дорогой, соответственно это будет влиять и на цены. Также проект с высокой степенью неопределенности, поэтому нужно много гостей для тестирования идеи. То есть у нас есть 2 критерия для выбора местоположения – достаток гостей и их количество. Очевидно, что чем ближе к центру, тем больше вероятность удовлетворить эти критерии. Но тут встает следующий аспект – дороговизна. Поэтому для первого заведния мы бы рекомендовали выбрать район на не такой близкий к центру, но и не попадающий в \"пустые\" районы. Как вариант можно рассмотреть Северное Чертаново."
   ]
  }
 ],
 "metadata": {
  "ExecuteTimeLog": [
   {
    "duration": 40,
    "start_time": "2022-06-27T16:56:35.253Z"
   },
   {
    "duration": 36,
    "start_time": "2022-06-27T16:56:40.038Z"
   },
   {
    "duration": 1357,
    "start_time": "2022-06-27T16:56:40.076Z"
   },
   {
    "duration": 0,
    "start_time": "2022-06-27T16:56:41.436Z"
   },
   {
    "duration": 0,
    "start_time": "2022-06-27T16:56:41.437Z"
   },
   {
    "duration": 0,
    "start_time": "2022-06-27T16:56:41.439Z"
   },
   {
    "duration": 1,
    "start_time": "2022-06-27T16:56:41.440Z"
   },
   {
    "duration": 0,
    "start_time": "2022-06-27T16:56:41.442Z"
   },
   {
    "duration": 0,
    "start_time": "2022-06-27T16:56:41.444Z"
   },
   {
    "duration": 0,
    "start_time": "2022-06-27T16:56:41.445Z"
   },
   {
    "duration": 0,
    "start_time": "2022-06-27T16:56:41.446Z"
   },
   {
    "duration": 0,
    "start_time": "2022-06-27T16:56:41.448Z"
   },
   {
    "duration": 0,
    "start_time": "2022-06-27T16:56:41.449Z"
   },
   {
    "duration": 0,
    "start_time": "2022-06-27T16:56:41.450Z"
   },
   {
    "duration": 0,
    "start_time": "2022-06-27T16:56:41.451Z"
   },
   {
    "duration": 0,
    "start_time": "2022-06-27T16:56:41.451Z"
   },
   {
    "duration": 0,
    "start_time": "2022-06-27T16:56:41.452Z"
   },
   {
    "duration": 0,
    "start_time": "2022-06-27T16:56:41.454Z"
   },
   {
    "duration": 0,
    "start_time": "2022-06-27T16:56:41.456Z"
   },
   {
    "duration": 0,
    "start_time": "2022-06-27T16:56:41.457Z"
   },
   {
    "duration": 0,
    "start_time": "2022-06-27T16:56:41.458Z"
   },
   {
    "duration": 0,
    "start_time": "2022-06-27T16:56:41.459Z"
   },
   {
    "duration": 0,
    "start_time": "2022-06-27T16:56:41.461Z"
   },
   {
    "duration": 0,
    "start_time": "2022-06-27T16:56:41.462Z"
   },
   {
    "duration": 0,
    "start_time": "2022-06-27T16:56:41.464Z"
   },
   {
    "duration": 0,
    "start_time": "2022-06-27T16:56:41.465Z"
   },
   {
    "duration": 0,
    "start_time": "2022-06-27T16:56:41.467Z"
   },
   {
    "duration": 0,
    "start_time": "2022-06-27T16:56:41.468Z"
   },
   {
    "duration": 0,
    "start_time": "2022-06-27T16:56:41.469Z"
   },
   {
    "duration": 0,
    "start_time": "2022-06-27T16:56:41.470Z"
   },
   {
    "duration": 0,
    "start_time": "2022-06-27T16:56:41.471Z"
   },
   {
    "duration": 0,
    "start_time": "2022-06-27T16:56:41.471Z"
   },
   {
    "duration": 0,
    "start_time": "2022-06-27T16:56:41.472Z"
   },
   {
    "duration": 0,
    "start_time": "2022-06-27T16:56:41.473Z"
   },
   {
    "duration": 0,
    "start_time": "2022-06-27T16:56:41.526Z"
   },
   {
    "duration": 0,
    "start_time": "2022-06-27T16:56:41.528Z"
   },
   {
    "duration": 0,
    "start_time": "2022-06-27T16:56:41.529Z"
   },
   {
    "duration": 0,
    "start_time": "2022-06-27T16:56:41.531Z"
   },
   {
    "duration": 0,
    "start_time": "2022-06-27T16:56:41.533Z"
   },
   {
    "duration": 0,
    "start_time": "2022-06-27T16:56:41.534Z"
   },
   {
    "duration": 2970,
    "start_time": "2022-06-27T16:57:30.838Z"
   },
   {
    "duration": 89,
    "start_time": "2022-06-27T16:57:37.674Z"
   },
   {
    "duration": 7683,
    "start_time": "2022-06-27T16:57:49.127Z"
   },
   {
    "duration": 69,
    "start_time": "2022-06-27T16:57:58.752Z"
   },
   {
    "duration": 4,
    "start_time": "2022-06-27T16:58:00.905Z"
   },
   {
    "duration": 41,
    "start_time": "2022-06-27T16:58:14.489Z"
   },
   {
    "duration": 4401,
    "start_time": "2022-06-27T16:58:14.532Z"
   },
   {
    "duration": 1310,
    "start_time": "2022-06-27T16:58:18.935Z"
   },
   {
    "duration": 4,
    "start_time": "2022-06-27T16:58:20.247Z"
   },
   {
    "duration": 91,
    "start_time": "2022-06-27T16:58:20.253Z"
   },
   {
    "duration": 12,
    "start_time": "2022-06-27T16:58:20.346Z"
   },
   {
    "duration": 13,
    "start_time": "2022-06-27T16:58:20.359Z"
   },
   {
    "duration": 5,
    "start_time": "2022-06-27T16:58:20.374Z"
   },
   {
    "duration": 28,
    "start_time": "2022-06-27T16:58:20.381Z"
   },
   {
    "duration": 15,
    "start_time": "2022-06-27T16:58:20.412Z"
   },
   {
    "duration": 5,
    "start_time": "2022-06-27T16:58:20.428Z"
   },
   {
    "duration": 9,
    "start_time": "2022-06-27T16:58:20.434Z"
   },
   {
    "duration": 15,
    "start_time": "2022-06-27T16:58:20.445Z"
   },
   {
    "duration": 6,
    "start_time": "2022-06-27T16:58:20.462Z"
   },
   {
    "duration": 124,
    "start_time": "2022-06-27T16:58:20.469Z"
   },
   {
    "duration": 13,
    "start_time": "2022-06-27T16:58:20.596Z"
   },
   {
    "duration": 6,
    "start_time": "2022-06-27T16:58:20.625Z"
   },
   {
    "duration": 68,
    "start_time": "2022-06-27T16:58:20.632Z"
   },
   {
    "duration": 9,
    "start_time": "2022-06-27T16:58:20.702Z"
   },
   {
    "duration": 19,
    "start_time": "2022-06-27T16:58:20.713Z"
   },
   {
    "duration": 133,
    "start_time": "2022-06-27T16:58:20.734Z"
   },
   {
    "duration": 0,
    "start_time": "2022-06-27T16:58:20.869Z"
   },
   {
    "duration": 0,
    "start_time": "2022-06-27T16:58:20.871Z"
   },
   {
    "duration": 0,
    "start_time": "2022-06-27T16:58:20.872Z"
   },
   {
    "duration": 0,
    "start_time": "2022-06-27T16:58:20.874Z"
   },
   {
    "duration": 0,
    "start_time": "2022-06-27T16:58:20.875Z"
   },
   {
    "duration": 0,
    "start_time": "2022-06-27T16:58:20.876Z"
   },
   {
    "duration": 0,
    "start_time": "2022-06-27T16:58:20.877Z"
   },
   {
    "duration": 0,
    "start_time": "2022-06-27T16:58:20.879Z"
   },
   {
    "duration": 0,
    "start_time": "2022-06-27T16:58:20.881Z"
   },
   {
    "duration": 0,
    "start_time": "2022-06-27T16:58:20.883Z"
   },
   {
    "duration": 0,
    "start_time": "2022-06-27T16:58:20.884Z"
   },
   {
    "duration": 0,
    "start_time": "2022-06-27T16:58:20.885Z"
   },
   {
    "duration": 0,
    "start_time": "2022-06-27T16:58:20.886Z"
   },
   {
    "duration": 0,
    "start_time": "2022-06-27T16:58:20.887Z"
   },
   {
    "duration": 0,
    "start_time": "2022-06-27T16:58:20.888Z"
   },
   {
    "duration": 0,
    "start_time": "2022-06-27T16:58:20.926Z"
   },
   {
    "duration": 0,
    "start_time": "2022-06-27T16:58:20.928Z"
   },
   {
    "duration": 0,
    "start_time": "2022-06-27T16:58:20.929Z"
   },
   {
    "duration": 0,
    "start_time": "2022-06-27T16:58:20.930Z"
   },
   {
    "duration": 28,
    "start_time": "2022-06-27T17:12:12.813Z"
   },
   {
    "duration": 454,
    "start_time": "2022-06-27T17:12:53.141Z"
   },
   {
    "duration": 26,
    "start_time": "2022-06-27T17:13:00.191Z"
   },
   {
    "duration": 36,
    "start_time": "2022-06-27T17:13:10.171Z"
   },
   {
    "duration": 4435,
    "start_time": "2022-06-27T17:13:10.209Z"
   },
   {
    "duration": 1495,
    "start_time": "2022-06-27T17:13:14.647Z"
   },
   {
    "duration": 4,
    "start_time": "2022-06-27T17:13:16.144Z"
   },
   {
    "duration": 85,
    "start_time": "2022-06-27T17:13:16.150Z"
   },
   {
    "duration": 11,
    "start_time": "2022-06-27T17:13:16.237Z"
   },
   {
    "duration": 14,
    "start_time": "2022-06-27T17:13:16.249Z"
   },
   {
    "duration": 5,
    "start_time": "2022-06-27T17:13:16.265Z"
   },
   {
    "duration": 22,
    "start_time": "2022-06-27T17:13:16.272Z"
   },
   {
    "duration": 28,
    "start_time": "2022-06-27T17:13:16.300Z"
   },
   {
    "duration": 10,
    "start_time": "2022-06-27T17:13:16.331Z"
   },
   {
    "duration": 7,
    "start_time": "2022-06-27T17:13:16.343Z"
   },
   {
    "duration": 15,
    "start_time": "2022-06-27T17:13:16.352Z"
   },
   {
    "duration": 6,
    "start_time": "2022-06-27T17:13:16.369Z"
   },
   {
    "duration": 123,
    "start_time": "2022-06-27T17:13:16.377Z"
   },
   {
    "duration": 12,
    "start_time": "2022-06-27T17:13:16.502Z"
   },
   {
    "duration": 4,
    "start_time": "2022-06-27T17:13:16.526Z"
   },
   {
    "duration": 65,
    "start_time": "2022-06-27T17:13:16.532Z"
   },
   {
    "duration": 9,
    "start_time": "2022-06-27T17:13:16.598Z"
   },
   {
    "duration": 18,
    "start_time": "2022-06-27T17:13:16.609Z"
   },
   {
    "duration": 135,
    "start_time": "2022-06-27T17:13:16.629Z"
   },
   {
    "duration": 0,
    "start_time": "2022-06-27T17:13:16.766Z"
   },
   {
    "duration": 0,
    "start_time": "2022-06-27T17:13:16.768Z"
   },
   {
    "duration": 0,
    "start_time": "2022-06-27T17:13:16.769Z"
   },
   {
    "duration": 0,
    "start_time": "2022-06-27T17:13:16.770Z"
   },
   {
    "duration": 0,
    "start_time": "2022-06-27T17:13:16.771Z"
   },
   {
    "duration": 0,
    "start_time": "2022-06-27T17:13:16.772Z"
   },
   {
    "duration": 0,
    "start_time": "2022-06-27T17:13:16.773Z"
   },
   {
    "duration": 0,
    "start_time": "2022-06-27T17:13:16.774Z"
   },
   {
    "duration": 0,
    "start_time": "2022-06-27T17:13:16.775Z"
   },
   {
    "duration": 0,
    "start_time": "2022-06-27T17:13:16.777Z"
   },
   {
    "duration": 0,
    "start_time": "2022-06-27T17:13:16.778Z"
   },
   {
    "duration": 0,
    "start_time": "2022-06-27T17:13:16.779Z"
   },
   {
    "duration": 0,
    "start_time": "2022-06-27T17:13:16.780Z"
   },
   {
    "duration": 0,
    "start_time": "2022-06-27T17:13:16.782Z"
   },
   {
    "duration": 0,
    "start_time": "2022-06-27T17:13:16.782Z"
   },
   {
    "duration": 0,
    "start_time": "2022-06-27T17:13:16.784Z"
   },
   {
    "duration": 0,
    "start_time": "2022-06-27T17:13:16.785Z"
   },
   {
    "duration": 0,
    "start_time": "2022-06-27T17:13:16.786Z"
   },
   {
    "duration": 0,
    "start_time": "2022-06-27T17:13:16.787Z"
   },
   {
    "duration": 44,
    "start_time": "2022-06-27T17:25:45.615Z"
   },
   {
    "duration": 36,
    "start_time": "2022-06-27T17:25:53.936Z"
   },
   {
    "duration": 7864,
    "start_time": "2022-06-27T17:25:53.974Z"
   },
   {
    "duration": 1483,
    "start_time": "2022-06-27T17:26:01.840Z"
   },
   {
    "duration": 5,
    "start_time": "2022-06-27T17:26:03.325Z"
   },
   {
    "duration": 133,
    "start_time": "2022-06-27T17:26:03.332Z"
   },
   {
    "duration": 13,
    "start_time": "2022-06-27T17:26:03.467Z"
   },
   {
    "duration": 14,
    "start_time": "2022-06-27T17:26:03.482Z"
   },
   {
    "duration": 5,
    "start_time": "2022-06-27T17:26:03.499Z"
   },
   {
    "duration": 18,
    "start_time": "2022-06-27T17:26:03.506Z"
   },
   {
    "duration": 5,
    "start_time": "2022-06-27T17:26:03.527Z"
   },
   {
    "duration": 4,
    "start_time": "2022-06-27T17:26:03.568Z"
   },
   {
    "duration": 8,
    "start_time": "2022-06-27T17:26:03.574Z"
   },
   {
    "duration": 15,
    "start_time": "2022-06-27T17:26:03.584Z"
   },
   {
    "duration": 5,
    "start_time": "2022-06-27T17:26:03.600Z"
   },
   {
    "duration": 115,
    "start_time": "2022-06-27T17:26:03.607Z"
   },
   {
    "duration": 11,
    "start_time": "2022-06-27T17:26:03.724Z"
   },
   {
    "duration": 4,
    "start_time": "2022-06-27T17:26:03.737Z"
   },
   {
    "duration": 82,
    "start_time": "2022-06-27T17:26:03.743Z"
   },
   {
    "duration": 10,
    "start_time": "2022-06-27T17:26:03.827Z"
   },
   {
    "duration": 9,
    "start_time": "2022-06-27T17:26:03.839Z"
   },
   {
    "duration": 535,
    "start_time": "2022-06-27T17:26:03.849Z"
   },
   {
    "duration": 0,
    "start_time": "2022-06-27T17:26:04.387Z"
   },
   {
    "duration": 0,
    "start_time": "2022-06-27T17:26:04.388Z"
   },
   {
    "duration": 0,
    "start_time": "2022-06-27T17:26:04.389Z"
   },
   {
    "duration": 0,
    "start_time": "2022-06-27T17:26:04.391Z"
   },
   {
    "duration": 0,
    "start_time": "2022-06-27T17:26:04.392Z"
   },
   {
    "duration": 0,
    "start_time": "2022-06-27T17:26:04.393Z"
   },
   {
    "duration": 0,
    "start_time": "2022-06-27T17:26:04.394Z"
   },
   {
    "duration": 0,
    "start_time": "2022-06-27T17:26:04.395Z"
   },
   {
    "duration": 0,
    "start_time": "2022-06-27T17:26:04.396Z"
   },
   {
    "duration": 0,
    "start_time": "2022-06-27T17:26:04.398Z"
   },
   {
    "duration": 0,
    "start_time": "2022-06-27T17:26:04.399Z"
   },
   {
    "duration": 0,
    "start_time": "2022-06-27T17:26:04.400Z"
   },
   {
    "duration": 0,
    "start_time": "2022-06-27T17:26:04.401Z"
   },
   {
    "duration": 0,
    "start_time": "2022-06-27T17:26:04.402Z"
   },
   {
    "duration": 0,
    "start_time": "2022-06-27T17:26:04.404Z"
   },
   {
    "duration": 0,
    "start_time": "2022-06-27T17:26:04.405Z"
   },
   {
    "duration": 0,
    "start_time": "2022-06-27T17:26:04.406Z"
   },
   {
    "duration": 0,
    "start_time": "2022-06-27T17:26:04.407Z"
   },
   {
    "duration": 0,
    "start_time": "2022-06-27T17:26:04.408Z"
   },
   {
    "duration": 3,
    "start_time": "2022-06-27T17:27:21.979Z"
   },
   {
    "duration": 252,
    "start_time": "2022-06-27T17:27:24.750Z"
   },
   {
    "duration": 4,
    "start_time": "2022-06-27T17:27:59.166Z"
   },
   {
    "duration": 208,
    "start_time": "2022-06-27T17:28:01.546Z"
   },
   {
    "duration": 24,
    "start_time": "2022-06-27T17:28:14.106Z"
   },
   {
    "duration": 134,
    "start_time": "2022-06-27T17:28:17.691Z"
   },
   {
    "duration": 42,
    "start_time": "2022-06-27T17:28:32.132Z"
   },
   {
    "duration": 3984,
    "start_time": "2022-06-27T17:28:32.176Z"
   },
   {
    "duration": 1282,
    "start_time": "2022-06-27T17:28:36.162Z"
   },
   {
    "duration": 4,
    "start_time": "2022-06-27T17:28:37.447Z"
   },
   {
    "duration": 99,
    "start_time": "2022-06-27T17:28:37.453Z"
   },
   {
    "duration": 13,
    "start_time": "2022-06-27T17:28:37.554Z"
   },
   {
    "duration": 13,
    "start_time": "2022-06-27T17:28:37.569Z"
   },
   {
    "duration": 6,
    "start_time": "2022-06-27T17:28:37.584Z"
   },
   {
    "duration": 19,
    "start_time": "2022-06-27T17:28:37.591Z"
   },
   {
    "duration": 4,
    "start_time": "2022-06-27T17:28:37.614Z"
   },
   {
    "duration": 7,
    "start_time": "2022-06-27T17:28:37.620Z"
   },
   {
    "duration": 7,
    "start_time": "2022-06-27T17:28:37.628Z"
   },
   {
    "duration": 39,
    "start_time": "2022-06-27T17:28:37.636Z"
   },
   {
    "duration": 4,
    "start_time": "2022-06-27T17:28:37.677Z"
   },
   {
    "duration": 108,
    "start_time": "2022-06-27T17:28:37.683Z"
   },
   {
    "duration": 12,
    "start_time": "2022-06-27T17:28:37.793Z"
   },
   {
    "duration": 7,
    "start_time": "2022-06-27T17:28:37.806Z"
   },
   {
    "duration": 72,
    "start_time": "2022-06-27T17:28:37.815Z"
   },
   {
    "duration": 8,
    "start_time": "2022-06-27T17:28:37.889Z"
   },
   {
    "duration": 6,
    "start_time": "2022-06-27T17:28:37.899Z"
   },
   {
    "duration": 527,
    "start_time": "2022-06-27T17:28:37.906Z"
   },
   {
    "duration": 245,
    "start_time": "2022-06-27T17:28:38.435Z"
   },
   {
    "duration": 0,
    "start_time": "2022-06-27T17:28:38.682Z"
   },
   {
    "duration": 0,
    "start_time": "2022-06-27T17:28:38.683Z"
   },
   {
    "duration": 0,
    "start_time": "2022-06-27T17:28:38.685Z"
   },
   {
    "duration": 0,
    "start_time": "2022-06-27T17:28:38.686Z"
   },
   {
    "duration": 0,
    "start_time": "2022-06-27T17:28:38.687Z"
   },
   {
    "duration": 0,
    "start_time": "2022-06-27T17:28:38.689Z"
   },
   {
    "duration": 0,
    "start_time": "2022-06-27T17:28:38.690Z"
   },
   {
    "duration": 0,
    "start_time": "2022-06-27T17:28:38.692Z"
   },
   {
    "duration": 0,
    "start_time": "2022-06-27T17:28:38.693Z"
   },
   {
    "duration": 0,
    "start_time": "2022-06-27T17:28:38.695Z"
   },
   {
    "duration": 0,
    "start_time": "2022-06-27T17:28:38.696Z"
   },
   {
    "duration": 0,
    "start_time": "2022-06-27T17:28:38.697Z"
   },
   {
    "duration": 0,
    "start_time": "2022-06-27T17:28:38.698Z"
   },
   {
    "duration": 0,
    "start_time": "2022-06-27T17:28:38.700Z"
   },
   {
    "duration": 0,
    "start_time": "2022-06-27T17:28:38.702Z"
   },
   {
    "duration": 0,
    "start_time": "2022-06-27T17:28:38.703Z"
   },
   {
    "duration": 0,
    "start_time": "2022-06-27T17:28:38.704Z"
   },
   {
    "duration": 0,
    "start_time": "2022-06-27T17:28:38.706Z"
   },
   {
    "duration": 65,
    "start_time": "2022-06-27T17:28:59.289Z"
   },
   {
    "duration": 27,
    "start_time": "2022-06-27T17:29:09.078Z"
   },
   {
    "duration": 52,
    "start_time": "2022-06-27T17:29:11.272Z"
   },
   {
    "duration": 65,
    "start_time": "2022-06-27T17:29:15.413Z"
   },
   {
    "duration": 66,
    "start_time": "2022-06-27T17:29:33.871Z"
   },
   {
    "duration": 52,
    "start_time": "2022-06-27T17:29:47.353Z"
   },
   {
    "duration": 37,
    "start_time": "2022-06-27T17:30:08.699Z"
   },
   {
    "duration": 4129,
    "start_time": "2022-06-27T17:30:08.738Z"
   },
   {
    "duration": 1255,
    "start_time": "2022-06-27T17:30:12.869Z"
   },
   {
    "duration": 5,
    "start_time": "2022-06-27T17:30:14.126Z"
   },
   {
    "duration": 86,
    "start_time": "2022-06-27T17:30:14.133Z"
   },
   {
    "duration": 12,
    "start_time": "2022-06-27T17:30:14.221Z"
   },
   {
    "duration": 15,
    "start_time": "2022-06-27T17:30:14.234Z"
   },
   {
    "duration": 6,
    "start_time": "2022-06-27T17:30:14.250Z"
   },
   {
    "duration": 24,
    "start_time": "2022-06-27T17:30:14.258Z"
   },
   {
    "duration": 5,
    "start_time": "2022-06-27T17:30:14.284Z"
   },
   {
    "duration": 6,
    "start_time": "2022-06-27T17:30:14.291Z"
   },
   {
    "duration": 8,
    "start_time": "2022-06-27T17:30:14.299Z"
   },
   {
    "duration": 13,
    "start_time": "2022-06-27T17:30:14.309Z"
   },
   {
    "duration": 9,
    "start_time": "2022-06-27T17:30:14.324Z"
   },
   {
    "duration": 139,
    "start_time": "2022-06-27T17:30:14.334Z"
   },
   {
    "duration": 11,
    "start_time": "2022-06-27T17:30:14.475Z"
   },
   {
    "duration": 6,
    "start_time": "2022-06-27T17:30:14.487Z"
   },
   {
    "duration": 75,
    "start_time": "2022-06-27T17:30:14.495Z"
   },
   {
    "duration": 9,
    "start_time": "2022-06-27T17:30:14.572Z"
   },
   {
    "duration": 5,
    "start_time": "2022-06-27T17:30:14.582Z"
   },
   {
    "duration": 517,
    "start_time": "2022-06-27T17:30:14.589Z"
   },
   {
    "duration": 171,
    "start_time": "2022-06-27T17:30:15.108Z"
   },
   {
    "duration": 26,
    "start_time": "2022-06-27T17:30:15.280Z"
   },
   {
    "duration": 63,
    "start_time": "2022-06-27T17:30:15.308Z"
   },
   {
    "duration": 67,
    "start_time": "2022-06-27T17:30:15.373Z"
   },
   {
    "duration": 176,
    "start_time": "2022-06-27T17:30:15.441Z"
   },
   {
    "duration": 0,
    "start_time": "2022-06-27T17:30:15.619Z"
   },
   {
    "duration": 0,
    "start_time": "2022-06-27T17:30:15.620Z"
   },
   {
    "duration": 0,
    "start_time": "2022-06-27T17:30:15.621Z"
   },
   {
    "duration": 0,
    "start_time": "2022-06-27T17:30:15.622Z"
   },
   {
    "duration": 0,
    "start_time": "2022-06-27T17:30:15.623Z"
   },
   {
    "duration": 0,
    "start_time": "2022-06-27T17:30:15.625Z"
   },
   {
    "duration": 0,
    "start_time": "2022-06-27T17:30:15.626Z"
   },
   {
    "duration": 0,
    "start_time": "2022-06-27T17:30:15.627Z"
   },
   {
    "duration": 0,
    "start_time": "2022-06-27T17:30:15.628Z"
   },
   {
    "duration": 0,
    "start_time": "2022-06-27T17:30:15.629Z"
   },
   {
    "duration": 0,
    "start_time": "2022-06-27T17:30:15.630Z"
   },
   {
    "duration": 0,
    "start_time": "2022-06-27T17:30:15.631Z"
   },
   {
    "duration": 0,
    "start_time": "2022-06-27T17:30:15.632Z"
   },
   {
    "duration": 0,
    "start_time": "2022-06-27T17:30:15.633Z"
   },
   {
    "duration": 39,
    "start_time": "2022-06-27T17:32:37.653Z"
   },
   {
    "duration": 8,
    "start_time": "2022-06-27T17:32:39.356Z"
   },
   {
    "duration": 24,
    "start_time": "2022-06-27T17:32:48.412Z"
   },
   {
    "duration": 3895,
    "start_time": "2022-06-27T17:32:48.438Z"
   },
   {
    "duration": 5,
    "start_time": "2022-06-27T17:32:52.335Z"
   },
   {
    "duration": 5,
    "start_time": "2022-06-27T17:32:52.342Z"
   },
   {
    "duration": 100,
    "start_time": "2022-06-27T17:32:52.348Z"
   },
   {
    "duration": 9,
    "start_time": "2022-06-27T17:32:52.450Z"
   },
   {
    "duration": 25,
    "start_time": "2022-06-27T17:32:52.460Z"
   },
   {
    "duration": 14,
    "start_time": "2022-06-27T17:32:52.491Z"
   },
   {
    "duration": 17,
    "start_time": "2022-06-27T17:32:52.506Z"
   },
   {
    "duration": 5,
    "start_time": "2022-06-27T17:32:52.526Z"
   },
   {
    "duration": 4,
    "start_time": "2022-06-27T17:32:52.532Z"
   },
   {
    "duration": 8,
    "start_time": "2022-06-27T17:32:52.537Z"
   },
   {
    "duration": 21,
    "start_time": "2022-06-27T17:32:52.546Z"
   },
   {
    "duration": 18,
    "start_time": "2022-06-27T17:32:52.569Z"
   },
   {
    "duration": 115,
    "start_time": "2022-06-27T17:32:52.589Z"
   },
   {
    "duration": 13,
    "start_time": "2022-06-27T17:32:52.706Z"
   },
   {
    "duration": 10,
    "start_time": "2022-06-27T17:32:52.720Z"
   },
   {
    "duration": 84,
    "start_time": "2022-06-27T17:32:52.732Z"
   },
   {
    "duration": 11,
    "start_time": "2022-06-27T17:32:52.818Z"
   },
   {
    "duration": 8,
    "start_time": "2022-06-27T17:32:52.831Z"
   },
   {
    "duration": 166,
    "start_time": "2022-06-27T17:32:52.841Z"
   },
   {
    "duration": 98,
    "start_time": "2022-06-27T17:32:53.009Z"
   },
   {
    "duration": 28,
    "start_time": "2022-06-27T17:32:53.109Z"
   },
   {
    "duration": 86,
    "start_time": "2022-06-27T17:32:53.138Z"
   },
   {
    "duration": 78,
    "start_time": "2022-06-27T17:32:53.226Z"
   },
   {
    "duration": 44,
    "start_time": "2022-06-27T17:32:53.306Z"
   },
   {
    "duration": 7,
    "start_time": "2022-06-27T17:32:53.351Z"
   },
   {
    "duration": 15,
    "start_time": "2022-06-27T17:32:53.361Z"
   },
   {
    "duration": 157,
    "start_time": "2022-06-27T17:32:53.378Z"
   },
   {
    "duration": 7,
    "start_time": "2022-06-27T17:32:53.537Z"
   },
   {
    "duration": 5,
    "start_time": "2022-06-27T17:32:53.545Z"
   },
   {
    "duration": 4744,
    "start_time": "2022-06-27T17:32:53.551Z"
   },
   {
    "duration": 94,
    "start_time": "2022-06-27T17:32:58.297Z"
   },
   {
    "duration": 11,
    "start_time": "2022-06-27T17:32:58.393Z"
   },
   {
    "duration": 4,
    "start_time": "2022-06-27T17:32:58.406Z"
   },
   {
    "duration": 6,
    "start_time": "2022-06-27T17:32:58.413Z"
   },
   {
    "duration": 32,
    "start_time": "2022-06-27T17:32:58.421Z"
   },
   {
    "duration": 53,
    "start_time": "2022-06-27T17:32:58.455Z"
   },
   {
    "duration": 4780,
    "start_time": "2022-06-27T17:32:58.510Z"
   },
   {
    "duration": 51,
    "start_time": "2022-06-27T17:33:03.291Z"
   },
   {
    "duration": 21,
    "start_time": "2022-06-27T17:33:32.596Z"
   },
   {
    "duration": 26,
    "start_time": "2022-06-27T17:33:55.023Z"
   },
   {
    "duration": 3845,
    "start_time": "2022-06-27T17:33:55.052Z"
   },
   {
    "duration": 5,
    "start_time": "2022-06-27T17:33:58.900Z"
   },
   {
    "duration": 8,
    "start_time": "2022-06-27T17:33:58.908Z"
   },
   {
    "duration": 107,
    "start_time": "2022-06-27T17:33:58.918Z"
   },
   {
    "duration": 11,
    "start_time": "2022-06-27T17:33:59.027Z"
   },
   {
    "duration": 19,
    "start_time": "2022-06-27T17:33:59.040Z"
   },
   {
    "duration": 10,
    "start_time": "2022-06-27T17:33:59.069Z"
   },
   {
    "duration": 46,
    "start_time": "2022-06-27T17:33:59.082Z"
   },
   {
    "duration": 5,
    "start_time": "2022-06-27T17:33:59.132Z"
   },
   {
    "duration": 6,
    "start_time": "2022-06-27T17:33:59.139Z"
   },
   {
    "duration": 13,
    "start_time": "2022-06-27T17:33:59.146Z"
   },
   {
    "duration": 19,
    "start_time": "2022-06-27T17:33:59.160Z"
   },
   {
    "duration": 7,
    "start_time": "2022-06-27T17:33:59.181Z"
   },
   {
    "duration": 110,
    "start_time": "2022-06-27T17:33:59.189Z"
   },
   {
    "duration": 12,
    "start_time": "2022-06-27T17:33:59.301Z"
   },
   {
    "duration": 4,
    "start_time": "2022-06-27T17:33:59.315Z"
   },
   {
    "duration": 80,
    "start_time": "2022-06-27T17:33:59.321Z"
   },
   {
    "duration": 10,
    "start_time": "2022-06-27T17:33:59.403Z"
   },
   {
    "duration": 9,
    "start_time": "2022-06-27T17:33:59.415Z"
   },
   {
    "duration": 163,
    "start_time": "2022-06-27T17:33:59.425Z"
   },
   {
    "duration": 99,
    "start_time": "2022-06-27T17:33:59.590Z"
   },
   {
    "duration": 27,
    "start_time": "2022-06-27T17:33:59.691Z"
   },
   {
    "duration": 65,
    "start_time": "2022-06-27T17:33:59.720Z"
   },
   {
    "duration": 68,
    "start_time": "2022-06-27T17:33:59.786Z"
   },
   {
    "duration": 43,
    "start_time": "2022-06-27T17:33:59.856Z"
   },
   {
    "duration": 8,
    "start_time": "2022-06-27T17:33:59.900Z"
   },
   {
    "duration": 17,
    "start_time": "2022-06-27T17:33:59.912Z"
   },
   {
    "duration": 56,
    "start_time": "2022-06-27T17:33:59.931Z"
   },
   {
    "duration": 8,
    "start_time": "2022-06-27T17:33:59.989Z"
   },
   {
    "duration": 12,
    "start_time": "2022-06-27T17:33:59.999Z"
   },
   {
    "duration": 4742,
    "start_time": "2022-06-27T17:34:00.012Z"
   },
   {
    "duration": 45,
    "start_time": "2022-06-27T17:34:04.756Z"
   },
   {
    "duration": 10,
    "start_time": "2022-06-27T17:34:04.802Z"
   },
   {
    "duration": 5,
    "start_time": "2022-06-27T17:34:04.813Z"
   },
   {
    "duration": 10,
    "start_time": "2022-06-27T17:34:04.820Z"
   },
   {
    "duration": 14,
    "start_time": "2022-06-27T17:34:04.832Z"
   },
   {
    "duration": 63,
    "start_time": "2022-06-27T17:34:04.848Z"
   },
   {
    "duration": 4838,
    "start_time": "2022-06-27T17:34:04.913Z"
   },
   {
    "duration": 47,
    "start_time": "2022-06-27T17:34:09.752Z"
   },
   {
    "duration": 25,
    "start_time": "2022-06-27T17:37:32.907Z"
   },
   {
    "duration": 3695,
    "start_time": "2022-06-27T17:37:32.934Z"
   },
   {
    "duration": 5,
    "start_time": "2022-06-27T17:37:36.630Z"
   },
   {
    "duration": 9,
    "start_time": "2022-06-27T17:37:36.637Z"
   },
   {
    "duration": 82,
    "start_time": "2022-06-27T17:37:36.647Z"
   },
   {
    "duration": 9,
    "start_time": "2022-06-27T17:37:36.730Z"
   },
   {
    "duration": 15,
    "start_time": "2022-06-27T17:37:36.741Z"
   },
   {
    "duration": 5,
    "start_time": "2022-06-27T17:37:36.757Z"
   },
   {
    "duration": 19,
    "start_time": "2022-06-27T17:37:36.764Z"
   },
   {
    "duration": 5,
    "start_time": "2022-06-27T17:37:36.786Z"
   },
   {
    "duration": 7,
    "start_time": "2022-06-27T17:37:36.792Z"
   },
   {
    "duration": 6,
    "start_time": "2022-06-27T17:37:36.800Z"
   },
   {
    "duration": 16,
    "start_time": "2022-06-27T17:37:36.807Z"
   },
   {
    "duration": 5,
    "start_time": "2022-06-27T17:37:36.825Z"
   },
   {
    "duration": 119,
    "start_time": "2022-06-27T17:37:36.831Z"
   },
   {
    "duration": 19,
    "start_time": "2022-06-27T17:37:36.952Z"
   },
   {
    "duration": 14,
    "start_time": "2022-06-27T17:37:41.257Z"
   },
   {
    "duration": 16,
    "start_time": "2022-06-27T17:38:30.576Z"
   },
   {
    "duration": 15,
    "start_time": "2022-06-27T17:38:34.625Z"
   },
   {
    "duration": 14,
    "start_time": "2022-06-27T17:39:11.922Z"
   },
   {
    "duration": 27,
    "start_time": "2022-06-27T17:39:29.048Z"
   },
   {
    "duration": 22,
    "start_time": "2022-06-27T17:39:44.321Z"
   },
   {
    "duration": 14,
    "start_time": "2022-06-27T17:39:53.100Z"
   },
   {
    "duration": 13,
    "start_time": "2022-06-27T17:41:39.693Z"
   },
   {
    "duration": 25,
    "start_time": "2022-06-27T17:42:03.141Z"
   },
   {
    "duration": 3986,
    "start_time": "2022-06-27T17:42:03.169Z"
   },
   {
    "duration": 4,
    "start_time": "2022-06-27T17:42:07.157Z"
   },
   {
    "duration": 7,
    "start_time": "2022-06-27T17:42:07.164Z"
   },
   {
    "duration": 86,
    "start_time": "2022-06-27T17:42:07.173Z"
   },
   {
    "duration": 9,
    "start_time": "2022-06-27T17:42:07.261Z"
   },
   {
    "duration": 14,
    "start_time": "2022-06-27T17:42:07.272Z"
   },
   {
    "duration": 6,
    "start_time": "2022-06-27T17:42:07.288Z"
   },
   {
    "duration": 17,
    "start_time": "2022-06-27T17:42:07.296Z"
   },
   {
    "duration": 13,
    "start_time": "2022-06-27T17:42:07.316Z"
   },
   {
    "duration": 46,
    "start_time": "2022-06-27T17:42:07.331Z"
   },
   {
    "duration": 7,
    "start_time": "2022-06-27T17:42:07.378Z"
   },
   {
    "duration": 15,
    "start_time": "2022-06-27T17:42:07.387Z"
   },
   {
    "duration": 12,
    "start_time": "2022-06-27T17:42:07.405Z"
   },
   {
    "duration": 15,
    "start_time": "2022-06-27T17:42:07.418Z"
   },
   {
    "duration": 6,
    "start_time": "2022-06-27T17:42:07.434Z"
   },
   {
    "duration": 133,
    "start_time": "2022-06-27T17:42:07.442Z"
   },
   {
    "duration": 15,
    "start_time": "2022-06-27T17:42:07.578Z"
   },
   {
    "duration": 8,
    "start_time": "2022-06-27T17:42:07.595Z"
   },
   {
    "duration": 78,
    "start_time": "2022-06-27T17:42:07.604Z"
   },
   {
    "duration": 10,
    "start_time": "2022-06-27T17:42:07.684Z"
   },
   {
    "duration": 7,
    "start_time": "2022-06-27T17:42:07.695Z"
   },
   {
    "duration": 162,
    "start_time": "2022-06-27T17:42:07.703Z"
   },
   {
    "duration": 63,
    "start_time": "2022-06-27T17:42:07.866Z"
   },
   {
    "duration": 61,
    "start_time": "2022-06-27T17:42:07.931Z"
   },
   {
    "duration": 77,
    "start_time": "2022-06-27T17:42:07.994Z"
   },
   {
    "duration": 73,
    "start_time": "2022-06-27T17:42:08.073Z"
   },
   {
    "duration": 38,
    "start_time": "2022-06-27T17:42:08.150Z"
   },
   {
    "duration": 7,
    "start_time": "2022-06-27T17:42:08.190Z"
   },
   {
    "duration": 11,
    "start_time": "2022-06-27T17:42:08.198Z"
   },
   {
    "duration": 62,
    "start_time": "2022-06-27T17:42:08.211Z"
   },
   {
    "duration": 7,
    "start_time": "2022-06-27T17:42:08.275Z"
   },
   {
    "duration": 4,
    "start_time": "2022-06-27T17:42:08.284Z"
   },
   {
    "duration": 4724,
    "start_time": "2022-06-27T17:42:08.290Z"
   },
   {
    "duration": 44,
    "start_time": "2022-06-27T17:42:13.016Z"
   },
   {
    "duration": 9,
    "start_time": "2022-06-27T17:42:13.062Z"
   },
   {
    "duration": 21,
    "start_time": "2022-06-27T17:42:13.072Z"
   },
   {
    "duration": 24,
    "start_time": "2022-06-27T17:42:13.094Z"
   },
   {
    "duration": 18,
    "start_time": "2022-06-27T17:42:13.120Z"
   },
   {
    "duration": 172,
    "start_time": "2022-06-27T17:42:13.140Z"
   },
   {
    "duration": 4718,
    "start_time": "2022-06-27T17:42:13.314Z"
   },
   {
    "duration": 47,
    "start_time": "2022-06-27T17:42:18.034Z"
   },
   {
    "duration": 32,
    "start_time": "2022-06-27T21:16:28.798Z"
   },
   {
    "duration": 7595,
    "start_time": "2022-06-27T21:16:28.833Z"
   },
   {
    "duration": 1376,
    "start_time": "2022-06-27T21:16:36.430Z"
   },
   {
    "duration": 4,
    "start_time": "2022-06-27T21:16:37.809Z"
   },
   {
    "duration": 111,
    "start_time": "2022-06-27T21:16:37.814Z"
   },
   {
    "duration": 11,
    "start_time": "2022-06-27T21:16:37.927Z"
   },
   {
    "duration": 11,
    "start_time": "2022-06-27T21:16:37.940Z"
   },
   {
    "duration": 5,
    "start_time": "2022-06-27T21:16:37.953Z"
   },
   {
    "duration": 14,
    "start_time": "2022-06-27T21:16:37.960Z"
   },
   {
    "duration": 10,
    "start_time": "2022-06-27T21:16:37.976Z"
   },
   {
    "duration": 17,
    "start_time": "2022-06-27T21:16:37.988Z"
   },
   {
    "duration": 5,
    "start_time": "2022-06-27T21:16:38.006Z"
   },
   {
    "duration": 6,
    "start_time": "2022-06-27T21:16:38.013Z"
   },
   {
    "duration": 30,
    "start_time": "2022-06-27T21:16:38.021Z"
   },
   {
    "duration": 12,
    "start_time": "2022-06-27T21:16:38.052Z"
   },
   {
    "duration": 6,
    "start_time": "2022-06-27T21:16:38.065Z"
   },
   {
    "duration": 98,
    "start_time": "2022-06-27T21:16:38.072Z"
   },
   {
    "duration": 11,
    "start_time": "2022-06-27T21:16:38.171Z"
   },
   {
    "duration": 4,
    "start_time": "2022-06-27T21:16:38.183Z"
   },
   {
    "duration": 67,
    "start_time": "2022-06-27T21:16:38.188Z"
   },
   {
    "duration": 9,
    "start_time": "2022-06-27T21:16:38.256Z"
   },
   {
    "duration": 5,
    "start_time": "2022-06-27T21:16:38.266Z"
   },
   {
    "duration": 490,
    "start_time": "2022-06-27T21:16:38.273Z"
   },
   {
    "duration": 105,
    "start_time": "2022-06-27T21:16:38.766Z"
   },
   {
    "duration": 26,
    "start_time": "2022-06-27T21:16:38.872Z"
   },
   {
    "duration": 74,
    "start_time": "2022-06-27T21:16:38.899Z"
   },
   {
    "duration": 60,
    "start_time": "2022-06-27T21:16:38.974Z"
   },
   {
    "duration": 158,
    "start_time": "2022-06-27T21:16:39.035Z"
   },
   {
    "duration": 0,
    "start_time": "2022-06-27T21:16:39.194Z"
   },
   {
    "duration": 0,
    "start_time": "2022-06-27T21:16:39.195Z"
   },
   {
    "duration": 0,
    "start_time": "2022-06-27T21:16:39.196Z"
   },
   {
    "duration": 0,
    "start_time": "2022-06-27T21:16:39.197Z"
   },
   {
    "duration": 0,
    "start_time": "2022-06-27T21:16:39.198Z"
   },
   {
    "duration": 0,
    "start_time": "2022-06-27T21:16:39.199Z"
   },
   {
    "duration": 0,
    "start_time": "2022-06-27T21:16:39.199Z"
   },
   {
    "duration": 0,
    "start_time": "2022-06-27T21:16:39.201Z"
   },
   {
    "duration": 0,
    "start_time": "2022-06-27T21:16:39.202Z"
   },
   {
    "duration": 0,
    "start_time": "2022-06-27T21:16:39.203Z"
   },
   {
    "duration": 0,
    "start_time": "2022-06-27T21:16:39.204Z"
   },
   {
    "duration": 0,
    "start_time": "2022-06-27T21:16:39.205Z"
   },
   {
    "duration": 0,
    "start_time": "2022-06-27T21:16:39.206Z"
   },
   {
    "duration": 0,
    "start_time": "2022-06-27T21:16:39.207Z"
   },
   {
    "duration": 39,
    "start_time": "2022-06-28T09:44:23.935Z"
   },
   {
    "duration": 0,
    "start_time": "2022-06-28T09:45:33.975Z"
   },
   {
    "duration": 0,
    "start_time": "2022-06-28T09:45:33.976Z"
   },
   {
    "duration": 0,
    "start_time": "2022-06-28T09:45:33.977Z"
   },
   {
    "duration": 0,
    "start_time": "2022-06-28T09:45:33.979Z"
   },
   {
    "duration": 0,
    "start_time": "2022-06-28T09:45:33.980Z"
   },
   {
    "duration": 0,
    "start_time": "2022-06-28T09:45:33.982Z"
   },
   {
    "duration": 0,
    "start_time": "2022-06-28T09:45:33.984Z"
   },
   {
    "duration": 0,
    "start_time": "2022-06-28T09:45:33.985Z"
   },
   {
    "duration": 0,
    "start_time": "2022-06-28T09:45:33.987Z"
   },
   {
    "duration": 0,
    "start_time": "2022-06-28T09:45:33.988Z"
   },
   {
    "duration": 0,
    "start_time": "2022-06-28T09:45:33.989Z"
   },
   {
    "duration": 0,
    "start_time": "2022-06-28T09:45:33.990Z"
   },
   {
    "duration": 0,
    "start_time": "2022-06-28T09:45:33.991Z"
   },
   {
    "duration": 0,
    "start_time": "2022-06-28T09:45:33.993Z"
   },
   {
    "duration": 0,
    "start_time": "2022-06-28T09:45:33.994Z"
   },
   {
    "duration": 0,
    "start_time": "2022-06-28T09:45:33.995Z"
   },
   {
    "duration": 0,
    "start_time": "2022-06-28T09:45:33.996Z"
   },
   {
    "duration": 0,
    "start_time": "2022-06-28T09:45:33.998Z"
   },
   {
    "duration": 0,
    "start_time": "2022-06-28T09:45:33.999Z"
   },
   {
    "duration": 0,
    "start_time": "2022-06-28T09:45:34.001Z"
   },
   {
    "duration": 0,
    "start_time": "2022-06-28T09:45:34.002Z"
   },
   {
    "duration": 0,
    "start_time": "2022-06-28T09:45:34.003Z"
   },
   {
    "duration": 0,
    "start_time": "2022-06-28T09:45:34.005Z"
   },
   {
    "duration": 0,
    "start_time": "2022-06-28T09:45:34.006Z"
   },
   {
    "duration": 0,
    "start_time": "2022-06-28T09:45:34.008Z"
   },
   {
    "duration": 0,
    "start_time": "2022-06-28T09:45:34.068Z"
   },
   {
    "duration": 0,
    "start_time": "2022-06-28T09:45:34.070Z"
   },
   {
    "duration": 0,
    "start_time": "2022-06-28T09:45:34.072Z"
   },
   {
    "duration": 0,
    "start_time": "2022-06-28T09:45:34.074Z"
   },
   {
    "duration": 0,
    "start_time": "2022-06-28T09:45:34.075Z"
   },
   {
    "duration": 0,
    "start_time": "2022-06-28T09:45:34.077Z"
   },
   {
    "duration": 0,
    "start_time": "2022-06-28T09:45:34.079Z"
   },
   {
    "duration": 0,
    "start_time": "2022-06-28T09:45:34.080Z"
   },
   {
    "duration": 0,
    "start_time": "2022-06-28T09:45:34.082Z"
   },
   {
    "duration": 0,
    "start_time": "2022-06-28T09:45:34.084Z"
   },
   {
    "duration": 0,
    "start_time": "2022-06-28T09:45:34.085Z"
   },
   {
    "duration": 0,
    "start_time": "2022-06-28T09:45:34.087Z"
   },
   {
    "duration": 0,
    "start_time": "2022-06-28T09:45:34.089Z"
   },
   {
    "duration": 0,
    "start_time": "2022-06-28T09:45:34.091Z"
   },
   {
    "duration": 0,
    "start_time": "2022-06-28T09:45:34.092Z"
   },
   {
    "duration": 0,
    "start_time": "2022-06-28T09:45:34.094Z"
   },
   {
    "duration": 42,
    "start_time": "2022-06-28T09:45:40.736Z"
   },
   {
    "duration": 3,
    "start_time": "2022-06-28T09:45:40.780Z"
   },
   {
    "duration": 1430,
    "start_time": "2022-06-28T09:45:40.784Z"
   },
   {
    "duration": 0,
    "start_time": "2022-06-28T09:45:42.218Z"
   },
   {
    "duration": 0,
    "start_time": "2022-06-28T09:45:42.219Z"
   },
   {
    "duration": 0,
    "start_time": "2022-06-28T09:45:42.220Z"
   },
   {
    "duration": 0,
    "start_time": "2022-06-28T09:45:42.222Z"
   },
   {
    "duration": 0,
    "start_time": "2022-06-28T09:45:42.223Z"
   },
   {
    "duration": 0,
    "start_time": "2022-06-28T09:45:42.224Z"
   },
   {
    "duration": 0,
    "start_time": "2022-06-28T09:45:42.225Z"
   },
   {
    "duration": 0,
    "start_time": "2022-06-28T09:45:42.227Z"
   },
   {
    "duration": 0,
    "start_time": "2022-06-28T09:45:42.229Z"
   },
   {
    "duration": 0,
    "start_time": "2022-06-28T09:45:42.230Z"
   },
   {
    "duration": 0,
    "start_time": "2022-06-28T09:45:42.232Z"
   },
   {
    "duration": 0,
    "start_time": "2022-06-28T09:45:42.233Z"
   },
   {
    "duration": 0,
    "start_time": "2022-06-28T09:45:42.235Z"
   },
   {
    "duration": 0,
    "start_time": "2022-06-28T09:45:42.237Z"
   },
   {
    "duration": 0,
    "start_time": "2022-06-28T09:45:42.238Z"
   },
   {
    "duration": 0,
    "start_time": "2022-06-28T09:45:42.239Z"
   },
   {
    "duration": 0,
    "start_time": "2022-06-28T09:45:42.240Z"
   },
   {
    "duration": 0,
    "start_time": "2022-06-28T09:45:42.241Z"
   },
   {
    "duration": 0,
    "start_time": "2022-06-28T09:45:42.242Z"
   },
   {
    "duration": 0,
    "start_time": "2022-06-28T09:45:42.243Z"
   },
   {
    "duration": 0,
    "start_time": "2022-06-28T09:45:42.244Z"
   },
   {
    "duration": 0,
    "start_time": "2022-06-28T09:45:42.269Z"
   },
   {
    "duration": 0,
    "start_time": "2022-06-28T09:45:42.271Z"
   },
   {
    "duration": 0,
    "start_time": "2022-06-28T09:45:42.272Z"
   },
   {
    "duration": 0,
    "start_time": "2022-06-28T09:45:42.274Z"
   },
   {
    "duration": 0,
    "start_time": "2022-06-28T09:45:42.275Z"
   },
   {
    "duration": 0,
    "start_time": "2022-06-28T09:45:42.277Z"
   },
   {
    "duration": 0,
    "start_time": "2022-06-28T09:45:42.279Z"
   },
   {
    "duration": 0,
    "start_time": "2022-06-28T09:45:42.281Z"
   },
   {
    "duration": 0,
    "start_time": "2022-06-28T09:45:42.282Z"
   },
   {
    "duration": 0,
    "start_time": "2022-06-28T09:45:42.283Z"
   },
   {
    "duration": 0,
    "start_time": "2022-06-28T09:45:42.285Z"
   },
   {
    "duration": 0,
    "start_time": "2022-06-28T09:45:42.287Z"
   },
   {
    "duration": 0,
    "start_time": "2022-06-28T09:45:42.288Z"
   },
   {
    "duration": 0,
    "start_time": "2022-06-28T09:45:42.289Z"
   },
   {
    "duration": 0,
    "start_time": "2022-06-28T09:45:42.291Z"
   },
   {
    "duration": 0,
    "start_time": "2022-06-28T09:45:42.293Z"
   },
   {
    "duration": 0,
    "start_time": "2022-06-28T09:45:42.294Z"
   },
   {
    "duration": 0,
    "start_time": "2022-06-28T09:45:42.295Z"
   },
   {
    "duration": 59,
    "start_time": "2022-06-28T14:16:18.755Z"
   },
   {
    "duration": 10277,
    "start_time": "2022-06-28T14:16:18.815Z"
   },
   {
    "duration": 1425,
    "start_time": "2022-06-28T14:16:29.093Z"
   },
   {
    "duration": 5,
    "start_time": "2022-06-28T14:16:30.520Z"
   },
   {
    "duration": 361,
    "start_time": "2022-06-28T14:16:30.532Z"
   },
   {
    "duration": 12,
    "start_time": "2022-06-28T14:16:30.895Z"
   },
   {
    "duration": 54,
    "start_time": "2022-06-28T14:16:30.909Z"
   },
   {
    "duration": 21,
    "start_time": "2022-06-28T14:16:30.965Z"
   },
   {
    "duration": 52,
    "start_time": "2022-06-28T14:16:30.987Z"
   },
   {
    "duration": 34,
    "start_time": "2022-06-28T14:16:31.041Z"
   },
   {
    "duration": 28,
    "start_time": "2022-06-28T14:16:31.076Z"
   },
   {
    "duration": 18,
    "start_time": "2022-06-28T14:16:31.105Z"
   },
   {
    "duration": 39,
    "start_time": "2022-06-28T14:16:31.124Z"
   },
   {
    "duration": 18,
    "start_time": "2022-06-28T14:16:31.167Z"
   },
   {
    "duration": 24,
    "start_time": "2022-06-28T14:16:31.186Z"
   },
   {
    "duration": 43,
    "start_time": "2022-06-28T14:16:31.212Z"
   },
   {
    "duration": 115,
    "start_time": "2022-06-28T14:16:31.256Z"
   },
   {
    "duration": 11,
    "start_time": "2022-06-28T14:16:31.372Z"
   },
   {
    "duration": 5,
    "start_time": "2022-06-28T14:16:31.385Z"
   },
   {
    "duration": 91,
    "start_time": "2022-06-28T14:16:31.391Z"
   },
   {
    "duration": 9,
    "start_time": "2022-06-28T14:16:31.483Z"
   },
   {
    "duration": 19,
    "start_time": "2022-06-28T14:16:31.494Z"
   },
   {
    "duration": 622,
    "start_time": "2022-06-28T14:16:31.515Z"
   },
   {
    "duration": 101,
    "start_time": "2022-06-28T14:16:32.145Z"
   },
   {
    "duration": 107,
    "start_time": "2022-06-28T14:16:32.247Z"
   },
   {
    "duration": 27,
    "start_time": "2022-06-28T14:16:32.356Z"
   },
   {
    "duration": 69,
    "start_time": "2022-06-28T14:16:32.385Z"
   },
   {
    "duration": 66,
    "start_time": "2022-06-28T14:16:32.455Z"
   },
   {
    "duration": 25,
    "start_time": "2022-06-28T14:16:32.538Z"
   },
   {
    "duration": 87,
    "start_time": "2022-06-28T14:16:32.565Z"
   },
   {
    "duration": 5,
    "start_time": "2022-06-28T14:16:32.653Z"
   },
   {
    "duration": 441,
    "start_time": "2022-06-28T14:16:32.660Z"
   },
   {
    "duration": 246,
    "start_time": "2022-06-28T14:16:33.102Z"
   },
   {
    "duration": 0,
    "start_time": "2022-06-28T14:16:33.350Z"
   },
   {
    "duration": 0,
    "start_time": "2022-06-28T14:16:33.352Z"
   },
   {
    "duration": 0,
    "start_time": "2022-06-28T14:16:33.353Z"
   },
   {
    "duration": 0,
    "start_time": "2022-06-28T14:16:33.353Z"
   },
   {
    "duration": 0,
    "start_time": "2022-06-28T14:16:33.355Z"
   },
   {
    "duration": 0,
    "start_time": "2022-06-28T14:16:33.356Z"
   },
   {
    "duration": 0,
    "start_time": "2022-06-28T14:16:33.357Z"
   },
   {
    "duration": 0,
    "start_time": "2022-06-28T14:16:33.358Z"
   },
   {
    "duration": 0,
    "start_time": "2022-06-28T14:16:33.359Z"
   },
   {
    "duration": 0,
    "start_time": "2022-06-28T14:16:33.360Z"
   },
   {
    "duration": 0,
    "start_time": "2022-06-28T14:16:33.361Z"
   },
   {
    "duration": 0,
    "start_time": "2022-06-28T14:16:33.362Z"
   },
   {
    "duration": 0,
    "start_time": "2022-06-28T14:16:33.363Z"
   },
   {
    "duration": 0,
    "start_time": "2022-06-28T14:16:33.365Z"
   },
   {
    "duration": 43,
    "start_time": "2022-06-28T14:16:52.763Z"
   },
   {
    "duration": 50,
    "start_time": "2022-06-28T14:16:59.447Z"
   },
   {
    "duration": 4455,
    "start_time": "2022-06-28T14:16:59.500Z"
   },
   {
    "duration": 1415,
    "start_time": "2022-06-28T14:17:03.956Z"
   },
   {
    "duration": 4,
    "start_time": "2022-06-28T14:17:05.373Z"
   },
   {
    "duration": 127,
    "start_time": "2022-06-28T14:17:05.380Z"
   },
   {
    "duration": 12,
    "start_time": "2022-06-28T14:17:05.509Z"
   },
   {
    "duration": 20,
    "start_time": "2022-06-28T14:17:05.523Z"
   },
   {
    "duration": 26,
    "start_time": "2022-06-28T14:17:05.545Z"
   },
   {
    "duration": 20,
    "start_time": "2022-06-28T14:17:05.573Z"
   },
   {
    "duration": 16,
    "start_time": "2022-06-28T14:17:05.595Z"
   },
   {
    "duration": 22,
    "start_time": "2022-06-28T14:17:05.612Z"
   },
   {
    "duration": 18,
    "start_time": "2022-06-28T14:17:05.641Z"
   },
   {
    "duration": 7,
    "start_time": "2022-06-28T14:17:05.661Z"
   },
   {
    "duration": 8,
    "start_time": "2022-06-28T14:17:05.671Z"
   },
   {
    "duration": 15,
    "start_time": "2022-06-28T14:17:05.680Z"
   },
   {
    "duration": 4,
    "start_time": "2022-06-28T14:17:05.697Z"
   },
   {
    "duration": 114,
    "start_time": "2022-06-28T14:17:05.703Z"
   },
   {
    "duration": 27,
    "start_time": "2022-06-28T14:17:05.819Z"
   },
   {
    "duration": 22,
    "start_time": "2022-06-28T14:17:05.847Z"
   },
   {
    "duration": 64,
    "start_time": "2022-06-28T14:17:05.871Z"
   },
   {
    "duration": 18,
    "start_time": "2022-06-28T14:17:05.939Z"
   },
   {
    "duration": 8,
    "start_time": "2022-06-28T14:17:05.961Z"
   },
   {
    "duration": 662,
    "start_time": "2022-06-28T14:17:05.971Z"
   },
   {
    "duration": 106,
    "start_time": "2022-06-28T14:17:06.635Z"
   },
   {
    "duration": 110,
    "start_time": "2022-06-28T14:17:06.743Z"
   },
   {
    "duration": 33,
    "start_time": "2022-06-28T14:17:06.864Z"
   },
   {
    "duration": 77,
    "start_time": "2022-06-28T14:17:06.900Z"
   },
   {
    "duration": 105,
    "start_time": "2022-06-28T14:17:06.978Z"
   },
   {
    "duration": 27,
    "start_time": "2022-06-28T14:17:07.085Z"
   },
   {
    "duration": 97,
    "start_time": "2022-06-28T14:17:07.113Z"
   },
   {
    "duration": 6,
    "start_time": "2022-06-28T14:17:07.212Z"
   },
   {
    "duration": 440,
    "start_time": "2022-06-28T14:17:07.219Z"
   },
   {
    "duration": 36,
    "start_time": "2022-06-28T14:17:07.661Z"
   },
   {
    "duration": 6,
    "start_time": "2022-06-28T14:17:07.699Z"
   },
   {
    "duration": 10,
    "start_time": "2022-06-28T14:17:07.707Z"
   },
   {
    "duration": 56,
    "start_time": "2022-06-28T14:17:07.719Z"
   },
   {
    "duration": 6,
    "start_time": "2022-06-28T14:17:07.776Z"
   },
   {
    "duration": 7,
    "start_time": "2022-06-28T14:17:07.784Z"
   },
   {
    "duration": 596,
    "start_time": "2022-06-28T14:17:07.792Z"
   },
   {
    "duration": 0,
    "start_time": "2022-06-28T14:17:08.389Z"
   },
   {
    "duration": 0,
    "start_time": "2022-06-28T14:17:08.390Z"
   },
   {
    "duration": 0,
    "start_time": "2022-06-28T14:17:08.392Z"
   },
   {
    "duration": 0,
    "start_time": "2022-06-28T14:17:08.392Z"
   },
   {
    "duration": 0,
    "start_time": "2022-06-28T14:17:08.393Z"
   },
   {
    "duration": 0,
    "start_time": "2022-06-28T14:17:08.395Z"
   },
   {
    "duration": 0,
    "start_time": "2022-06-28T14:17:08.396Z"
   },
   {
    "duration": 0,
    "start_time": "2022-06-28T14:17:08.397Z"
   },
   {
    "duration": 6,
    "start_time": "2022-06-28T14:17:53.206Z"
   },
   {
    "duration": 47,
    "start_time": "2022-06-28T14:20:55.565Z"
   },
   {
    "duration": 4410,
    "start_time": "2022-06-28T14:20:55.613Z"
   },
   {
    "duration": 1491,
    "start_time": "2022-06-28T14:21:00.025Z"
   },
   {
    "duration": 4,
    "start_time": "2022-06-28T14:21:01.518Z"
   },
   {
    "duration": 153,
    "start_time": "2022-06-28T14:21:01.524Z"
   },
   {
    "duration": 11,
    "start_time": "2022-06-28T14:21:01.679Z"
   },
   {
    "duration": 25,
    "start_time": "2022-06-28T14:21:01.692Z"
   },
   {
    "duration": 6,
    "start_time": "2022-06-28T14:21:01.719Z"
   },
   {
    "duration": 68,
    "start_time": "2022-06-28T14:21:01.727Z"
   },
   {
    "duration": 13,
    "start_time": "2022-06-28T14:21:01.798Z"
   },
   {
    "duration": 35,
    "start_time": "2022-06-28T14:21:01.812Z"
   },
   {
    "duration": 17,
    "start_time": "2022-06-28T14:21:01.851Z"
   },
   {
    "duration": 22,
    "start_time": "2022-06-28T14:21:01.870Z"
   },
   {
    "duration": 12,
    "start_time": "2022-06-28T14:21:01.894Z"
   },
   {
    "duration": 20,
    "start_time": "2022-06-28T14:21:01.907Z"
   },
   {
    "duration": 40,
    "start_time": "2022-06-28T14:21:01.928Z"
   },
   {
    "duration": 125,
    "start_time": "2022-06-28T14:21:01.970Z"
   },
   {
    "duration": 12,
    "start_time": "2022-06-28T14:21:02.096Z"
   },
   {
    "duration": 24,
    "start_time": "2022-06-28T14:21:02.110Z"
   },
   {
    "duration": 109,
    "start_time": "2022-06-28T14:21:02.139Z"
   },
   {
    "duration": 12,
    "start_time": "2022-06-28T14:21:02.250Z"
   },
   {
    "duration": 7,
    "start_time": "2022-06-28T14:21:02.263Z"
   },
   {
    "duration": 586,
    "start_time": "2022-06-28T14:21:02.271Z"
   },
   {
    "duration": 102,
    "start_time": "2022-06-28T14:21:02.860Z"
   },
   {
    "duration": 111,
    "start_time": "2022-06-28T14:21:02.964Z"
   },
   {
    "duration": 29,
    "start_time": "2022-06-28T14:21:03.077Z"
   },
   {
    "duration": 84,
    "start_time": "2022-06-28T14:21:03.107Z"
   },
   {
    "duration": 90,
    "start_time": "2022-06-28T14:21:03.194Z"
   },
   {
    "duration": 20,
    "start_time": "2022-06-28T14:21:03.285Z"
   },
   {
    "duration": 93,
    "start_time": "2022-06-28T14:21:03.306Z"
   },
   {
    "duration": 4,
    "start_time": "2022-06-28T14:21:03.401Z"
   },
   {
    "duration": 489,
    "start_time": "2022-06-28T14:21:03.406Z"
   },
   {
    "duration": 87,
    "start_time": "2022-06-28T14:21:03.897Z"
   },
   {
    "duration": 7,
    "start_time": "2022-06-28T14:21:03.986Z"
   },
   {
    "duration": 14,
    "start_time": "2022-06-28T14:21:03.994Z"
   },
   {
    "duration": 67,
    "start_time": "2022-06-28T14:21:04.010Z"
   },
   {
    "duration": 7,
    "start_time": "2022-06-28T14:21:04.078Z"
   },
   {
    "duration": 10,
    "start_time": "2022-06-28T14:21:04.086Z"
   },
   {
    "duration": 14,
    "start_time": "2022-06-28T14:21:04.097Z"
   },
   {
    "duration": 4795,
    "start_time": "2022-06-28T14:21:04.113Z"
   },
   {
    "duration": 77,
    "start_time": "2022-06-28T14:21:08.910Z"
   },
   {
    "duration": 9,
    "start_time": "2022-06-28T14:21:08.989Z"
   },
   {
    "duration": 8,
    "start_time": "2022-06-28T14:21:09.000Z"
   },
   {
    "duration": 5,
    "start_time": "2022-06-28T14:21:09.009Z"
   },
   {
    "duration": 12,
    "start_time": "2022-06-28T14:21:09.016Z"
   },
   {
    "duration": 75,
    "start_time": "2022-06-28T14:21:09.031Z"
   },
   {
    "duration": 4802,
    "start_time": "2022-06-28T14:21:09.108Z"
   },
   {
    "duration": 65,
    "start_time": "2022-06-28T14:21:13.912Z"
   },
   {
    "duration": 50,
    "start_time": "2022-06-29T09:38:57.012Z"
   },
   {
    "duration": 11805,
    "start_time": "2022-06-29T09:38:57.064Z"
   },
   {
    "duration": 1394,
    "start_time": "2022-06-29T09:39:08.871Z"
   },
   {
    "duration": 22,
    "start_time": "2022-06-29T09:39:10.272Z"
   },
   {
    "duration": 101,
    "start_time": "2022-06-29T09:39:10.298Z"
   },
   {
    "duration": 13,
    "start_time": "2022-06-29T09:39:10.401Z"
   },
   {
    "duration": 15,
    "start_time": "2022-06-29T09:39:10.416Z"
   },
   {
    "duration": 5,
    "start_time": "2022-06-29T09:39:10.434Z"
   },
   {
    "duration": 74,
    "start_time": "2022-06-29T09:39:10.441Z"
   },
   {
    "duration": 18,
    "start_time": "2022-06-29T09:39:10.521Z"
   },
   {
    "duration": 23,
    "start_time": "2022-06-29T09:39:10.541Z"
   },
   {
    "duration": 7,
    "start_time": "2022-06-29T09:39:10.570Z"
   },
   {
    "duration": 29,
    "start_time": "2022-06-29T09:39:10.579Z"
   },
   {
    "duration": 9,
    "start_time": "2022-06-29T09:39:10.610Z"
   },
   {
    "duration": 21,
    "start_time": "2022-06-29T09:39:10.621Z"
   },
   {
    "duration": 7,
    "start_time": "2022-06-29T09:39:10.644Z"
   },
   {
    "duration": 151,
    "start_time": "2022-06-29T09:39:10.653Z"
   },
   {
    "duration": 14,
    "start_time": "2022-06-29T09:39:10.806Z"
   },
   {
    "duration": 6,
    "start_time": "2022-06-29T09:39:10.822Z"
   },
   {
    "duration": 97,
    "start_time": "2022-06-29T09:39:10.830Z"
   },
   {
    "duration": 11,
    "start_time": "2022-06-29T09:39:10.929Z"
   },
   {
    "duration": 6,
    "start_time": "2022-06-29T09:39:10.942Z"
   },
   {
    "duration": 648,
    "start_time": "2022-06-29T09:39:10.949Z"
   },
   {
    "duration": 172,
    "start_time": "2022-06-29T09:39:11.599Z"
   },
   {
    "duration": 123,
    "start_time": "2022-06-29T09:39:11.776Z"
   },
   {
    "duration": 28,
    "start_time": "2022-06-29T09:39:11.901Z"
   },
   {
    "duration": 87,
    "start_time": "2022-06-29T09:39:11.931Z"
   },
   {
    "duration": 89,
    "start_time": "2022-06-29T09:39:12.022Z"
   },
   {
    "duration": 20,
    "start_time": "2022-06-29T09:39:12.113Z"
   },
   {
    "duration": 100,
    "start_time": "2022-06-29T09:39:12.135Z"
   },
   {
    "duration": 5,
    "start_time": "2022-06-29T09:39:12.237Z"
   },
   {
    "duration": 776,
    "start_time": "2022-06-29T09:39:12.244Z"
   },
   {
    "duration": 93,
    "start_time": "2022-06-29T09:39:13.023Z"
   },
   {
    "duration": 9,
    "start_time": "2022-06-29T09:39:13.117Z"
   },
   {
    "duration": 17,
    "start_time": "2022-06-29T09:39:13.127Z"
   },
   {
    "duration": 63,
    "start_time": "2022-06-29T09:39:13.146Z"
   },
   {
    "duration": 7,
    "start_time": "2022-06-29T09:39:13.211Z"
   },
   {
    "duration": 4,
    "start_time": "2022-06-29T09:39:13.219Z"
   },
   {
    "duration": 4790,
    "start_time": "2022-06-29T09:39:13.225Z"
   },
   {
    "duration": 121,
    "start_time": "2022-06-29T09:39:18.016Z"
   },
   {
    "duration": 12,
    "start_time": "2022-06-29T09:39:18.139Z"
   },
   {
    "duration": 45,
    "start_time": "2022-06-29T09:39:18.152Z"
   },
   {
    "duration": 8,
    "start_time": "2022-06-29T09:39:18.199Z"
   },
   {
    "duration": 12,
    "start_time": "2022-06-29T09:39:18.209Z"
   },
   {
    "duration": 58,
    "start_time": "2022-06-29T09:39:18.223Z"
   },
   {
    "duration": 4751,
    "start_time": "2022-06-29T09:39:18.282Z"
   },
   {
    "duration": 72,
    "start_time": "2022-06-29T09:39:23.035Z"
   },
   {
    "duration": 1662,
    "start_time": "2022-06-29T09:51:03.283Z"
   },
   {
    "duration": 1695,
    "start_time": "2022-06-29T09:51:27.941Z"
   },
   {
    "duration": 2008,
    "start_time": "2022-06-29T09:53:32.932Z"
   },
   {
    "duration": 1520,
    "start_time": "2022-06-29T09:54:17.494Z"
   },
   {
    "duration": 130,
    "start_time": "2022-06-29T09:54:45.109Z"
   },
   {
    "duration": 19,
    "start_time": "2022-06-29T09:54:50.237Z"
   },
   {
    "duration": 14,
    "start_time": "2022-06-29T09:58:16.854Z"
   },
   {
    "duration": 13,
    "start_time": "2022-06-29T09:58:30.756Z"
   },
   {
    "duration": 13,
    "start_time": "2022-06-29T09:58:58.216Z"
   },
   {
    "duration": 9,
    "start_time": "2022-06-29T09:59:08.928Z"
   },
   {
    "duration": 16,
    "start_time": "2022-06-29T09:59:14.790Z"
   },
   {
    "duration": 11,
    "start_time": "2022-06-29T09:59:30.487Z"
   },
   {
    "duration": 677,
    "start_time": "2022-06-29T10:00:22.764Z"
   },
   {
    "duration": 67,
    "start_time": "2022-06-29T10:00:23.844Z"
   },
   {
    "duration": 10,
    "start_time": "2022-06-29T10:00:35.403Z"
   },
   {
    "duration": 4,
    "start_time": "2022-06-29T10:06:20.952Z"
   }
  ],
  "kernelspec": {
   "display_name": "Python 3.9.12 ('base')",
   "language": "python",
   "name": "python3"
  },
  "language_info": {
   "codemirror_mode": {
    "name": "ipython",
    "version": 3
   },
   "file_extension": ".py",
   "mimetype": "text/x-python",
   "name": "python",
   "nbconvert_exporter": "python",
   "pygments_lexer": "ipython3",
   "version": "3.9.12"
  },
  "toc": {
   "base_numbering": 1,
   "nav_menu": {},
   "number_sections": true,
   "sideBar": true,
   "skip_h1_title": false,
   "title_cell": "Table of Contents",
   "title_sidebar": "Contents",
   "toc_cell": false,
   "toc_position": {
    "height": "calc(100% - 180px)",
    "left": "10px",
    "top": "150px",
    "width": "288px"
   },
   "toc_section_display": true,
   "toc_window_display": true
  },
  "varInspector": {
   "cols": {
    "lenName": 16,
    "lenType": 16,
    "lenVar": 40
   },
   "kernels_config": {
    "python": {
     "delete_cmd_postfix": "",
     "delete_cmd_prefix": "del ",
     "library": "var_list.py",
     "varRefreshCmd": "print(var_dic_list())"
    },
    "r": {
     "delete_cmd_postfix": ") ",
     "delete_cmd_prefix": "rm(",
     "library": "var_list.r",
     "varRefreshCmd": "cat(var_dic_list()) "
    }
   },
   "types_to_exclude": [
    "module",
    "function",
    "builtin_function_or_method",
    "instance",
    "_Feature"
   ],
   "window_display": false
  },
  "vscode": {
   "interpreter": {
    "hash": "b45710fb27ba25918766396b1ac6e717e70583c52ce98524e0abf9642c52bdb6"
   }
  }
 },
 "nbformat": 4,
 "nbformat_minor": 5
}
