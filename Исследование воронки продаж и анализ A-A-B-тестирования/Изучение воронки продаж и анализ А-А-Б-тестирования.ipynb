{
 "cells": [
  {
   "cell_type": "markdown",
   "id": "7eb6b9db",
   "metadata": {
    "toc": true
   },
   "source": [
    "<h1>Table of Contents<span class=\"tocSkip\"></span></h1>\n",
    "<div class=\"toc\"><ul class=\"toc-item\"><li><span><a href=\"#Исследование-воронки-продаж-и-анализ-A/A/B-теста\" data-toc-modified-id=\"Исследование-воронки-продаж-и-анализ-A/A/B-теста-1\">Исследование воронки продаж и анализ A/A/B-теста</a></span></li><li><span><a href=\"#Описание-проекта-и-импорт-данных\" data-toc-modified-id=\"Описание-проекта-и-импорт-данных-2\">Описание проекта и импорт данных</a></span><ul class=\"toc-item\"><li><span><a href=\"#Описание-проекта\" data-toc-modified-id=\"Описание-проекта-2.1\">Описание проекта</a></span></li><li><span><a href=\"#Описание-данных\" data-toc-modified-id=\"Описание-данных-2.2\">Описание данных</a></span></li><li><span><a href=\"#Импорт-библиотек\" data-toc-modified-id=\"Импорт-библиотек-2.3\">Импорт библиотек</a></span></li><li><span><a href=\"#Импорт-данных\" data-toc-modified-id=\"Импорт-данных-2.4\">Импорт данных</a></span></li><li><span><a href=\"#Выводы\" data-toc-modified-id=\"Выводы-2.5\">Выводы</a></span></li></ul></li><li><span><a href=\"#Предобработка-данных\" data-toc-modified-id=\"Предобработка-данных-3\">Предобработка данных</a></span><ul class=\"toc-item\"><li><span><a href=\"#Корректируем-названия-столбцов\" data-toc-modified-id=\"Корректируем-названия-столбцов-3.1\">Корректируем названия столбцов</a></span></li><li><span><a href=\"#Проверим-пропуски-и-корректность-типов-данных\" data-toc-modified-id=\"Проверим-пропуски-и-корректность-типов-данных-3.2\">Проверим пропуски и корректность типов данных</a></span></li><li><span><a href=\"#Проверим-вхождение-пользователей-сразу-в-несколько-групп\" data-toc-modified-id=\"Проверим-вхождение-пользователей-сразу-в-несколько-групп-3.3\">Проверим вхождение пользователей сразу в несколько групп</a></span></li><li><span><a href=\"#Проверим-данные-на-наличие-дубликатов\" data-toc-modified-id=\"Проверим-данные-на-наличие-дубликатов-3.4\">Проверим данные на наличие дубликатов</a></span></li><li><span><a href=\"#Выводы\" data-toc-modified-id=\"Выводы-3.5\">Выводы</a></span></li></ul></li><li><span><a href=\"#Исследовательский-анализ-данных\" data-toc-modified-id=\"Исследовательский-анализ-данных-4\">Исследовательский анализ данных</a></span><ul class=\"toc-item\"><li><span><a href=\"#Изучение-событий-и-пользователей\" data-toc-modified-id=\"Изучение-событий-и-пользователей-4.1\">Изучение событий и пользователей</a></span></li><li><span><a href=\"#Изучение-периода-исследования\" data-toc-modified-id=\"Изучение-периода-исследования-4.2\">Изучение периода исследования</a></span></li><li><span><a href=\"#Выводы\" data-toc-modified-id=\"Выводы-4.3\">Выводы</a></span></li></ul></li><li><span><a href=\"#Изучение-воронки-продаж\" data-toc-modified-id=\"Изучение-воронки-продаж-5\">Изучение воронки продаж</a></span><ul class=\"toc-item\"><li><span><a href=\"#Построение-воронки\" data-toc-modified-id=\"Построение-воронки-5.1\">Построение воронки</a></span></li><li><span><a href=\"#Выводы\" data-toc-modified-id=\"Выводы-5.2\">Выводы</a></span></li></ul></li><li><span><a href=\"#Анализ-A/A/B-тестирования\" data-toc-modified-id=\"Анализ-A/A/B-тестирования-6\">Анализ A/A/B-тестирования</a></span><ul class=\"toc-item\"><li><span><a href=\"#Тестировние-контрольных-групп\" data-toc-modified-id=\"Тестировние-контрольных-групп-6.1\">Тестировние контрольных групп</a></span></li><li><span><a href=\"#Тестирование-контрольной-группы-1-и-экспериментальной-группы\" data-toc-modified-id=\"Тестирование-контрольной-группы-1-и-экспериментальной-группы-6.2\">Тестирование контрольной группы 1 и экспериментальной группы</a></span></li><li><span><a href=\"#Тестирование-контрольной-группы-2-и-экспериментальной-группы\" data-toc-modified-id=\"Тестирование-контрольной-группы-2-и-экспериментальной-группы-6.3\">Тестирование контрольной группы 2 и экспериментальной группы</a></span></li><li><span><a href=\"#Тестирование-объединенной-контрольной-группы-и-экспериментальной-группы\" data-toc-modified-id=\"Тестирование-объединенной-контрольной-группы-и-экспериментальной-группы-6.4\">Тестирование объединенной контрольной группы и экспериментальной группы</a></span></li><li><span><a href=\"#Выводы\" data-toc-modified-id=\"Выводы-6.5\">Выводы</a></span></li></ul></li><li><span><a href=\"#Общие-выводы\" data-toc-modified-id=\"Общие-выводы-7\">Общие выводы</a></span><ul class=\"toc-item\"><li><ul class=\"toc-item\"><li><span><a href=\"#Предобработка-данных\" data-toc-modified-id=\"Предобработка-данных-7.0.1\">Предобработка данных</a></span></li><li><span><a href=\"#Исследовательский-анализ-данных\" data-toc-modified-id=\"Исследовательский-анализ-данных-7.0.2\">Исследовательский анализ данных</a></span></li><li><span><a href=\"#Изучение-воронки-продаж\" data-toc-modified-id=\"Изучение-воронки-продаж-7.0.3\">Изучение воронки продаж</a></span></li><li><span><a href=\"#Анализ-А/А/Б-тестирования\" data-toc-modified-id=\"Анализ-А/А/Б-тестирования-7.0.4\">Анализ А/А/Б тестирования</a></span></li></ul></li></ul></li></ul></div>"
   ]
  },
  {
   "cell_type": "markdown",
   "id": "5134ebda",
   "metadata": {},
   "source": [
    "# Исследование воронки продаж и анализ A/A/B-теста"
   ]
  },
  {
   "cell_type": "markdown",
   "id": "e1af2ca6",
   "metadata": {},
   "source": [
    "# Описание проекта и импорт данных\n",
    "\n",
    "## Описание проекта\n",
    "\n",
    "**Заказчик**: стартап, который продает продукты питания. Он хочет разобраться как ведут себя пользователи их мобильного приложения.\n",
    "\n",
    "**Цели исследования**:\n",
    "1. Изучить воронку продаж,\n",
    "2. Исследовать результаты А/А/В-теста.\n",
    "\n",
    "## Описание данных\n",
    "\n",
    "У нас есть датасет **``logs_exp.csv``**, в котором хранятся логи.\n",
    "\n",
    "Структура **``logs_exp.csv``**:\n",
    "* ``EventName`` — название события;\n",
    "* ``DeviceIDHash`` — уникальный идентификатор пользователя;\n",
    "* ``EventTimestamp`` — время события;\n",
    "* ``ExpId`` — номер эксперимента: 246 и 247 — контрольные группы, а 248 — экспериментальная.\n",
    "\n",
    "## Импорт библиотек"
   ]
  },
  {
   "cell_type": "code",
   "execution_count": 2,
   "id": "c91940ce",
   "metadata": {},
   "outputs": [],
   "source": [
    "# импорт библиотек\n",
    "import pandas as pd\n",
    "import numpy as np\n",
    "import plotly.express as px\n",
    "import plotly.graph_objects as go\n",
    "import datetime as dt\n",
    "import scipy.stats as st\n",
    "import plotly.io as pio\n",
    "import warnings\n",
    "\n",
    "warnings.filterwarnings('ignore')\n",
    "pio.renderers.default='jpeg'"
   ]
  },
  {
   "cell_type": "code",
   "execution_count": 3,
   "id": "d0560963",
   "metadata": {},
   "outputs": [],
   "source": [
    "# функция для настройки стиля в графиках\n",
    "def style_plot(\n",
    "    xlabel='',\n",
    "    ylabel='',\n",
    "    title='',\n",
    "    yticks=True  \n",
    "):\n",
    "    \n",
    "    fig.update_layout(\n",
    "        # autosize=True,\n",
    "        width=800,\n",
    "        xaxis_title_text=xlabel,\n",
    "        yaxis_title_text=ylabel,\n",
    "        plot_bgcolor='white',\n",
    "        xaxis=dict(\n",
    "            showline=True,\n",
    "            linecolor='#58595B',\n",
    "            color='black',\n",
    "            categoryorder='total descending'\n",
    "        ),\n",
    "        yaxis=dict(\n",
    "            color='black',\n",
    "            showgrid=True,\n",
    "            gridcolor='#E6E7E8',\n",
    "            showticklabels=yticks\n",
    "        ),\n",
    "        title=dict(\n",
    "            text=title,\n",
    "            font=dict(\n",
    "                color='black'\n",
    "            )\n",
    "        )\n",
    "    )\n",
    "\n",
    "# цвета для графиков\n",
    "colors = ['#' + i for i in [\"264653\",\"2a9d8f\",\"e9c46a\",\"f4a261\",\"e76f51\"]]"
   ]
  },
  {
   "cell_type": "markdown",
   "id": "bbf07c64",
   "metadata": {},
   "source": [
    "## Импорт данных"
   ]
  },
  {
   "cell_type": "code",
   "execution_count": 4,
   "id": "79bb3e83",
   "metadata": {},
   "outputs": [],
   "source": [
    "# импорт логов\n",
    "\n",
    "# для локальной работы\n",
    "try:\n",
    "    logs = pd.read_csv('datasets/logs_exp.csv', sep='\\t')\n",
    "# для jupyterhub\n",
    "except:\n",
    "    logs = pd.read_csv('/datasets/logs_exp.csv', sep='\\t')"
   ]
  },
  {
   "cell_type": "code",
   "execution_count": 5,
   "id": "a679791f",
   "metadata": {},
   "outputs": [
    {
     "name": "stdout",
     "output_type": "stream",
     "text": [
      "<class 'pandas.core.frame.DataFrame'>\n",
      "RangeIndex: 244126 entries, 0 to 244125\n",
      "Data columns (total 4 columns):\n",
      " #   Column          Non-Null Count   Dtype \n",
      "---  ------          --------------   ----- \n",
      " 0   EventName       244126 non-null  object\n",
      " 1   DeviceIDHash    244126 non-null  int64 \n",
      " 2   EventTimestamp  244126 non-null  int64 \n",
      " 3   ExpId           244126 non-null  int64 \n",
      "dtypes: int64(3), object(1)\n",
      "memory usage: 7.5+ MB\n"
     ]
    }
   ],
   "source": [
    "# общая информация по датасету\n",
    "logs.info()"
   ]
  },
  {
   "cell_type": "code",
   "execution_count": 6,
   "id": "8075d095",
   "metadata": {},
   "outputs": [
    {
     "data": {
      "text/html": [
       "<div>\n",
       "<style scoped>\n",
       "    .dataframe tbody tr th:only-of-type {\n",
       "        vertical-align: middle;\n",
       "    }\n",
       "\n",
       "    .dataframe tbody tr th {\n",
       "        vertical-align: top;\n",
       "    }\n",
       "\n",
       "    .dataframe thead th {\n",
       "        text-align: right;\n",
       "    }\n",
       "</style>\n",
       "<table border=\"1\" class=\"dataframe\">\n",
       "  <thead>\n",
       "    <tr style=\"text-align: right;\">\n",
       "      <th></th>\n",
       "      <th>EventName</th>\n",
       "      <th>DeviceIDHash</th>\n",
       "      <th>EventTimestamp</th>\n",
       "      <th>ExpId</th>\n",
       "    </tr>\n",
       "  </thead>\n",
       "  <tbody>\n",
       "    <tr>\n",
       "      <th>0</th>\n",
       "      <td>MainScreenAppear</td>\n",
       "      <td>4575588528974610257</td>\n",
       "      <td>1564029816</td>\n",
       "      <td>246</td>\n",
       "    </tr>\n",
       "    <tr>\n",
       "      <th>1</th>\n",
       "      <td>MainScreenAppear</td>\n",
       "      <td>7416695313311560658</td>\n",
       "      <td>1564053102</td>\n",
       "      <td>246</td>\n",
       "    </tr>\n",
       "    <tr>\n",
       "      <th>2</th>\n",
       "      <td>PaymentScreenSuccessful</td>\n",
       "      <td>3518123091307005509</td>\n",
       "      <td>1564054127</td>\n",
       "      <td>248</td>\n",
       "    </tr>\n",
       "    <tr>\n",
       "      <th>3</th>\n",
       "      <td>CartScreenAppear</td>\n",
       "      <td>3518123091307005509</td>\n",
       "      <td>1564054127</td>\n",
       "      <td>248</td>\n",
       "    </tr>\n",
       "    <tr>\n",
       "      <th>4</th>\n",
       "      <td>PaymentScreenSuccessful</td>\n",
       "      <td>6217807653094995999</td>\n",
       "      <td>1564055322</td>\n",
       "      <td>248</td>\n",
       "    </tr>\n",
       "  </tbody>\n",
       "</table>\n",
       "</div>"
      ],
      "text/plain": [
       "                 EventName         DeviceIDHash  EventTimestamp  ExpId\n",
       "0         MainScreenAppear  4575588528974610257      1564029816    246\n",
       "1         MainScreenAppear  7416695313311560658      1564053102    246\n",
       "2  PaymentScreenSuccessful  3518123091307005509      1564054127    248\n",
       "3         CartScreenAppear  3518123091307005509      1564054127    248\n",
       "4  PaymentScreenSuccessful  6217807653094995999      1564055322    248"
      ]
     },
     "execution_count": 6,
     "metadata": {},
     "output_type": "execute_result"
    }
   ],
   "source": [
    "# выведем первые 5 строк датасета\n",
    "logs.head()"
   ]
  },
  {
   "cell_type": "markdown",
   "id": "78b2bf0b",
   "metadata": {},
   "source": [
    "## Выводы\n",
    "\n",
    "Мы импортировали данные с логами. Всего в данных оказалось почти 250 тысяч строк. Пропусков в данных не видно. Зато есть CamelCase в названиях, это исправим. Также в столбце с указанием времени неправильный тип данных."
   ]
  },
  {
   "cell_type": "markdown",
   "id": "d0dae367",
   "metadata": {},
   "source": [
    "# Предобработка данных"
   ]
  },
  {
   "cell_type": "markdown",
   "id": "743daff0",
   "metadata": {},
   "source": [
    "Цель данного этапа подготовить данные для дальнейшего исследования. Здесь мы изменим названия столбцов, проверим пропуски и дубликаты, добавим столбцы с датой и временем."
   ]
  },
  {
   "cell_type": "markdown",
   "id": "1604b907",
   "metadata": {},
   "source": [
    "## Корректируем названия столбцов"
   ]
  },
  {
   "cell_type": "markdown",
   "id": "53dcdfc5",
   "metadata": {},
   "source": [
    "Переведем названия столбцов из CamelCase в snake_case:"
   ]
  },
  {
   "cell_type": "code",
   "execution_count": 7,
   "id": "2f540c48",
   "metadata": {},
   "outputs": [],
   "source": [
    "# изменяем названия столбцов\n",
    "logs = logs.rename(columns={\n",
    "    'EventName': 'event_name',\n",
    "    'DeviceIDHash': 'user_id',\n",
    "    'EventTimestamp': 'event_ts',\n",
    "    'ExpId': 'group'\n",
    "})"
   ]
  },
  {
   "cell_type": "markdown",
   "id": "57d8e2df",
   "metadata": {},
   "source": [
    "## Проверим пропуски и корректность типов данных"
   ]
  },
  {
   "cell_type": "markdown",
   "id": "2d2479a7",
   "metadata": {},
   "source": [
    "Мы уже заметили, что в столбце со временем неправильный тип данных. Исправим это заменив unix на привычную дату:"
   ]
  },
  {
   "cell_type": "code",
   "execution_count": 8,
   "id": "b8c68d06",
   "metadata": {},
   "outputs": [],
   "source": [
    "# меняем unix формат на привычный\n",
    "logs['event_ts'] = logs['event_ts'].apply(lambda x: dt.datetime.fromtimestamp(x))"
   ]
  },
  {
   "cell_type": "code",
   "execution_count": 9,
   "id": "4c6e668d",
   "metadata": {},
   "outputs": [],
   "source": [
    "# добавим отдельно столбец с датой\n",
    "logs['date'] = logs['event_ts'].apply(lambda x: x.date())"
   ]
  },
  {
   "cell_type": "code",
   "execution_count": 10,
   "id": "6b767a1a",
   "metadata": {},
   "outputs": [
    {
     "data": {
      "text/html": [
       "<div>\n",
       "<style scoped>\n",
       "    .dataframe tbody tr th:only-of-type {\n",
       "        vertical-align: middle;\n",
       "    }\n",
       "\n",
       "    .dataframe tbody tr th {\n",
       "        vertical-align: top;\n",
       "    }\n",
       "\n",
       "    .dataframe thead th {\n",
       "        text-align: right;\n",
       "    }\n",
       "</style>\n",
       "<table border=\"1\" class=\"dataframe\">\n",
       "  <thead>\n",
       "    <tr style=\"text-align: right;\">\n",
       "      <th></th>\n",
       "      <th>event_name</th>\n",
       "      <th>user_id</th>\n",
       "      <th>event_ts</th>\n",
       "      <th>group</th>\n",
       "      <th>date</th>\n",
       "    </tr>\n",
       "  </thead>\n",
       "  <tbody>\n",
       "    <tr>\n",
       "      <th>0</th>\n",
       "      <td>MainScreenAppear</td>\n",
       "      <td>4575588528974610257</td>\n",
       "      <td>2019-07-25 07:43:36</td>\n",
       "      <td>246</td>\n",
       "      <td>2019-07-25</td>\n",
       "    </tr>\n",
       "    <tr>\n",
       "      <th>1</th>\n",
       "      <td>MainScreenAppear</td>\n",
       "      <td>7416695313311560658</td>\n",
       "      <td>2019-07-25 14:11:42</td>\n",
       "      <td>246</td>\n",
       "      <td>2019-07-25</td>\n",
       "    </tr>\n",
       "    <tr>\n",
       "      <th>2</th>\n",
       "      <td>PaymentScreenSuccessful</td>\n",
       "      <td>3518123091307005509</td>\n",
       "      <td>2019-07-25 14:28:47</td>\n",
       "      <td>248</td>\n",
       "      <td>2019-07-25</td>\n",
       "    </tr>\n",
       "    <tr>\n",
       "      <th>3</th>\n",
       "      <td>CartScreenAppear</td>\n",
       "      <td>3518123091307005509</td>\n",
       "      <td>2019-07-25 14:28:47</td>\n",
       "      <td>248</td>\n",
       "      <td>2019-07-25</td>\n",
       "    </tr>\n",
       "    <tr>\n",
       "      <th>4</th>\n",
       "      <td>PaymentScreenSuccessful</td>\n",
       "      <td>6217807653094995999</td>\n",
       "      <td>2019-07-25 14:48:42</td>\n",
       "      <td>248</td>\n",
       "      <td>2019-07-25</td>\n",
       "    </tr>\n",
       "  </tbody>\n",
       "</table>\n",
       "</div>"
      ],
      "text/plain": [
       "                event_name              user_id            event_ts  group  \\\n",
       "0         MainScreenAppear  4575588528974610257 2019-07-25 07:43:36    246   \n",
       "1         MainScreenAppear  7416695313311560658 2019-07-25 14:11:42    246   \n",
       "2  PaymentScreenSuccessful  3518123091307005509 2019-07-25 14:28:47    248   \n",
       "3         CartScreenAppear  3518123091307005509 2019-07-25 14:28:47    248   \n",
       "4  PaymentScreenSuccessful  6217807653094995999 2019-07-25 14:48:42    248   \n",
       "\n",
       "         date  \n",
       "0  2019-07-25  \n",
       "1  2019-07-25  \n",
       "2  2019-07-25  \n",
       "3  2019-07-25  \n",
       "4  2019-07-25  "
      ]
     },
     "execution_count": 10,
     "metadata": {},
     "output_type": "execute_result"
    }
   ],
   "source": [
    "# проверим изменения\n",
    "logs.head()"
   ]
  },
  {
   "cell_type": "markdown",
   "id": "94448ed1",
   "metadata": {},
   "source": [
    "Даты теперь видны в удобном формате. Проверим еще раз данные на пропуски:"
   ]
  },
  {
   "cell_type": "code",
   "execution_count": 11,
   "id": "45ff7ddf",
   "metadata": {},
   "outputs": [
    {
     "data": {
      "text/plain": [
       "event_name    0\n",
       "user_id       0\n",
       "event_ts      0\n",
       "group         0\n",
       "date          0\n",
       "dtype: int64"
      ]
     },
     "execution_count": 11,
     "metadata": {},
     "output_type": "execute_result"
    }
   ],
   "source": [
    "# количество пропусков по столбцам\n",
    "logs.isna().sum()"
   ]
  },
  {
   "cell_type": "markdown",
   "id": "57929b49",
   "metadata": {},
   "source": [
    "Судя по всему в данных нет пропусков."
   ]
  },
  {
   "cell_type": "markdown",
   "id": "fd3144aa",
   "metadata": {},
   "source": [
    "## Проверим вхождение пользователей сразу в несколько групп"
   ]
  },
  {
   "cell_type": "markdown",
   "id": "e7a71177",
   "metadata": {},
   "source": [
    "Проверим, есть ли в данных порльзователи, которые вошли сразу в несколько групп:"
   ]
  },
  {
   "cell_type": "code",
   "execution_count": 12,
   "id": "666809e6",
   "metadata": {},
   "outputs": [
    {
     "name": "stdout",
     "output_type": "stream",
     "text": [
      "0\n",
      "0\n",
      "0\n"
     ]
    }
   ],
   "source": [
    "# проверяем вхождения в оба множества\n",
    "print(len(set(logs.query('group == 248')['user_id']) & set(logs.query('group == 246')['user_id'])))\n",
    "print(len(set(logs.query('group == 248')['user_id']) & set(logs.query('group == 247')['user_id'])))\n",
    "print(len(set(logs.query('group == 247')['user_id']) & set(logs.query('group == 246')['user_id'])))"
   ]
  },
  {
   "cell_type": "markdown",
   "id": "1d1ddddf",
   "metadata": {},
   "source": [
    "Ноль, ноль и ноль. Отлично, мы правильно делим пользователей на группы и не допускаем пересечений."
   ]
  },
  {
   "cell_type": "markdown",
   "id": "5161ba25",
   "metadata": {},
   "source": [
    "## Проверим данные на наличие дубликатов"
   ]
  },
  {
   "cell_type": "markdown",
   "id": "7398de75",
   "metadata": {},
   "source": [
    "Посмотрим есть ли в данных явные дубликаты:"
   ]
  },
  {
   "cell_type": "code",
   "execution_count": 13,
   "id": "b7be5d45",
   "metadata": {},
   "outputs": [
    {
     "name": "stdout",
     "output_type": "stream",
     "text": [
      "Количество дубликатов в данных: 413\n"
     ]
    }
   ],
   "source": [
    "# считаем количество дубликатов\n",
    "print('Количество дубликатов в данных:', logs.duplicated().sum())"
   ]
  },
  {
   "cell_type": "markdown",
   "id": "bf77eee0",
   "metadata": {},
   "source": [
    "Мы нашли 413 дубликатов. В масштабе наших данных это не слишком большая величина, но все же очистим данные и от неё:"
   ]
  },
  {
   "cell_type": "code",
   "execution_count": 14,
   "id": "d8b60e4d",
   "metadata": {},
   "outputs": [],
   "source": [
    "# убираем дубликаты\n",
    "logs = logs.drop_duplicates().reset_index(drop=True)"
   ]
  },
  {
   "cell_type": "markdown",
   "id": "54a79c8f",
   "metadata": {},
   "source": [
    "Дубликатов больше нет."
   ]
  },
  {
   "cell_type": "markdown",
   "id": "6c182f19",
   "metadata": {},
   "source": [
    "## Выводы"
   ]
  },
  {
   "cell_type": "markdown",
   "id": "fe318c7a",
   "metadata": {},
   "source": [
    "При предобработке данных мы:\n",
    "* Заменили CamelCase на snake_case в названии столбцов.\n",
    "* Привели даты к нужному типу, и сделали их более удобными.\n",
    "* Проверили пользователей на принадлежность к разным группам эксперимента.\n",
    "* Обнаружили 413 дубликатов и тут же их удалили.\n",
    "\n",
    "Итог: данные готовы к анализу."
   ]
  },
  {
   "cell_type": "markdown",
   "id": "93eacec9",
   "metadata": {},
   "source": [
    "# Исследовательский анализ данных"
   ]
  },
  {
   "cell_type": "markdown",
   "id": "2af4a1a5",
   "metadata": {},
   "source": [
    "На этом этапе познакомимся с данными немного глубже. Узнаем сколько у нас пользователей, за какой период есть данные, сколько событий в среднем приходится на пользователя и так далее.\n",
    "\n",
    "В завершении этого этапа у нас должно быть общее понимание данных."
   ]
  },
  {
   "cell_type": "markdown",
   "id": "b2f30e79",
   "metadata": {},
   "source": [
    "## Изучение событий и пользователей"
   ]
  },
  {
   "cell_type": "markdown",
   "id": "24d3692c",
   "metadata": {},
   "source": [
    "Посмотрим сколько у нас событий, и какие они:"
   ]
  },
  {
   "cell_type": "code",
   "execution_count": 15,
   "id": "d797361a",
   "metadata": {},
   "outputs": [
    {
     "name": "stdout",
     "output_type": "stream",
     "text": [
      "События из данных:\n",
      "MainScreenAppear,\n",
      "PaymentScreenSuccessful,\n",
      "CartScreenAppear,\n",
      "OffersScreenAppear,\n",
      "Tutorial\n"
     ]
    }
   ],
   "source": [
    "print('События из данных:')\n",
    "print(*logs['event_name'].unique(), sep=',\\n')"
   ]
  },
  {
   "cell_type": "markdown",
   "id": "374777af",
   "metadata": {},
   "source": [
    "Всего у нас 5 событий. Вот они:\n",
    "1. Tutorial – прохождение обучения,\n",
    "2. MainScreenAppear – показ главного экрана,\n",
    "3. OffersScreenAppear – показ экрана с предложением,\n",
    "4. CartScreenAppear – показ корзины,\n",
    "5. PaymentScreenSuccessful – показ экрана с успешной оплатой.\n",
    "\n",
    "Теперь узнаем сколько у нас пользователей:"
   ]
  },
  {
   "cell_type": "code",
   "execution_count": 16,
   "id": "1e641e55",
   "metadata": {},
   "outputs": [
    {
     "name": "stdout",
     "output_type": "stream",
     "text": [
      "Количество пользователей: 7551\n"
     ]
    }
   ],
   "source": [
    "print('Количество пользователей:', logs['user_id'].nunique())"
   ]
  },
  {
   "cell_type": "markdown",
   "id": "0ca8bff3",
   "metadata": {},
   "source": [
    "За период исследования у нас было более 7500 пользователей.\n",
    "\n",
    "А сколько событий в среднем приходится на одного пользователя?"
   ]
  },
  {
   "cell_type": "code",
   "execution_count": 17,
   "id": "81d9ca7b",
   "metadata": {},
   "outputs": [
    {
     "data": {
      "text/html": [
       "<div>\n",
       "<style scoped>\n",
       "    .dataframe tbody tr th:only-of-type {\n",
       "        vertical-align: middle;\n",
       "    }\n",
       "\n",
       "    .dataframe tbody tr th {\n",
       "        vertical-align: top;\n",
       "    }\n",
       "\n",
       "    .dataframe thead th {\n",
       "        text-align: right;\n",
       "    }\n",
       "</style>\n",
       "<table border=\"1\" class=\"dataframe\">\n",
       "  <thead>\n",
       "    <tr style=\"text-align: right;\">\n",
       "      <th></th>\n",
       "      <th>event_name</th>\n",
       "    </tr>\n",
       "  </thead>\n",
       "  <tbody>\n",
       "    <tr>\n",
       "      <th>count</th>\n",
       "      <td>7551.000000</td>\n",
       "    </tr>\n",
       "    <tr>\n",
       "      <th>mean</th>\n",
       "      <td>32.275593</td>\n",
       "    </tr>\n",
       "    <tr>\n",
       "      <th>std</th>\n",
       "      <td>65.154219</td>\n",
       "    </tr>\n",
       "    <tr>\n",
       "      <th>min</th>\n",
       "      <td>1.000000</td>\n",
       "    </tr>\n",
       "    <tr>\n",
       "      <th>25%</th>\n",
       "      <td>9.000000</td>\n",
       "    </tr>\n",
       "    <tr>\n",
       "      <th>50%</th>\n",
       "      <td>20.000000</td>\n",
       "    </tr>\n",
       "    <tr>\n",
       "      <th>75%</th>\n",
       "      <td>37.000000</td>\n",
       "    </tr>\n",
       "    <tr>\n",
       "      <th>max</th>\n",
       "      <td>2307.000000</td>\n",
       "    </tr>\n",
       "  </tbody>\n",
       "</table>\n",
       "</div>"
      ],
      "text/plain": [
       "        event_name\n",
       "count  7551.000000\n",
       "mean     32.275593\n",
       "std      65.154219\n",
       "min       1.000000\n",
       "25%       9.000000\n",
       "50%      20.000000\n",
       "75%      37.000000\n",
       "max    2307.000000"
      ]
     },
     "execution_count": 17,
     "metadata": {},
     "output_type": "execute_result"
    }
   ],
   "source": [
    "# описательные статистики по количеству событий на пользователя\n",
    "logs.groupby('user_id').agg({'event_name': 'count'}).describe()"
   ]
  },
  {
   "cell_type": "markdown",
   "id": "ba618842",
   "metadata": {},
   "source": [
    "В среднем на пользователя приходится 32 события, а средний пользователь совершает 20 событий. Это говорит, о скошенности распределения. Соответственно, в данных присутствуют выбросы, что показывает максимальное значение. Построим гистограму, чтобы увидеть эти выводы глазами:"
   ]
  },
  {
   "cell_type": "code",
   "execution_count": 18,
   "id": "455336c3",
   "metadata": {},
   "outputs": [
    {
     "data": {
      "image/jpeg": "[encoded data removed]"
     },
     "metadata": {},
     "output_type": "display_data"
    }
   ],
   "source": [
    "# строим гистограму\n",
    "fig = px.histogram(\n",
    "    logs.groupby('user_id').agg({'event_name': 'count'}),\n",
    "    x='event_name',\n",
    "    color_discrete_sequence=colors\n",
    ")\n",
    "\n",
    "style_plot(\n",
    "    xlabel='Количество событий',\n",
    "    ylabel='Количество пользователей',\n",
    "    title='Распределение событий на пользователя'\n",
    ")\n",
    "\n",
    "fig.show()"
   ]
  },
  {
   "cell_type": "markdown",
   "id": "1b616552",
   "metadata": {},
   "source": [
    "Большинство значений лежит в начале графика. И виден большой хвост. Вот так и выглядят выбросы."
   ]
  },
  {
   "cell_type": "markdown",
   "id": "fe413130",
   "metadata": {},
   "source": [
    "Посмотрим как распределены пользователи по группам теста:"
   ]
  },
  {
   "cell_type": "code",
   "execution_count": 19,
   "id": "3c1659de",
   "metadata": {},
   "outputs": [
    {
     "data": {
      "text/plain": [
       "group\n",
       "246    2489\n",
       "247    2520\n",
       "248    2542\n",
       "Name: user_id, dtype: int64"
      ]
     },
     "execution_count": 19,
     "metadata": {},
     "output_type": "execute_result"
    }
   ],
   "source": [
    "# распределение пользователей по группам\n",
    "logs.groupby('group')['user_id'].nunique()"
   ]
  },
  {
   "cell_type": "markdown",
   "id": "ddffb769",
   "metadata": {},
   "source": [
    "Ровное распределение, около 2500 пользователей в каждой группе."
   ]
  },
  {
   "cell_type": "markdown",
   "id": "2d38c366",
   "metadata": {},
   "source": [
    "## Изучение периода исследования"
   ]
  },
  {
   "cell_type": "markdown",
   "id": "01f0977e",
   "metadata": {},
   "source": [
    "Посмотрим за какой период у нас имеются данные, и как распределены события по данным."
   ]
  },
  {
   "cell_type": "code",
   "execution_count": 20,
   "id": "0b15f010",
   "metadata": {},
   "outputs": [
    {
     "name": "stdout",
     "output_type": "stream",
     "text": [
      "Минимальная дата: 2019-07-25\n",
      "Максимальная дата: 2019-08-08\n"
     ]
    }
   ],
   "source": [
    "print('Минимальная дата:', logs['date'].min())\n",
    "print('Максимальная дата:', logs['date'].max())"
   ]
  },
  {
   "cell_type": "markdown",
   "id": "401df43c",
   "metadata": {},
   "source": [
    "У нас имеются данные за 2 недели с 25 июля 2019 года по 8 августа 2019 года. Теперь построим гистограмму и поймем как распределены события по этим датам:"
   ]
  },
  {
   "cell_type": "code",
   "execution_count": 21,
   "id": "9993448f",
   "metadata": {},
   "outputs": [
    {
     "data": {
      "image/jpeg": "[encoded data removed]"
     },
     "metadata": {},
     "output_type": "display_data"
    }
   ],
   "source": [
    "# строим гистограмму распределения событий по дням\n",
    "fig = px.histogram(\n",
    "    logs,\n",
    "    x='date',\n",
    "    color_discrete_sequence=colors\n",
    ")\n",
    "\n",
    "# наводим красоту\n",
    "style_plot(\n",
    "    xlabel='Дата',\n",
    "    ylabel='Количество событий',\n",
    "    title='Распределение событий по датам'\n",
    ")\n",
    "fig.update_layout(bargap=0.1)\n",
    "\n",
    "fig.show()"
   ]
  },
  {
   "cell_type": "markdown",
   "id": "3ef00f46",
   "metadata": {},
   "source": [
    "Ого, фактически у нас есть данные только за первую неделю августа. Это происходит из-за того, что технически в логи новых дней по некоторым пользователям могут «доезжать» события из прошлого — это может «перекашивать данные». Для того чтобы убрать такой перекос будем работать только со срезом первой недели августа:"
   ]
  },
  {
   "cell_type": "code",
   "execution_count": 22,
   "id": "4e4b5a1d",
   "metadata": {},
   "outputs": [],
   "source": [
    "# сохраним сырые данные в отдельную переменную, чтобы мы всегда могли к ним вернуться\n",
    "logs_raw = logs.copy()\n",
    "\n",
    "# делаем срез\n",
    "logs = logs[(logs['event_ts'] > dt.datetime(2019, 8, 1)) \n",
    "            & (logs['event_ts'] < dt.datetime(2019, 8, 8))]"
   ]
  },
  {
   "cell_type": "markdown",
   "id": "7297ca72",
   "metadata": {},
   "source": [
    "Посмотрим как распределяются данные по оставшемуся срезу:"
   ]
  },
  {
   "cell_type": "code",
   "execution_count": 23,
   "id": "1cc64508",
   "metadata": {},
   "outputs": [
    {
     "data": {
      "image/jpeg": "[encoded data removed]"
     },
     "metadata": {},
     "output_type": "display_data"
    }
   ],
   "source": [
    "# строим гистограмму\n",
    "fig = px.histogram(\n",
    "    logs,\n",
    "    x='event_ts',\n",
    "    color_discrete_sequence=colors\n",
    ")\n",
    "\n",
    "style_plot(\n",
    "    xlabel='Дата',\n",
    "    ylabel='Количество событий',\n",
    "    title='Распределение событий по датам'\n",
    ")\n",
    "\n",
    "fig.show()"
   ]
  },
  {
   "cell_type": "markdown",
   "id": "7eb2c8e5",
   "metadata": {},
   "source": [
    "Все логично – большинство событий происходит в течение дня, а ночью активность падает. Здесь нет каких-либо неожиданностей."
   ]
  },
  {
   "cell_type": "code",
   "execution_count": 24,
   "id": "fd316768",
   "metadata": {},
   "outputs": [
    {
     "name": "stdout",
     "output_type": "stream",
     "text": [
      "Минимальная дата: 2019-08-01\n",
      "Максимальная дата: 2019-08-07\n",
      "Всего мы отрезали 2057 пользователей\n",
      "После среза мы потеряли 0.84% данных\n"
     ]
    }
   ],
   "source": [
    "print('Минимальная дата:', logs['date'].min())\n",
    "print('Максимальная дата:', logs['date'].max())\n",
    "\n",
    "print('Всего мы отрезали {} пользователей'.format((len(logs_raw) - len(logs))))\n",
    "print('После среза мы потеряли {:.2%} данных'.format((len(logs_raw) - len(logs)) / len(logs_raw)))"
   ]
  },
  {
   "cell_type": "markdown",
   "id": "b4784414",
   "metadata": {},
   "source": [
    "Мы потеряли менее 1% данных, но зато теперь данные у нас достаточно плотные. Теперь посмотрим как пользователи распределены по группам, не случилось ли сильного перекоса:"
   ]
  },
  {
   "cell_type": "code",
   "execution_count": 25,
   "id": "cbe32f70",
   "metadata": {},
   "outputs": [
    {
     "data": {
      "text/plain": [
       "group\n",
       "246    2484\n",
       "247    2517\n",
       "248    2537\n",
       "Name: user_id, dtype: int64"
      ]
     },
     "execution_count": 25,
     "metadata": {},
     "output_type": "execute_result"
    }
   ],
   "source": [
    "# распределение пользователей по группам\n",
    "logs.groupby('group')['user_id'].nunique()"
   ]
  },
  {
   "cell_type": "markdown",
   "id": "2a254da0",
   "metadata": {},
   "source": [
    "Все окей, значения остались пропорциональными."
   ]
  },
  {
   "cell_type": "markdown",
   "id": "e3c21380",
   "metadata": {},
   "source": [
    "## Выводы"
   ]
  },
  {
   "cell_type": "markdown",
   "id": "d349edb1",
   "metadata": {},
   "source": [
    "В данных есть 5 событий:\n",
    "1. Tutorial – прохождение обучения,\n",
    "2. MainScreenAppear – показ главного экрана,\n",
    "3. OffersScreenAppear – показ экрана с предложением,\n",
    "4. CartScreenAppear – показ корзины,\n",
    "5. PaymentScreenSuccessful – показ экрана с успешной оплатой.\n",
    "\n",
    "Данные предоставлены за период с 25 июля по 8 августа 2019 года. Но мы обнаружили, что на деле у нас есть данные только за первую неделю августа. Это происходит из-за того, что технически в логи новых дней по некоторым пользователям могут «доезжать» события из прошлого — это может «перекашивать данные». Поэтому мы решили оставить только срез данных за 1 - 7 августа включительно.\n",
    "\n",
    "За весь период исследования было около 7500 уникальных пользователей. Они почти равномерно распределены по 3-м тестовым группам. В среднем на пользователя приходится 32 события. "
   ]
  },
  {
   "cell_type": "markdown",
   "id": "44ddd528",
   "metadata": {},
   "source": [
    "# Изучение воронки продаж"
   ]
  },
  {
   "cell_type": "markdown",
   "id": "6256802c",
   "metadata": {},
   "source": [
    "Мы добрались до полноценной аналитики. Из прошлого шага мы увидели события, которые есть в логах. Почти все события выстраиваются в воронку. Под вопросом остается только событие Tutorial. Его пока оставим вне воронки. \n",
    "\n",
    "В общем и целом воронка выглядит следующим образом:\n",
    "1. Увидел главный экран.\n",
    "2. Увидел экран с предложением.\n",
    "3. Увидел экран с корзиной.\n",
    "4. Увидел экран с успешной оплатой.\n",
    "\n",
    "Посмотрим как пользователи проходят эту воронку и на каких этапах мы теряем пользователей."
   ]
  },
  {
   "cell_type": "markdown",
   "id": "883c3d42",
   "metadata": {},
   "source": [
    "## Построение воронки"
   ]
  },
  {
   "cell_type": "markdown",
   "id": "a3d6b106",
   "metadata": {},
   "source": [
    "Построим датафрейм с воронкой:"
   ]
  },
  {
   "cell_type": "code",
   "execution_count": 26,
   "id": "8df5cb2a",
   "metadata": {},
   "outputs": [
    {
     "data": {
      "text/html": [
       "<div>\n",
       "<style scoped>\n",
       "    .dataframe tbody tr th:only-of-type {\n",
       "        vertical-align: middle;\n",
       "    }\n",
       "\n",
       "    .dataframe tbody tr th {\n",
       "        vertical-align: top;\n",
       "    }\n",
       "\n",
       "    .dataframe thead th {\n",
       "        text-align: right;\n",
       "    }\n",
       "</style>\n",
       "<table border=\"1\" class=\"dataframe\">\n",
       "  <thead>\n",
       "    <tr style=\"text-align: right;\">\n",
       "      <th></th>\n",
       "      <th>event_name</th>\n",
       "      <th>total</th>\n",
       "      <th>share_of_total</th>\n",
       "      <th>share_of_previous</th>\n",
       "    </tr>\n",
       "  </thead>\n",
       "  <tbody>\n",
       "    <tr>\n",
       "      <th>0</th>\n",
       "      <td>MainScreenAppear</td>\n",
       "      <td>7423</td>\n",
       "      <td>0.984744</td>\n",
       "      <td>NaN</td>\n",
       "    </tr>\n",
       "    <tr>\n",
       "      <th>1</th>\n",
       "      <td>OffersScreenAppear</td>\n",
       "      <td>4596</td>\n",
       "      <td>0.609711</td>\n",
       "      <td>0.619157</td>\n",
       "    </tr>\n",
       "    <tr>\n",
       "      <th>2</th>\n",
       "      <td>CartScreenAppear</td>\n",
       "      <td>3736</td>\n",
       "      <td>0.495622</td>\n",
       "      <td>0.812881</td>\n",
       "    </tr>\n",
       "    <tr>\n",
       "      <th>3</th>\n",
       "      <td>PaymentScreenSuccessful</td>\n",
       "      <td>3540</td>\n",
       "      <td>0.469621</td>\n",
       "      <td>0.947537</td>\n",
       "    </tr>\n",
       "    <tr>\n",
       "      <th>4</th>\n",
       "      <td>Tutorial</td>\n",
       "      <td>843</td>\n",
       "      <td>0.111833</td>\n",
       "      <td>0.238136</td>\n",
       "    </tr>\n",
       "  </tbody>\n",
       "</table>\n",
       "</div>"
      ],
      "text/plain": [
       "                event_name  total  share_of_total  share_of_previous\n",
       "0         MainScreenAppear   7423        0.984744                NaN\n",
       "1       OffersScreenAppear   4596        0.609711           0.619157\n",
       "2         CartScreenAppear   3736        0.495622           0.812881\n",
       "3  PaymentScreenSuccessful   3540        0.469621           0.947537\n",
       "4                 Tutorial    843        0.111833           0.238136"
      ]
     },
     "execution_count": 26,
     "metadata": {},
     "output_type": "execute_result"
    }
   ],
   "source": [
    "# строим воронку\n",
    "funnel = (\n",
    "    logs.pivot_table(\n",
    "        index='event_name',\n",
    "        values='user_id',\n",
    "        aggfunc='nunique'\n",
    "    )\n",
    ").sort_values(by='user_id', ascending=False)\n",
    "\n",
    "\n",
    "\n",
    "# переименуем названия столбцов\n",
    "funnel = funnel.reset_index().rename(columns={\n",
    "    'user_id': 'total'\n",
    "})\n",
    "\n",
    "# добавляем столбец с долей от общего числа уникальных пользователей\n",
    "funnel['share_of_total'] = funnel['total'] / logs['user_id'].nunique()\n",
    "\n",
    "# добавляем столбец с долей от предыдущего этапа воронки\n",
    "funnel['share_of_previous'] = funnel['total'][1:] / list(funnel['total'][:-1])\n",
    "\n",
    "funnel"
   ]
  },
  {
   "cell_type": "markdown",
   "id": "e5d6269d",
   "metadata": {},
   "source": [
    "Судя по всему мы были правы. Первые четыре события выстраиваются в воронку. Уберем Tutorial из таблицы с воронкой:"
   ]
  },
  {
   "cell_type": "code",
   "execution_count": 27,
   "id": "31bcfde4",
   "metadata": {},
   "outputs": [
    {
     "data": {
      "text/html": [
       "<div>\n",
       "<style scoped>\n",
       "    .dataframe tbody tr th:only-of-type {\n",
       "        vertical-align: middle;\n",
       "    }\n",
       "\n",
       "    .dataframe tbody tr th {\n",
       "        vertical-align: top;\n",
       "    }\n",
       "\n",
       "    .dataframe thead th {\n",
       "        text-align: right;\n",
       "    }\n",
       "</style>\n",
       "<table border=\"1\" class=\"dataframe\">\n",
       "  <thead>\n",
       "    <tr style=\"text-align: right;\">\n",
       "      <th></th>\n",
       "      <th>event_name</th>\n",
       "      <th>total</th>\n",
       "      <th>share_of_total</th>\n",
       "      <th>share_of_previous</th>\n",
       "    </tr>\n",
       "  </thead>\n",
       "  <tbody>\n",
       "    <tr>\n",
       "      <th>0</th>\n",
       "      <td>MainScreenAppear</td>\n",
       "      <td>7423</td>\n",
       "      <td>0.984744</td>\n",
       "      <td>NaN</td>\n",
       "    </tr>\n",
       "    <tr>\n",
       "      <th>1</th>\n",
       "      <td>OffersScreenAppear</td>\n",
       "      <td>4596</td>\n",
       "      <td>0.609711</td>\n",
       "      <td>0.619157</td>\n",
       "    </tr>\n",
       "    <tr>\n",
       "      <th>2</th>\n",
       "      <td>CartScreenAppear</td>\n",
       "      <td>3736</td>\n",
       "      <td>0.495622</td>\n",
       "      <td>0.812881</td>\n",
       "    </tr>\n",
       "    <tr>\n",
       "      <th>3</th>\n",
       "      <td>PaymentScreenSuccessful</td>\n",
       "      <td>3540</td>\n",
       "      <td>0.469621</td>\n",
       "      <td>0.947537</td>\n",
       "    </tr>\n",
       "  </tbody>\n",
       "</table>\n",
       "</div>"
      ],
      "text/plain": [
       "                event_name  total  share_of_total  share_of_previous\n",
       "0         MainScreenAppear   7423        0.984744                NaN\n",
       "1       OffersScreenAppear   4596        0.609711           0.619157\n",
       "2         CartScreenAppear   3736        0.495622           0.812881\n",
       "3  PaymentScreenSuccessful   3540        0.469621           0.947537"
      ]
     },
     "execution_count": 27,
     "metadata": {},
     "output_type": "execute_result"
    }
   ],
   "source": [
    "# создаем финальную версию таблицы с воронкой\n",
    "funnel = funnel.iloc[:-1]\n",
    "funnel"
   ]
  },
  {
   "cell_type": "markdown",
   "id": "c2fda696",
   "metadata": {},
   "source": [
    "Дальше будем двигаться от общего к частному. Сразу построим воронку, а затем посмотрим, что за ней стоит.\n",
    "\n",
    "Строим график воронки:"
   ]
  },
  {
   "cell_type": "code",
   "execution_count": 28,
   "id": "b52d7383",
   "metadata": {},
   "outputs": [
    {
     "data": {
      "image/jpeg": "[encoded data removed]"
     },
     "metadata": {},
     "output_type": "display_data"
    }
   ],
   "source": [
    "# Строим график воронки продаж\n",
    "fig = go.Figure(\n",
    "    go.Funnel(\n",
    "        y = funnel['event_name'],\n",
    "        x = funnel['total'],\n",
    "        textinfo = \"value+percent initial\"\n",
    "    )\n",
    ")\n",
    "\n",
    "style_plot(title='Воронка продаж')\n",
    "\n",
    "fig.show()"
   ]
  },
  {
   "cell_type": "markdown",
   "id": "eda3fc6f",
   "metadata": {},
   "source": [
    "Результаты впечатляют. Конверсия в покупку у нас равна 48%. То есть каждый второй пользователь, который побывал в сервисе уходит с покупкой. Относительно узкое место это показ экрана с предложением. На этом этапе мы теряем 38% пользователей от общего количества.\n",
    "\n",
    "Посмотрим как пользователи проходят каждый этап воронки. Для этого сделаем сводную таблицу индексами в которой будут пользователи, столбцами будут этапы воронки, а значениями количество раз прохождения этапа пользователем:"
   ]
  },
  {
   "cell_type": "code",
   "execution_count": 29,
   "id": "c9a903a9",
   "metadata": {},
   "outputs": [],
   "source": [
    "# строим сводную таблицу\n",
    "stages = logs.pivot_table(\n",
    "    index='user_id',\n",
    "    columns='event_name',\n",
    "    values='event_ts',\n",
    "    aggfunc='count'\n",
    ")\n",
    "\n",
    "# оставляем только нужное и наводим марафет\n",
    "stages = (\n",
    "    stages[['MainScreenAppear', 'OffersScreenAppear', 'CartScreenAppear', 'PaymentScreenSuccessful']]\n",
    "    .fillna(0)\n",
    "    .sort_values(by='PaymentScreenSuccessful', ascending=False)\n",
    "    .astype('int')\n",
    ")"
   ]
  },
  {
   "cell_type": "code",
   "execution_count": 30,
   "id": "74c0060a",
   "metadata": {
    "scrolled": true
   },
   "outputs": [
    {
     "data": {
      "text/html": [
       "<div>\n",
       "<style scoped>\n",
       "    .dataframe tbody tr th:only-of-type {\n",
       "        vertical-align: middle;\n",
       "    }\n",
       "\n",
       "    .dataframe tbody tr th {\n",
       "        vertical-align: top;\n",
       "    }\n",
       "\n",
       "    .dataframe thead th {\n",
       "        text-align: right;\n",
       "    }\n",
       "</style>\n",
       "<table border=\"1\" class=\"dataframe\">\n",
       "  <thead>\n",
       "    <tr style=\"text-align: right;\">\n",
       "      <th>event_name</th>\n",
       "      <th>MainScreenAppear</th>\n",
       "      <th>OffersScreenAppear</th>\n",
       "      <th>CartScreenAppear</th>\n",
       "      <th>PaymentScreenSuccessful</th>\n",
       "    </tr>\n",
       "    <tr>\n",
       "      <th>user_id</th>\n",
       "      <th></th>\n",
       "      <th></th>\n",
       "      <th></th>\n",
       "      <th></th>\n",
       "    </tr>\n",
       "  </thead>\n",
       "  <tbody>\n",
       "    <tr>\n",
       "      <th>6304868067479728361</th>\n",
       "      <td>46</td>\n",
       "      <td>76</td>\n",
       "      <td>1100</td>\n",
       "      <td>1085</td>\n",
       "    </tr>\n",
       "    <tr>\n",
       "      <th>197027893265565660</th>\n",
       "      <td>93</td>\n",
       "      <td>107</td>\n",
       "      <td>931</td>\n",
       "      <td>865</td>\n",
       "    </tr>\n",
       "    <tr>\n",
       "      <th>4623191541214045580</th>\n",
       "      <td>91</td>\n",
       "      <td>137</td>\n",
       "      <td>778</td>\n",
       "      <td>762</td>\n",
       "    </tr>\n",
       "    <tr>\n",
       "      <th>1754140665440434215</th>\n",
       "      <td>10</td>\n",
       "      <td>45</td>\n",
       "      <td>596</td>\n",
       "      <td>570</td>\n",
       "    </tr>\n",
       "    <tr>\n",
       "      <th>3337471580007169353</th>\n",
       "      <td>56</td>\n",
       "      <td>77</td>\n",
       "      <td>527</td>\n",
       "      <td>525</td>\n",
       "    </tr>\n",
       "  </tbody>\n",
       "</table>\n",
       "</div>"
      ],
      "text/plain": [
       "event_name           MainScreenAppear  OffersScreenAppear  CartScreenAppear  \\\n",
       "user_id                                                                       \n",
       "6304868067479728361                46                  76              1100   \n",
       "197027893265565660                 93                 107               931   \n",
       "4623191541214045580                91                 137               778   \n",
       "1754140665440434215                10                  45               596   \n",
       "3337471580007169353                56                  77               527   \n",
       "\n",
       "event_name           PaymentScreenSuccessful  \n",
       "user_id                                       \n",
       "6304868067479728361                     1085  \n",
       "197027893265565660                       865  \n",
       "4623191541214045580                      762  \n",
       "1754140665440434215                      570  \n",
       "3337471580007169353                      525  "
      ]
     },
     "execution_count": 30,
     "metadata": {},
     "output_type": "execute_result"
    }
   ],
   "source": [
    "# выведем первые 5 строк\n",
    "stages.head()"
   ]
  },
  {
   "cell_type": "markdown",
   "id": "650ca0fe",
   "metadata": {},
   "source": [
    "Уже по первым строкам заметно что-то неладное. У некоторых пользователей огромное количество показов экрана с успешной оплатой. При этом показы остальных экранов даже меньше. Посмотрим, что нам подскажет гистограмма. Построим ее по последнему шагу воронки, то есть по количеству покупок на 1 пользователя:"
   ]
  },
  {
   "cell_type": "code",
   "execution_count": 31,
   "id": "d4033c3f",
   "metadata": {},
   "outputs": [
    {
     "data": {
      "image/jpeg": "[encoded data removed]"
     },
     "metadata": {},
     "output_type": "display_data"
    }
   ],
   "source": [
    "# строим фигуру\n",
    "fig = px.histogram(\n",
    "    stages,\n",
    "    x='PaymentScreenSuccessful',\n",
    "    color_discrete_sequence=colors\n",
    ")\n",
    "\n",
    "# наводим красоту\n",
    "style_plot(\n",
    "    xlabel='Количество покупок',\n",
    "    ylabel='Количество пользователей',\n",
    "    title='Распределение количества заказов на пользователя'\n",
    "\n",
    ")\n",
    "\n",
    "fig.show()"
   ]
  },
  {
   "cell_type": "markdown",
   "id": "0bb0296b",
   "metadata": {},
   "source": [
    "Всё ясно: у нас есть огромные выбросы. Чтобы их убрать сделаем срез по 98 перцентилю по каждому событию:"
   ]
  },
  {
   "cell_type": "code",
   "execution_count": 32,
   "id": "65849db2",
   "metadata": {},
   "outputs": [],
   "source": [
    "# делаем срез по 98 перцентилю в каждом событии\n",
    "stages_filtered = stages[\n",
    "    (stages['MainScreenAppear'] < np.percentile(stages['MainScreenAppear'], 99)) &\n",
    "    (stages['OffersScreenAppear'] < np.percentile(stages['OffersScreenAppear'], 99)) &\n",
    "    (stages['CartScreenAppear'] < np.percentile(stages['CartScreenAppear'], 99)) &\n",
    "    (stages['PaymentScreenSuccessful'] < np.percentile(stages['PaymentScreenSuccessful'], 99))\n",
    "]"
   ]
  },
  {
   "cell_type": "code",
   "execution_count": 33,
   "id": "2ef9460c",
   "metadata": {
    "scrolled": false
   },
   "outputs": [
    {
     "data": {
      "image/jpeg": "[encoded data removed]"
     },
     "metadata": {},
     "output_type": "display_data"
    }
   ],
   "source": [
    "# строим фигуру\n",
    "fig = px.histogram(\n",
    "    stages_filtered,\n",
    "    x='PaymentScreenSuccessful',\n",
    "    color_discrete_sequence=colors\n",
    ")\n",
    "\n",
    "# наводим красоту\n",
    "style_plot(\n",
    "    xlabel='Количество покупок',\n",
    "    ylabel='Количество пользователей',\n",
    "    title='Распределение количества заказов на пользователя'\n",
    "\n",
    ")\n",
    "\n",
    "fig.show()"
   ]
  },
  {
   "cell_type": "markdown",
   "id": "1cf5863f",
   "metadata": {},
   "source": [
    "После среза график стал гораздо приятнее. Серьезных выбросов тут не видно."
   ]
  },
  {
   "cell_type": "code",
   "execution_count": 34,
   "id": "9c46edf7",
   "metadata": {},
   "outputs": [
    {
     "data": {
      "text/html": [
       "<div>\n",
       "<style scoped>\n",
       "    .dataframe tbody tr th:only-of-type {\n",
       "        vertical-align: middle;\n",
       "    }\n",
       "\n",
       "    .dataframe tbody tr th {\n",
       "        vertical-align: top;\n",
       "    }\n",
       "\n",
       "    .dataframe thead th {\n",
       "        text-align: right;\n",
       "    }\n",
       "</style>\n",
       "<table border=\"1\" class=\"dataframe\">\n",
       "  <thead>\n",
       "    <tr style=\"text-align: right;\">\n",
       "      <th>event_name</th>\n",
       "      <th>MainScreenAppear</th>\n",
       "      <th>OffersScreenAppear</th>\n",
       "      <th>CartScreenAppear</th>\n",
       "      <th>PaymentScreenSuccessful</th>\n",
       "    </tr>\n",
       "    <tr>\n",
       "      <th>user_id</th>\n",
       "      <th></th>\n",
       "      <th></th>\n",
       "      <th></th>\n",
       "      <th></th>\n",
       "    </tr>\n",
       "  </thead>\n",
       "  <tbody>\n",
       "    <tr>\n",
       "      <th>5670515820397086703</th>\n",
       "      <td>1</td>\n",
       "      <td>22</td>\n",
       "      <td>50</td>\n",
       "      <td>48</td>\n",
       "    </tr>\n",
       "    <tr>\n",
       "      <th>506939552142820526</th>\n",
       "      <td>24</td>\n",
       "      <td>13</td>\n",
       "      <td>51</td>\n",
       "      <td>48</td>\n",
       "    </tr>\n",
       "    <tr>\n",
       "      <th>7648005088289827166</th>\n",
       "      <td>12</td>\n",
       "      <td>19</td>\n",
       "      <td>49</td>\n",
       "      <td>47</td>\n",
       "    </tr>\n",
       "    <tr>\n",
       "      <th>4027087623325135857</th>\n",
       "      <td>7</td>\n",
       "      <td>15</td>\n",
       "      <td>49</td>\n",
       "      <td>45</td>\n",
       "    </tr>\n",
       "    <tr>\n",
       "      <th>4374194959911938890</th>\n",
       "      <td>5</td>\n",
       "      <td>10</td>\n",
       "      <td>51</td>\n",
       "      <td>44</td>\n",
       "    </tr>\n",
       "  </tbody>\n",
       "</table>\n",
       "</div>"
      ],
      "text/plain": [
       "event_name           MainScreenAppear  OffersScreenAppear  CartScreenAppear  \\\n",
       "user_id                                                                       \n",
       "5670515820397086703                 1                  22                50   \n",
       "506939552142820526                 24                  13                51   \n",
       "7648005088289827166                12                  19                49   \n",
       "4027087623325135857                 7                  15                49   \n",
       "4374194959911938890                 5                  10                51   \n",
       "\n",
       "event_name           PaymentScreenSuccessful  \n",
       "user_id                                       \n",
       "5670515820397086703                       48  \n",
       "506939552142820526                        48  \n",
       "7648005088289827166                       47  \n",
       "4027087623325135857                       45  \n",
       "4374194959911938890                       44  "
      ]
     },
     "execution_count": 34,
     "metadata": {},
     "output_type": "execute_result"
    }
   ],
   "source": [
    "# выведем первые 5 строк получившегося среза\n",
    "stages_filtered.sort_values(by='PaymentScreenSuccessful', ascending=False).head()"
   ]
  },
  {
   "cell_type": "markdown",
   "id": "4aaa4098",
   "metadata": {},
   "source": [
    "Изменения заметны сразу – самое большое количество покупок 48, а не 1085. Такие данные вызывают больше доверия. Но сколько же пользователей мы отрезали подобным действием:"
   ]
  },
  {
   "cell_type": "code",
   "execution_count": 35,
   "id": "5aab514d",
   "metadata": {},
   "outputs": [
    {
     "name": "stdout",
     "output_type": "stream",
     "text": [
      "Количество пользователей до среза: 7538\n",
      "Количество пользователей после среза: 7339\n",
      "Количество отрезанных пользователей: 199\n",
      "После среза мы потеряли 2.64% пользователей\n"
     ]
    }
   ],
   "source": [
    "print('Количество пользователей до среза:', len(stages))\n",
    "print('Количество пользователей после среза:', len(stages_filtered))\n",
    "\n",
    "print('Количество отрезанных пользователей:', (len(stages) - len(stages_filtered)))\n",
    "print('После среза мы потеряли {:.2%} пользователей'.format((len(stages) - len(stages_filtered))/len(stages)))"
   ]
  },
  {
   "cell_type": "markdown",
   "id": "03c19d1c",
   "metadata": {},
   "source": [
    "После среза мы потеряли 199 пользователей, что составляют 2.64% от изначального количества. Теперь мы сможем сделать более корректные выводы по воронке. Плюс ко всему этому, благодаря срезу аномальных значений, при анализе А/А/Б-тестирования у нас лучше будет работать статистический тест."
   ]
  },
  {
   "cell_type": "code",
   "execution_count": 36,
   "id": "6d97028f",
   "metadata": {},
   "outputs": [
    {
     "data": {
      "text/plain": [
       "group\n",
       "246    2422\n",
       "247    2449\n",
       "248    2468\n",
       "Name: user_id, dtype: int64"
      ]
     },
     "execution_count": 36,
     "metadata": {},
     "output_type": "execute_result"
    }
   ],
   "source": [
    "# смотрим на количество пользователей по группам\n",
    "logs.query('user_id in @stages_filtered.index').groupby('group')['user_id'].nunique()"
   ]
  },
  {
   "cell_type": "markdown",
   "id": "18c4d9cb",
   "metadata": {},
   "source": [
    "Составы групп по-прежнему достаточно большие и равномерные. Поэтому применим срез и к основному датасету с логами. Как и в прошлый раз сохраним текущий датасет в отдельной переменной **`logs_filtered`**, а в переменную **`logs`** перезапишем датасет со срезом пользователей:"
   ]
  },
  {
   "cell_type": "code",
   "execution_count": 37,
   "id": "7a11d6e9",
   "metadata": {},
   "outputs": [],
   "source": [
    "# сохраняем текущий датасет\n",
    "logs_filtered = logs.copy()\n",
    "\n",
    "# делаем новый срез в основном датасете\n",
    "logs = logs.query('user_id in @stages_filtered.index')"
   ]
  },
  {
   "cell_type": "markdown",
   "id": "9accdffb",
   "metadata": {},
   "source": [
    "Датасет мы сохранили. Теперь вернемся к этапам воронки и посмотрим на распределение количества заказов на покупателя в отфильтрованных данных:"
   ]
  },
  {
   "cell_type": "code",
   "execution_count": 38,
   "id": "a19d644e",
   "metadata": {},
   "outputs": [
    {
     "data": {
      "image/jpeg": "[encoded data removed]"
     },
     "metadata": {},
     "output_type": "display_data"
    }
   ],
   "source": [
    "# строим фигуру\n",
    "fig = px.histogram(\n",
    "    stages_filtered.query('PaymentScreenSuccessful > 0'),\n",
    "    x='PaymentScreenSuccessful',\n",
    "    color_discrete_sequence=colors\n",
    ")\n",
    "\n",
    "# наводим красоту\n",
    "style_plot(\n",
    "    xlabel='Количество покупок',\n",
    "    ylabel='Количество пользователей',\n",
    "    title='Распределение количества заказов на пользователя'\n",
    ")\n",
    "\n",
    "fig.show()"
   ]
  },
  {
   "cell_type": "markdown",
   "id": "9f1ec044",
   "metadata": {},
   "source": [
    "Распределение выглядит более нормально. Большинство пользователей совершают от 1 до 6 событий PaymentScreenSuccessful. дальше идет длинный хвост до значения 48."
   ]
  },
  {
   "cell_type": "markdown",
   "id": "c12cdefc",
   "metadata": {},
   "source": [
    "Построим гистограммы по всем этапам воронки:"
   ]
  },
  {
   "cell_type": "code",
   "execution_count": 39,
   "id": "4177745b",
   "metadata": {},
   "outputs": [
    {
     "data": {
      "image/jpeg": "[encoded data removed]"
     },
     "metadata": {},
     "output_type": "display_data"
    }
   ],
   "source": [
    "# строим гистограмму по просмотрам главной страницы\n",
    "# строим фигуру\n",
    "fig = px.histogram(\n",
    "    stages_filtered.query('MainScreenAppear > 0'),\n",
    "    x='MainScreenAppear',\n",
    "    color_discrete_sequence=colors\n",
    ")\n",
    "\n",
    "# наводим красоту\n",
    "style_plot(\n",
    "    xlabel='Количество просмотров главной страницы',\n",
    "    ylabel='Количество пользователей',\n",
    "    title='Распределение количества просмотров главной страницы на пользователя'\n",
    ")\n",
    "\n",
    "fig.show()"
   ]
  },
  {
   "cell_type": "markdown",
   "id": "1966b2b9",
   "metadata": {},
   "source": [
    "График события MainScreenAppear выглядит более гладко. Большинство значений лежит в диапазоне от 1 до 21. Хвост упирается в значение 81."
   ]
  },
  {
   "cell_type": "code",
   "execution_count": 40,
   "id": "217b1210",
   "metadata": {},
   "outputs": [
    {
     "data": {
      "image/jpeg": "[encoded data removed]"
     },
     "metadata": {},
     "output_type": "display_data"
    }
   ],
   "source": [
    "# строим гистограмму по просмотрам экрана с предложением\n",
    "# строим фигуру\n",
    "fig = px.histogram(\n",
    "    stages_filtered.query('OffersScreenAppear > 0'),\n",
    "    x='OffersScreenAppear',\n",
    "    color_discrete_sequence=colors\n",
    ")\n",
    "\n",
    "# наводим красоту\n",
    "style_plot(\n",
    "    xlabel='Количество покупок',\n",
    "    ylabel='Количество пользователей',\n",
    "    title='Распределение количества показов экрана с предложением'\n",
    ")\n",
    "\n",
    "fig.show()"
   ]
  },
  {
   "cell_type": "markdown",
   "id": "9f154e5b",
   "metadata": {},
   "source": [
    "Для графика OffersScreenAppear характерен пик в значениях 1 и 2. Дальше идет относительно равномерное убываение до значения 14. Максимальное значение 52."
   ]
  },
  {
   "cell_type": "code",
   "execution_count": 41,
   "id": "61fed9ad",
   "metadata": {},
   "outputs": [
    {
     "data": {
      "image/jpeg": "[encoded data removed]"
     },
     "metadata": {},
     "output_type": "display_data"
    }
   ],
   "source": [
    "# строим гистограмму по просмотрам экрана с корзиной\n",
    "# строим фигуру\n",
    "fig = px.histogram(\n",
    "    stages_filtered.query('CartScreenAppear > 0'),\n",
    "    x='CartScreenAppear',\n",
    "    color_discrete_sequence=colors\n",
    ")\n",
    "\n",
    "# наводим красоту\n",
    "style_plot(\n",
    "    xlabel='Количество покупок',\n",
    "    ylabel='Количество пользователей',\n",
    "    title='Распределение количества заказов на пользователя'\n",
    ")\n",
    "\n",
    "fig.show()"
   ]
  },
  {
   "cell_type": "markdown",
   "id": "dc01d269",
   "metadata": {},
   "source": [
    "Корзину пользователи чаще всего видят от 1 до 12 раз. Хвост обрывается в точке 57."
   ]
  },
  {
   "cell_type": "markdown",
   "id": "532b520a",
   "metadata": {},
   "source": [
    "Все гистограммы теперь выглядят правдоподобно и без выбросов. Посмотрим сколько пользователей мы потеряли на данном этапе:"
   ]
  },
  {
   "cell_type": "markdown",
   "id": "bd85724d",
   "metadata": {},
   "source": [
    "Отлично. У нас получился датасет без выбросов и с равномерным распределением пользователей по группам. Применяем срез к основному датасету с логами:"
   ]
  },
  {
   "cell_type": "code",
   "execution_count": 42,
   "id": "bb413aac",
   "metadata": {},
   "outputs": [],
   "source": [
    "# применяем срез\n",
    "logs = logs.query('user_id in @stages_filtered.index')"
   ]
  },
  {
   "cell_type": "code",
   "execution_count": 43,
   "id": "faf0d105",
   "metadata": {},
   "outputs": [
    {
     "data": {
      "text/html": [
       "<div>\n",
       "<style scoped>\n",
       "    .dataframe tbody tr th:only-of-type {\n",
       "        vertical-align: middle;\n",
       "    }\n",
       "\n",
       "    .dataframe tbody tr th {\n",
       "        vertical-align: top;\n",
       "    }\n",
       "\n",
       "    .dataframe thead th {\n",
       "        text-align: right;\n",
       "    }\n",
       "</style>\n",
       "<table border=\"1\" class=\"dataframe\">\n",
       "  <thead>\n",
       "    <tr style=\"text-align: right;\">\n",
       "      <th></th>\n",
       "      <th>event</th>\n",
       "      <th>total</th>\n",
       "    </tr>\n",
       "  </thead>\n",
       "  <tbody>\n",
       "    <tr>\n",
       "      <th>0</th>\n",
       "      <td>MainScreenAppear</td>\n",
       "      <td>105815</td>\n",
       "    </tr>\n",
       "    <tr>\n",
       "      <th>1</th>\n",
       "      <td>OffersScreenAppear</td>\n",
       "      <td>37160</td>\n",
       "    </tr>\n",
       "    <tr>\n",
       "      <th>2</th>\n",
       "      <td>CartScreenAppear</td>\n",
       "      <td>26526</td>\n",
       "    </tr>\n",
       "    <tr>\n",
       "      <th>3</th>\n",
       "      <td>PaymentScreenSuccessful</td>\n",
       "      <td>20001</td>\n",
       "    </tr>\n",
       "  </tbody>\n",
       "</table>\n",
       "</div>"
      ],
      "text/plain": [
       "                     event   total\n",
       "0         MainScreenAppear  105815\n",
       "1       OffersScreenAppear   37160\n",
       "2         CartScreenAppear   26526\n",
       "3  PaymentScreenSuccessful   20001"
      ]
     },
     "execution_count": 43,
     "metadata": {},
     "output_type": "execute_result"
    }
   ],
   "source": [
    "# посмотрим сколько каких событий в данных\n",
    "funnel_upd = (\n",
    "    logs['event_name']\n",
    "    .value_counts()\n",
    "    .reset_index()\n",
    "    .rename(columns={'index': 'event', 'event_name': 'total'})\n",
    ").iloc[:4]\n",
    "funnel_upd"
   ]
  },
  {
   "cell_type": "code",
   "execution_count": 44,
   "id": "e8713ae3",
   "metadata": {},
   "outputs": [
    {
     "data": {
      "text/html": [
       "<div>\n",
       "<style scoped>\n",
       "    .dataframe tbody tr th:only-of-type {\n",
       "        vertical-align: middle;\n",
       "    }\n",
       "\n",
       "    .dataframe tbody tr th {\n",
       "        vertical-align: top;\n",
       "    }\n",
       "\n",
       "    .dataframe thead th {\n",
       "        text-align: right;\n",
       "    }\n",
       "</style>\n",
       "<table border=\"1\" class=\"dataframe\">\n",
       "  <thead>\n",
       "    <tr style=\"text-align: right;\">\n",
       "      <th></th>\n",
       "      <th>event_name</th>\n",
       "      <th>total</th>\n",
       "      <th>share_of_total</th>\n",
       "      <th>share_of_previous</th>\n",
       "    </tr>\n",
       "  </thead>\n",
       "  <tbody>\n",
       "    <tr>\n",
       "      <th>0</th>\n",
       "      <td>MainScreenAppear</td>\n",
       "      <td>7228</td>\n",
       "      <td>0.984875</td>\n",
       "      <td>NaN</td>\n",
       "    </tr>\n",
       "    <tr>\n",
       "      <th>1</th>\n",
       "      <td>OffersScreenAppear</td>\n",
       "      <td>4416</td>\n",
       "      <td>0.601717</td>\n",
       "      <td>0.610957</td>\n",
       "    </tr>\n",
       "    <tr>\n",
       "      <th>2</th>\n",
       "      <td>CartScreenAppear</td>\n",
       "      <td>3571</td>\n",
       "      <td>0.486579</td>\n",
       "      <td>0.808650</td>\n",
       "    </tr>\n",
       "    <tr>\n",
       "      <th>3</th>\n",
       "      <td>PaymentScreenSuccessful</td>\n",
       "      <td>3381</td>\n",
       "      <td>0.460689</td>\n",
       "      <td>0.946794</td>\n",
       "    </tr>\n",
       "  </tbody>\n",
       "</table>\n",
       "</div>"
      ],
      "text/plain": [
       "                event_name  total  share_of_total  share_of_previous\n",
       "0         MainScreenAppear   7228        0.984875                NaN\n",
       "1       OffersScreenAppear   4416        0.601717           0.610957\n",
       "2         CartScreenAppear   3571        0.486579           0.808650\n",
       "3  PaymentScreenSuccessful   3381        0.460689           0.946794"
      ]
     },
     "execution_count": 44,
     "metadata": {},
     "output_type": "execute_result"
    }
   ],
   "source": [
    "# создаем таблицу с воронкой по отфильтрованным данным\n",
    "funnel_upd = (\n",
    "    logs.pivot_table(\n",
    "        index='event_name',\n",
    "        values='user_id',\n",
    "        aggfunc='nunique'\n",
    "    )\n",
    "    .sort_values(by='user_id', ascending=False)\n",
    "    .reset_index()\n",
    "    .iloc[:-1]\n",
    "    .rename(columns={'user_id': 'total'})\n",
    ")\n",
    "\n",
    "# добавляем столбец с долей от общего числа пользователей\n",
    "funnel_upd['share_of_total'] = funnel_upd['total'] / logs['user_id'].nunique()\n",
    "\n",
    "# добавляем столбец с долей от предыдущего этапа воронки\n",
    "funnel_upd['share_of_previous'] = funnel_upd['total'][1:] / list(funnel_upd['total'][:-1])\n",
    "\n",
    "funnel_upd"
   ]
  },
  {
   "cell_type": "code",
   "execution_count": 45,
   "id": "eac2cf86",
   "metadata": {},
   "outputs": [
    {
     "data": {
      "image/jpeg": "[encoded data removed]"
     },
     "metadata": {},
     "output_type": "display_data"
    }
   ],
   "source": [
    "# Строим график воронки продаж\n",
    "fig = go.Figure(\n",
    "    go.Funnel(\n",
    "        y = funnel_upd['event_name'],\n",
    "        x = funnel_upd['total'],\n",
    "        textinfo = \"value+percent initial\",\n",
    "    )\n",
    ")\n",
    "\n",
    "style_plot(title='Воронка продаж')\n",
    "fig.show()"
   ]
  },
  {
   "cell_type": "markdown",
   "id": "c528b442",
   "metadata": {},
   "source": [
    "В целом воронка не сильно изменилась. Со второго по последний шаг у нас ушло по 1-у проценту.\n",
    "\n",
    "Вот какие выводы мы можем сделать по воронке:\n",
    "* 47% пользователей конвертируется в покупку,\n",
    "* 97% пользователей увидевших экран с корзиной конвертируются в покупку,\n",
    "* Самое узкое место воронки это показ экрана с предложением. На этот шаг конвертируется 61% от предыдущего шага."
   ]
  },
  {
   "cell_type": "markdown",
   "id": "9f42cb30",
   "metadata": {},
   "source": [
    "## Выводы"
   ]
  },
  {
   "cell_type": "markdown",
   "id": "c12bddbc",
   "metadata": {},
   "source": [
    "В данных мы обнаружили явные выбросы. У некоторых пользователей было аномально большие значения в количестве совершенных событий. Для того, чтобы избавиться от таких значений мы сделали срез по 99 перцентилю в каждом событии. Срез убрал около 200 пользователей или 2,64% от изначального количества. После этого данные стали более реалистичными и графики выглядят более нормально.\n",
    "\n",
    "Затем мы построили воронку, по которой сделали следующие выводы:\n",
    "* 47% пользователей конвертируется в покупку,\n",
    "* 97% пользователей увидевших экран с корзиной конвертируются в покупку,\n",
    "* Самое узкое место воронки это показ экрана с предложением. На этот шаг конвертируется 61% от предыдущего шага."
   ]
  },
  {
   "cell_type": "markdown",
   "id": "9210b254",
   "metadata": {},
   "source": [
    "# Анализ A/A/B-тестирования"
   ]
  },
  {
   "cell_type": "markdown",
   "id": "70ade686",
   "metadata": {},
   "source": [
    "Компания провела А/А/В-тестирование. Суть эксперимента в изменении шрифтов во всем приложении.\n",
    "\n",
    "Какие данные мы имеем на данный момент:\n",
    "* более 190 000 записей о событиях,\n",
    "* 7339 пользователей,\n",
    "* около 2450 пользователей в каждой группе,\n",
    "* данные за первую неделю августа 2019\n",
    "\n",
    "Пользователи разделены на 3 группы:\n",
    "1. Группа 246 – первая контрольная группа со стандартными шрифтами,\n",
    "2. Группа 247 – вторая контрольная группа со стандартными шрифтами,\n",
    "3. Группа 248 – тестовая группа с измененными шрифтами.\n",
    "\n",
    "Мы будем проводить следующие тестирования:\n",
    "1. Сравнение контрольных групп,\n",
    "2. Сравнение контрольной группы 1 и эксперементальной группы,\n",
    "3. Сравнение контрольной группы 2 и эксперементальной группы,\n",
    "4. Сравнение скомбинированной контрольной группы и эксперементальной группы.\n",
    "\n",
    "Задача проанализировать результаты теста и сделать вывод: стало ли лучше с измененными шрифтами?\n",
    "\n",
    "Под \"лучше\" будем понимать увеличение конверсии в покупку. Помимо увеличения конверсию в покупку, посмотрим есть ли статистически значимые изменения в конверсиях в остальные события.\n",
    "\n",
    "По сути конверсия это доля. Поэтому для проверки будем использовать z-критерий. Уровень значимости возьмем 0.05. Но так как мы будем делать множественные сравнения, нам нужно скорректировать уровень значимости. В противном случае у нас увеличится вероятность ошибки первого рода.\n",
    "\n",
    "Всего мы проведем 4 теста в каждом из которых будет по 5 проверок. То есть всего у нас будет 20 проверок. Для корректировки уровня значимости применим метод Шидака:"
   ]
  },
  {
   "cell_type": "code",
   "execution_count": 46,
   "id": "060ce1c6",
   "metadata": {},
   "outputs": [
    {
     "name": "stdout",
     "output_type": "stream",
     "text": [
      "Уровень значимости для тестов равен: 0.0025613787765302876\n"
     ]
    }
   ],
   "source": [
    "# зададим уровень значимости при помощи метода Шидака\n",
    "alpha = 1 - (1 - 0.05) ** (1/20)\n",
    "\n",
    "print('Уровень значимости для тестов равен:', alpha)"
   ]
  },
  {
   "cell_type": "markdown",
   "id": "118ae445",
   "metadata": {},
   "source": [
    "Уровень значимости готов. Теперь создадим функцию, которая на вход будет принимать две группы, а на выходе будет давать табличку с показателями конверсии и уровнем значимости для этих групп:"
   ]
  },
  {
   "cell_type": "code",
   "execution_count": 47,
   "id": "d608c7a7",
   "metadata": {},
   "outputs": [],
   "source": [
    "# сделаем список с событиями в логичном порядке\n",
    "event_names = ['MainScreenAppear', 'OffersScreenAppear',\n",
    "               'CartScreenAppear', 'PaymentScreenSuccessful', 'Tutorial']\n",
    "\n",
    "# функция для тестирования с помощью z-статистики\n",
    "def zvalue_tests(\n",
    "    group1,\n",
    "    group2\n",
    "):\n",
    "    # найдем количество пользователей в каждой группе\n",
    "    n1=group1['user_id'].nunique()\n",
    "    n2=group2['user_id'].nunique()\n",
    "    \n",
    "    # делаем заготовки для столбцов итогового датафрейма\n",
    "    conversions_1 = []\n",
    "    conversions_2 = []\n",
    "    pvalues = []\n",
    "    \n",
    "    # рассчитаем показатели по событиям\n",
    "    for event in event_names:\n",
    "        \n",
    "        # определяем конверсию по событию в группе 1\n",
    "        p1 = ( \n",
    "            group1.query('event_name == @event')['user_id'].nunique() /\n",
    "            group1['user_id'].nunique() \n",
    "        )\n",
    "        \n",
    "        # определяем конверсию по событию в группе 2\n",
    "        p2 = ( \n",
    "            group2.query('event_name == @event')['user_id'].nunique() /\n",
    "            group2['user_id'].nunique() \n",
    "        )\n",
    "        \n",
    "        # считаем долю в скомбинированной выборке\n",
    "        p_combined = (p1 * n1 + p2 * n2) / (n1+n2) \n",
    "\n",
    "        # находим z-значение\n",
    "        zvalue = (p1 - p2) / np.sqrt(p_combined * (1 - p_combined) * (1 / n1 + 1 / n2))\n",
    "\n",
    "        # строим нормальное распределение\n",
    "        distr = st.norm(0, 1)\n",
    "\n",
    "        # найдем p-value для двухстороннего теста\n",
    "        pvalue = (1 - distr.cdf(abs(zvalue))) * 2 \n",
    "        \n",
    "        # добавляем результаты в списки\n",
    "        conversions_1.append(p1)\n",
    "        conversions_2.append(p2)\n",
    "        pvalues.append(pvalue)\n",
    "        \n",
    "    # создаем итоговый датафрейм\n",
    "    result = pd.DataFrame({\n",
    "        'event': event_names,\n",
    "        'cr_a': conversions_1,\n",
    "        'cr_b': conversions_2,\n",
    "        'pvalue': pvalues\n",
    "    })\n",
    "    \n",
    "    # добавляем столбец с интерпретацией результата\n",
    "    result['conclusion'] = result['pvalue'].apply(lambda x: 'Нет статистически значимых различий' if x > alpha\n",
    "                                                  else 'Есть статистически значимы различия')\n",
    "    \n",
    "    # если pvalue ниже уровня значимости, то выделяем ячейку зеленым\n",
    "    # если pvalue выше уровня значимости, то выделяем ячейку красным\n",
    "    def highlight(df):\n",
    "        ret = pd.DataFrame(\"\", index=df.index, columns=df.columns)\n",
    "        ret.loc[df[\"pvalue\"] < alpha] = \"background-color: #C8E6C9\"\n",
    "        ret.loc[df[\"pvalue\"] > alpha] = \"background-color: #FFCDD2\"\n",
    "        return ret\n",
    "\n",
    "    # форматируем таблицу\n",
    "    result = result.round(4).style.apply(highlight, axis=None)\n",
    "    \n",
    "    return result"
   ]
  },
  {
   "cell_type": "markdown",
   "id": "7b7e67b8",
   "metadata": {},
   "source": [
    "Определим гипотезы для проверок:\n",
    "* Нулевая гипотеза: доли уникальных посетителей, побывавших на этапе воронки, одинаковы.\n",
    "* Альтернативня гипотеза:  между долями уникальных посетителей, побывавших на этапе воронки, есть значимая разница.\n",
    "\n",
    "Так как тест у нас двухсторонний, то при принятии альтернативной гипотезы, он покажет изменения не зависимо от знака. И для того, чтобы определить в какую сторону у нас произошло изменение, мы будем смотреть на сами показатели конверсии."
   ]
  },
  {
   "cell_type": "markdown",
   "id": "04a8fa58",
   "metadata": {},
   "source": [
    "Для удобства поместим данные логов по каждой группе в отдельные переменные:"
   ]
  },
  {
   "cell_type": "code",
   "execution_count": 48,
   "id": "403130f5",
   "metadata": {},
   "outputs": [],
   "source": [
    "# данные по первой контрольной группе\n",
    "group_a1 = logs.query('group == 246')\n",
    "\n",
    "# данные по второй контрольной группе\n",
    "group_a2 = logs.query('group == 247')\n",
    "\n",
    "# данные по экспериментальной группе\n",
    "group_b = logs.query('group == 248')\n",
    "\n",
    "# объединенная контрольная группа\n",
    "group_a = logs.query('group == 246 or group == 247')"
   ]
  },
  {
   "cell_type": "markdown",
   "id": "d7932ec8",
   "metadata": {},
   "source": [
    "## Тестировние контрольных групп "
   ]
  },
  {
   "cell_type": "markdown",
   "id": "f68a5c02",
   "metadata": {},
   "source": [
    "Перед тем как сравнивать контрольную и экспериментальную группы, сравним две контрольные между собой. Это нужно для того, чтобы проверить корректность работы механизма работы А/Б-теста. Если у нас не найдется статистически значимых различий в этих группах, то разделение на группы происходит корректно."
   ]
  },
  {
   "cell_type": "markdown",
   "id": "9594a5ef",
   "metadata": {},
   "source": [
    "Проводим тест для контрольных групп:"
   ]
  },
  {
   "cell_type": "code",
   "execution_count": 49,
   "id": "32985b6a",
   "metadata": {
    "scrolled": true
   },
   "outputs": [
    {
     "data": {
      "text/html": [
       "<style type=\"text/css\">\n",
       "#T_0743f_row0_col0, #T_0743f_row0_col1, #T_0743f_row0_col2, #T_0743f_row0_col3, #T_0743f_row0_col4, #T_0743f_row1_col0, #T_0743f_row1_col1, #T_0743f_row1_col2, #T_0743f_row1_col3, #T_0743f_row1_col4, #T_0743f_row2_col0, #T_0743f_row2_col1, #T_0743f_row2_col2, #T_0743f_row2_col3, #T_0743f_row2_col4, #T_0743f_row3_col0, #T_0743f_row3_col1, #T_0743f_row3_col2, #T_0743f_row3_col3, #T_0743f_row3_col4, #T_0743f_row4_col0, #T_0743f_row4_col1, #T_0743f_row4_col2, #T_0743f_row4_col3, #T_0743f_row4_col4 {\n",
       "  background-color: #FFCDD2;\n",
       "}\n",
       "</style>\n",
       "<table id=\"T_0743f\">\n",
       "  <thead>\n",
       "    <tr>\n",
       "      <th class=\"blank level0\" >&nbsp;</th>\n",
       "      <th id=\"T_0743f_level0_col0\" class=\"col_heading level0 col0\" >event</th>\n",
       "      <th id=\"T_0743f_level0_col1\" class=\"col_heading level0 col1\" >cr_a</th>\n",
       "      <th id=\"T_0743f_level0_col2\" class=\"col_heading level0 col2\" >cr_b</th>\n",
       "      <th id=\"T_0743f_level0_col3\" class=\"col_heading level0 col3\" >pvalue</th>\n",
       "      <th id=\"T_0743f_level0_col4\" class=\"col_heading level0 col4\" >conclusion</th>\n",
       "    </tr>\n",
       "  </thead>\n",
       "  <tbody>\n",
       "    <tr>\n",
       "      <th id=\"T_0743f_level0_row0\" class=\"row_heading level0 row0\" >0</th>\n",
       "      <td id=\"T_0743f_row0_col0\" class=\"data row0 col0\" >MainScreenAppear</td>\n",
       "      <td id=\"T_0743f_row0_col1\" class=\"data row0 col1\" >0.986400</td>\n",
       "      <td id=\"T_0743f_row0_col2\" class=\"data row0 col2\" >0.985700</td>\n",
       "      <td id=\"T_0743f_row0_col3\" class=\"data row0 col3\" >0.842900</td>\n",
       "      <td id=\"T_0743f_row0_col4\" class=\"data row0 col4\" >Нет статистически значимых различий</td>\n",
       "    </tr>\n",
       "    <tr>\n",
       "      <th id=\"T_0743f_level0_row1\" class=\"row_heading level0 row1\" >1</th>\n",
       "      <td id=\"T_0743f_row1_col0\" class=\"data row1 col0\" >OffersScreenAppear</td>\n",
       "      <td id=\"T_0743f_row1_col1\" class=\"data row1 col1\" >0.613100</td>\n",
       "      <td id=\"T_0743f_row1_col2\" class=\"data row1 col2\" >0.597000</td>\n",
       "      <td id=\"T_0743f_row1_col3\" class=\"data row1 col3\" >0.248900</td>\n",
       "      <td id=\"T_0743f_row1_col4\" class=\"data row1 col4\" >Нет статистически значимых различий</td>\n",
       "    </tr>\n",
       "    <tr>\n",
       "      <th id=\"T_0743f_level0_row2\" class=\"row_heading level0 row2\" >2</th>\n",
       "      <td id=\"T_0743f_row2_col0\" class=\"data row2 col0\" >CartScreenAppear</td>\n",
       "      <td id=\"T_0743f_row2_col1\" class=\"data row2 col1\" >0.500400</td>\n",
       "      <td id=\"T_0743f_row2_col2\" class=\"data row2 col2\" >0.483900</td>\n",
       "      <td id=\"T_0743f_row2_col3\" class=\"data row2 col3\" >0.248200</td>\n",
       "      <td id=\"T_0743f_row2_col4\" class=\"data row2 col4\" >Нет статистически значимых различий</td>\n",
       "    </tr>\n",
       "    <tr>\n",
       "      <th id=\"T_0743f_level0_row3\" class=\"row_heading level0 row3\" >3</th>\n",
       "      <td id=\"T_0743f_row3_col0\" class=\"data row3 col0\" >PaymentScreenSuccessful</td>\n",
       "      <td id=\"T_0743f_row3_col1\" class=\"data row3 col1\" >0.474000</td>\n",
       "      <td id=\"T_0743f_row3_col2\" class=\"data row3 col2\" >0.451600</td>\n",
       "      <td id=\"T_0743f_row3_col3\" class=\"data row3 col3\" >0.117400</td>\n",
       "      <td id=\"T_0743f_row3_col4\" class=\"data row3 col4\" >Нет статистически значимых различий</td>\n",
       "    </tr>\n",
       "    <tr>\n",
       "      <th id=\"T_0743f_level0_row4\" class=\"row_heading level0 row4\" >4</th>\n",
       "      <td id=\"T_0743f_row4_col0\" class=\"data row4 col0\" >Tutorial</td>\n",
       "      <td id=\"T_0743f_row4_col1\" class=\"data row4 col1\" >0.109000</td>\n",
       "      <td id=\"T_0743f_row4_col2\" class=\"data row4 col2\" >0.112300</td>\n",
       "      <td id=\"T_0743f_row4_col3\" class=\"data row4 col3\" >0.714400</td>\n",
       "      <td id=\"T_0743f_row4_col4\" class=\"data row4 col4\" >Нет статистически значимых различий</td>\n",
       "    </tr>\n",
       "  </tbody>\n",
       "</table>\n"
      ],
      "text/plain": [
       "<pandas.io.formats.style.Styler at 0x7fa378640a90>"
      ]
     },
     "execution_count": 49,
     "metadata": {},
     "output_type": "execute_result"
    }
   ],
   "source": [
    "# тестируем контрольные группы\n",
    "zvalue_tests(\n",
    "    group_a1,\n",
    "    group_a2\n",
    ")"
   ]
  },
  {
   "cell_type": "markdown",
   "id": "f5cc1b5e",
   "metadata": {},
   "source": [
    "По всем группам z-тест не нашел статистически значимых различий. Это говорит нам о том, что рапределение по группам происходит корректно. Можно приступать к тестированию на экспериментальной группе."
   ]
  },
  {
   "cell_type": "markdown",
   "id": "6c0e7d57",
   "metadata": {},
   "source": [
    "## Тестирование контрольной группы 1 и экспериментальной группы"
   ]
  },
  {
   "cell_type": "markdown",
   "id": "e720cb0e",
   "metadata": {},
   "source": [
    "Сравним контрольную группу 1 и экспериментальную группу:"
   ]
  },
  {
   "cell_type": "code",
   "execution_count": 50,
   "id": "39caa91a",
   "metadata": {},
   "outputs": [
    {
     "data": {
      "text/html": [
       "<style type=\"text/css\">\n",
       "#T_50c0f_row0_col0, #T_50c0f_row0_col1, #T_50c0f_row0_col2, #T_50c0f_row0_col3, #T_50c0f_row0_col4, #T_50c0f_row1_col0, #T_50c0f_row1_col1, #T_50c0f_row1_col2, #T_50c0f_row1_col3, #T_50c0f_row1_col4, #T_50c0f_row2_col0, #T_50c0f_row2_col1, #T_50c0f_row2_col2, #T_50c0f_row2_col3, #T_50c0f_row2_col4, #T_50c0f_row3_col0, #T_50c0f_row3_col1, #T_50c0f_row3_col2, #T_50c0f_row3_col3, #T_50c0f_row3_col4, #T_50c0f_row4_col0, #T_50c0f_row4_col1, #T_50c0f_row4_col2, #T_50c0f_row4_col3, #T_50c0f_row4_col4 {\n",
       "  background-color: #FFCDD2;\n",
       "}\n",
       "</style>\n",
       "<table id=\"T_50c0f\">\n",
       "  <thead>\n",
       "    <tr>\n",
       "      <th class=\"blank level0\" >&nbsp;</th>\n",
       "      <th id=\"T_50c0f_level0_col0\" class=\"col_heading level0 col0\" >event</th>\n",
       "      <th id=\"T_50c0f_level0_col1\" class=\"col_heading level0 col1\" >cr_a</th>\n",
       "      <th id=\"T_50c0f_level0_col2\" class=\"col_heading level0 col2\" >cr_b</th>\n",
       "      <th id=\"T_50c0f_level0_col3\" class=\"col_heading level0 col3\" >pvalue</th>\n",
       "      <th id=\"T_50c0f_level0_col4\" class=\"col_heading level0 col4\" >conclusion</th>\n",
       "    </tr>\n",
       "  </thead>\n",
       "  <tbody>\n",
       "    <tr>\n",
       "      <th id=\"T_50c0f_level0_row0\" class=\"row_heading level0 row0\" >0</th>\n",
       "      <td id=\"T_50c0f_row0_col0\" class=\"data row0 col0\" >MainScreenAppear</td>\n",
       "      <td id=\"T_50c0f_row0_col1\" class=\"data row0 col1\" >0.986400</td>\n",
       "      <td id=\"T_50c0f_row0_col2\" class=\"data row0 col2\" >0.982600</td>\n",
       "      <td id=\"T_50c0f_row0_col3\" class=\"data row0 col3\" >0.283100</td>\n",
       "      <td id=\"T_50c0f_row0_col4\" class=\"data row0 col4\" >Нет статистически значимых различий</td>\n",
       "    </tr>\n",
       "    <tr>\n",
       "      <th id=\"T_50c0f_level0_row1\" class=\"row_heading level0 row1\" >1</th>\n",
       "      <td id=\"T_50c0f_row1_col0\" class=\"data row1 col0\" >OffersScreenAppear</td>\n",
       "      <td id=\"T_50c0f_row1_col1\" class=\"data row1 col1\" >0.613100</td>\n",
       "      <td id=\"T_50c0f_row1_col2\" class=\"data row1 col2\" >0.595200</td>\n",
       "      <td id=\"T_50c0f_row1_col3\" class=\"data row1 col3\" >0.200400</td>\n",
       "      <td id=\"T_50c0f_row1_col4\" class=\"data row1 col4\" >Нет статистически значимых различий</td>\n",
       "    </tr>\n",
       "    <tr>\n",
       "      <th id=\"T_50c0f_level0_row2\" class=\"row_heading level0 row2\" >2</th>\n",
       "      <td id=\"T_50c0f_row2_col0\" class=\"data row2 col0\" >CartScreenAppear</td>\n",
       "      <td id=\"T_50c0f_row2_col1\" class=\"data row2 col1\" >0.500400</td>\n",
       "      <td id=\"T_50c0f_row2_col2\" class=\"data row2 col2\" >0.475700</td>\n",
       "      <td id=\"T_50c0f_row2_col3\" class=\"data row2 col3\" >0.083700</td>\n",
       "      <td id=\"T_50c0f_row2_col4\" class=\"data row2 col4\" >Нет статистически значимых различий</td>\n",
       "    </tr>\n",
       "    <tr>\n",
       "      <th id=\"T_50c0f_level0_row3\" class=\"row_heading level0 row3\" >3</th>\n",
       "      <td id=\"T_50c0f_row3_col0\" class=\"data row3 col0\" >PaymentScreenSuccessful</td>\n",
       "      <td id=\"T_50c0f_row3_col1\" class=\"data row3 col1\" >0.474000</td>\n",
       "      <td id=\"T_50c0f_row3_col2\" class=\"data row3 col2\" >0.456600</td>\n",
       "      <td id=\"T_50c0f_row3_col3\" class=\"data row3 col3\" >0.224100</td>\n",
       "      <td id=\"T_50c0f_row3_col4\" class=\"data row3 col4\" >Нет статистически значимых различий</td>\n",
       "    </tr>\n",
       "    <tr>\n",
       "      <th id=\"T_50c0f_level0_row4\" class=\"row_heading level0 row4\" >4</th>\n",
       "      <td id=\"T_50c0f_row4_col0\" class=\"data row4 col0\" >Tutorial</td>\n",
       "      <td id=\"T_50c0f_row4_col1\" class=\"data row4 col1\" >0.109000</td>\n",
       "      <td id=\"T_50c0f_row4_col2\" class=\"data row4 col2\" >0.109800</td>\n",
       "      <td id=\"T_50c0f_row4_col3\" class=\"data row4 col3\" >0.928200</td>\n",
       "      <td id=\"T_50c0f_row4_col4\" class=\"data row4 col4\" >Нет статистически значимых различий</td>\n",
       "    </tr>\n",
       "  </tbody>\n",
       "</table>\n"
      ],
      "text/plain": [
       "<pandas.io.formats.style.Styler at 0x7fa39d02f250>"
      ]
     },
     "execution_count": 50,
     "metadata": {},
     "output_type": "execute_result"
    }
   ],
   "source": [
    "# тестируем контрольные группу 1 и экспериментальную группу\n",
    "zvalue_tests(\n",
    "    group_a1,\n",
    "    group_b\n",
    ")"
   ]
  },
  {
   "cell_type": "markdown",
   "id": "82be01ab",
   "metadata": {},
   "source": [
    "Тест не выявил статистически значимой разницы между группами. При чем судя по показателям конверсии, почти везде лучше дела обстоят у контрольной группы. "
   ]
  },
  {
   "cell_type": "markdown",
   "id": "465cdabe",
   "metadata": {},
   "source": [
    "## Тестирование контрольной группы 2 и экспериментальной группы"
   ]
  },
  {
   "cell_type": "markdown",
   "id": "2ca1c860",
   "metadata": {},
   "source": [
    "Теперь протестируем вторую контрольную группу и экспериментальную группу:"
   ]
  },
  {
   "cell_type": "code",
   "execution_count": 51,
   "id": "56e9ee5a",
   "metadata": {},
   "outputs": [
    {
     "data": {
      "text/html": [
       "<style type=\"text/css\">\n",
       "#T_41ef9_row0_col0, #T_41ef9_row0_col1, #T_41ef9_row0_col2, #T_41ef9_row0_col3, #T_41ef9_row0_col4, #T_41ef9_row1_col0, #T_41ef9_row1_col1, #T_41ef9_row1_col2, #T_41ef9_row1_col3, #T_41ef9_row1_col4, #T_41ef9_row2_col0, #T_41ef9_row2_col1, #T_41ef9_row2_col2, #T_41ef9_row2_col3, #T_41ef9_row2_col4, #T_41ef9_row3_col0, #T_41ef9_row3_col1, #T_41ef9_row3_col2, #T_41ef9_row3_col3, #T_41ef9_row3_col4, #T_41ef9_row4_col0, #T_41ef9_row4_col1, #T_41ef9_row4_col2, #T_41ef9_row4_col3, #T_41ef9_row4_col4 {\n",
       "  background-color: #FFCDD2;\n",
       "}\n",
       "</style>\n",
       "<table id=\"T_41ef9\">\n",
       "  <thead>\n",
       "    <tr>\n",
       "      <th class=\"blank level0\" >&nbsp;</th>\n",
       "      <th id=\"T_41ef9_level0_col0\" class=\"col_heading level0 col0\" >event</th>\n",
       "      <th id=\"T_41ef9_level0_col1\" class=\"col_heading level0 col1\" >cr_a</th>\n",
       "      <th id=\"T_41ef9_level0_col2\" class=\"col_heading level0 col2\" >cr_b</th>\n",
       "      <th id=\"T_41ef9_level0_col3\" class=\"col_heading level0 col3\" >pvalue</th>\n",
       "      <th id=\"T_41ef9_level0_col4\" class=\"col_heading level0 col4\" >conclusion</th>\n",
       "    </tr>\n",
       "  </thead>\n",
       "  <tbody>\n",
       "    <tr>\n",
       "      <th id=\"T_41ef9_level0_row0\" class=\"row_heading level0 row0\" >0</th>\n",
       "      <td id=\"T_41ef9_row0_col0\" class=\"data row0 col0\" >MainScreenAppear</td>\n",
       "      <td id=\"T_41ef9_row0_col1\" class=\"data row0 col1\" >0.985700</td>\n",
       "      <td id=\"T_41ef9_row0_col2\" class=\"data row0 col2\" >0.982600</td>\n",
       "      <td id=\"T_41ef9_row0_col3\" class=\"data row0 col3\" >0.379600</td>\n",
       "      <td id=\"T_41ef9_row0_col4\" class=\"data row0 col4\" >Нет статистически значимых различий</td>\n",
       "    </tr>\n",
       "    <tr>\n",
       "      <th id=\"T_41ef9_level0_row1\" class=\"row_heading level0 row1\" >1</th>\n",
       "      <td id=\"T_41ef9_row1_col0\" class=\"data row1 col0\" >OffersScreenAppear</td>\n",
       "      <td id=\"T_41ef9_row1_col1\" class=\"data row1 col1\" >0.597000</td>\n",
       "      <td id=\"T_41ef9_row1_col2\" class=\"data row1 col2\" >0.595200</td>\n",
       "      <td id=\"T_41ef9_row1_col3\" class=\"data row1 col3\" >0.899900</td>\n",
       "      <td id=\"T_41ef9_row1_col4\" class=\"data row1 col4\" >Нет статистически значимых различий</td>\n",
       "    </tr>\n",
       "    <tr>\n",
       "      <th id=\"T_41ef9_level0_row2\" class=\"row_heading level0 row2\" >2</th>\n",
       "      <td id=\"T_41ef9_row2_col0\" class=\"data row2 col0\" >CartScreenAppear</td>\n",
       "      <td id=\"T_41ef9_row2_col1\" class=\"data row2 col1\" >0.483900</td>\n",
       "      <td id=\"T_41ef9_row2_col2\" class=\"data row2 col2\" >0.475700</td>\n",
       "      <td id=\"T_41ef9_row2_col3\" class=\"data row2 col3\" >0.565800</td>\n",
       "      <td id=\"T_41ef9_row2_col4\" class=\"data row2 col4\" >Нет статистически значимых различий</td>\n",
       "    </tr>\n",
       "    <tr>\n",
       "      <th id=\"T_41ef9_level0_row3\" class=\"row_heading level0 row3\" >3</th>\n",
       "      <td id=\"T_41ef9_row3_col0\" class=\"data row3 col0\" >PaymentScreenSuccessful</td>\n",
       "      <td id=\"T_41ef9_row3_col1\" class=\"data row3 col1\" >0.451600</td>\n",
       "      <td id=\"T_41ef9_row3_col2\" class=\"data row3 col2\" >0.456600</td>\n",
       "      <td id=\"T_41ef9_row3_col3\" class=\"data row3 col3\" >0.723100</td>\n",
       "      <td id=\"T_41ef9_row3_col4\" class=\"data row3 col4\" >Нет статистически значимых различий</td>\n",
       "    </tr>\n",
       "    <tr>\n",
       "      <th id=\"T_41ef9_level0_row4\" class=\"row_heading level0 row4\" >4</th>\n",
       "      <td id=\"T_41ef9_row4_col0\" class=\"data row4 col0\" >Tutorial</td>\n",
       "      <td id=\"T_41ef9_row4_col1\" class=\"data row4 col1\" >0.112300</td>\n",
       "      <td id=\"T_41ef9_row4_col2\" class=\"data row4 col2\" >0.109800</td>\n",
       "      <td id=\"T_41ef9_row4_col3\" class=\"data row4 col3\" >0.781500</td>\n",
       "      <td id=\"T_41ef9_row4_col4\" class=\"data row4 col4\" >Нет статистически значимых различий</td>\n",
       "    </tr>\n",
       "  </tbody>\n",
       "</table>\n"
      ],
      "text/plain": [
       "<pandas.io.formats.style.Styler at 0x7fa38acd4cd0>"
      ]
     },
     "execution_count": 51,
     "metadata": {},
     "output_type": "execute_result"
    }
   ],
   "source": [
    "# тестируем контрольные группу 1 и экспериментальную группу\n",
    "zvalue_tests(\n",
    "    group_a2,\n",
    "    group_b\n",
    ")"
   ]
  },
  {
   "cell_type": "markdown",
   "id": "a63c60d2",
   "metadata": {},
   "source": [
    "При сравнении со второй контрольной группой ни по одному событию не обнаружено статистической значимости."
   ]
  },
  {
   "cell_type": "markdown",
   "id": "0ab24490",
   "metadata": {},
   "source": [
    "## Тестирование объединенной контрольной группы и экспериментальной группы"
   ]
  },
  {
   "cell_type": "markdown",
   "id": "11f014c5",
   "metadata": {},
   "source": [
    "Теперь посмотрим на результаты теста объединенной контрольной группы и экспериментальной группы:"
   ]
  },
  {
   "cell_type": "code",
   "execution_count": 52,
   "id": "8b33ea7d",
   "metadata": {},
   "outputs": [
    {
     "data": {
      "text/html": [
       "<style type=\"text/css\">\n",
       "#T_294e1_row0_col0, #T_294e1_row0_col1, #T_294e1_row0_col2, #T_294e1_row0_col3, #T_294e1_row0_col4, #T_294e1_row1_col0, #T_294e1_row1_col1, #T_294e1_row1_col2, #T_294e1_row1_col3, #T_294e1_row1_col4, #T_294e1_row2_col0, #T_294e1_row2_col1, #T_294e1_row2_col2, #T_294e1_row2_col3, #T_294e1_row2_col4, #T_294e1_row3_col0, #T_294e1_row3_col1, #T_294e1_row3_col2, #T_294e1_row3_col3, #T_294e1_row3_col4, #T_294e1_row4_col0, #T_294e1_row4_col1, #T_294e1_row4_col2, #T_294e1_row4_col3, #T_294e1_row4_col4 {\n",
       "  background-color: #FFCDD2;\n",
       "}\n",
       "</style>\n",
       "<table id=\"T_294e1\">\n",
       "  <thead>\n",
       "    <tr>\n",
       "      <th class=\"blank level0\" >&nbsp;</th>\n",
       "      <th id=\"T_294e1_level0_col0\" class=\"col_heading level0 col0\" >event</th>\n",
       "      <th id=\"T_294e1_level0_col1\" class=\"col_heading level0 col1\" >cr_a</th>\n",
       "      <th id=\"T_294e1_level0_col2\" class=\"col_heading level0 col2\" >cr_b</th>\n",
       "      <th id=\"T_294e1_level0_col3\" class=\"col_heading level0 col3\" >pvalue</th>\n",
       "      <th id=\"T_294e1_level0_col4\" class=\"col_heading level0 col4\" >conclusion</th>\n",
       "    </tr>\n",
       "  </thead>\n",
       "  <tbody>\n",
       "    <tr>\n",
       "      <th id=\"T_294e1_level0_row0\" class=\"row_heading level0 row0\" >0</th>\n",
       "      <td id=\"T_294e1_row0_col0\" class=\"data row0 col0\" >MainScreenAppear</td>\n",
       "      <td id=\"T_294e1_row0_col1\" class=\"data row0 col1\" >0.986000</td>\n",
       "      <td id=\"T_294e1_row0_col2\" class=\"data row0 col2\" >0.982600</td>\n",
       "      <td id=\"T_294e1_row0_col3\" class=\"data row0 col3\" >0.250800</td>\n",
       "      <td id=\"T_294e1_row0_col4\" class=\"data row0 col4\" >Нет статистически значимых различий</td>\n",
       "    </tr>\n",
       "    <tr>\n",
       "      <th id=\"T_294e1_level0_row1\" class=\"row_heading level0 row1\" >1</th>\n",
       "      <td id=\"T_294e1_row1_col0\" class=\"data row1 col0\" >OffersScreenAppear</td>\n",
       "      <td id=\"T_294e1_row1_col1\" class=\"data row1 col1\" >0.605000</td>\n",
       "      <td id=\"T_294e1_row1_col2\" class=\"data row1 col2\" >0.595200</td>\n",
       "      <td id=\"T_294e1_row1_col3\" class=\"data row1 col3\" >0.418300</td>\n",
       "      <td id=\"T_294e1_row1_col4\" class=\"data row1 col4\" >Нет статистически значимых различий</td>\n",
       "    </tr>\n",
       "    <tr>\n",
       "      <th id=\"T_294e1_level0_row2\" class=\"row_heading level0 row2\" >2</th>\n",
       "      <td id=\"T_294e1_row2_col0\" class=\"data row2 col0\" >CartScreenAppear</td>\n",
       "      <td id=\"T_294e1_row2_col1\" class=\"data row2 col1\" >0.492100</td>\n",
       "      <td id=\"T_294e1_row2_col2\" class=\"data row2 col2\" >0.475700</td>\n",
       "      <td id=\"T_294e1_row2_col3\" class=\"data row2 col3\" >0.184000</td>\n",
       "      <td id=\"T_294e1_row2_col4\" class=\"data row2 col4\" >Нет статистически значимых различий</td>\n",
       "    </tr>\n",
       "    <tr>\n",
       "      <th id=\"T_294e1_level0_row3\" class=\"row_heading level0 row3\" >3</th>\n",
       "      <td id=\"T_294e1_row3_col0\" class=\"data row3 col0\" >PaymentScreenSuccessful</td>\n",
       "      <td id=\"T_294e1_row3_col1\" class=\"data row3 col1\" >0.462700</td>\n",
       "      <td id=\"T_294e1_row3_col2\" class=\"data row3 col2\" >0.456600</td>\n",
       "      <td id=\"T_294e1_row3_col3\" class=\"data row3 col3\" >0.620800</td>\n",
       "      <td id=\"T_294e1_row3_col4\" class=\"data row3 col4\" >Нет статистически значимых различий</td>\n",
       "    </tr>\n",
       "    <tr>\n",
       "      <th id=\"T_294e1_level0_row4\" class=\"row_heading level0 row4\" >4</th>\n",
       "      <td id=\"T_294e1_row4_col0\" class=\"data row4 col0\" >Tutorial</td>\n",
       "      <td id=\"T_294e1_row4_col1\" class=\"data row4 col1\" >0.110700</td>\n",
       "      <td id=\"T_294e1_row4_col2\" class=\"data row4 col2\" >0.109800</td>\n",
       "      <td id=\"T_294e1_row4_col3\" class=\"data row4 col3\" >0.912600</td>\n",
       "      <td id=\"T_294e1_row4_col4\" class=\"data row4 col4\" >Нет статистически значимых различий</td>\n",
       "    </tr>\n",
       "  </tbody>\n",
       "</table>\n"
      ],
      "text/plain": [
       "<pandas.io.formats.style.Styler at 0x7fa38ace6280>"
      ]
     },
     "execution_count": 52,
     "metadata": {},
     "output_type": "execute_result"
    }
   ],
   "source": [
    "# тестируем скомбинированную контрольную и экспериментальную группы\n",
    "zvalue_tests(\n",
    "    group_a,\n",
    "    group_b\n",
    ")"
   ]
  },
  {
   "cell_type": "markdown",
   "id": "9315913a",
   "metadata": {},
   "source": [
    "Результаты повторяются. Опять статистически значимых различий ни по одному событию не обнаружили. Ближе всего pvalue к уровню значимости был в показе экрана корзины. Но даже там результат не в пользу экспериментальной группы."
   ]
  },
  {
   "cell_type": "markdown",
   "id": "7560b856",
   "metadata": {},
   "source": [
    "## Выводы"
   ]
  },
  {
   "cell_type": "markdown",
   "id": "dc595cee",
   "metadata": {},
   "source": [
    "На этом этапе мы проанализировали результаты А/А/Б-тестирования. Показателем для сравнения стала конверсия в каждое событие. Так как мы сравнивали показатели конверсии, то для проверки мы использовали z-критерий. Уровень значимости мы выбрали 0.05, но так как мы проводили множественные проверки, то скорректировали его методом Шидака. Итоговый уровень значимости у нас был в около 0.00256.\n",
    "\n",
    "Мы провели 4 теста:\n",
    "* Между контрольными группами. По итогу этого теста статистически значимых изменений мы не обнаружили ни по одному событию. Это говорит, что механика теста корректная, пользователи разделяются на группы правильно.\n",
    "* Между первой контрольной группой и экспериментальной группой. Тест не выявил статистически значимой разницы между группами. При чем судя по показателям конверсии, почти везде лучше дела обстоят у контрольной группы. \n",
    "* Между второй контрольной группой и экспериментальной группой. При сравнении со второй контрольной группой ни по одному событию не обнаружено статистической значимости. Причем если посмотреть на значения конверсии, то контрольная группа показывает лучшие результаты почти по всем событиям.\n",
    "* Между скомбинированной контрольной группой и экспериментальной группой. Опять статистически значимых различий ни по одному событию не обнаружили. Ближе всего pvalue к уровню значимости был в показе экрана корзины. Но даже там результат не в пользу экспериментальной группы.\n",
    "\n",
    "После всех тестов можно сделать вывод, что изменение шрифта никак не улучшило конверсию в сервисе. Контрольная группа, как минимум, показывает себя не хуже экспериментальной."
   ]
  },
  {
   "cell_type": "markdown",
   "id": "546e62f9",
   "metadata": {},
   "source": [
    "# Общие выводы"
   ]
  },
  {
   "cell_type": "markdown",
   "id": "d840c917",
   "metadata": {},
   "source": [
    "Мы завершили наше исследование. Повторим выводы по каждому ключевому этапу:\n",
    "\n",
    "### Предобработка данных\n",
    "\n",
    "В данных оказались проблемы с названиями столбцов: camelCase и неочевидные названия столбцов. Также мы исправили тип данных в столбце с датами: перевели из unix в привычный дд/мм/гггг формат. \n",
    "\n",
    "Помимо этих косметических изменений мы обнаружили и удалили 413 явных дубликатов. Мы проверили пользователей на вхождение сразу в несколько групп, но в результате таковых не обнаружили.\n",
    "\n",
    "### Исследовательский анализ данных\n",
    "\n",
    "Здесь мы изучили данные по 3-м измерениям: событиям, пользователям и периоду.\n",
    "\n",
    "В данных есть 5 событий:\n",
    "1. Tutorial – прохождение обучения,\n",
    "2. MainScreenAppear – показ главного экрана,\n",
    "3. OffersScreenAppear – показ экрана с предложением,\n",
    "4. CartScreenAppear – показ корзины,\n",
    "5. PaymentScreenSuccessful – показ экрана с успешной оплатой.\n",
    "\n",
    "Данные предоставлены за период с 25 июля по 8 августа 2019 года. Но мы обнаружили, что на деле у нас есть данные только за первую неделю августа. Это происходит из-за того, что технически в логи новых дней по некоторым пользователям могут «доезжать» события из прошлого — это может «перекашивать данные». Поэтому мы решили оставить только срез данных за 1 - 7 августа включительно.\n",
    "\n",
    "За весь период исследования было около 7500 уникальных пользователей. Они почти равномерно распределены по 3-м тестовым группам. В среднем на пользователя приходится 32 события, а средний пользователь совершает 20 событий. \n",
    "\n",
    "### Изучение воронки продаж\n",
    "\n",
    "Воронка в данных выглядит следующим образом:\n",
    "1. Увидел главный экран.\n",
    "2. Увидел экран с предложением.\n",
    "3. Увидел экран с корзиной.\n",
    "4. Увидел экран с успешной оплатой.\n",
    "\n",
    "В данных мы обнаружили явные выбросы. У некоторых пользователей было аномально большие значения в количестве совершенных событий. Для того, чтобы избавиться от таких значений мы сделали срез по 99 перцентилю в каждом событии. Срез убрал около 200 пользователей или 2,64% от изначального количества. После этого данные стали более реалистичными и графики выглядят более нормально.\n",
    "\n",
    "Затем мы построили воронку, по которой сделали следующие выводы:\n",
    "* 47% пользователей конвертируется в покупку,\n",
    "* 97% пользователей увидевших экран с корзиной конвертируются в покупку,\n",
    "* Самое узкое место воронки это показ экрана с предложением. На этот шаг конвертируется 61% от предыдущего шага.\n",
    "\n",
    "### Анализ А/А/Б тестирования\n",
    "\n",
    "На момент анализа А/А/Б-тестирования мы имели следующие данные:\n",
    "* более 190 000 записей о событиях,\n",
    "* 7339 пользователей,\n",
    "* около 2450 пользователей в каждой группе,\n",
    "* данные за первую неделю августа 2019\n",
    "\n",
    "Мы решили провести следующие тестирования:\n",
    "1. Сравнение контрольных групп,\n",
    "2. Сравнение контрольной группы 1 и эксперементальной группы,\n",
    "3. Сравнение контрольной группы 2 и эксперементальной группы,\n",
    "4. Сравнение скомбинированной контрольной группы и эксперементальной группы.\n",
    "\n",
    "Для статистической проверки мы выбрали z-критерий. Уровень значимости мы установили на уровне 0.05, но так как мы делали множественные проверки, то скорректировали его методом Шидака. Итоговый уровень значимости у нас был в около 0.00256.\n",
    "\n",
    "\n",
    "Вот итоги после всех тестов:\n",
    "* Между контрольными группами. По итогу этого теста статистически значимых изменений мы не обнаружили ни по одному событию. Это говорит, что механика теста корректная, пользователи разделяются на группы правильно.\n",
    "* Между первой контрольной группой и экспериментальной группой. Тест не выявил статистически значимой разницы между группами. При чем судя по показателям конверсии, почти везде лучше дела обстоят у контрольной группы. \n",
    "* Между второй контрольной группой и экспериментальной группой. При сравнении со второй контрольной группой ни по одному событию не обнаружено статистической значимости. Причем если посмотреть на значения конверсии, то контрольная группа показывает лучшие результаты почти по всем событиям.\n",
    "* Между скомбинированной контрольной группой и экспериментальной группой. Опять статистически значимых различий ни по одному событию не обнаружили. Ближе всего pvalue к уровню значимости был в показе экрана корзины. Но даже там результат не в пользу экспериментальной группы.\n",
    "\n",
    "После всех тестов можно сделать вывод, что изменение шрифта никак не улучшило конверсию в сервисе. Контрольная группа, как минимум, показывает себя не хуже экспериментальной."
   ]
  }
 ],
 "metadata": {
  "ExecuteTimeLog": [
   {
    "duration": 1352,
    "start_time": "2022-07-10T06:40:18.695Z"
   },
   {
    "duration": 4,
    "start_time": "2022-07-10T06:40:20.049Z"
   },
   {
    "duration": 569,
    "start_time": "2022-07-10T06:40:20.056Z"
   },
   {
    "duration": 33,
    "start_time": "2022-07-10T06:40:20.627Z"
   },
   {
    "duration": 19,
    "start_time": "2022-07-10T06:40:20.662Z"
   },
   {
    "duration": 9,
    "start_time": "2022-07-10T06:40:20.683Z"
   },
   {
    "duration": 164,
    "start_time": "2022-07-10T06:40:20.694Z"
   },
   {
    "duration": 726,
    "start_time": "2022-07-10T06:40:20.859Z"
   },
   {
    "duration": 9,
    "start_time": "2022-07-10T06:40:21.586Z"
   },
   {
    "duration": 29,
    "start_time": "2022-07-10T06:40:21.597Z"
   },
   {
    "duration": 120,
    "start_time": "2022-07-10T06:40:21.627Z"
   },
   {
    "duration": 91,
    "start_time": "2022-07-10T06:40:21.748Z"
   },
   {
    "duration": 92,
    "start_time": "2022-07-10T06:40:21.841Z"
   },
   {
    "duration": 29,
    "start_time": "2022-07-10T06:40:21.935Z"
   },
   {
    "duration": 8,
    "start_time": "2022-07-10T06:40:21.965Z"
   },
   {
    "duration": 12,
    "start_time": "2022-07-10T06:40:21.974Z"
   },
   {
    "duration": 37,
    "start_time": "2022-07-10T06:40:21.988Z"
   },
   {
    "duration": 45,
    "start_time": "2022-07-10T06:40:22.027Z"
   },
   {
    "duration": 5784,
    "start_time": "2022-07-10T06:40:22.074Z"
   },
   {
    "duration": 20,
    "start_time": "2022-07-10T06:40:27.859Z"
   },
   {
    "duration": 85,
    "start_time": "2022-07-10T06:40:27.880Z"
   },
   {
    "duration": 31,
    "start_time": "2022-07-10T06:40:27.966Z"
   },
   {
    "duration": 80,
    "start_time": "2022-07-10T06:40:27.998Z"
   },
   {
    "duration": 17,
    "start_time": "2022-07-10T06:40:28.080Z"
   },
   {
    "duration": 100,
    "start_time": "2022-07-10T06:40:28.098Z"
   },
   {
    "duration": 7,
    "start_time": "2022-07-10T06:40:28.201Z"
   },
   {
    "duration": 125,
    "start_time": "2022-07-10T06:40:28.264Z"
   },
   {
    "duration": 7,
    "start_time": "2022-07-10T06:40:28.392Z"
   },
   {
    "duration": 19,
    "start_time": "2022-07-10T06:40:28.400Z"
   },
   {
    "duration": 26,
    "start_time": "2022-07-10T06:40:28.420Z"
   },
   {
    "duration": 39,
    "start_time": "2022-07-10T06:40:28.448Z"
   },
   {
    "duration": 20,
    "start_time": "2022-07-10T06:40:28.489Z"
   },
   {
    "duration": 64,
    "start_time": "2022-07-10T06:40:28.511Z"
   },
   {
    "duration": 6,
    "start_time": "2022-07-10T06:40:28.577Z"
   },
   {
    "duration": 82,
    "start_time": "2022-07-10T06:40:28.584Z"
   },
   {
    "duration": 56,
    "start_time": "2022-07-10T06:40:28.667Z"
   },
   {
    "duration": 64,
    "start_time": "2022-07-10T06:40:28.724Z"
   },
   {
    "duration": 4,
    "start_time": "2022-07-10T06:40:28.790Z"
   },
   {
    "duration": 28,
    "start_time": "2022-07-10T06:40:28.795Z"
   },
   {
    "duration": 11,
    "start_time": "2022-07-10T06:40:28.825Z"
   },
   {
    "duration": 38,
    "start_time": "2022-07-10T06:40:28.838Z"
   },
   {
    "duration": 16,
    "start_time": "2022-07-10T06:40:28.878Z"
   },
   {
    "duration": 4,
    "start_time": "2022-07-10T06:40:28.896Z"
   },
   {
    "duration": 9,
    "start_time": "2022-07-10T06:40:28.901Z"
   },
   {
    "duration": 30,
    "start_time": "2022-07-10T06:40:28.911Z"
   },
   {
    "duration": 109,
    "start_time": "2022-07-10T06:40:28.943Z"
   },
   {
    "duration": 66,
    "start_time": "2022-07-10T06:40:29.054Z"
   },
   {
    "duration": 67,
    "start_time": "2022-07-10T06:40:29.122Z"
   },
   {
    "duration": 76,
    "start_time": "2022-07-10T06:40:29.191Z"
   },
   {
    "duration": 9,
    "start_time": "2022-07-10T06:48:58.805Z"
   },
   {
    "duration": 144,
    "start_time": "2022-07-10T06:50:48.862Z"
   },
   {
    "duration": 13,
    "start_time": "2022-07-10T06:51:08.614Z"
   },
   {
    "duration": 1288,
    "start_time": "2022-07-10T06:51:52.044Z"
   },
   {
    "duration": 5,
    "start_time": "2022-07-10T06:51:53.333Z"
   },
   {
    "duration": 220,
    "start_time": "2022-07-10T06:51:53.339Z"
   },
   {
    "duration": 20,
    "start_time": "2022-07-10T06:51:53.561Z"
   },
   {
    "duration": 10,
    "start_time": "2022-07-10T06:51:53.582Z"
   },
   {
    "duration": 7,
    "start_time": "2022-07-10T06:51:53.594Z"
   },
   {
    "duration": 159,
    "start_time": "2022-07-10T06:51:53.603Z"
   },
   {
    "duration": 731,
    "start_time": "2022-07-10T06:51:53.764Z"
   },
   {
    "duration": 8,
    "start_time": "2022-07-10T06:51:54.497Z"
   },
   {
    "duration": 27,
    "start_time": "2022-07-10T06:51:54.508Z"
   },
   {
    "duration": 119,
    "start_time": "2022-07-10T06:51:54.536Z"
   },
   {
    "duration": 86,
    "start_time": "2022-07-10T06:51:54.657Z"
   },
   {
    "duration": 92,
    "start_time": "2022-07-10T06:51:54.745Z"
   },
   {
    "duration": 28,
    "start_time": "2022-07-10T06:51:54.839Z"
   },
   {
    "duration": 8,
    "start_time": "2022-07-10T06:51:54.868Z"
   },
   {
    "duration": 7,
    "start_time": "2022-07-10T06:51:54.877Z"
   },
   {
    "duration": 33,
    "start_time": "2022-07-10T06:51:54.885Z"
   },
   {
    "duration": 61,
    "start_time": "2022-07-10T06:51:54.920Z"
   },
   {
    "duration": 5623,
    "start_time": "2022-07-10T06:51:54.983Z"
   },
   {
    "duration": 19,
    "start_time": "2022-07-10T06:52:00.610Z"
   },
   {
    "duration": 31,
    "start_time": "2022-07-10T06:52:00.665Z"
   },
   {
    "duration": 85,
    "start_time": "2022-07-10T06:52:00.698Z"
   },
   {
    "duration": 81,
    "start_time": "2022-07-10T06:52:00.785Z"
   },
   {
    "duration": 18,
    "start_time": "2022-07-10T06:52:00.868Z"
   },
   {
    "duration": 109,
    "start_time": "2022-07-10T06:52:00.888Z"
   },
   {
    "duration": 7,
    "start_time": "2022-07-10T06:52:00.999Z"
   },
   {
    "duration": 134,
    "start_time": "2022-07-10T06:52:01.007Z"
   },
   {
    "duration": 25,
    "start_time": "2022-07-10T06:52:01.144Z"
   },
   {
    "duration": 14,
    "start_time": "2022-07-10T06:52:01.171Z"
   },
   {
    "duration": 14,
    "start_time": "2022-07-10T06:52:01.187Z"
   },
   {
    "duration": 38,
    "start_time": "2022-07-10T06:52:01.203Z"
   },
   {
    "duration": 24,
    "start_time": "2022-07-10T06:52:01.243Z"
   },
   {
    "duration": 56,
    "start_time": "2022-07-10T06:52:01.269Z"
   },
   {
    "duration": 7,
    "start_time": "2022-07-10T06:52:01.327Z"
   },
   {
    "duration": 93,
    "start_time": "2022-07-10T06:52:01.336Z"
   },
   {
    "duration": 68,
    "start_time": "2022-07-10T06:52:01.431Z"
   },
   {
    "duration": 68,
    "start_time": "2022-07-10T06:52:01.500Z"
   },
   {
    "duration": 5,
    "start_time": "2022-07-10T06:52:01.569Z"
   },
   {
    "duration": 38,
    "start_time": "2022-07-10T06:52:01.576Z"
   },
   {
    "duration": 18,
    "start_time": "2022-07-10T06:52:01.616Z"
   },
   {
    "duration": 34,
    "start_time": "2022-07-10T06:52:01.636Z"
   },
   {
    "duration": 4,
    "start_time": "2022-07-10T06:52:01.672Z"
   },
   {
    "duration": 13,
    "start_time": "2022-07-10T06:52:01.677Z"
   },
   {
    "duration": 31,
    "start_time": "2022-07-10T06:52:01.691Z"
   },
   {
    "duration": 120,
    "start_time": "2022-07-10T06:52:01.724Z"
   },
   {
    "duration": 66,
    "start_time": "2022-07-10T06:52:01.846Z"
   },
   {
    "duration": 70,
    "start_time": "2022-07-10T06:52:01.914Z"
   },
   {
    "duration": 80,
    "start_time": "2022-07-10T06:52:01.986Z"
   },
   {
    "duration": 1255,
    "start_time": "2022-07-10T06:52:57.070Z"
   },
   {
    "duration": 5,
    "start_time": "2022-07-10T06:52:58.327Z"
   },
   {
    "duration": 192,
    "start_time": "2022-07-10T06:52:58.333Z"
   },
   {
    "duration": 20,
    "start_time": "2022-07-10T06:52:58.527Z"
   },
   {
    "duration": 16,
    "start_time": "2022-07-10T06:52:58.548Z"
   },
   {
    "duration": 2,
    "start_time": "2022-07-10T06:52:58.566Z"
   },
   {
    "duration": 169,
    "start_time": "2022-07-10T06:52:58.570Z"
   },
   {
    "duration": 729,
    "start_time": "2022-07-10T06:52:58.740Z"
   },
   {
    "duration": 8,
    "start_time": "2022-07-10T06:52:59.471Z"
   },
   {
    "duration": 26,
    "start_time": "2022-07-10T06:52:59.482Z"
   },
   {
    "duration": 115,
    "start_time": "2022-07-10T06:52:59.510Z"
   },
   {
    "duration": 88,
    "start_time": "2022-07-10T06:52:59.628Z"
   },
   {
    "duration": 93,
    "start_time": "2022-07-10T06:52:59.718Z"
   },
   {
    "duration": 17,
    "start_time": "2022-07-10T06:52:59.813Z"
   },
   {
    "duration": 6,
    "start_time": "2022-07-10T06:52:59.832Z"
   },
   {
    "duration": 23,
    "start_time": "2022-07-10T06:52:59.840Z"
   },
   {
    "duration": 31,
    "start_time": "2022-07-10T06:52:59.865Z"
   },
   {
    "duration": 30,
    "start_time": "2022-07-10T06:52:59.898Z"
   },
   {
    "duration": 5960,
    "start_time": "2022-07-10T06:52:59.930Z"
   },
   {
    "duration": 20,
    "start_time": "2022-07-10T06:53:05.892Z"
   },
   {
    "duration": 68,
    "start_time": "2022-07-10T06:53:05.914Z"
   },
   {
    "duration": 83,
    "start_time": "2022-07-10T06:53:05.983Z"
   },
   {
    "duration": 27,
    "start_time": "2022-07-10T06:53:06.068Z"
   },
   {
    "duration": 71,
    "start_time": "2022-07-10T06:53:06.097Z"
   },
   {
    "duration": 106,
    "start_time": "2022-07-10T06:53:06.169Z"
   },
   {
    "duration": 8,
    "start_time": "2022-07-10T06:53:06.276Z"
   },
   {
    "duration": 121,
    "start_time": "2022-07-10T06:53:06.285Z"
   },
   {
    "duration": 5,
    "start_time": "2022-07-10T06:53:06.410Z"
   },
   {
    "duration": 8,
    "start_time": "2022-07-10T06:53:06.417Z"
   },
   {
    "duration": 6,
    "start_time": "2022-07-10T06:53:06.427Z"
   },
   {
    "duration": 52,
    "start_time": "2022-07-10T06:53:06.435Z"
   },
   {
    "duration": 51,
    "start_time": "2022-07-10T06:53:06.489Z"
   },
   {
    "duration": 22,
    "start_time": "2022-07-10T06:53:06.541Z"
   },
   {
    "duration": 62,
    "start_time": "2022-07-10T06:53:06.565Z"
   },
   {
    "duration": 67,
    "start_time": "2022-07-10T06:53:06.629Z"
   },
   {
    "duration": 51,
    "start_time": "2022-07-10T06:53:06.698Z"
   },
   {
    "duration": 4,
    "start_time": "2022-07-10T06:53:06.763Z"
   },
   {
    "duration": 33,
    "start_time": "2022-07-10T06:53:06.769Z"
   },
   {
    "duration": 25,
    "start_time": "2022-07-10T06:53:06.804Z"
   },
   {
    "duration": 39,
    "start_time": "2022-07-10T06:53:06.831Z"
   },
   {
    "duration": 4,
    "start_time": "2022-07-10T06:53:06.871Z"
   },
   {
    "duration": 9,
    "start_time": "2022-07-10T06:53:06.876Z"
   },
   {
    "duration": 41,
    "start_time": "2022-07-10T06:53:06.886Z"
   },
   {
    "duration": 134,
    "start_time": "2022-07-10T06:53:06.929Z"
   },
   {
    "duration": 84,
    "start_time": "2022-07-10T06:53:07.065Z"
   },
   {
    "duration": 92,
    "start_time": "2022-07-10T06:53:07.151Z"
   },
   {
    "duration": 106,
    "start_time": "2022-07-10T06:53:07.244Z"
   },
   {
    "duration": 1278,
    "start_time": "2022-07-10T06:56:03.479Z"
   },
   {
    "duration": 7,
    "start_time": "2022-07-10T06:56:04.759Z"
   },
   {
    "duration": 195,
    "start_time": "2022-07-10T06:56:04.767Z"
   },
   {
    "duration": 39,
    "start_time": "2022-07-10T06:56:04.966Z"
   },
   {
    "duration": 11,
    "start_time": "2022-07-10T06:56:05.007Z"
   },
   {
    "duration": 13,
    "start_time": "2022-07-10T06:56:05.020Z"
   },
   {
    "duration": 177,
    "start_time": "2022-07-10T06:56:05.035Z"
   },
   {
    "duration": 917,
    "start_time": "2022-07-10T06:56:05.214Z"
   },
   {
    "duration": 12,
    "start_time": "2022-07-10T06:56:06.133Z"
   },
   {
    "duration": 44,
    "start_time": "2022-07-10T06:56:06.149Z"
   },
   {
    "duration": 121,
    "start_time": "2022-07-10T06:56:06.194Z"
   },
   {
    "duration": 124,
    "start_time": "2022-07-10T06:56:06.316Z"
   },
   {
    "duration": 92,
    "start_time": "2022-07-10T06:56:06.442Z"
   },
   {
    "duration": 32,
    "start_time": "2022-07-10T06:56:06.536Z"
   },
   {
    "duration": 8,
    "start_time": "2022-07-10T06:56:06.569Z"
   },
   {
    "duration": 10,
    "start_time": "2022-07-10T06:56:06.578Z"
   },
   {
    "duration": 31,
    "start_time": "2022-07-10T06:56:06.589Z"
   },
   {
    "duration": 58,
    "start_time": "2022-07-10T06:56:06.621Z"
   },
   {
    "duration": 6693,
    "start_time": "2022-07-10T06:56:06.681Z"
   },
   {
    "duration": 23,
    "start_time": "2022-07-10T06:56:13.376Z"
   },
   {
    "duration": 101,
    "start_time": "2022-07-10T06:56:13.402Z"
   },
   {
    "duration": 87,
    "start_time": "2022-07-10T06:56:13.505Z"
   },
   {
    "duration": 82,
    "start_time": "2022-07-10T06:56:13.594Z"
   },
   {
    "duration": 91,
    "start_time": "2022-07-10T06:56:13.678Z"
   },
   {
    "duration": 106,
    "start_time": "2022-07-10T06:56:13.771Z"
   },
   {
    "duration": 12,
    "start_time": "2022-07-10T06:56:13.879Z"
   },
   {
    "duration": 99,
    "start_time": "2022-07-10T06:56:13.893Z"
   },
   {
    "duration": 8,
    "start_time": "2022-07-10T06:56:13.996Z"
   },
   {
    "duration": 29,
    "start_time": "2022-07-10T06:56:14.006Z"
   },
   {
    "duration": 23,
    "start_time": "2022-07-10T06:56:14.037Z"
   },
   {
    "duration": 71,
    "start_time": "2022-07-10T06:56:14.062Z"
   },
   {
    "duration": 52,
    "start_time": "2022-07-10T06:56:14.135Z"
   },
   {
    "duration": 92,
    "start_time": "2022-07-10T06:56:14.190Z"
   },
   {
    "duration": 9,
    "start_time": "2022-07-10T06:56:14.284Z"
   },
   {
    "duration": 108,
    "start_time": "2022-07-10T06:56:14.295Z"
   },
   {
    "duration": 58,
    "start_time": "2022-07-10T06:56:14.405Z"
   },
   {
    "duration": 65,
    "start_time": "2022-07-10T06:56:14.465Z"
   },
   {
    "duration": 6,
    "start_time": "2022-07-10T06:56:14.532Z"
   },
   {
    "duration": 50,
    "start_time": "2022-07-10T06:56:14.540Z"
   },
   {
    "duration": 19,
    "start_time": "2022-07-10T06:56:14.591Z"
   },
   {
    "duration": 47,
    "start_time": "2022-07-10T06:56:14.612Z"
   },
   {
    "duration": 29,
    "start_time": "2022-07-10T06:56:14.661Z"
   },
   {
    "duration": 32,
    "start_time": "2022-07-10T06:56:14.692Z"
   },
   {
    "duration": 20,
    "start_time": "2022-07-10T06:56:14.726Z"
   },
   {
    "duration": 37,
    "start_time": "2022-07-10T06:56:14.748Z"
   },
   {
    "duration": 92,
    "start_time": "2022-07-10T06:56:14.787Z"
   },
   {
    "duration": 58,
    "start_time": "2022-07-10T06:56:14.880Z"
   },
   {
    "duration": 58,
    "start_time": "2022-07-10T06:56:14.940Z"
   },
   {
    "duration": 67,
    "start_time": "2022-07-10T06:56:14.999Z"
   },
   {
    "duration": 18,
    "start_time": "2022-07-10T06:59:01.796Z"
   },
   {
    "duration": 461,
    "start_time": "2022-07-10T06:59:10.582Z"
   }
  ],
  "kernelspec": {
   "display_name": "Python 3 (ipykernel)",
   "language": "python",
   "name": "python3"
  },
  "language_info": {
   "codemirror_mode": {
    "name": "ipython",
    "version": 3
   },
   "file_extension": ".py",
   "mimetype": "text/x-python",
   "name": "python",
   "nbconvert_exporter": "python",
   "pygments_lexer": "ipython3",
   "version": "3.9.12"
  },
  "toc": {
   "base_numbering": 1,
   "nav_menu": {},
   "number_sections": false,
   "sideBar": true,
   "skip_h1_title": false,
   "title_cell": "Table of Contents",
   "title_sidebar": "Contents",
   "toc_cell": true,
   "toc_position": {
    "height": "calc(100% - 180px)",
    "left": "10px",
    "top": "150px",
    "width": "348.352px"
   },
   "toc_section_display": true,
   "toc_window_display": false
  },
  "varInspector": {
   "cols": {
    "lenName": 16,
    "lenType": 16,
    "lenVar": 40
   },
   "kernels_config": {
    "python": {
     "delete_cmd_postfix": "",
     "delete_cmd_prefix": "del ",
     "library": "var_list.py",
     "varRefreshCmd": "print(var_dic_list())"
    },
    "r": {
     "delete_cmd_postfix": ") ",
     "delete_cmd_prefix": "rm(",
     "library": "var_list.r",
     "varRefreshCmd": "cat(var_dic_list()) "
    }
   },
   "types_to_exclude": [
    "module",
    "function",
    "builtin_function_or_method",
    "instance",
    "_Feature"
   ],
   "window_display": false
  },
  "vscode": {
   "interpreter": {
    "hash": "b45710fb27ba25918766396b1ac6e717e70583c52ce98524e0abf9642c52bdb6"
   }
  }
 },
 "nbformat": 4,
 "nbformat_minor": 5
}
